{
 "cells": [
  {
   "cell_type": "markdown",
   "id": "9990b6c6",
   "metadata": {},
   "source": [
    "# Pre-Processing"
   ]
  },
  {
   "cell_type": "markdown",
   "id": "9d36706c",
   "metadata": {},
   "source": [
    "## Load data"
   ]
  },
  {
   "cell_type": "code",
   "execution_count": null,
   "id": "1bd3a750",
   "metadata": {},
   "outputs": [],
   "source": [
    "setwd(\"/home/jp/ICP_Responders/FinalTables\")\n",
    "# expression <- read.csv(\"Final_table_response_and_expression.csv\", na.strings = '..', stringsAsFactors = F)\n",
    "# names(expression) <- sub(\"^X\", \"\", names(expression))\n",
    "# expression[ expression == \"NA\" ] <- NA\n",
    "# expression[,2:ncol(expression)] <- lapply(expression[, 2:ncol(expression)], as.numeric)\n",
    "# expression[50:60, 1:10]"
   ]
  },
  {
   "cell_type": "markdown",
   "id": "eba6ae6c",
   "metadata": {},
   "source": [
    "1 or more missing attributes in datasets, how to go around\n",
    "X0 and X1 in "
   ]
  }
 ],
 "metadata": {
  "kernelspec": {
   "display_name": "R [conda env:jpEnv] *",
   "language": "R",
   "name": "conda-env-jpEnv-r"
  },
  "language_info": {
   "codemirror_mode": "r",
   "file_extension": ".r",
   "mimetype": "text/x-r-source",
   "name": "R",
   "pygments_lexer": "r",
   "version": "3.5.1"
  },
  "toc": {
   "base_numbering": 1,
   "nav_menu": {},
   "number_sections": true,
   "sideBar": true,
   "skip_h1_title": false,
   "title_cell": "Table of Contents",
   "title_sidebar": "Contents",
   "toc_cell": false,
   "toc_position": {},
   "toc_section_display": true,
   "toc_window_display": false
  }
 },
 "nbformat": 4,
 "nbformat_minor": 5
}
