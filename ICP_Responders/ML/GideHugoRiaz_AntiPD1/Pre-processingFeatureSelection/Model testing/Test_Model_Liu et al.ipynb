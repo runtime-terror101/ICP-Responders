{
 "cells": [
  {
   "cell_type": "markdown",
   "id": "54237a49",
   "metadata": {},
   "source": [
    "# Testing the model on new data"
   ]
  },
  {
   "cell_type": "markdown",
   "id": "b2eb6ee0",
   "metadata": {},
   "source": [
    "## Import Libraries"
   ]
  },
  {
   "cell_type": "code",
   "execution_count": 1,
   "id": "142dae45",
   "metadata": {
    "scrolled": true
   },
   "outputs": [
    {
     "name": "stderr",
     "output_type": "stream",
     "text": [
      "Loading required package: AnnotationDbi\n",
      "\n",
      "Loading required package: stats4\n",
      "\n",
      "Loading required package: BiocGenerics\n",
      "\n",
      "Loading required package: parallel\n",
      "\n",
      "\n",
      "Attaching package: ‘BiocGenerics’\n",
      "\n",
      "\n",
      "The following objects are masked from ‘package:parallel’:\n",
      "\n",
      "    clusterApply, clusterApplyLB, clusterCall, clusterEvalQ,\n",
      "    clusterExport, clusterMap, parApply, parCapply, parLapply,\n",
      "    parLapplyLB, parRapply, parSapply, parSapplyLB\n",
      "\n",
      "\n",
      "The following objects are masked from ‘package:stats’:\n",
      "\n",
      "    IQR, mad, sd, var, xtabs\n",
      "\n",
      "\n",
      "The following objects are masked from ‘package:base’:\n",
      "\n",
      "    anyDuplicated, append, as.data.frame, basename, cbind, colnames,\n",
      "    dirname, do.call, duplicated, eval, evalq, Filter, Find, get, grep,\n",
      "    grepl, intersect, is.unsorted, lapply, Map, mapply, match, mget,\n",
      "    order, paste, pmax, pmax.int, pmin, pmin.int, Position, rank,\n",
      "    rbind, Reduce, rownames, sapply, setdiff, sort, table, tapply,\n",
      "    union, unique, unsplit, which.max, which.min\n",
      "\n",
      "\n",
      "Loading required package: Biobase\n",
      "\n",
      "Welcome to Bioconductor\n",
      "\n",
      "    Vignettes contain introductory material; view with\n",
      "    'browseVignettes()'. To cite Bioconductor, see\n",
      "    'citation(\"Biobase\")', and for packages 'citation(\"pkgname\")'.\n",
      "\n",
      "\n",
      "Loading required package: IRanges\n",
      "\n",
      "Loading required package: S4Vectors\n",
      "\n",
      "\n",
      "Attaching package: ‘S4Vectors’\n",
      "\n",
      "\n",
      "The following object is masked from ‘package:base’:\n",
      "\n",
      "    expand.grid\n",
      "\n",
      "\n",
      "\n",
      "\n",
      "Loading required package: lattice\n",
      "\n",
      "Loading required package: ggplot2\n",
      "\n",
      "Loading required package: igraph\n",
      "\n",
      "\n",
      "Attaching package: ‘igraph’\n",
      "\n",
      "\n",
      "The following object is masked from ‘package:IRanges’:\n",
      "\n",
      "    union\n",
      "\n",
      "\n",
      "The following object is masked from ‘package:S4Vectors’:\n",
      "\n",
      "    union\n",
      "\n",
      "\n",
      "The following objects are masked from ‘package:BiocGenerics’:\n",
      "\n",
      "    normalize, path, union\n",
      "\n",
      "\n",
      "The following objects are masked from ‘package:stats’:\n",
      "\n",
      "    decompose, spectrum\n",
      "\n",
      "\n",
      "The following object is masked from ‘package:base’:\n",
      "\n",
      "    union\n",
      "\n",
      "\n",
      "Loading required package: RCurl\n",
      "\n",
      "Loading required package: annotate\n",
      "\n",
      "Loading required package: XML\n",
      "\n",
      "Loading required package: RSQLite\n",
      "\n",
      "Loading required package: MASS\n",
      "\n",
      "\n",
      "Attaching package: ‘MASS’\n",
      "\n",
      "\n",
      "The following object is masked from ‘package:AnnotationDbi’:\n",
      "\n",
      "    select\n",
      "\n",
      "\n",
      "Loading required package: Heatplus\n",
      "\n",
      "Loading required package: RColorBrewer\n",
      "\n",
      "Warning message:\n",
      "“replacing previous import ‘stats::decompose’ by ‘igraph::decompose’ when loading ‘GeneAnswers’”\n",
      "Warning message:\n",
      "“replacing previous import ‘stats::spectrum’ by ‘igraph::spectrum’ when loading ‘GeneAnswers’”\n"
     ]
    }
   ],
   "source": [
    "library('org.Hs.eg.db')\n",
    "library(caret)\n",
    "library(GeneAnswers)\n",
    "library(openxlsx)"
   ]
  },
  {
   "cell_type": "markdown",
   "id": "b5b5eed6",
   "metadata": {},
   "source": [
    "## Download the data\n",
    "\n",
    "[Liu et al, 2019](https://www.nature.com/articles/s41591-019-0654-5)<br>\n",
    "[Suplementary Data](https://static-content.springer.com/esm/art%3A10.1038%2Fs41591-019-0654-5/MediaObjects/41591_2019_654_MOESM2_ESM.xlsx)<br>\n",
    "[tpm matrix](https://static-content.springer.com/esm/art%3A10.1038%2Fs41591-019-0654-5/MediaObjects/41591_2019_654_MOESM3_ESM.txt)<br>\n",
    "[Data Guidelines](https://academic.oup.com/jnci/article/92/3/205/2965042)"
   ]
  },
  {
   "cell_type": "code",
   "execution_count": 2,
   "id": "d46d1fd5",
   "metadata": {},
   "outputs": [],
   "source": [
    "system(\"wget --content-disposition https://static-content.springer.com/esm/art%3A10.1038%2Fs41591-019-0654-5/MediaObjects/41591_2019_654_MOESM3_ESM.txt\")\n",
    "system(\"wget --content-disposition https://static-content.springer.com/esm/art%3A10.1038%2Fs41591-019-0654-5/MediaObjects/41591_2019_654_MOESM4_ESM.xlsx\")"
   ]
  },
  {
   "cell_type": "markdown",
   "id": "a24b9cdf",
   "metadata": {},
   "source": [
    "## Read the data"
   ]
  },
  {
   "cell_type": "code",
   "execution_count": 3,
   "id": "e0ce4174",
   "metadata": {
    "scrolled": true
   },
   "outputs": [
    {
     "data": {
      "text/html": [
       "<table class=\"dataframe\">\n",
       "<caption>A data.frame: 6 × 20849</caption>\n",
       "<thead>\n",
       "\t<tr><th></th><th scope=col>Patient</th><th scope=col>A1BG</th><th scope=col>A1BG-AS1</th><th scope=col>A1CF</th><th scope=col>A2M</th><th scope=col>A2M-AS1</th><th scope=col>A2ML1</th><th scope=col>A3GALT2</th><th scope=col>A4GALT</th><th scope=col>A4GNT</th><th scope=col>⋯</th><th scope=col>ZWILCH</th><th scope=col>ZWINT</th><th scope=col>ZXDA</th><th scope=col>ZXDB</th><th scope=col>ZXDC</th><th scope=col>ZYG11A</th><th scope=col>ZYG11B</th><th scope=col>ZYX</th><th scope=col>ZZEF1</th><th scope=col>ZZZ3</th></tr>\n",
       "\t<tr><th></th><th scope=col>&lt;chr&gt;</th><th scope=col>&lt;dbl&gt;</th><th scope=col>&lt;dbl&gt;</th><th scope=col>&lt;dbl&gt;</th><th scope=col>&lt;dbl&gt;</th><th scope=col>&lt;dbl&gt;</th><th scope=col>&lt;dbl&gt;</th><th scope=col>&lt;dbl&gt;</th><th scope=col>&lt;dbl&gt;</th><th scope=col>&lt;dbl&gt;</th><th scope=col>⋯</th><th scope=col>&lt;dbl&gt;</th><th scope=col>&lt;dbl&gt;</th><th scope=col>&lt;dbl&gt;</th><th scope=col>&lt;dbl&gt;</th><th scope=col>&lt;dbl&gt;</th><th scope=col>&lt;dbl&gt;</th><th scope=col>&lt;dbl&gt;</th><th scope=col>&lt;dbl&gt;</th><th scope=col>&lt;dbl&gt;</th><th scope=col>&lt;dbl&gt;</th></tr>\n",
       "</thead>\n",
       "<tbody>\n",
       "\t<tr><th scope=row>102</th><td>Patient87</td><td> 3.958186</td><td>0.4757435</td><td>0.05708922</td><td>205.5402</td><td>0.53283270</td><td>0.01902974</td><td>0.00000000</td><td>0.9324572</td><td>0.30447583</td><td>⋯</td><td>34.86248</td><td>25.499851</td><td>1.389171</td><td>2.264539</td><td> 8.201818</td><td>0.51380296</td><td>16.63199</td><td> 50.67620</td><td>30.37146</td><td>29.95281</td></tr>\n",
       "\t<tr><th scope=row>108</th><td>Patient9 </td><td>17.707440</td><td>0.8023684</td><td>0.00000000</td><td>102.6201</td><td>0.05533575</td><td>0.24901087</td><td>0.00000000</td><td>2.4347730</td><td>0.13833937</td><td>⋯</td><td>14.80231</td><td>18.454473</td><td>3.403149</td><td>4.426860</td><td>12.146197</td><td>0.00000000</td><td>20.64023</td><td> 90.47395</td><td>38.01566</td><td>26.50582</td></tr>\n",
       "\t<tr><th scope=row>104</th><td>Patient94</td><td>14.144119</td><td>0.7752792</td><td>0.01890925</td><td>329.5315</td><td>0.30254799</td><td>2.93093366</td><td>0.05672775</td><td>1.0967365</td><td>0.26472949</td><td>⋯</td><td>36.47594</td><td>60.944511</td><td>2.136745</td><td>3.744031</td><td> 9.624808</td><td>0.07563700</td><td>22.44528</td><td> 71.06096</td><td>28.32606</td><td>18.60670</td></tr>\n",
       "\t<tr><th scope=row>105</th><td>Patient96</td><td>14.906180</td><td>1.3364161</td><td>0.00000000</td><td>290.5163</td><td>0.25700310</td><td>0.20560248</td><td>0.05140062</td><td>0.3084037</td><td>0.05140062</td><td>⋯</td><td>13.77537</td><td> 1.028012</td><td>1.953224</td><td>2.672832</td><td> 9.714717</td><td>0.00000000</td><td>14.44357</td><td> 57.82570</td><td>20.09764</td><td>12.64455</td></tr>\n",
       "\t<tr><th scope=row>106</th><td>Patient98</td><td>13.099469</td><td>1.2362082</td><td>0.08675145</td><td>873.1100</td><td>0.65063589</td><td>0.06506359</td><td>0.00000000</td><td>1.0843932</td><td>0.21687863</td><td>⋯</td><td>12.79584</td><td> 8.545018</td><td>2.927862</td><td>3.665249</td><td> 9.065527</td><td>0.17350291</td><td>19.49739</td><td> 73.54354</td><td>38.58271</td><td>22.98913</td></tr>\n",
       "\t<tr><th scope=row>107</th><td>Patient99</td><td>19.997280</td><td>0.8150550</td><td>0.00000000</td><td>727.8820</td><td>0.51177873</td><td>0.15163814</td><td>0.03790954</td><td>1.4595171</td><td>0.17059291</td><td>⋯</td><td>20.41428</td><td>15.069040</td><td>2.293527</td><td>2.615758</td><td> 8.529645</td><td>0.01895477</td><td>22.17708</td><td>126.23875</td><td>38.87623</td><td>20.77443</td></tr>\n",
       "</tbody>\n",
       "</table>\n"
      ],
      "text/latex": [
       "A data.frame: 6 × 20849\n",
       "\\begin{tabular}{r|lllllllllllllllllllll}\n",
       "  & Patient & A1BG & A1BG-AS1 & A1CF & A2M & A2M-AS1 & A2ML1 & A3GALT2 & A4GALT & A4GNT & ⋯ & ZWILCH & ZWINT & ZXDA & ZXDB & ZXDC & ZYG11A & ZYG11B & ZYX & ZZEF1 & ZZZ3\\\\\n",
       "  & <chr> & <dbl> & <dbl> & <dbl> & <dbl> & <dbl> & <dbl> & <dbl> & <dbl> & <dbl> & ⋯ & <dbl> & <dbl> & <dbl> & <dbl> & <dbl> & <dbl> & <dbl> & <dbl> & <dbl> & <dbl>\\\\\n",
       "\\hline\n",
       "\t102 & Patient87 &  3.958186 & 0.4757435 & 0.05708922 & 205.5402 & 0.53283270 & 0.01902974 & 0.00000000 & 0.9324572 & 0.30447583 & ⋯ & 34.86248 & 25.499851 & 1.389171 & 2.264539 &  8.201818 & 0.51380296 & 16.63199 &  50.67620 & 30.37146 & 29.95281\\\\\n",
       "\t108 & Patient9  & 17.707440 & 0.8023684 & 0.00000000 & 102.6201 & 0.05533575 & 0.24901087 & 0.00000000 & 2.4347730 & 0.13833937 & ⋯ & 14.80231 & 18.454473 & 3.403149 & 4.426860 & 12.146197 & 0.00000000 & 20.64023 &  90.47395 & 38.01566 & 26.50582\\\\\n",
       "\t104 & Patient94 & 14.144119 & 0.7752792 & 0.01890925 & 329.5315 & 0.30254799 & 2.93093366 & 0.05672775 & 1.0967365 & 0.26472949 & ⋯ & 36.47594 & 60.944511 & 2.136745 & 3.744031 &  9.624808 & 0.07563700 & 22.44528 &  71.06096 & 28.32606 & 18.60670\\\\\n",
       "\t105 & Patient96 & 14.906180 & 1.3364161 & 0.00000000 & 290.5163 & 0.25700310 & 0.20560248 & 0.05140062 & 0.3084037 & 0.05140062 & ⋯ & 13.77537 &  1.028012 & 1.953224 & 2.672832 &  9.714717 & 0.00000000 & 14.44357 &  57.82570 & 20.09764 & 12.64455\\\\\n",
       "\t106 & Patient98 & 13.099469 & 1.2362082 & 0.08675145 & 873.1100 & 0.65063589 & 0.06506359 & 0.00000000 & 1.0843932 & 0.21687863 & ⋯ & 12.79584 &  8.545018 & 2.927862 & 3.665249 &  9.065527 & 0.17350291 & 19.49739 &  73.54354 & 38.58271 & 22.98913\\\\\n",
       "\t107 & Patient99 & 19.997280 & 0.8150550 & 0.00000000 & 727.8820 & 0.51177873 & 0.15163814 & 0.03790954 & 1.4595171 & 0.17059291 & ⋯ & 20.41428 & 15.069040 & 2.293527 & 2.615758 &  8.529645 & 0.01895477 & 22.17708 & 126.23875 & 38.87623 & 20.77443\\\\\n",
       "\\end{tabular}\n"
      ],
      "text/markdown": [
       "\n",
       "A data.frame: 6 × 20849\n",
       "\n",
       "| <!--/--> | Patient &lt;chr&gt; | A1BG &lt;dbl&gt; | A1BG-AS1 &lt;dbl&gt; | A1CF &lt;dbl&gt; | A2M &lt;dbl&gt; | A2M-AS1 &lt;dbl&gt; | A2ML1 &lt;dbl&gt; | A3GALT2 &lt;dbl&gt; | A4GALT &lt;dbl&gt; | A4GNT &lt;dbl&gt; | ⋯ ⋯ | ZWILCH &lt;dbl&gt; | ZWINT &lt;dbl&gt; | ZXDA &lt;dbl&gt; | ZXDB &lt;dbl&gt; | ZXDC &lt;dbl&gt; | ZYG11A &lt;dbl&gt; | ZYG11B &lt;dbl&gt; | ZYX &lt;dbl&gt; | ZZEF1 &lt;dbl&gt; | ZZZ3 &lt;dbl&gt; |\n",
       "|---|---|---|---|---|---|---|---|---|---|---|---|---|---|---|---|---|---|---|---|---|---|\n",
       "| 102 | Patient87 |  3.958186 | 0.4757435 | 0.05708922 | 205.5402 | 0.53283270 | 0.01902974 | 0.00000000 | 0.9324572 | 0.30447583 | ⋯ | 34.86248 | 25.499851 | 1.389171 | 2.264539 |  8.201818 | 0.51380296 | 16.63199 |  50.67620 | 30.37146 | 29.95281 |\n",
       "| 108 | Patient9  | 17.707440 | 0.8023684 | 0.00000000 | 102.6201 | 0.05533575 | 0.24901087 | 0.00000000 | 2.4347730 | 0.13833937 | ⋯ | 14.80231 | 18.454473 | 3.403149 | 4.426860 | 12.146197 | 0.00000000 | 20.64023 |  90.47395 | 38.01566 | 26.50582 |\n",
       "| 104 | Patient94 | 14.144119 | 0.7752792 | 0.01890925 | 329.5315 | 0.30254799 | 2.93093366 | 0.05672775 | 1.0967365 | 0.26472949 | ⋯ | 36.47594 | 60.944511 | 2.136745 | 3.744031 |  9.624808 | 0.07563700 | 22.44528 |  71.06096 | 28.32606 | 18.60670 |\n",
       "| 105 | Patient96 | 14.906180 | 1.3364161 | 0.00000000 | 290.5163 | 0.25700310 | 0.20560248 | 0.05140062 | 0.3084037 | 0.05140062 | ⋯ | 13.77537 |  1.028012 | 1.953224 | 2.672832 |  9.714717 | 0.00000000 | 14.44357 |  57.82570 | 20.09764 | 12.64455 |\n",
       "| 106 | Patient98 | 13.099469 | 1.2362082 | 0.08675145 | 873.1100 | 0.65063589 | 0.06506359 | 0.00000000 | 1.0843932 | 0.21687863 | ⋯ | 12.79584 |  8.545018 | 2.927862 | 3.665249 |  9.065527 | 0.17350291 | 19.49739 |  73.54354 | 38.58271 | 22.98913 |\n",
       "| 107 | Patient99 | 19.997280 | 0.8150550 | 0.00000000 | 727.8820 | 0.51177873 | 0.15163814 | 0.03790954 | 1.4595171 | 0.17059291 | ⋯ | 20.41428 | 15.069040 | 2.293527 | 2.615758 |  8.529645 | 0.01895477 | 22.17708 | 126.23875 | 38.87623 | 20.77443 |\n",
       "\n"
      ],
      "text/plain": [
       "    Patient   A1BG      A1BG-AS1  A1CF       A2M      A2M-AS1    A2ML1     \n",
       "102 Patient87  3.958186 0.4757435 0.05708922 205.5402 0.53283270 0.01902974\n",
       "108 Patient9  17.707440 0.8023684 0.00000000 102.6201 0.05533575 0.24901087\n",
       "104 Patient94 14.144119 0.7752792 0.01890925 329.5315 0.30254799 2.93093366\n",
       "105 Patient96 14.906180 1.3364161 0.00000000 290.5163 0.25700310 0.20560248\n",
       "106 Patient98 13.099469 1.2362082 0.08675145 873.1100 0.65063589 0.06506359\n",
       "107 Patient99 19.997280 0.8150550 0.00000000 727.8820 0.51177873 0.15163814\n",
       "    A3GALT2    A4GALT    A4GNT      ⋯ ZWILCH   ZWINT     ZXDA     ZXDB    \n",
       "102 0.00000000 0.9324572 0.30447583 ⋯ 34.86248 25.499851 1.389171 2.264539\n",
       "108 0.00000000 2.4347730 0.13833937 ⋯ 14.80231 18.454473 3.403149 4.426860\n",
       "104 0.05672775 1.0967365 0.26472949 ⋯ 36.47594 60.944511 2.136745 3.744031\n",
       "105 0.05140062 0.3084037 0.05140062 ⋯ 13.77537  1.028012 1.953224 2.672832\n",
       "106 0.00000000 1.0843932 0.21687863 ⋯ 12.79584  8.545018 2.927862 3.665249\n",
       "107 0.03790954 1.4595171 0.17059291 ⋯ 20.41428 15.069040 2.293527 2.615758\n",
       "    ZXDC      ZYG11A     ZYG11B   ZYX       ZZEF1    ZZZ3    \n",
       "102  8.201818 0.51380296 16.63199  50.67620 30.37146 29.95281\n",
       "108 12.146197 0.00000000 20.64023  90.47395 38.01566 26.50582\n",
       "104  9.624808 0.07563700 22.44528  71.06096 28.32606 18.60670\n",
       "105  9.714717 0.00000000 14.44357  57.82570 20.09764 12.64455\n",
       "106  9.065527 0.17350291 19.49739  73.54354 38.58271 22.98913\n",
       "107  8.529645 0.01895477 22.17708 126.23875 38.87623 20.77443"
      ]
     },
     "metadata": {},
     "output_type": "display_data"
    },
    {
     "data": {
      "text/html": [
       "<style>\n",
       ".list-inline {list-style: none; margin:0; padding: 0}\n",
       ".list-inline>li {display: inline-block}\n",
       ".list-inline>li:not(:last-child)::after {content: \"\\00b7\"; padding: 0 .5ex}\n",
       "</style>\n",
       "<ol class=list-inline><li>121</li><li>20849</li></ol>\n"
      ],
      "text/latex": [
       "\\begin{enumerate*}\n",
       "\\item 121\n",
       "\\item 20849\n",
       "\\end{enumerate*}\n"
      ],
      "text/markdown": [
       "1. 121\n",
       "2. 20849\n",
       "\n",
       "\n"
      ],
      "text/plain": [
       "[1]   121 20849"
      ]
     },
     "metadata": {},
     "output_type": "display_data"
    }
   ],
   "source": [
    "expr <- read.csv(\"/home/jp/ICP_Responders/ML/GideHugoRiaz_AntiPD1Pre-processingFeatureSelection/Model testing/41591_2019_654_MOESM3_ESM.txt\", check.names=FALSE, sep=\"\\t\")  # 121 patients(manually verified)\n",
    "colnames(expr)[1] <- \"Patient\"\n",
    "expr <- expr[order(expr$Patient), ]\n",
    "tail(expr)\n",
    "dim(expr)"
   ]
  },
  {
   "cell_type": "markdown",
   "id": "4dc7915d",
   "metadata": {},
   "source": [
    "### Convert values to log2(x)"
   ]
  },
  {
   "cell_type": "code",
   "execution_count": 4,
   "id": "c2c998f7",
   "metadata": {},
   "outputs": [],
   "source": [
    "expr[expr == 0] <- 0.001\n",
    "\n",
    "# convert values to log\n",
    "expr[2:ncol(expr)] <- log(expr[2:ncol(expr)], 2)"
   ]
  },
  {
   "cell_type": "markdown",
   "id": "a45d3495",
   "metadata": {},
   "source": [
    "### Map Gene Names to Entrez IDs"
   ]
  },
  {
   "cell_type": "code",
   "execution_count": 5,
   "id": "a2925464",
   "metadata": {
    "scrolled": false
   },
   "outputs": [
    {
     "name": "stderr",
     "output_type": "stream",
     "text": [
      "'select()' returned 1:many mapping between keys and columns\n",
      "\n"
     ]
    }
   ],
   "source": [
    "# mapping gene names to Entrez IDs\n",
    "colnames(expr)[2:ncol(expr)] <- mapIds(org.Hs.eg.db, colnames(expr)[2:ncol(expr)], 'ENTREZID', 'ALIAS')"
   ]
  },
  {
   "cell_type": "markdown",
   "id": "df9ec8cd",
   "metadata": {},
   "source": [
    "## Clinical Data"
   ]
  },
  {
   "cell_type": "code",
   "execution_count": 10,
   "id": "62c4e8d8",
   "metadata": {
    "scrolled": false
   },
   "outputs": [
    {
     "data": {
      "text/html": [
       "<style>\n",
       ".list-inline {list-style: none; margin:0; padding: 0}\n",
       ".list-inline>li {display: inline-block}\n",
       ".list-inline>li:not(:last-child)::after {content: \"\\00b7\"; padding: 0 .5ex}\n",
       "</style>\n",
       "<ol class=list-inline><li>144</li><li>46</li></ol>\n"
      ],
      "text/latex": [
       "\\begin{enumerate*}\n",
       "\\item 144\n",
       "\\item 46\n",
       "\\end{enumerate*}\n"
      ],
      "text/markdown": [
       "1. 144\n",
       "2. 46\n",
       "\n",
       "\n"
      ],
      "text/plain": [
       "[1] 144  46"
      ]
     },
     "metadata": {},
     "output_type": "display_data"
    },
    {
     "data": {
      "text/html": [
       "<table class=\"dataframe\">\n",
       "<caption>A data.frame: 6 × 46</caption>\n",
       "<thead>\n",
       "\t<tr><th></th><th scope=col>X1</th><th scope=col>total_muts</th><th scope=col>nonsyn_muts</th><th scope=col>clonal_muts</th><th scope=col>subclonal_muts</th><th scope=col>heterogeneity</th><th scope=col>total_neoantigens</th><th scope=col>CNA_prop</th><th scope=col>gender.(Male=1,.Female=0)</th><th scope=col>biopsy.site</th><th scope=col>⋯</th><th scope=col>postCTLA4</th><th scope=col>postMAPKTx</th><th scope=col>postCombinedCTLA_PD1</th><th scope=col>numPriorTherapies</th><th scope=col>biopsy.site_categ</th><th scope=col>biopsyContext.(1=Pre-Ipi;.2=On-Ipi;.3=Pre-PD1;.4=On-PD1)</th><th scope=col>daysBiopsyToPD1</th><th scope=col>daysBiopsyAfterIpiStart</th><th scope=col>purity</th><th scope=col>ploidy</th></tr>\n",
       "\t<tr><th></th><th scope=col>&lt;chr&gt;</th><th scope=col>&lt;dbl&gt;</th><th scope=col>&lt;dbl&gt;</th><th scope=col>&lt;dbl&gt;</th><th scope=col>&lt;dbl&gt;</th><th scope=col>&lt;dbl&gt;</th><th scope=col>&lt;dbl&gt;</th><th scope=col>&lt;dbl&gt;</th><th scope=col>&lt;dbl&gt;</th><th scope=col>&lt;chr&gt;</th><th scope=col>⋯</th><th scope=col>&lt;dbl&gt;</th><th scope=col>&lt;dbl&gt;</th><th scope=col>&lt;chr&gt;</th><th scope=col>&lt;dbl&gt;</th><th scope=col>&lt;chr&gt;</th><th scope=col>&lt;dbl&gt;</th><th scope=col>&lt;dbl&gt;</th><th scope=col>&lt;chr&gt;</th><th scope=col>&lt;dbl&gt;</th><th scope=col>&lt;dbl&gt;</th></tr>\n",
       "</thead>\n",
       "<tbody>\n",
       "\t<tr><th scope=row>1</th><td>Patient1  </td><td> 34</td><td> 22</td><td> 12</td><td>10</td><td>0.4545455</td><td> 49</td><td>0.32141702</td><td>0</td><td>skin      </td><td>⋯</td><td>0</td><td>0</td><td>0</td><td>1</td><td>skin      </td><td>3</td><td>-84</td><td>unk</td><td>0.92</td><td>1.73</td></tr>\n",
       "\t<tr><th scope=row>2</th><td>Patient10 </td><td> 96</td><td> 71</td><td> 48</td><td>22</td><td>0.3142857</td><td>230</td><td>0.39138395</td><td>0</td><td>skin      </td><td>⋯</td><td>1</td><td>1</td><td>0</td><td>2</td><td>skin      </td><td>3</td><td>-12</td><td>107</td><td>0.83</td><td>1.84</td></tr>\n",
       "\t<tr><th scope=row>3</th><td>Patient100</td><td>200</td><td>126</td><td> 98</td><td>24</td><td>0.1967213</td><td>301</td><td>0.02944673</td><td>0</td><td>skin      </td><td>⋯</td><td>0</td><td>0</td><td>0</td><td>1</td><td>skin      </td><td>3</td><td>-94</td><td>33 </td><td>0.11</td><td>2.17</td></tr>\n",
       "\t<tr><th scope=row>4</th><td>Patient102</td><td>370</td><td>246</td><td>215</td><td>26</td><td>0.1078838</td><td>825</td><td>0.16938949</td><td>1</td><td>brain     </td><td>⋯</td><td>0</td><td>0</td><td>0</td><td>0</td><td>brain     </td><td>3</td><td>-64</td><td>na </td><td>0.70</td><td>3.24</td></tr>\n",
       "\t<tr><th scope=row>5</th><td>Patient104</td><td>130</td><td> 96</td><td> 65</td><td>28</td><td>0.3010753</td><td>329</td><td>0.20651842</td><td>0</td><td>lymph node</td><td>⋯</td><td>0</td><td>0</td><td>0</td><td>0</td><td>lymph node</td><td>3</td><td>-57</td><td>na </td><td>0.86</td><td>4.58</td></tr>\n",
       "\t<tr><th scope=row>6</th><td>Patient105</td><td>185</td><td>125</td><td> 85</td><td>23</td><td>0.2129630</td><td>334</td><td>0.39430586</td><td>0</td><td>skin      </td><td>⋯</td><td>0</td><td>0</td><td>1</td><td>0</td><td>skin      </td><td>3</td><td>-22</td><td>na </td><td>0.86</td><td>2.42</td></tr>\n",
       "</tbody>\n",
       "</table>\n"
      ],
      "text/latex": [
       "A data.frame: 6 × 46\n",
       "\\begin{tabular}{r|lllllllllllllllllllll}\n",
       "  & X1 & total\\_muts & nonsyn\\_muts & clonal\\_muts & subclonal\\_muts & heterogeneity & total\\_neoantigens & CNA\\_prop & gender.(Male=1,.Female=0) & biopsy.site & ⋯ & postCTLA4 & postMAPKTx & postCombinedCTLA\\_PD1 & numPriorTherapies & biopsy.site\\_categ & biopsyContext.(1=Pre-Ipi;.2=On-Ipi;.3=Pre-PD1;.4=On-PD1) & daysBiopsyToPD1 & daysBiopsyAfterIpiStart & purity & ploidy\\\\\n",
       "  & <chr> & <dbl> & <dbl> & <dbl> & <dbl> & <dbl> & <dbl> & <dbl> & <dbl> & <chr> & ⋯ & <dbl> & <dbl> & <chr> & <dbl> & <chr> & <dbl> & <dbl> & <chr> & <dbl> & <dbl>\\\\\n",
       "\\hline\n",
       "\t1 & Patient1   &  34 &  22 &  12 & 10 & 0.4545455 &  49 & 0.32141702 & 0 & skin       & ⋯ & 0 & 0 & 0 & 1 & skin       & 3 & -84 & unk & 0.92 & 1.73\\\\\n",
       "\t2 & Patient10  &  96 &  71 &  48 & 22 & 0.3142857 & 230 & 0.39138395 & 0 & skin       & ⋯ & 1 & 1 & 0 & 2 & skin       & 3 & -12 & 107 & 0.83 & 1.84\\\\\n",
       "\t3 & Patient100 & 200 & 126 &  98 & 24 & 0.1967213 & 301 & 0.02944673 & 0 & skin       & ⋯ & 0 & 0 & 0 & 1 & skin       & 3 & -94 & 33  & 0.11 & 2.17\\\\\n",
       "\t4 & Patient102 & 370 & 246 & 215 & 26 & 0.1078838 & 825 & 0.16938949 & 1 & brain      & ⋯ & 0 & 0 & 0 & 0 & brain      & 3 & -64 & na  & 0.70 & 3.24\\\\\n",
       "\t5 & Patient104 & 130 &  96 &  65 & 28 & 0.3010753 & 329 & 0.20651842 & 0 & lymph node & ⋯ & 0 & 0 & 0 & 0 & lymph node & 3 & -57 & na  & 0.86 & 4.58\\\\\n",
       "\t6 & Patient105 & 185 & 125 &  85 & 23 & 0.2129630 & 334 & 0.39430586 & 0 & skin       & ⋯ & 0 & 0 & 1 & 0 & skin       & 3 & -22 & na  & 0.86 & 2.42\\\\\n",
       "\\end{tabular}\n"
      ],
      "text/markdown": [
       "\n",
       "A data.frame: 6 × 46\n",
       "\n",
       "| <!--/--> | X1 &lt;chr&gt; | total_muts &lt;dbl&gt; | nonsyn_muts &lt;dbl&gt; | clonal_muts &lt;dbl&gt; | subclonal_muts &lt;dbl&gt; | heterogeneity &lt;dbl&gt; | total_neoantigens &lt;dbl&gt; | CNA_prop &lt;dbl&gt; | gender.(Male=1,.Female=0) &lt;dbl&gt; | biopsy.site &lt;chr&gt; | ⋯ ⋯ | postCTLA4 &lt;dbl&gt; | postMAPKTx &lt;dbl&gt; | postCombinedCTLA_PD1 &lt;chr&gt; | numPriorTherapies &lt;dbl&gt; | biopsy.site_categ &lt;chr&gt; | biopsyContext.(1=Pre-Ipi;.2=On-Ipi;.3=Pre-PD1;.4=On-PD1) &lt;dbl&gt; | daysBiopsyToPD1 &lt;dbl&gt; | daysBiopsyAfterIpiStart &lt;chr&gt; | purity &lt;dbl&gt; | ploidy &lt;dbl&gt; |\n",
       "|---|---|---|---|---|---|---|---|---|---|---|---|---|---|---|---|---|---|---|---|---|---|\n",
       "| 1 | Patient1   |  34 |  22 |  12 | 10 | 0.4545455 |  49 | 0.32141702 | 0 | skin       | ⋯ | 0 | 0 | 0 | 1 | skin       | 3 | -84 | unk | 0.92 | 1.73 |\n",
       "| 2 | Patient10  |  96 |  71 |  48 | 22 | 0.3142857 | 230 | 0.39138395 | 0 | skin       | ⋯ | 1 | 1 | 0 | 2 | skin       | 3 | -12 | 107 | 0.83 | 1.84 |\n",
       "| 3 | Patient100 | 200 | 126 |  98 | 24 | 0.1967213 | 301 | 0.02944673 | 0 | skin       | ⋯ | 0 | 0 | 0 | 1 | skin       | 3 | -94 | 33  | 0.11 | 2.17 |\n",
       "| 4 | Patient102 | 370 | 246 | 215 | 26 | 0.1078838 | 825 | 0.16938949 | 1 | brain      | ⋯ | 0 | 0 | 0 | 0 | brain      | 3 | -64 | na  | 0.70 | 3.24 |\n",
       "| 5 | Patient104 | 130 |  96 |  65 | 28 | 0.3010753 | 329 | 0.20651842 | 0 | lymph node | ⋯ | 0 | 0 | 0 | 0 | lymph node | 3 | -57 | na  | 0.86 | 4.58 |\n",
       "| 6 | Patient105 | 185 | 125 |  85 | 23 | 0.2129630 | 334 | 0.39430586 | 0 | skin       | ⋯ | 0 | 0 | 1 | 0 | skin       | 3 | -22 | na  | 0.86 | 2.42 |\n",
       "\n"
      ],
      "text/plain": [
       "  X1         total_muts nonsyn_muts clonal_muts subclonal_muts heterogeneity\n",
       "1 Patient1    34         22          12         10             0.4545455    \n",
       "2 Patient10   96         71          48         22             0.3142857    \n",
       "3 Patient100 200        126          98         24             0.1967213    \n",
       "4 Patient102 370        246         215         26             0.1078838    \n",
       "5 Patient104 130         96          65         28             0.3010753    \n",
       "6 Patient105 185        125          85         23             0.2129630    \n",
       "  total_neoantigens CNA_prop   gender.(Male=1,.Female=0) biopsy.site ⋯\n",
       "1  49               0.32141702 0                         skin        ⋯\n",
       "2 230               0.39138395 0                         skin        ⋯\n",
       "3 301               0.02944673 0                         skin        ⋯\n",
       "4 825               0.16938949 1                         brain       ⋯\n",
       "5 329               0.20651842 0                         lymph node  ⋯\n",
       "6 334               0.39430586 0                         skin        ⋯\n",
       "  postCTLA4 postMAPKTx postCombinedCTLA_PD1 numPriorTherapies biopsy.site_categ\n",
       "1 0         0          0                    1                 skin             \n",
       "2 1         1          0                    2                 skin             \n",
       "3 0         0          0                    1                 skin             \n",
       "4 0         0          0                    0                 brain            \n",
       "5 0         0          0                    0                 lymph node       \n",
       "6 0         0          1                    0                 skin             \n",
       "  biopsyContext.(1=Pre-Ipi;.2=On-Ipi;.3=Pre-PD1;.4=On-PD1) daysBiopsyToPD1\n",
       "1 3                                                        -84            \n",
       "2 3                                                        -12            \n",
       "3 3                                                        -94            \n",
       "4 3                                                        -64            \n",
       "5 3                                                        -57            \n",
       "6 3                                                        -22            \n",
       "  daysBiopsyAfterIpiStart purity ploidy\n",
       "1 unk                     0.92   1.73  \n",
       "2 107                     0.83   1.84  \n",
       "3 33                      0.11   2.17  \n",
       "4 na                      0.70   3.24  \n",
       "5 na                      0.86   4.58  \n",
       "6 na                      0.86   2.42  "
      ]
     },
     "metadata": {},
     "output_type": "display_data"
    }
   ],
   "source": [
    "clinical <- read.xlsx(\"41591_2019_654_MOESM4_ESM.xlsx\", sheet=1, startRow = 3)\n",
    "clinical <- clinical[1:144,]\n",
    "colnames(clinical)[1] <- \"Patient\"\n",
    "clinical <- clinical[,c(\"Patient\", \"gender.(Male=1,.Female=0)\", \"BR\", \"priorCTLA4\")]\n",
    "clinical <- clinical[clinical$priorCTLA4 == 0, ] # ONLY 84 out of 144 have no prior AntiCTLA4 therapy\n",
    "clinical <- clinical[order(clinical$Patient), ]\n",
    "colnames(clinical)[2:3] <- c(\"Gender\", \"Response\")\n",
    "clinical[clinical == \"PD\"] <- \"N\"\n",
    "clinical[clinical == \"SD\"] <- \"N\"\n",
    "clinical[clinical == \"PR\"] <- \"Y\"\n",
    "clinical[clinical == \"MR\"] <- \"Y\"\n",
    "clinical[clinical == \"CR\"] <- \"Y\"\n",
    "clinical$Response <- as.factor(clinical$Response)\n",
    "table(clinical$Response)\n",
    "dim(clinical)\n",
    "head(clinical)"
   ]
  },
  {
   "cell_type": "markdown",
   "id": "f2e5f64e",
   "metadata": {},
   "source": [
    "# Mapping response to expression"
   ]
  },
  {
   "cell_type": "code",
   "execution_count": 7,
   "id": "59509ed7",
   "metadata": {
    "scrolled": true
   },
   "outputs": [
    {
     "name": "stderr",
     "output_type": "stream",
     "text": [
      "Warning message in merge.data.frame(expr, clinical[, c(\"Patient\", \"Response\")], :\n",
      "“column names ‘146’, ‘205’, ‘26289’, ‘215’, ‘283373’, ‘56899’, ‘23780’, ‘334’, ‘231’, ‘26286’, ‘57584’, ‘51326’, ‘379’, ‘158’, ‘146712’, ‘587’, ‘55859’, ‘40’, ‘552900’, ‘220869’, ‘1238’, ‘1238’, ‘1016’, ‘55602’, ‘1066’, ‘29082’, ‘1120’, ‘29097’, ‘1371’, ‘1513’, ‘100130361’, ‘1543’, ‘1548’, ‘1564’, ‘26’, ‘8642’, ‘1649’, ‘1663’, ‘100287029’, ‘55789’, ‘27351’, ‘26220’, ‘1719’, ‘420’, ‘49860’, ‘1808’, ‘1824’, ‘8655’, ‘1942’, ‘5610’, ‘1965’, ‘8663’, ‘3692’, ‘8507’, ‘54869’, ‘23265’, ‘1272’, ‘2175’, ‘1056’, ‘55294’, ‘2213’, ‘84824’, ‘2260’, ‘286380’, ‘6624’, ‘2553’, ‘79623’, ‘1258’, ‘2657’, ‘2645’, ‘2720’, ‘2776’, ‘55889’, ‘23015’, ‘643699’, ‘2865’, ‘1798’, ‘653188’, ‘3030’, ‘328’, ‘9734’, ‘220296’, ‘10614’, ‘3017’, ‘3113’, ‘2775’, ‘3077’, ‘2034’, ‘773’, ‘1659’, ‘1665’, ‘726’, ‘10643’, ‘8570’, ‘688’, ‘8507’, ‘55975’, ‘3853’, ‘57830’, ‘3846’, ‘22866’, ‘7852’, ‘1962’, ‘11025’, ‘96626’, ‘NA’, ‘1056’, ‘3990’, ‘8048’, ‘80856’, ‘3936’, ‘4038’, ‘4034’, ‘4034’, ‘4053’, ‘2108’, ‘10219’, ‘4102’, ‘51438’, ‘23373’, ‘22924’, ‘1800’, ‘129642’, ‘4171’, ‘6837’, ‘55090’, ‘4207’, ‘4213’, ‘55798’, ‘8972’, ‘268’, ‘8510’, ‘10893’, ‘79812’, ‘2305’, ‘3609’, ‘10200’, ‘8208’, ‘4043’, ‘9801’, ‘64928’, ‘64979’, ‘28957’, ‘931’, ‘51338’, ‘NA’, ‘NA’, ‘NA’, ‘NA’, ‘NA’, ‘NA’, ‘NA’, ‘NA’, ‘NA’, ‘NA’, ‘NA’, ‘NA’, ‘NA’, ‘NA’, ‘107075310’, ‘4241’, ‘3662’, ‘56005’, ‘57644’, ‘4620’, ‘51691’, ‘414131’, ‘3373’, ‘10499’, ‘10529’, ‘54492’, ‘4780’, ‘2821’, ‘4641’, ‘8996’, ‘56413’, ‘101059938’, ‘23117’, ‘4779’, ‘3084’, ‘4745’, ‘4753’, ‘8079’, ‘53343’, ‘NA’, ‘4952’, ‘392390’, ‘143502’, ‘23595’, ‘9943’, ‘445815’, ‘445815’, ‘171389’, ‘5088’, ‘3872’, ‘27328’, ‘8641’, ‘649’, ‘10016’, ‘10846’, ‘5170’, ‘4582’, ‘5828’, ‘5201’, ‘54858’, ‘5252’, ‘5228’, ‘51054’, ‘440107’, ‘5342’, ‘23203’, ‘5395’, ‘4864’, ‘26073’, ‘5428’, ‘11044’, ‘246721’, ‘81488’, ‘51251’, ‘5462’, ‘80204’, ‘100131608’, ‘25945’, ‘5652’, ‘9588’, ‘5672’, ‘26469’, ‘5801’, ‘4151’, ‘2058’, ‘11021’, ‘339122’, ‘2072’, ‘546’, ‘1797’, ‘5913’, ‘5926’, ‘5927’, ‘5433’, ‘1381’, ‘1827’, ‘11123’, ‘400966’, ‘6008’, ‘11172’, ‘54453’, ‘3640’, ‘283’, ‘6045’, ‘221692’, ‘4734’, ‘6139’, ‘6166’, ‘161406’, ‘5708’, ‘6183’, ‘6241’, ‘795’, ‘6288’, ‘4221’, ‘4810’, ‘6357’, ‘7979’, ‘5414’, ‘10801’, ‘5271’, ‘23450’, ‘9814’, ‘6445’, ‘4068’, ‘9047’, ‘55423’, ‘9962’, ‘8034’, ‘54407’, ‘8671’, ‘55065’, ‘6530’, ‘682’, ‘6585’, ‘2534’, ‘2617’, ‘10902’, ‘3183’, ‘6047’, ‘257364’, ‘9306’, ‘5669’, ‘6440’, ‘441452’, ‘56928’, ‘6662’, ‘10847’, ‘54441’, ‘2984’, ‘11037’, ‘6813’, ‘7341’, ‘23208’, ‘653645’, ‘10178’, ‘5728’, ‘7083’, ‘4921’, ‘10360’, ‘143872’, ‘26022’, ‘56649’, ‘11013’, ‘690’, ‘8718’, ‘10673’, ‘10318’, ‘3842’, ‘27320’, ‘11322’, ‘58476’, ‘729264’, ‘6999’, ‘7066’, ‘7177’, ‘7190’, ‘22878’, ‘1191’, ‘706’, ‘83983’, ‘92104’, ‘2304’, ‘7280’, ‘114112’, ‘10054’, ‘53347’, ‘6233’, ‘7335’, ‘5300’, ‘55898’, ‘10911’, ‘8409’, ‘7407’, ‘6570’, ‘1594’, ‘1650’, ‘55023’, ‘7485’, ‘6652’, ‘10642’, ‘54439’, ‘677’, ‘678’, ‘7730’, ‘1958’, ‘7767’, ‘150’, ‘64397’, ‘29903’, ‘146540’, ‘730087’, ‘55663’ are duplicated in the result”\n"
     ]
    },
    {
     "data": {
      "text/html": [
       "<table class=\"dataframe\">\n",
       "<caption>A data.frame: 6 × 20850</caption>\n",
       "<thead>\n",
       "\t<tr><th></th><th scope=col>Patient</th><th scope=col>1</th><th scope=col>503538</th><th scope=col>29974</th><th scope=col>2</th><th scope=col>144571</th><th scope=col>144568</th><th scope=col>127550</th><th scope=col>53947</th><th scope=col>51146</th><th scope=col>⋯</th><th scope=col>11130</th><th scope=col>7789</th><th scope=col>158586</th><th scope=col>79364</th><th scope=col>440590</th><th scope=col>79699</th><th scope=col>7791</th><th scope=col>23140</th><th scope=col>26009</th><th scope=col>Response</th></tr>\n",
       "\t<tr><th></th><th scope=col>&lt;chr&gt;</th><th scope=col>&lt;dbl&gt;</th><th scope=col>&lt;dbl&gt;</th><th scope=col>&lt;dbl&gt;</th><th scope=col>&lt;dbl&gt;</th><th scope=col>&lt;dbl&gt;</th><th scope=col>&lt;dbl&gt;</th><th scope=col>&lt;dbl&gt;</th><th scope=col>&lt;dbl&gt;</th><th scope=col>&lt;dbl&gt;</th><th scope=col>⋯</th><th scope=col>&lt;dbl&gt;</th><th scope=col>&lt;dbl&gt;</th><th scope=col>&lt;dbl&gt;</th><th scope=col>&lt;dbl&gt;</th><th scope=col>&lt;dbl&gt;</th><th scope=col>&lt;dbl&gt;</th><th scope=col>&lt;dbl&gt;</th><th scope=col>&lt;dbl&gt;</th><th scope=col>&lt;dbl&gt;</th><th scope=col>&lt;fct&gt;</th></tr>\n",
       "</thead>\n",
       "<tbody>\n",
       "\t<tr><th scope=row>1</th><td>Patient102</td><td> 4.327359</td><td>-0.8475669</td><td>-2.262604</td><td>9.663733</td><td>-1.7320897</td><td>-9.965784</td><td>-9.965784</td><td> 1.2113268</td><td>-0.5745484</td><td>⋯</td><td> 2.701897</td><td> 1.4003606</td><td> 1.834257</td><td> 3.762227</td><td>-3.847567</td><td> 4.796289</td><td>7.912183</td><td>5.170169</td><td> 4.024851</td><td>Y</td></tr>\n",
       "\t<tr><th scope=row>2</th><td>Patient105</td><td> 3.701457</td><td>-9.9657843</td><td>-9.965784</td><td>6.761310</td><td>-0.6234737</td><td>-4.208436</td><td>-3.208436</td><td>-0.8161188</td><td>-2.8865081</td><td>⋯</td><td> 2.946382</td><td>-0.6848742</td><td> 1.020383</td><td> 2.209416</td><td>-4.208436</td><td> 4.649545</td><td>4.322945</td><td>3.519484</td><td> 5.063027</td><td>Y</td></tr>\n",
       "\t<tr><th scope=row>3</th><td>Patient106</td><td> 4.198740</td><td>-0.1476570</td><td>-9.965784</td><td>6.551687</td><td>-3.3955845</td><td>-3.073656</td><td>-9.965784</td><td>-1.2256595</td><td>-3.0736564</td><td>⋯</td><td> 3.462396</td><td> 0.9263436</td><td> 1.659698</td><td> 3.092256</td><td>-5.395585</td><td> 4.280373</td><td>5.412575</td><td>4.915028</td><td> 4.160922</td><td>Y</td></tr>\n",
       "\t<tr><th scope=row>4</th><td>Patient107</td><td>-9.965784</td><td>-9.9657843</td><td>-9.965784</td><td>9.078291</td><td>-9.9657843</td><td>-9.965784</td><td>-9.965784</td><td>-9.9657843</td><td>-9.9657843</td><td>⋯</td><td>-9.965784</td><td>-9.9657843</td><td>-9.965784</td><td>-9.965784</td><td>-9.965784</td><td>-9.965784</td><td>8.560465</td><td>4.292071</td><td>-9.965784</td><td>Y</td></tr>\n",
       "\t<tr><th scope=row>5</th><td>Patient108</td><td>-0.722509</td><td>-9.9657843</td><td>-9.965784</td><td>9.443654</td><td>-9.9657843</td><td>-9.965784</td><td>-9.965784</td><td>-9.9657843</td><td>-9.9657843</td><td>⋯</td><td>-9.965784</td><td>-9.9657843</td><td>-1.137546</td><td> 3.703756</td><td>-9.965784</td><td> 2.921347</td><td>6.015583</td><td>5.499078</td><td> 2.581272</td><td>N</td></tr>\n",
       "\t<tr><th scope=row>6</th><td>Patient112</td><td> 4.152404</td><td> 0.2525682</td><td>-3.104984</td><td>8.719776</td><td>-1.1049838</td><td> 3.024299</td><td>-9.965784</td><td> 2.3044072</td><td>-9.9657843</td><td>⋯</td><td> 2.966479</td><td> 1.5243729</td><td> 2.064941</td><td> 3.819829</td><td>-9.965784</td><td> 3.386869</td><td>6.673093</td><td>5.017844</td><td> 3.922922</td><td>N</td></tr>\n",
       "</tbody>\n",
       "</table>\n"
      ],
      "text/latex": [
       "A data.frame: 6 × 20850\n",
       "\\begin{tabular}{r|lllllllllllllllllllll}\n",
       "  & Patient & 1 & 503538 & 29974 & 2 & 144571 & 144568 & 127550 & 53947 & 51146 & ⋯ & 11130 & 7789 & 158586 & 79364 & 440590 & 79699 & 7791 & 23140 & 26009 & Response\\\\\n",
       "  & <chr> & <dbl> & <dbl> & <dbl> & <dbl> & <dbl> & <dbl> & <dbl> & <dbl> & <dbl> & ⋯ & <dbl> & <dbl> & <dbl> & <dbl> & <dbl> & <dbl> & <dbl> & <dbl> & <dbl> & <fct>\\\\\n",
       "\\hline\n",
       "\t1 & Patient102 &  4.327359 & -0.8475669 & -2.262604 & 9.663733 & -1.7320897 & -9.965784 & -9.965784 &  1.2113268 & -0.5745484 & ⋯ &  2.701897 &  1.4003606 &  1.834257 &  3.762227 & -3.847567 &  4.796289 & 7.912183 & 5.170169 &  4.024851 & Y\\\\\n",
       "\t2 & Patient105 &  3.701457 & -9.9657843 & -9.965784 & 6.761310 & -0.6234737 & -4.208436 & -3.208436 & -0.8161188 & -2.8865081 & ⋯ &  2.946382 & -0.6848742 &  1.020383 &  2.209416 & -4.208436 &  4.649545 & 4.322945 & 3.519484 &  5.063027 & Y\\\\\n",
       "\t3 & Patient106 &  4.198740 & -0.1476570 & -9.965784 & 6.551687 & -3.3955845 & -3.073656 & -9.965784 & -1.2256595 & -3.0736564 & ⋯ &  3.462396 &  0.9263436 &  1.659698 &  3.092256 & -5.395585 &  4.280373 & 5.412575 & 4.915028 &  4.160922 & Y\\\\\n",
       "\t4 & Patient107 & -9.965784 & -9.9657843 & -9.965784 & 9.078291 & -9.9657843 & -9.965784 & -9.965784 & -9.9657843 & -9.9657843 & ⋯ & -9.965784 & -9.9657843 & -9.965784 & -9.965784 & -9.965784 & -9.965784 & 8.560465 & 4.292071 & -9.965784 & Y\\\\\n",
       "\t5 & Patient108 & -0.722509 & -9.9657843 & -9.965784 & 9.443654 & -9.9657843 & -9.965784 & -9.965784 & -9.9657843 & -9.9657843 & ⋯ & -9.965784 & -9.9657843 & -1.137546 &  3.703756 & -9.965784 &  2.921347 & 6.015583 & 5.499078 &  2.581272 & N\\\\\n",
       "\t6 & Patient112 &  4.152404 &  0.2525682 & -3.104984 & 8.719776 & -1.1049838 &  3.024299 & -9.965784 &  2.3044072 & -9.9657843 & ⋯ &  2.966479 &  1.5243729 &  2.064941 &  3.819829 & -9.965784 &  3.386869 & 6.673093 & 5.017844 &  3.922922 & N\\\\\n",
       "\\end{tabular}\n"
      ],
      "text/markdown": [
       "\n",
       "A data.frame: 6 × 20850\n",
       "\n",
       "| <!--/--> | Patient &lt;chr&gt; | 1 &lt;dbl&gt; | 503538 &lt;dbl&gt; | 29974 &lt;dbl&gt; | 2 &lt;dbl&gt; | 144571 &lt;dbl&gt; | 144568 &lt;dbl&gt; | 127550 &lt;dbl&gt; | 53947 &lt;dbl&gt; | 51146 &lt;dbl&gt; | ⋯ ⋯ | 11130 &lt;dbl&gt; | 7789 &lt;dbl&gt; | 158586 &lt;dbl&gt; | 79364 &lt;dbl&gt; | 440590 &lt;dbl&gt; | 79699 &lt;dbl&gt; | 7791 &lt;dbl&gt; | 23140 &lt;dbl&gt; | 26009 &lt;dbl&gt; | Response &lt;fct&gt; |\n",
       "|---|---|---|---|---|---|---|---|---|---|---|---|---|---|---|---|---|---|---|---|---|---|\n",
       "| 1 | Patient102 |  4.327359 | -0.8475669 | -2.262604 | 9.663733 | -1.7320897 | -9.965784 | -9.965784 |  1.2113268 | -0.5745484 | ⋯ |  2.701897 |  1.4003606 |  1.834257 |  3.762227 | -3.847567 |  4.796289 | 7.912183 | 5.170169 |  4.024851 | Y |\n",
       "| 2 | Patient105 |  3.701457 | -9.9657843 | -9.965784 | 6.761310 | -0.6234737 | -4.208436 | -3.208436 | -0.8161188 | -2.8865081 | ⋯ |  2.946382 | -0.6848742 |  1.020383 |  2.209416 | -4.208436 |  4.649545 | 4.322945 | 3.519484 |  5.063027 | Y |\n",
       "| 3 | Patient106 |  4.198740 | -0.1476570 | -9.965784 | 6.551687 | -3.3955845 | -3.073656 | -9.965784 | -1.2256595 | -3.0736564 | ⋯ |  3.462396 |  0.9263436 |  1.659698 |  3.092256 | -5.395585 |  4.280373 | 5.412575 | 4.915028 |  4.160922 | Y |\n",
       "| 4 | Patient107 | -9.965784 | -9.9657843 | -9.965784 | 9.078291 | -9.9657843 | -9.965784 | -9.965784 | -9.9657843 | -9.9657843 | ⋯ | -9.965784 | -9.9657843 | -9.965784 | -9.965784 | -9.965784 | -9.965784 | 8.560465 | 4.292071 | -9.965784 | Y |\n",
       "| 5 | Patient108 | -0.722509 | -9.9657843 | -9.965784 | 9.443654 | -9.9657843 | -9.965784 | -9.965784 | -9.9657843 | -9.9657843 | ⋯ | -9.965784 | -9.9657843 | -1.137546 |  3.703756 | -9.965784 |  2.921347 | 6.015583 | 5.499078 |  2.581272 | N |\n",
       "| 6 | Patient112 |  4.152404 |  0.2525682 | -3.104984 | 8.719776 | -1.1049838 |  3.024299 | -9.965784 |  2.3044072 | -9.9657843 | ⋯ |  2.966479 |  1.5243729 |  2.064941 |  3.819829 | -9.965784 |  3.386869 | 6.673093 | 5.017844 |  3.922922 | N |\n",
       "\n"
      ],
      "text/plain": [
       "  Patient    1         503538     29974     2        144571     144568   \n",
       "1 Patient102  4.327359 -0.8475669 -2.262604 9.663733 -1.7320897 -9.965784\n",
       "2 Patient105  3.701457 -9.9657843 -9.965784 6.761310 -0.6234737 -4.208436\n",
       "3 Patient106  4.198740 -0.1476570 -9.965784 6.551687 -3.3955845 -3.073656\n",
       "4 Patient107 -9.965784 -9.9657843 -9.965784 9.078291 -9.9657843 -9.965784\n",
       "5 Patient108 -0.722509 -9.9657843 -9.965784 9.443654 -9.9657843 -9.965784\n",
       "6 Patient112  4.152404  0.2525682 -3.104984 8.719776 -1.1049838  3.024299\n",
       "  127550    53947      51146      ⋯ 11130     7789       158586    79364    \n",
       "1 -9.965784  1.2113268 -0.5745484 ⋯  2.701897  1.4003606  1.834257  3.762227\n",
       "2 -3.208436 -0.8161188 -2.8865081 ⋯  2.946382 -0.6848742  1.020383  2.209416\n",
       "3 -9.965784 -1.2256595 -3.0736564 ⋯  3.462396  0.9263436  1.659698  3.092256\n",
       "4 -9.965784 -9.9657843 -9.9657843 ⋯ -9.965784 -9.9657843 -9.965784 -9.965784\n",
       "5 -9.965784 -9.9657843 -9.9657843 ⋯ -9.965784 -9.9657843 -1.137546  3.703756\n",
       "6 -9.965784  2.3044072 -9.9657843 ⋯  2.966479  1.5243729  2.064941  3.819829\n",
       "  440590    79699     7791     23140    26009     Response\n",
       "1 -3.847567  4.796289 7.912183 5.170169  4.024851 Y       \n",
       "2 -4.208436  4.649545 4.322945 3.519484  5.063027 Y       \n",
       "3 -5.395585  4.280373 5.412575 4.915028  4.160922 Y       \n",
       "4 -9.965784 -9.965784 8.560465 4.292071 -9.965784 Y       \n",
       "5 -9.965784  2.921347 6.015583 5.499078  2.581272 N       \n",
       "6 -9.965784  3.386869 6.673093 5.017844  3.922922 N       "
      ]
     },
     "metadata": {},
     "output_type": "display_data"
    }
   ],
   "source": [
    "expr_res <- merge(expr, clinical[, c(\"Patient\", \"Response\")], by = 'Patient')\n",
    "head(expr_res)"
   ]
  },
  {
   "cell_type": "markdown",
   "id": "e66a63eb",
   "metadata": {},
   "source": [
    "## Clean data"
   ]
  },
  {
   "cell_type": "code",
   "execution_count": null,
   "id": "50aa2c00",
   "metadata": {},
   "outputs": [],
   "source": []
  },
  {
   "cell_type": "code",
   "execution_count": null,
   "id": "51c34322",
   "metadata": {},
   "outputs": [],
   "source": []
  },
  {
   "cell_type": "code",
   "execution_count": 8,
   "id": "cb85908a",
   "metadata": {},
   "outputs": [],
   "source": [
    "write.csv(expr_res, \"/home/jp/ICP_Responders/DataCollectionFormatting/MergeTables/Liu.csv\", row.names = FALSE)"
   ]
  },
  {
   "cell_type": "code",
   "execution_count": 9,
   "id": "10cf20ee",
   "metadata": {},
   "outputs": [
    {
     "data": {
      "text/html": [
       "<style>\n",
       ".list-inline {list-style: none; margin:0; padding: 0}\n",
       ".list-inline>li {display: inline-block}\n",
       ".list-inline>li:not(:last-child)::after {content: \"\\00b7\"; padding: 0 .5ex}\n",
       "</style>\n",
       "<ol class=list-inline><li>74</li><li>20850</li></ol>\n"
      ],
      "text/latex": [
       "\\begin{enumerate*}\n",
       "\\item 74\n",
       "\\item 20850\n",
       "\\end{enumerate*}\n"
      ],
      "text/markdown": [
       "1. 74\n",
       "2. 20850\n",
       "\n",
       "\n"
      ],
      "text/plain": [
       "[1]    74 20850"
      ]
     },
     "metadata": {},
     "output_type": "display_data"
    }
   ],
   "source": [
    "dim(expr_res)"
   ]
  },
  {
   "cell_type": "markdown",
   "id": "8522e6de",
   "metadata": {},
   "source": [
    "# Modelling"
   ]
  },
  {
   "cell_type": "code",
   "execution_count": 7,
   "id": "bdf25a46",
   "metadata": {},
   "outputs": [],
   "source": [
    "expr_mat <- expr_res[,-c(ncol(expr_res))] # to remove last column i.e. Response"
   ]
  },
  {
   "cell_type": "markdown",
   "id": "3981ef86",
   "metadata": {},
   "source": [
    "## GBM"
   ]
  },
  {
   "cell_type": "markdown",
   "id": "442db439",
   "metadata": {},
   "source": [
    "### MergedRank200"
   ]
  },
  {
   "cell_type": "code",
   "execution_count": 8,
   "id": "06bae845",
   "metadata": {
    "scrolled": true
   },
   "outputs": [
    {
     "data": {
      "text/html": [
       "<style>\n",
       ".list-inline {list-style: none; margin:0; padding: 0}\n",
       ".list-inline>li {display: inline-block}\n",
       ".list-inline>li:not(:last-child)::after {content: \"\\00b7\"; padding: 0 .5ex}\n",
       "</style>\n",
       "<ol class=list-inline><li>2</li><li>10</li><li>12</li><li>35</li><li>45</li><li>48</li><li>130</li></ol>\n"
      ],
      "text/latex": [
       "\\begin{enumerate*}\n",
       "\\item 2\n",
       "\\item 10\n",
       "\\item 12\n",
       "\\item 35\n",
       "\\item 45\n",
       "\\item 48\n",
       "\\item 130\n",
       "\\end{enumerate*}\n"
      ],
      "text/markdown": [
       "1. 2\n",
       "2. 10\n",
       "3. 12\n",
       "4. 35\n",
       "5. 45\n",
       "6. 48\n",
       "7. 130\n",
       "\n",
       "\n"
      ],
      "text/plain": [
       "[1]   2  10  12  35  45  48 130"
      ]
     },
     "metadata": {},
     "output_type": "display_data"
    },
    {
     "data": {
      "text/plain": [
       "Confusion Matrix and Statistics\n",
       "\n",
       "          Reference\n",
       "Prediction  N  Y\n",
       "         N  9  3\n",
       "         Y 32 30\n",
       "                                          \n",
       "               Accuracy : 0.527           \n",
       "                 95% CI : (0.4075, 0.6443)\n",
       "    No Information Rate : 0.5541          \n",
       "    P-Value [Acc > NIR] : 0.7214          \n",
       "                                          \n",
       "                  Kappa : 0.1184          \n",
       "                                          \n",
       " Mcnemar's Test P-Value : 2.214e-06       \n",
       "                                          \n",
       "            Sensitivity : 0.9091          \n",
       "            Specificity : 0.2195          \n",
       "         Pos Pred Value : 0.4839          \n",
       "         Neg Pred Value : 0.7500          \n",
       "             Prevalence : 0.4459          \n",
       "         Detection Rate : 0.4054          \n",
       "   Detection Prevalence : 0.8378          \n",
       "      Balanced Accuracy : 0.5643          \n",
       "                                          \n",
       "       'Positive' Class : Y               \n",
       "                                          "
      ]
     },
     "metadata": {},
     "output_type": "display_data"
    }
   ],
   "source": [
    "gbm_mergedRank <- readRDS(\"/home/jp/ICP_Responders/ML/GideHugoRiaz_AntiPD1/Pre-processingFeatureSelection/Model testing/SavedModels/gbm_mergedRank.rds\")\n",
    "feature.mergedRank <- readRDS(\"/home/jp/ICP_Responders/ML/GideHugoRiaz_AntiPD1/Pre-processingFeatureSelection/Model testing/SavedModels/feature.mergedRank.rds\")\n",
    "\n",
    "res <- list()\n",
    "tmp <- feature.mergedRank[, -which(colnames(feature.mergedRank) %in% \"Response\")]\n",
    "\n",
    "\n",
    "for (i in 1:ncol(tmp)){\n",
    "    gene_name <- colnames(tmp)[i]\n",
    "    check_gene <- length(which(colnames(expr_mat) %in% gene_name))\n",
    "    if(check_gene == 1){\n",
    "        res[[i]] <- expr_mat[,which(colnames(expr_mat) %in% gene_name)]\n",
    "    }else{\n",
    "        res[[i]] <- rep(0.001, nrow(expr_mat))\n",
    "    }\n",
    "    names(res)[i] <- gene_name \n",
    "}\n",
    "\n",
    "gbm_inp_mergedRank <- do.call(cbind, res)\n",
    "\n",
    "# which columns have missing genes\n",
    "which(colMeans(gbm_inp_mergedRank) %in% 0.001)\n",
    "\n",
    "# # Replace 0 with 0.001\n",
    "# gbm_inp_mergedRank[gbm_inp_mergedRank == 0] <- 0.001\n",
    "\n",
    "# # convert values to log\n",
    "# gbm_inp_mergedRank <- log(gbm_inp_mergedRank, 2)\n",
    "\n",
    "gbm_predictions_mergedRank <- predict(gbm_mergedRank, gbm_inp_mergedRank)\n",
    "confusionMatrix(data = gbm_predictions_mergedRank, reference = expr_res$Response, positive = \"Y\")"
   ]
  },
  {
   "cell_type": "markdown",
   "id": "8ce67248",
   "metadata": {},
   "source": [
    "### Variance"
   ]
  },
  {
   "cell_type": "code",
   "execution_count": 9,
   "id": "dcdad950",
   "metadata": {
    "scrolled": true
   },
   "outputs": [
    {
     "data": {
      "text/html": [
       "<style>\n",
       ".list-inline {list-style: none; margin:0; padding: 0}\n",
       ".list-inline>li {display: inline-block}\n",
       ".list-inline>li:not(:last-child)::after {content: \"\\00b7\"; padding: 0 .5ex}\n",
       "</style>\n",
       "<ol class=list-inline><li>23</li><li>26</li><li>33</li><li>78</li><li>103</li><li>144</li><li>150</li><li>162</li><li>163</li><li>164</li><li>165</li><li>166</li><li>167</li><li>168</li><li>169</li><li>170</li><li>171</li><li>172</li><li>173</li><li>179</li><li>195</li></ol>\n"
      ],
      "text/latex": [
       "\\begin{enumerate*}\n",
       "\\item 23\n",
       "\\item 26\n",
       "\\item 33\n",
       "\\item 78\n",
       "\\item 103\n",
       "\\item 144\n",
       "\\item 150\n",
       "\\item 162\n",
       "\\item 163\n",
       "\\item 164\n",
       "\\item 165\n",
       "\\item 166\n",
       "\\item 167\n",
       "\\item 168\n",
       "\\item 169\n",
       "\\item 170\n",
       "\\item 171\n",
       "\\item 172\n",
       "\\item 173\n",
       "\\item 179\n",
       "\\item 195\n",
       "\\end{enumerate*}\n"
      ],
      "text/markdown": [
       "1. 23\n",
       "2. 26\n",
       "3. 33\n",
       "4. 78\n",
       "5. 103\n",
       "6. 144\n",
       "7. 150\n",
       "8. 162\n",
       "9. 163\n",
       "10. 164\n",
       "11. 165\n",
       "12. 166\n",
       "13. 167\n",
       "14. 168\n",
       "15. 169\n",
       "16. 170\n",
       "17. 171\n",
       "18. 172\n",
       "19. 173\n",
       "20. 179\n",
       "21. 195\n",
       "\n",
       "\n"
      ],
      "text/plain": [
       " [1]  23  26  33  78 103 144 150 162 163 164 165 166 167 168 169 170 171 172 173\n",
       "[20] 179 195"
      ]
     },
     "metadata": {},
     "output_type": "display_data"
    },
    {
     "data": {
      "text/plain": [
       "Confusion Matrix and Statistics\n",
       "\n",
       "          Reference\n",
       "Prediction  N  Y\n",
       "         N 11 11\n",
       "         Y 30 22\n",
       "                                          \n",
       "               Accuracy : 0.4459          \n",
       "                 95% CI : (0.3302, 0.5661)\n",
       "    No Information Rate : 0.5541          \n",
       "    P-Value [Acc > NIR] : 0.976264        \n",
       "                                          \n",
       "                  Kappa : -0.0616         \n",
       "                                          \n",
       " Mcnemar's Test P-Value : 0.004937        \n",
       "                                          \n",
       "            Sensitivity : 0.6667          \n",
       "            Specificity : 0.2683          \n",
       "         Pos Pred Value : 0.4231          \n",
       "         Neg Pred Value : 0.5000          \n",
       "             Prevalence : 0.4459          \n",
       "         Detection Rate : 0.2973          \n",
       "   Detection Prevalence : 0.7027          \n",
       "      Balanced Accuracy : 0.4675          \n",
       "                                          \n",
       "       'Positive' Class : Y               \n",
       "                                          "
      ]
     },
     "metadata": {},
     "output_type": "display_data"
    }
   ],
   "source": [
    "gbm_top200var <- readRDS(\"/home/jp/ICP_Responders/ML/GideHugoRiaz_AntiPD1/Pre-processingFeatureSelection/Model testing/SavedModels/gbm_top200var.rds\")\n",
    "feature.top200var <- readRDS(\"/home/jp/ICP_Responders/ML/GideHugoRiaz_AntiPD1/Pre-processingFeatureSelection/Model testing/SavedModels/feature.top200var.rds\")\n",
    "\n",
    "res <- list()\n",
    "tmp <- feature.top200var[, -which(colnames(feature.top200var) %in% \"Response\")]\n",
    "\n",
    "for (i in 1:ncol(tmp)){\n",
    "    gene_name <- colnames(tmp)[i]\n",
    "    check_gene <- length(which(colnames(expr_mat) %in% gene_name))\n",
    "    if(check_gene == 1){\n",
    "        res[[i]] <- expr_mat[,which(colnames(expr_mat) %in% gene_name)]\n",
    "    }else{\n",
    "        res[[i]] <- rep(0.001, nrow(expr_mat))\n",
    "    }\n",
    "    names(res)[i] <- gene_name \n",
    "}\n",
    "\n",
    "gbm_inp_top200var <- do.call(cbind, res)\n",
    "\n",
    "# which columns have missing genes\n",
    "which(colMeans(gbm_inp_top200var) %in% 0.001)\n",
    "\n",
    "# # Replace 0 with 0.001\n",
    "# gbm_inp_top200var[gbm_inp_top200var == 0] <- 0.001\n",
    "\n",
    "# # convert values to log\n",
    "# gbm_inp_top200var <- log(gbm_inp_top200var, 2)\n",
    "\n",
    "gbm_predictions_top200var <- predict(gbm_top200var, gbm_inp_top200var)\n",
    "confusionMatrix(data = gbm_predictions_top200var, reference = expr_res$Response, positive = \"Y\")"
   ]
  },
  {
   "cell_type": "markdown",
   "id": "31b06386",
   "metadata": {},
   "source": [
    "### FCBF"
   ]
  },
  {
   "cell_type": "code",
   "execution_count": 10,
   "id": "89bb5987",
   "metadata": {
    "scrolled": true
   },
   "outputs": [
    {
     "data": {
      "text/html": [
       "<style>\n",
       ".list-inline {list-style: none; margin:0; padding: 0}\n",
       ".list-inline>li {display: inline-block}\n",
       ".list-inline>li:not(:last-child)::after {content: \"\\00b7\"; padding: 0 .5ex}\n",
       "</style>\n",
       "<ol class=list-inline><li>18</li><li>19</li><li>29</li></ol>\n"
      ],
      "text/latex": [
       "\\begin{enumerate*}\n",
       "\\item 18\n",
       "\\item 19\n",
       "\\item 29\n",
       "\\end{enumerate*}\n"
      ],
      "text/markdown": [
       "1. 18\n",
       "2. 19\n",
       "3. 29\n",
       "\n",
       "\n"
      ],
      "text/plain": [
       "[1] 18 19 29"
      ]
     },
     "metadata": {},
     "output_type": "display_data"
    },
    {
     "data": {
      "text/plain": [
       "Confusion Matrix and Statistics\n",
       "\n",
       "          Reference\n",
       "Prediction  N  Y\n",
       "         N  9  4\n",
       "         Y 32 29\n",
       "                                          \n",
       "               Accuracy : 0.5135          \n",
       "                 95% CI : (0.3944, 0.6315)\n",
       "    No Information Rate : 0.5541          \n",
       "    P-Value [Acc > NIR] : 0.7938          \n",
       "                                          \n",
       "                  Kappa : 0.0908          \n",
       "                                          \n",
       " Mcnemar's Test P-Value : 6.795e-06       \n",
       "                                          \n",
       "            Sensitivity : 0.8788          \n",
       "            Specificity : 0.2195          \n",
       "         Pos Pred Value : 0.4754          \n",
       "         Neg Pred Value : 0.6923          \n",
       "             Prevalence : 0.4459          \n",
       "         Detection Rate : 0.3919          \n",
       "   Detection Prevalence : 0.8243          \n",
       "      Balanced Accuracy : 0.5492          \n",
       "                                          \n",
       "       'Positive' Class : Y               \n",
       "                                          "
      ]
     },
     "metadata": {},
     "output_type": "display_data"
    }
   ],
   "source": [
    "gbm_fcbf <- readRDS(\"/home/jp/ICP_Responders/ML/GideHugoRiaz_AntiPD1/Pre-processingFeatureSelection/Model testing/SavedModels/gbm_fcbf.rds\")\n",
    "feature.fcbf <- readRDS(\"/home/jp/ICP_Responders/ML/GideHugoRiaz_AntiPD1/Pre-processingFeatureSelection/Model testing/SavedModels/feature.fcbf.rds\")\n",
    "\n",
    "res <- list()\n",
    "tmp <- feature.fcbf[, -which(colnames(feature.fcbf) %in% \"Response\")]\n",
    "\n",
    "for (i in 1:ncol(tmp)){\n",
    "    gene_name <- colnames(tmp)[i]\n",
    "    check_gene <- length(which(colnames(expr_mat) %in% gene_name))\n",
    "    if(check_gene == 1){\n",
    "        res[[i]] <- expr_mat[,which(colnames(expr_mat) %in% gene_name)]\n",
    "    }else{\n",
    "        res[[i]] <- rep(0.001, nrow(expr_mat))\n",
    "    }\n",
    "    names(res)[i] <- gene_name \n",
    "}\n",
    "\n",
    "gbm_inp_fcbf <- do.call(cbind, res)\n",
    "\n",
    "# which columns have missing genes\n",
    "which(colMeans(gbm_inp_fcbf) %in% 0.001)\n",
    "\n",
    "# # Replace 0 with 0.001\n",
    "# gbm_inp_fcbf[gbm_inp_fcbf == 0] <- 0.001\n",
    "\n",
    "# # convert values to log\n",
    "# gbm_inp_fcbf <- log(gbm_inp_fcbf, 2)\n",
    "\n",
    "gbm_predictions_fcbf <- predict(gbm_fcbf, gbm_inp_fcbf)\n",
    "confusionMatrix(data = gbm_predictions_fcbf, reference = expr_res$Response, positive = \"Y\")"
   ]
  },
  {
   "cell_type": "markdown",
   "id": "ca03ebca",
   "metadata": {},
   "source": [
    "### Limma"
   ]
  },
  {
   "cell_type": "code",
   "execution_count": 11,
   "id": "61f4f901",
   "metadata": {
    "scrolled": true
   },
   "outputs": [
    {
     "data": {
      "text/html": [
       "<style>\n",
       ".list-inline {list-style: none; margin:0; padding: 0}\n",
       ".list-inline>li {display: inline-block}\n",
       ".list-inline>li:not(:last-child)::after {content: \"\\00b7\"; padding: 0 .5ex}\n",
       "</style>\n",
       "<ol class=list-inline><li>17</li><li>27</li><li>45</li><li>50</li></ol>\n"
      ],
      "text/latex": [
       "\\begin{enumerate*}\n",
       "\\item 17\n",
       "\\item 27\n",
       "\\item 45\n",
       "\\item 50\n",
       "\\end{enumerate*}\n"
      ],
      "text/markdown": [
       "1. 17\n",
       "2. 27\n",
       "3. 45\n",
       "4. 50\n",
       "\n",
       "\n"
      ],
      "text/plain": [
       "[1] 17 27 45 50"
      ]
     },
     "metadata": {},
     "output_type": "display_data"
    },
    {
     "data": {
      "text/plain": [
       "Confusion Matrix and Statistics\n",
       "\n",
       "          Reference\n",
       "Prediction  N  Y\n",
       "         N 13  4\n",
       "         Y 28 29\n",
       "                                          \n",
       "               Accuracy : 0.5676          \n",
       "                 95% CI : (0.4472, 0.6823)\n",
       "    No Information Rate : 0.5541          \n",
       "    P-Value [Acc > NIR] : 0.4552          \n",
       "                                          \n",
       "                  Kappa : 0.1829          \n",
       "                                          \n",
       " Mcnemar's Test P-Value : 4.785e-05       \n",
       "                                          \n",
       "            Sensitivity : 0.8788          \n",
       "            Specificity : 0.3171          \n",
       "         Pos Pred Value : 0.5088          \n",
       "         Neg Pred Value : 0.7647          \n",
       "             Prevalence : 0.4459          \n",
       "         Detection Rate : 0.3919          \n",
       "   Detection Prevalence : 0.7703          \n",
       "      Balanced Accuracy : 0.5979          \n",
       "                                          \n",
       "       'Positive' Class : Y               \n",
       "                                          "
      ]
     },
     "metadata": {},
     "output_type": "display_data"
    }
   ],
   "source": [
    "gbm_limma <- readRDS(\"/home/jp/ICP_Responders/ML/GideHugoRiaz_AntiPD1/Pre-processingFeatureSelection/Model testing/SavedModels/gbm_limma.rds\")\n",
    "feature.limma <- readRDS(\"/home/jp/ICP_Responders/ML/GideHugoRiaz_AntiPD1/Pre-processingFeatureSelection/Model testing/SavedModels/feature.limma.rds\")\n",
    "\n",
    "res <- list()\n",
    "tmp <- feature.limma[, -which(colnames(feature.limma) %in% \"Response\")]\n",
    "\n",
    "for (i in 1:ncol(tmp)){\n",
    "    gene_name <- colnames(tmp)[i]\n",
    "    check_gene <- length(which(colnames(expr_mat) %in% gene_name))\n",
    "    if(check_gene == 1){\n",
    "        res[[i]] <- expr_mat[,which(colnames(expr_mat) %in% gene_name)]\n",
    "    }else{\n",
    "        res[[i]] <- rep(0.001, nrow(expr_mat))\n",
    "    }\n",
    "    names(res)[i] <- gene_name \n",
    "}\n",
    "\n",
    "gbm_inp_limma <- do.call(cbind, res)\n",
    "\n",
    "# which columns have missing genes\n",
    "which(colMeans(gbm_inp_limma) %in% 0.001)\n",
    "\n",
    "# # Replace 0 with 0.001\n",
    "# gbm_inp_limma[gbm_inp_limma == 0] <- 0.001\n",
    "\n",
    "# # convert values to log\n",
    "# gbm_inp_limma <- log(gbm_inp_limma, 2)\n",
    "\n",
    "gbm_predictions_limma <- predict(gbm_limma, gbm_inp_limma)\n",
    "confusionMatrix(data = gbm_predictions_limma, reference = expr_res$Response, positive = \"Y\")"
   ]
  },
  {
   "cell_type": "markdown",
   "id": "db2846df",
   "metadata": {},
   "source": [
    "### Random Forest Permutation"
   ]
  },
  {
   "cell_type": "code",
   "execution_count": 12,
   "id": "5ab3c4d2",
   "metadata": {
    "scrolled": true
   },
   "outputs": [
    {
     "data": {
      "text/html": [
       "<style>\n",
       ".list-inline {list-style: none; margin:0; padding: 0}\n",
       ".list-inline>li {display: inline-block}\n",
       ".list-inline>li:not(:last-child)::after {content: \"\\00b7\"; padding: 0 .5ex}\n",
       "</style>\n",
       "<ol class=list-inline><li>25</li><li>35</li><li>54</li><li>87</li><li>95</li><li>114</li><li>126</li><li>156</li><li>174</li><li>200</li></ol>\n"
      ],
      "text/latex": [
       "\\begin{enumerate*}\n",
       "\\item 25\n",
       "\\item 35\n",
       "\\item 54\n",
       "\\item 87\n",
       "\\item 95\n",
       "\\item 114\n",
       "\\item 126\n",
       "\\item 156\n",
       "\\item 174\n",
       "\\item 200\n",
       "\\end{enumerate*}\n"
      ],
      "text/markdown": [
       "1. 25\n",
       "2. 35\n",
       "3. 54\n",
       "4. 87\n",
       "5. 95\n",
       "6. 114\n",
       "7. 126\n",
       "8. 156\n",
       "9. 174\n",
       "10. 200\n",
       "\n",
       "\n"
      ],
      "text/plain": [
       " [1]  25  35  54  87  95 114 126 156 174 200"
      ]
     },
     "metadata": {},
     "output_type": "display_data"
    },
    {
     "data": {
      "text/plain": [
       "Confusion Matrix and Statistics\n",
       "\n",
       "          Reference\n",
       "Prediction  N  Y\n",
       "         N 22 10\n",
       "         Y 19 23\n",
       "                                          \n",
       "               Accuracy : 0.6081          \n",
       "                 95% CI : (0.4877, 0.7196)\n",
       "    No Information Rate : 0.5541          \n",
       "    P-Value [Acc > NIR] : 0.2070          \n",
       "                                          \n",
       "                  Kappa : 0.2275          \n",
       "                                          \n",
       " Mcnemar's Test P-Value : 0.1374          \n",
       "                                          \n",
       "            Sensitivity : 0.6970          \n",
       "            Specificity : 0.5366          \n",
       "         Pos Pred Value : 0.5476          \n",
       "         Neg Pred Value : 0.6875          \n",
       "             Prevalence : 0.4459          \n",
       "         Detection Rate : 0.3108          \n",
       "   Detection Prevalence : 0.5676          \n",
       "      Balanced Accuracy : 0.6168          \n",
       "                                          \n",
       "       'Positive' Class : Y               \n",
       "                                          "
      ]
     },
     "metadata": {},
     "output_type": "display_data"
    }
   ],
   "source": [
    "gbm_ranger <- readRDS(\"/home/jp/ICP_Responders/ML/GideHugoRiaz_AntiPD1/Pre-processingFeatureSelection/Model testing/SavedModels/gbm_ranger.rds\")\n",
    "feature.ranger <- readRDS(\"/home/jp/ICP_Responders/ML/GideHugoRiaz_AntiPD1/Pre-processingFeatureSelection/Model testing/SavedModels/feature.ranger.rds\")\n",
    "\n",
    "res <- list()\n",
    "tmp <- feature.ranger[, -which(colnames(feature.ranger) %in% \"Response\")]\n",
    "\n",
    "for (i in 1:ncol(tmp)){\n",
    "    gene_name <- colnames(tmp)[i]\n",
    "    check_gene <- length(which(colnames(expr_mat) %in% gene_name))\n",
    "    if(check_gene == 1){\n",
    "        res[[i]] <- expr_mat[,which(colnames(expr_mat) %in% gene_name)]\n",
    "    }else{\n",
    "        res[[i]] <- rep(0.001, nrow(expr_mat))\n",
    "    }\n",
    "    names(res)[i] <- gene_name \n",
    "}\n",
    "\n",
    "gbm_inp_ranger <- do.call(cbind, res)\n",
    "\n",
    "# which columns have missing genes\n",
    "which(colMeans(gbm_inp_ranger) %in% 0.001)\n",
    "\n",
    "# # Replace 0 with 0.001\n",
    "# gbm_inp_ranger[gbm_inp_ranger == 0] <- 0.001\n",
    "\n",
    "# # convert values to log\n",
    "# gbm_inp_ranger <- log(gbm_inp_ranger, 2)\n",
    "\n",
    "gbm_predictions_ranger <- predict(gbm_ranger, gbm_inp_ranger)\n",
    "confusionMatrix(data = gbm_predictions_ranger, reference = expr_res$Response, positive = \"Y\")"
   ]
  },
  {
   "cell_type": "markdown",
   "id": "c0f797b8",
   "metadata": {},
   "source": [
    "### Mutual Information"
   ]
  },
  {
   "cell_type": "code",
   "execution_count": 14,
   "id": "70b35f8e",
   "metadata": {
    "scrolled": true
   },
   "outputs": [
    {
     "data": {
      "text/html": [
       "<style>\n",
       ".list-inline {list-style: none; margin:0; padding: 0}\n",
       ".list-inline>li {display: inline-block}\n",
       ".list-inline>li:not(:last-child)::after {content: \"\\00b7\"; padding: 0 .5ex}\n",
       "</style>\n",
       "<ol class=list-inline><li>1</li><li>25</li><li>36</li><li>84</li><li>114</li><li>144</li><li>154</li><li>185</li></ol>\n"
      ],
      "text/latex": [
       "\\begin{enumerate*}\n",
       "\\item 1\n",
       "\\item 25\n",
       "\\item 36\n",
       "\\item 84\n",
       "\\item 114\n",
       "\\item 144\n",
       "\\item 154\n",
       "\\item 185\n",
       "\\end{enumerate*}\n"
      ],
      "text/markdown": [
       "1. 1\n",
       "2. 25\n",
       "3. 36\n",
       "4. 84\n",
       "5. 114\n",
       "6. 144\n",
       "7. 154\n",
       "8. 185\n",
       "\n",
       "\n"
      ],
      "text/plain": [
       "[1]   1  25  36  84 114 144 154 185"
      ]
     },
     "metadata": {},
     "output_type": "display_data"
    },
    {
     "data": {
      "text/plain": [
       "Confusion Matrix and Statistics\n",
       "\n",
       "          Reference\n",
       "Prediction  N  Y\n",
       "         N 19 12\n",
       "         Y 22 21\n",
       "                                          \n",
       "               Accuracy : 0.5405          \n",
       "                 95% CI : (0.4207, 0.6571)\n",
       "    No Information Rate : 0.5541          \n",
       "    P-Value [Acc > NIR] : 0.6384          \n",
       "                                          \n",
       "                  Kappa : 0.0969          \n",
       "                                          \n",
       " Mcnemar's Test P-Value : 0.1227          \n",
       "                                          \n",
       "            Sensitivity : 0.6364          \n",
       "            Specificity : 0.4634          \n",
       "         Pos Pred Value : 0.4884          \n",
       "         Neg Pred Value : 0.6129          \n",
       "             Prevalence : 0.4459          \n",
       "         Detection Rate : 0.2838          \n",
       "   Detection Prevalence : 0.5811          \n",
       "      Balanced Accuracy : 0.5499          \n",
       "                                          \n",
       "       'Positive' Class : Y               \n",
       "                                          "
      ]
     },
     "metadata": {},
     "output_type": "display_data"
    }
   ],
   "source": [
    "gbm_jmim <- readRDS(\"/home/jp/ICP_Responders/ML/GideHugoRiaz_AntiPD1/Pre-processingFeatureSelection/Model testing/SavedModels/gbm_jmim.rds\")\n",
    "feature.jmim <- readRDS(\"/home/jp/ICP_Responders/ML/GideHugoRiaz_AntiPD1/Pre-processingFeatureSelection/Model testing/SavedModels/feature.jmim.rds\")\n",
    "\n",
    "res <- list()\n",
    "tmp <- feature.jmim[, -which(colnames(feature.jmim) %in% \"Response\")]\n",
    "\n",
    "for (i in 1:ncol(tmp)){\n",
    "    gene_name <- colnames(tmp)[i]\n",
    "    check_gene <- length(which(colnames(expr_mat) %in% gene_name))\n",
    "    if(check_gene == 1){\n",
    "        res[[i]] <- expr_mat[,which(colnames(expr_mat) %in% gene_name)]\n",
    "    }else{\n",
    "        res[[i]] <- rep(0.001, nrow(expr_mat))\n",
    "    }\n",
    "    names(res)[i] <- gene_name \n",
    "}\n",
    "\n",
    "gbm_inp_jmim <- do.call(cbind, res)\n",
    "\n",
    "# which columns have missing genes\n",
    "which(colMeans(gbm_inp_jmim) %in% 0.001)\n",
    "\n",
    "# # Replace 0 with 0.001\n",
    "# gbm_inp_jmim[gbm_inp_jmim == 0] <- 0.001\n",
    "\n",
    "# # convert values to log\n",
    "# gbm_inp_jmim <- log(gbm_inp_jmim, 2)\n",
    "\n",
    "gbm_predictions_jmim <- predict(gbm_jmim, gbm_inp_jmim)\n",
    "confusionMatrix(data = gbm_predictions_jmim, reference = expr_res$Response, positive = \"Y\")"
   ]
  },
  {
   "cell_type": "markdown",
   "id": "6083012c",
   "metadata": {},
   "source": [
    "### Literature Survey"
   ]
  },
  {
   "cell_type": "code",
   "execution_count": 15,
   "id": "57d3b888",
   "metadata": {
    "scrolled": true
   },
   "outputs": [
    {
     "data": {
      "text/html": [],
      "text/latex": [],
      "text/markdown": [],
      "text/plain": [
       "integer(0)"
      ]
     },
     "metadata": {},
     "output_type": "display_data"
    },
    {
     "data": {
      "text/plain": [
       "Confusion Matrix and Statistics\n",
       "\n",
       "          Reference\n",
       "Prediction  N  Y\n",
       "         N 31 21\n",
       "         Y 10 12\n",
       "                                          \n",
       "               Accuracy : 0.5811          \n",
       "                 95% CI : (0.4606, 0.6949)\n",
       "    No Information Rate : 0.5541          \n",
       "    P-Value [Acc > NIR] : 0.36440         \n",
       "                                          \n",
       "                  Kappa : 0.1238          \n",
       "                                          \n",
       " Mcnemar's Test P-Value : 0.07249         \n",
       "                                          \n",
       "            Sensitivity : 0.3636          \n",
       "            Specificity : 0.7561          \n",
       "         Pos Pred Value : 0.5455          \n",
       "         Neg Pred Value : 0.5962          \n",
       "             Prevalence : 0.4459          \n",
       "         Detection Rate : 0.1622          \n",
       "   Detection Prevalence : 0.2973          \n",
       "      Balanced Accuracy : 0.5599          \n",
       "                                          \n",
       "       'Positive' Class : Y               \n",
       "                                          "
      ]
     },
     "metadata": {},
     "output_type": "display_data"
    }
   ],
   "source": [
    "gbm_litSur <- readRDS(\"/home/jp/ICP_Responders/ML/GideHugoRiaz_AntiPD1/Pre-processingFeatureSelection/Model testing/SavedModels/gbm_litSur.rds\")\n",
    "feature.litSur <- readRDS(\"/home/jp/ICP_Responders/ML/GideHugoRiaz_AntiPD1/Pre-processingFeatureSelection/Model testing/SavedModels/feature.litSur.rds\")\n",
    "\n",
    "res <- list()\n",
    "tmp <- feature.litSur[, -which(colnames(feature.litSur) %in% \"Response\")]\n",
    "\n",
    "for (i in 1:ncol(tmp)){\n",
    "    gene_name <- colnames(tmp)[i]\n",
    "    check_gene <- length(which(colnames(expr_mat) %in% gene_name))\n",
    "    if(check_gene == 1){\n",
    "        res[[i]] <- expr_mat[,which(colnames(expr_mat) %in% gene_name)]\n",
    "    }else{\n",
    "        res[[i]] <- rep(0.001, nrow(expr_mat))\n",
    "    }\n",
    "    names(res)[i] <- gene_name \n",
    "}\n",
    "\n",
    "gbm_inp_litSur <- do.call(cbind, res)\n",
    "\n",
    "# which columns have missing genes\n",
    "which(colMeans(gbm_inp_litSur) %in% 0.001)\n",
    "\n",
    "# # Replace 0 with 0.001\n",
    "# gbm_inp_litSur[gbm_inp_litSur == 0] <- 0.001\n",
    "\n",
    "# # convert values to log\n",
    "# gbm_inp_litSur <- log(gbm_inp_litSur, 2)\n",
    "\n",
    "gbm_predictions_litSur <- predict(gbm_litSur, gbm_inp_litSur)\n",
    "confusionMatrix(data = gbm_predictions_litSur, reference = expr_res$Response, positive = \"Y\")"
   ]
  },
  {
   "cell_type": "markdown",
   "id": "72a63abf",
   "metadata": {},
   "source": [
    "### Prat et al."
   ]
  },
  {
   "cell_type": "code",
   "execution_count": 16,
   "id": "9357aa92",
   "metadata": {
    "scrolled": true
   },
   "outputs": [
    {
     "data": {
      "text/html": [
       "<style>\n",
       ".list-inline {list-style: none; margin:0; padding: 0}\n",
       ".list-inline>li {display: inline-block}\n",
       ".list-inline>li:not(:last-child)::after {content: \"\\00b7\"; padding: 0 .5ex}\n",
       "</style>\n",
       "<ol class=list-inline><li>50</li><li>55</li><li>58</li><li>59</li><li>70</li><li>104</li><li>179</li><li>202</li><li>203</li><li>266</li><li>306</li><li>309</li><li>311</li><li>316</li><li>330</li><li>372</li><li>425</li><li>445</li><li>447</li><li>449</li></ol>\n"
      ],
      "text/latex": [
       "\\begin{enumerate*}\n",
       "\\item 50\n",
       "\\item 55\n",
       "\\item 58\n",
       "\\item 59\n",
       "\\item 70\n",
       "\\item 104\n",
       "\\item 179\n",
       "\\item 202\n",
       "\\item 203\n",
       "\\item 266\n",
       "\\item 306\n",
       "\\item 309\n",
       "\\item 311\n",
       "\\item 316\n",
       "\\item 330\n",
       "\\item 372\n",
       "\\item 425\n",
       "\\item 445\n",
       "\\item 447\n",
       "\\item 449\n",
       "\\end{enumerate*}\n"
      ],
      "text/markdown": [
       "1. 50\n",
       "2. 55\n",
       "3. 58\n",
       "4. 59\n",
       "5. 70\n",
       "6. 104\n",
       "7. 179\n",
       "8. 202\n",
       "9. 203\n",
       "10. 266\n",
       "11. 306\n",
       "12. 309\n",
       "13. 311\n",
       "14. 316\n",
       "15. 330\n",
       "16. 372\n",
       "17. 425\n",
       "18. 445\n",
       "19. 447\n",
       "20. 449\n",
       "\n",
       "\n"
      ],
      "text/plain": [
       " [1]  50  55  58  59  70 104 179 202 203 266 306 309 311 316 330 372 425 445 447\n",
       "[20] 449"
      ]
     },
     "metadata": {},
     "output_type": "display_data"
    },
    {
     "data": {
      "text/plain": [
       "Confusion Matrix and Statistics\n",
       "\n",
       "          Reference\n",
       "Prediction  N  Y\n",
       "         N  9  6\n",
       "         Y 32 27\n",
       "                                          \n",
       "               Accuracy : 0.4865          \n",
       "                 95% CI : (0.3685, 0.6056)\n",
       "    No Information Rate : 0.5541          \n",
       "    P-Value [Acc > NIR] : 0.9005          \n",
       "                                          \n",
       "                  Kappa : 0.035           \n",
       "                                          \n",
       " Mcnemar's Test P-Value : 5.002e-05       \n",
       "                                          \n",
       "            Sensitivity : 0.8182          \n",
       "            Specificity : 0.2195          \n",
       "         Pos Pred Value : 0.4576          \n",
       "         Neg Pred Value : 0.6000          \n",
       "             Prevalence : 0.4459          \n",
       "         Detection Rate : 0.3649          \n",
       "   Detection Prevalence : 0.7973          \n",
       "      Balanced Accuracy : 0.5188          \n",
       "                                          \n",
       "       'Positive' Class : Y               \n",
       "                                          "
      ]
     },
     "metadata": {},
     "output_type": "display_data"
    }
   ],
   "source": [
    "gbm_prat <- readRDS(\"/home/jp/ICP_Responders/ML/GideHugoRiaz_AntiPD1/Pre-processingFeatureSelection/Model testing/SavedModels/gbm_prat.rds\")\n",
    "feature.prat <- readRDS(\"/home/jp/ICP_Responders/ML/GideHugoRiaz_AntiPD1/Pre-processingFeatureSelection/Model testing/SavedModels/feature.prat.rds\")\n",
    "\n",
    "res <- list()\n",
    "tmp <- feature.prat[, -which(colnames(feature.prat) %in% \"Response\")]\n",
    "\n",
    "for (i in 1:ncol(tmp)){\n",
    "    gene_name <- colnames(tmp)[i]\n",
    "    check_gene <- length(which(colnames(expr_mat) %in% gene_name))\n",
    "    if(check_gene == 1){\n",
    "        res[[i]] <- expr_mat[,which(colnames(expr_mat) %in% gene_name)]\n",
    "    }else{\n",
    "        res[[i]] <- rep(0.001, nrow(expr_mat))\n",
    "    }\n",
    "    names(res)[i] <- gene_name \n",
    "}\n",
    "\n",
    "gbm_inp_prat <- do.call(cbind, res)\n",
    "\n",
    "# which columns have missing genes\n",
    "which(colMeans(gbm_inp_prat) %in% 0.001)\n",
    "\n",
    "# # Replace 0 with 0.001\n",
    "# gbm_inp_prat[gbm_inp_prat == 0] <- 0.001\n",
    "\n",
    "# # convert values to log\n",
    "# gbm_inp_prat <- log(gbm_inp_prat, 2)\n",
    "\n",
    "gbm_predictions_prat <- predict(gbm_prat, gbm_inp_prat)\n",
    "confusionMatrix(data = gbm_predictions_prat, reference = expr_res$Response, positive = \"Y\")"
   ]
  },
  {
   "cell_type": "markdown",
   "id": "a4acd4ee",
   "metadata": {},
   "source": [
    "## Cforest"
   ]
  },
  {
   "cell_type": "markdown",
   "id": "986aacfb",
   "metadata": {},
   "source": [
    "### MergedRank200"
   ]
  },
  {
   "cell_type": "code",
   "execution_count": 17,
   "id": "c06cd6f5",
   "metadata": {
    "scrolled": true
   },
   "outputs": [
    {
     "data": {
      "text/html": [
       "<style>\n",
       ".list-inline {list-style: none; margin:0; padding: 0}\n",
       ".list-inline>li {display: inline-block}\n",
       ".list-inline>li:not(:last-child)::after {content: \"\\00b7\"; padding: 0 .5ex}\n",
       "</style>\n",
       "<ol class=list-inline><li>2</li><li>10</li><li>12</li><li>35</li><li>45</li><li>48</li><li>130</li></ol>\n"
      ],
      "text/latex": [
       "\\begin{enumerate*}\n",
       "\\item 2\n",
       "\\item 10\n",
       "\\item 12\n",
       "\\item 35\n",
       "\\item 45\n",
       "\\item 48\n",
       "\\item 130\n",
       "\\end{enumerate*}\n"
      ],
      "text/markdown": [
       "1. 2\n",
       "2. 10\n",
       "3. 12\n",
       "4. 35\n",
       "5. 45\n",
       "6. 48\n",
       "7. 130\n",
       "\n",
       "\n"
      ],
      "text/plain": [
       "[1]   2  10  12  35  45  48 130"
      ]
     },
     "metadata": {},
     "output_type": "display_data"
    },
    {
     "data": {
      "text/plain": [
       "Confusion Matrix and Statistics\n",
       "\n",
       "          Reference\n",
       "Prediction  N  Y\n",
       "         N 39 30\n",
       "         Y  2  3\n",
       "                                          \n",
       "               Accuracy : 0.5676          \n",
       "                 95% CI : (0.4472, 0.6823)\n",
       "    No Information Rate : 0.5541          \n",
       "    P-Value [Acc > NIR] : 0.4552          \n",
       "                                          \n",
       "                  Kappa : 0.0459          \n",
       "                                          \n",
       " Mcnemar's Test P-Value : 1.815e-06       \n",
       "                                          \n",
       "            Sensitivity : 0.09091         \n",
       "            Specificity : 0.95122         \n",
       "         Pos Pred Value : 0.60000         \n",
       "         Neg Pred Value : 0.56522         \n",
       "             Prevalence : 0.44595         \n",
       "         Detection Rate : 0.04054         \n",
       "   Detection Prevalence : 0.06757         \n",
       "      Balanced Accuracy : 0.52106         \n",
       "                                          \n",
       "       'Positive' Class : Y               \n",
       "                                          "
      ]
     },
     "metadata": {},
     "output_type": "display_data"
    }
   ],
   "source": [
    "cforest_mergedRank <- readRDS(\"/home/jp/ICP_Responders/ML/GideHugoRiaz_AntiPD1/Pre-processingFeatureSelection/Model testing/SavedModels/cforest_mergedRank.rds\")\n",
    "feature.mergedRank <- readRDS(\"/home/jp/ICP_Responders/ML/GideHugoRiaz_AntiPD1/Pre-processingFeatureSelection/Model testing/SavedModels/feature.mergedRank.rds\")\n",
    "\n",
    "res <- list()\n",
    "tmp <- feature.mergedRank[, -which(colnames(feature.mergedRank) %in% \"Response\")]\n",
    "\n",
    "for (i in 1:ncol(tmp)){\n",
    "    gene_name <- colnames(tmp)[i]\n",
    "    check_gene <- length(which(colnames(expr_mat) %in% gene_name))\n",
    "    if(check_gene == 1){\n",
    "        res[[i]] <- expr_mat[,which(colnames(expr_mat) %in% gene_name)]\n",
    "    }else{\n",
    "        res[[i]] <- rep(0.001, nrow(expr_mat))\n",
    "    }\n",
    "    names(res)[i] <- gene_name \n",
    "}\n",
    "\n",
    "cforest_inp_mergedRank <- do.call(cbind, res)\n",
    "\n",
    "# which columns have missing genes\n",
    "which(colMeans(cforest_inp_mergedRank) %in% 0.001)\n",
    "\n",
    "# # Replace 0 with 0.001\n",
    "# cforest_inp_mergedRank[cforest_inp_mergedRank == 0] <- 0.001\n",
    "\n",
    "# # convert values to log\n",
    "# cforest_inp_mergedRank <- log(cforest_inp_mergedRank, 2)\n",
    "\n",
    "cforest_predictions_mergedRank <- predict(cforest_mergedRank, cforest_inp_mergedRank)\n",
    "confusionMatrix(data = cforest_predictions_mergedRank, reference = expr_res$Response, positive = \"Y\")"
   ]
  },
  {
   "cell_type": "markdown",
   "id": "804da408",
   "metadata": {},
   "source": [
    "### Variance"
   ]
  },
  {
   "cell_type": "code",
   "execution_count": 18,
   "id": "3bd4bc96",
   "metadata": {
    "scrolled": true
   },
   "outputs": [
    {
     "data": {
      "text/html": [
       "<style>\n",
       ".list-inline {list-style: none; margin:0; padding: 0}\n",
       ".list-inline>li {display: inline-block}\n",
       ".list-inline>li:not(:last-child)::after {content: \"\\00b7\"; padding: 0 .5ex}\n",
       "</style>\n",
       "<ol class=list-inline><li>23</li><li>26</li><li>33</li><li>78</li><li>103</li><li>144</li><li>150</li><li>162</li><li>163</li><li>164</li><li>165</li><li>166</li><li>167</li><li>168</li><li>169</li><li>170</li><li>171</li><li>172</li><li>173</li><li>179</li><li>195</li></ol>\n"
      ],
      "text/latex": [
       "\\begin{enumerate*}\n",
       "\\item 23\n",
       "\\item 26\n",
       "\\item 33\n",
       "\\item 78\n",
       "\\item 103\n",
       "\\item 144\n",
       "\\item 150\n",
       "\\item 162\n",
       "\\item 163\n",
       "\\item 164\n",
       "\\item 165\n",
       "\\item 166\n",
       "\\item 167\n",
       "\\item 168\n",
       "\\item 169\n",
       "\\item 170\n",
       "\\item 171\n",
       "\\item 172\n",
       "\\item 173\n",
       "\\item 179\n",
       "\\item 195\n",
       "\\end{enumerate*}\n"
      ],
      "text/markdown": [
       "1. 23\n",
       "2. 26\n",
       "3. 33\n",
       "4. 78\n",
       "5. 103\n",
       "6. 144\n",
       "7. 150\n",
       "8. 162\n",
       "9. 163\n",
       "10. 164\n",
       "11. 165\n",
       "12. 166\n",
       "13. 167\n",
       "14. 168\n",
       "15. 169\n",
       "16. 170\n",
       "17. 171\n",
       "18. 172\n",
       "19. 173\n",
       "20. 179\n",
       "21. 195\n",
       "\n",
       "\n"
      ],
      "text/plain": [
       " [1]  23  26  33  78 103 144 150 162 163 164 165 166 167 168 169 170 171 172 173\n",
       "[20] 179 195"
      ]
     },
     "metadata": {},
     "output_type": "display_data"
    },
    {
     "data": {
      "text/plain": [
       "Confusion Matrix and Statistics\n",
       "\n",
       "          Reference\n",
       "Prediction  N  Y\n",
       "         N 29 23\n",
       "         Y 12 10\n",
       "                                          \n",
       "               Accuracy : 0.527           \n",
       "                 95% CI : (0.4075, 0.6443)\n",
       "    No Information Rate : 0.5541          \n",
       "    P-Value [Acc > NIR] : 0.72140         \n",
       "                                          \n",
       "                  Kappa : 0.0107          \n",
       "                                          \n",
       " Mcnemar's Test P-Value : 0.09097         \n",
       "                                          \n",
       "            Sensitivity : 0.3030          \n",
       "            Specificity : 0.7073          \n",
       "         Pos Pred Value : 0.4545          \n",
       "         Neg Pred Value : 0.5577          \n",
       "             Prevalence : 0.4459          \n",
       "         Detection Rate : 0.1351          \n",
       "   Detection Prevalence : 0.2973          \n",
       "      Balanced Accuracy : 0.5052          \n",
       "                                          \n",
       "       'Positive' Class : Y               \n",
       "                                          "
      ]
     },
     "metadata": {},
     "output_type": "display_data"
    }
   ],
   "source": [
    "cforest_top200var <- readRDS(\"/home/jp/ICP_Responders/ML/GideHugoRiaz_AntiPD1/Pre-processingFeatureSelection/Model testing/SavedModels/cforest_top200var.rds\")\n",
    "feature.top200var <- readRDS(\"/home/jp/ICP_Responders/ML/GideHugoRiaz_AntiPD1/Pre-processingFeatureSelection/Model testing/SavedModels/feature.top200var.rds\")\n",
    "\n",
    "res <- list()\n",
    "tmp <- feature.top200var[, -which(colnames(feature.top200var) %in% \"Response\")]\n",
    "\n",
    "for (i in 1:ncol(tmp)){\n",
    "    gene_name <- colnames(tmp)[i]\n",
    "    check_gene <- length(which(colnames(expr_mat) %in% gene_name))\n",
    "    if(check_gene == 1){\n",
    "        res[[i]] <- expr_mat[,which(colnames(expr_mat) %in% gene_name)]\n",
    "    }else{\n",
    "        res[[i]] <- rep(0.001, nrow(expr_mat))\n",
    "    }\n",
    "    names(res)[i] <- gene_name \n",
    "}\n",
    "\n",
    "cforest_inp_top200var <- do.call(cbind, res)\n",
    "\n",
    "# which columns have missing genes\n",
    "which(colMeans(cforest_inp_top200var) %in% 0.001)\n",
    "\n",
    "# # Replace 0 with 0.001\n",
    "# cforest_inp_top200var[cforest_inp_top200var == 0] <- 0.001\n",
    "\n",
    "# # convert values to log\n",
    "# cforest_inp_top200var <- log(cforest_inp_top200var, 2)\n",
    "\n",
    "cforest_predictions_top200var <- predict(cforest_top200var, cforest_inp_top200var)\n",
    "confusionMatrix(data = cforest_predictions_top200var, reference = expr_res$Response, positive = \"Y\")"
   ]
  },
  {
   "cell_type": "markdown",
   "id": "772891e9",
   "metadata": {},
   "source": [
    "### FCBF"
   ]
  },
  {
   "cell_type": "code",
   "execution_count": 19,
   "id": "a2dc9752",
   "metadata": {},
   "outputs": [
    {
     "data": {
      "text/html": [
       "<style>\n",
       ".list-inline {list-style: none; margin:0; padding: 0}\n",
       ".list-inline>li {display: inline-block}\n",
       ".list-inline>li:not(:last-child)::after {content: \"\\00b7\"; padding: 0 .5ex}\n",
       "</style>\n",
       "<ol class=list-inline><li>18</li><li>19</li><li>29</li></ol>\n"
      ],
      "text/latex": [
       "\\begin{enumerate*}\n",
       "\\item 18\n",
       "\\item 19\n",
       "\\item 29\n",
       "\\end{enumerate*}\n"
      ],
      "text/markdown": [
       "1. 18\n",
       "2. 19\n",
       "3. 29\n",
       "\n",
       "\n"
      ],
      "text/plain": [
       "[1] 18 19 29"
      ]
     },
     "metadata": {},
     "output_type": "display_data"
    },
    {
     "data": {
      "text/plain": [
       "Confusion Matrix and Statistics\n",
       "\n",
       "          Reference\n",
       "Prediction  N  Y\n",
       "         N 17 10\n",
       "         Y 24 23\n",
       "                                          \n",
       "               Accuracy : 0.5405          \n",
       "                 95% CI : (0.4207, 0.6571)\n",
       "    No Information Rate : 0.5541          \n",
       "    P-Value [Acc > NIR] : 0.63839         \n",
       "                                          \n",
       "                  Kappa : 0.1072          \n",
       "                                          \n",
       " Mcnemar's Test P-Value : 0.02578         \n",
       "                                          \n",
       "            Sensitivity : 0.6970          \n",
       "            Specificity : 0.4146          \n",
       "         Pos Pred Value : 0.4894          \n",
       "         Neg Pred Value : 0.6296          \n",
       "             Prevalence : 0.4459          \n",
       "         Detection Rate : 0.3108          \n",
       "   Detection Prevalence : 0.6351          \n",
       "      Balanced Accuracy : 0.5558          \n",
       "                                          \n",
       "       'Positive' Class : Y               \n",
       "                                          "
      ]
     },
     "metadata": {},
     "output_type": "display_data"
    }
   ],
   "source": [
    "cforest_fcbf <- readRDS(\"/home/jp/ICP_Responders/ML/GideHugoRiaz_AntiPD1/Pre-processingFeatureSelection/Model testing/SavedModels/cforest_fcbf.rds\")\n",
    "feature.fcbf <- readRDS(\"/home/jp/ICP_Responders/ML/GideHugoRiaz_AntiPD1/Pre-processingFeatureSelection/Model testing/SavedModels/feature.fcbf.rds\")\n",
    "\n",
    "res <- list()\n",
    "tmp <- feature.fcbf[, -which(colnames(feature.fcbf) %in% \"Response\")]\n",
    "\n",
    "for (i in 1:ncol(tmp)){\n",
    "    gene_name <- colnames(tmp)[i]\n",
    "    check_gene <- length(which(colnames(expr_mat) %in% gene_name))\n",
    "    if(check_gene == 1){\n",
    "        res[[i]] <- expr_mat[,which(colnames(expr_mat) %in% gene_name)]\n",
    "    }else{\n",
    "        res[[i]] <- rep(0.001, nrow(expr_mat))\n",
    "    }\n",
    "    names(res)[i] <- gene_name \n",
    "}\n",
    "\n",
    "cforest_inp_fcbf <- do.call(cbind, res)\n",
    "\n",
    "# which columns have missing genes\n",
    "which(colMeans(cforest_inp_fcbf) %in% 0.001)\n",
    "\n",
    "# # Replace 0 with 0.001\n",
    "# cforest_inp_fcbf[cforest_inp_fcbf == 0] <- 0.001\n",
    "\n",
    "# # convert values to log\n",
    "# cforest_inp_fcbf <- log(cforest_inp_fcbf, 2)\n",
    "\n",
    "cforest_predictions_fcbf <- predict(cforest_fcbf, cforest_inp_fcbf)\n",
    "confusionMatrix(data = cforest_predictions_fcbf, reference = expr_res$Response, positive = \"Y\")"
   ]
  },
  {
   "cell_type": "markdown",
   "id": "7c313465",
   "metadata": {},
   "source": [
    "### Limma"
   ]
  },
  {
   "cell_type": "code",
   "execution_count": 20,
   "id": "84e54d66",
   "metadata": {},
   "outputs": [
    {
     "data": {
      "text/html": [
       "<style>\n",
       ".list-inline {list-style: none; margin:0; padding: 0}\n",
       ".list-inline>li {display: inline-block}\n",
       ".list-inline>li:not(:last-child)::after {content: \"\\00b7\"; padding: 0 .5ex}\n",
       "</style>\n",
       "<ol class=list-inline><li>17</li><li>27</li><li>45</li><li>50</li></ol>\n"
      ],
      "text/latex": [
       "\\begin{enumerate*}\n",
       "\\item 17\n",
       "\\item 27\n",
       "\\item 45\n",
       "\\item 50\n",
       "\\end{enumerate*}\n"
      ],
      "text/markdown": [
       "1. 17\n",
       "2. 27\n",
       "3. 45\n",
       "4. 50\n",
       "\n",
       "\n"
      ],
      "text/plain": [
       "[1] 17 27 45 50"
      ]
     },
     "metadata": {},
     "output_type": "display_data"
    },
    {
     "data": {
      "text/plain": [
       "Confusion Matrix and Statistics\n",
       "\n",
       "          Reference\n",
       "Prediction  N  Y\n",
       "         N 40 30\n",
       "         Y  1  3\n",
       "                                          \n",
       "               Accuracy : 0.5811          \n",
       "                 95% CI : (0.4606, 0.6949)\n",
       "    No Information Rate : 0.5541          \n",
       "    P-Value [Acc > NIR] : 0.3644          \n",
       "                                          \n",
       "                  Kappa : 0.0728          \n",
       "                                          \n",
       " Mcnemar's Test P-Value : 4.932e-07       \n",
       "                                          \n",
       "            Sensitivity : 0.09091         \n",
       "            Specificity : 0.97561         \n",
       "         Pos Pred Value : 0.75000         \n",
       "         Neg Pred Value : 0.57143         \n",
       "             Prevalence : 0.44595         \n",
       "         Detection Rate : 0.04054         \n",
       "   Detection Prevalence : 0.05405         \n",
       "      Balanced Accuracy : 0.53326         \n",
       "                                          \n",
       "       'Positive' Class : Y               \n",
       "                                          "
      ]
     },
     "metadata": {},
     "output_type": "display_data"
    }
   ],
   "source": [
    "cforest_limma <- readRDS(\"/home/jp/ICP_Responders/ML/GideHugoRiaz_AntiPD1/Pre-processingFeatureSelection/Model testing/SavedModels/cforest_limma.rds\")\n",
    "feature.limma <- readRDS(\"/home/jp/ICP_Responders/ML/GideHugoRiaz_AntiPD1/Pre-processingFeatureSelection/Model testing/SavedModels/feature.limma.rds\")\n",
    "\n",
    "res <- list()\n",
    "tmp <- feature.limma[, -which(colnames(feature.limma) %in% \"Response\")]\n",
    "\n",
    "for (i in 1:ncol(tmp)){\n",
    "    gene_name <- colnames(tmp)[i]\n",
    "    check_gene <- length(which(colnames(expr_mat) %in% gene_name))\n",
    "    if(check_gene == 1){\n",
    "        res[[i]] <- expr_mat[,which(colnames(expr_mat) %in% gene_name)]\n",
    "    }else{\n",
    "        res[[i]] <- rep(0.001, nrow(expr_mat))\n",
    "    }\n",
    "    names(res)[i] <- gene_name \n",
    "}\n",
    "\n",
    "cforest_inp_limma <- do.call(cbind, res)\n",
    "\n",
    "# which columns have missing genes\n",
    "which(colMeans(cforest_inp_limma) %in% 0.001)\n",
    "\n",
    "# # Replace 0 with 0.001\n",
    "# cforest_inp_limma[cforest_inp_limma == 0] <- 0.001\n",
    "\n",
    "# # convert values to log\n",
    "# cforest_inp_limma <- log(cforest_inp_limma, 2)\n",
    "\n",
    "cforest_predictions_limma <- predict(cforest_limma, cforest_inp_limma)\n",
    "confusionMatrix(data = cforest_predictions_limma, reference = expr_res$Response, positive = \"Y\")"
   ]
  },
  {
   "cell_type": "markdown",
   "id": "f0335da3",
   "metadata": {},
   "source": [
    "### Random Forest Permutation"
   ]
  },
  {
   "cell_type": "code",
   "execution_count": 21,
   "id": "84862c48",
   "metadata": {
    "scrolled": true
   },
   "outputs": [
    {
     "data": {
      "text/html": [
       "<style>\n",
       ".list-inline {list-style: none; margin:0; padding: 0}\n",
       ".list-inline>li {display: inline-block}\n",
       ".list-inline>li:not(:last-child)::after {content: \"\\00b7\"; padding: 0 .5ex}\n",
       "</style>\n",
       "<ol class=list-inline><li>25</li><li>35</li><li>54</li><li>87</li><li>95</li><li>114</li><li>126</li><li>156</li><li>174</li><li>200</li></ol>\n"
      ],
      "text/latex": [
       "\\begin{enumerate*}\n",
       "\\item 25\n",
       "\\item 35\n",
       "\\item 54\n",
       "\\item 87\n",
       "\\item 95\n",
       "\\item 114\n",
       "\\item 126\n",
       "\\item 156\n",
       "\\item 174\n",
       "\\item 200\n",
       "\\end{enumerate*}\n"
      ],
      "text/markdown": [
       "1. 25\n",
       "2. 35\n",
       "3. 54\n",
       "4. 87\n",
       "5. 95\n",
       "6. 114\n",
       "7. 126\n",
       "8. 156\n",
       "9. 174\n",
       "10. 200\n",
       "\n",
       "\n"
      ],
      "text/plain": [
       " [1]  25  35  54  87  95 114 126 156 174 200"
      ]
     },
     "metadata": {},
     "output_type": "display_data"
    },
    {
     "data": {
      "text/plain": [
       "Confusion Matrix and Statistics\n",
       "\n",
       "          Reference\n",
       "Prediction  N  Y\n",
       "         N 33 20\n",
       "         Y  8 13\n",
       "                                          \n",
       "               Accuracy : 0.6216          \n",
       "                 95% CI : (0.5013, 0.7319)\n",
       "    No Information Rate : 0.5541          \n",
       "    P-Value [Acc > NIR] : 0.14617         \n",
       "                                          \n",
       "                  Kappa : 0.2061          \n",
       "                                          \n",
       " Mcnemar's Test P-Value : 0.03764         \n",
       "                                          \n",
       "            Sensitivity : 0.3939          \n",
       "            Specificity : 0.8049          \n",
       "         Pos Pred Value : 0.6190          \n",
       "         Neg Pred Value : 0.6226          \n",
       "             Prevalence : 0.4459          \n",
       "         Detection Rate : 0.1757          \n",
       "   Detection Prevalence : 0.2838          \n",
       "      Balanced Accuracy : 0.5994          \n",
       "                                          \n",
       "       'Positive' Class : Y               \n",
       "                                          "
      ]
     },
     "metadata": {},
     "output_type": "display_data"
    }
   ],
   "source": [
    "cforest_ranger <- readRDS(\"/home/jp/ICP_Responders/ML/GideHugoRiaz_AntiPD1/Pre-processingFeatureSelection/Model testing/SavedModels/cforest_ranger.rds\")\n",
    "feature.ranger <- readRDS(\"/home/jp/ICP_Responders/ML/GideHugoRiaz_AntiPD1/Pre-processingFeatureSelection/Model testing/SavedModels/feature.ranger.rds\")\n",
    "\n",
    "res <- list()\n",
    "tmp <- feature.ranger[, -which(colnames(feature.ranger) %in% \"Response\")]\n",
    "\n",
    "for (i in 1:ncol(tmp)){\n",
    "    gene_name <- colnames(tmp)[i]\n",
    "    check_gene <- length(which(colnames(expr_mat) %in% gene_name))\n",
    "    if(check_gene == 1){\n",
    "        res[[i]] <- expr_mat[,which(colnames(expr_mat) %in% gene_name)]\n",
    "    }else{\n",
    "        res[[i]] <- rep(0.001, nrow(expr_mat))\n",
    "    }\n",
    "    names(res)[i] <- gene_name \n",
    "}\n",
    "\n",
    "cforest_inp_ranger <- do.call(cbind, res)\n",
    "\n",
    "# which columns have missing genes\n",
    "which(colMeans(cforest_inp_ranger) %in% 0.001)\n",
    "\n",
    "# # Replace 0 with 0.001\n",
    "# cforest_inp_ranger[cforest_inp_ranger == 0] <- 0.001\n",
    "\n",
    "# # convert values to log\n",
    "# cforest_inp_ranger <- log(cforest_inp_ranger, 2)\n",
    "\n",
    "cforest_predictions_ranger <- predict(cforest_ranger, cforest_inp_ranger)\n",
    "confusionMatrix(data = cforest_predictions_ranger, reference = expr_res$Response, positive = \"Y\")"
   ]
  },
  {
   "cell_type": "markdown",
   "id": "584693c3",
   "metadata": {},
   "source": [
    "### Mutual Information"
   ]
  },
  {
   "cell_type": "code",
   "execution_count": 22,
   "id": "a530886c",
   "metadata": {
    "scrolled": true
   },
   "outputs": [
    {
     "data": {
      "text/html": [
       "<style>\n",
       ".list-inline {list-style: none; margin:0; padding: 0}\n",
       ".list-inline>li {display: inline-block}\n",
       ".list-inline>li:not(:last-child)::after {content: \"\\00b7\"; padding: 0 .5ex}\n",
       "</style>\n",
       "<ol class=list-inline><li>1</li><li>25</li><li>36</li><li>84</li><li>114</li><li>144</li><li>154</li><li>185</li></ol>\n"
      ],
      "text/latex": [
       "\\begin{enumerate*}\n",
       "\\item 1\n",
       "\\item 25\n",
       "\\item 36\n",
       "\\item 84\n",
       "\\item 114\n",
       "\\item 144\n",
       "\\item 154\n",
       "\\item 185\n",
       "\\end{enumerate*}\n"
      ],
      "text/markdown": [
       "1. 1\n",
       "2. 25\n",
       "3. 36\n",
       "4. 84\n",
       "5. 114\n",
       "6. 144\n",
       "7. 154\n",
       "8. 185\n",
       "\n",
       "\n"
      ],
      "text/plain": [
       "[1]   1  25  36  84 114 144 154 185"
      ]
     },
     "metadata": {},
     "output_type": "display_data"
    },
    {
     "data": {
      "text/plain": [
       "Confusion Matrix and Statistics\n",
       "\n",
       "          Reference\n",
       "Prediction  N  Y\n",
       "         N 37 26\n",
       "         Y  4  7\n",
       "                                          \n",
       "               Accuracy : 0.5946          \n",
       "                 95% CI : (0.4741, 0.7073)\n",
       "    No Information Rate : 0.5541          \n",
       "    P-Value [Acc > NIR] : 0.280480        \n",
       "                                          \n",
       "                  Kappa : 0.1225          \n",
       "                                          \n",
       " Mcnemar's Test P-Value : 0.000126        \n",
       "                                          \n",
       "            Sensitivity : 0.21212         \n",
       "            Specificity : 0.90244         \n",
       "         Pos Pred Value : 0.63636         \n",
       "         Neg Pred Value : 0.58730         \n",
       "             Prevalence : 0.44595         \n",
       "         Detection Rate : 0.09459         \n",
       "   Detection Prevalence : 0.14865         \n",
       "      Balanced Accuracy : 0.55728         \n",
       "                                          \n",
       "       'Positive' Class : Y               \n",
       "                                          "
      ]
     },
     "metadata": {},
     "output_type": "display_data"
    }
   ],
   "source": [
    "cforest_jmim <- readRDS(\"/home/jp/ICP_Responders/ML/GideHugoRiaz_AntiPD1/Pre-processingFeatureSelection/Model testing/SavedModels/cforest_jmim.rds\")\n",
    "feature.jmim <- readRDS(\"/home/jp/ICP_Responders/ML/GideHugoRiaz_AntiPD1/Pre-processingFeatureSelection/Model testing/SavedModels/feature.jmim.rds\")\n",
    "\n",
    "res <- list()\n",
    "tmp <- feature.jmim[, -which(colnames(feature.jmim) %in% \"Response\")]\n",
    "\n",
    "for (i in 1:ncol(tmp)){\n",
    "    gene_name <- colnames(tmp)[i]\n",
    "    check_gene <- length(which(colnames(expr_mat) %in% gene_name))\n",
    "    if(check_gene == 1){\n",
    "        res[[i]] <- expr_mat[,which(colnames(expr_mat) %in% gene_name)]\n",
    "    }else{\n",
    "        res[[i]] <- rep(0.001, nrow(expr_mat))\n",
    "    }\n",
    "    names(res)[i] <- gene_name \n",
    "}\n",
    "\n",
    "cforest_inp_jmim <- do.call(cbind, res)\n",
    "\n",
    "# which columns have missing genes\n",
    "which(colMeans(cforest_inp_jmim) %in% 0.001)\n",
    "\n",
    "# # Replace 0 with 0.001\n",
    "# cforest_inp_jmim[cforest_inp_jmim == 0] <- 0.001\n",
    "\n",
    "# # convert values to log\n",
    "# cforest_inp_jmim <- log(cforest_inp_jmim, 2)\n",
    "\n",
    "cforest_predictions_jmim <- predict(cforest_jmim, cforest_inp_jmim)\n",
    "confusionMatrix(data = cforest_predictions_jmim, reference = expr_res$Response, positive = \"Y\")"
   ]
  },
  {
   "cell_type": "markdown",
   "id": "3f0166d8",
   "metadata": {},
   "source": [
    "### Literature Survey"
   ]
  },
  {
   "cell_type": "code",
   "execution_count": 23,
   "id": "b346494c",
   "metadata": {
    "scrolled": true
   },
   "outputs": [
    {
     "data": {
      "text/html": [],
      "text/latex": [],
      "text/markdown": [],
      "text/plain": [
       "integer(0)"
      ]
     },
     "metadata": {},
     "output_type": "display_data"
    },
    {
     "data": {
      "text/plain": [
       "Confusion Matrix and Statistics\n",
       "\n",
       "          Reference\n",
       "Prediction  N  Y\n",
       "         N 30 24\n",
       "         Y 11  9\n",
       "                                          \n",
       "               Accuracy : 0.527           \n",
       "                 95% CI : (0.4075, 0.6443)\n",
       "    No Information Rate : 0.5541          \n",
       "    P-Value [Acc > NIR] : 0.72140         \n",
       "                                          \n",
       "                  Kappa : 0.0046          \n",
       "                                          \n",
       " Mcnemar's Test P-Value : 0.04252         \n",
       "                                          \n",
       "            Sensitivity : 0.2727          \n",
       "            Specificity : 0.7317          \n",
       "         Pos Pred Value : 0.4500          \n",
       "         Neg Pred Value : 0.5556          \n",
       "             Prevalence : 0.4459          \n",
       "         Detection Rate : 0.1216          \n",
       "   Detection Prevalence : 0.2703          \n",
       "      Balanced Accuracy : 0.5022          \n",
       "                                          \n",
       "       'Positive' Class : Y               \n",
       "                                          "
      ]
     },
     "metadata": {},
     "output_type": "display_data"
    }
   ],
   "source": [
    "cforest_litSur <- readRDS(\"/home/jp/ICP_Responders/ML/GideHugoRiaz_AntiPD1/Pre-processingFeatureSelection/Model testing/SavedModels/cforest_litSur.rds\")\n",
    "feature.litSur <- readRDS(\"/home/jp/ICP_Responders/ML/GideHugoRiaz_AntiPD1/Pre-processingFeatureSelection/Model testing/SavedModels/feature.litSur.rds\")\n",
    "\n",
    "res <- list()\n",
    "tmp <- feature.litSur[, -which(colnames(feature.litSur) %in% \"Response\")]\n",
    "\n",
    "for (i in 1:ncol(tmp)){\n",
    "    gene_name <- colnames(tmp)[i]\n",
    "    check_gene <- length(which(colnames(expr_mat) %in% gene_name))\n",
    "    if(check_gene == 1){\n",
    "        res[[i]] <- expr_mat[,which(colnames(expr_mat) %in% gene_name)]\n",
    "    }else{\n",
    "        res[[i]] <- rep(0.001, nrow(expr_mat))\n",
    "    }\n",
    "    names(res)[i] <- gene_name \n",
    "}\n",
    "\n",
    "cforest_inp_litSur <- do.call(cbind, res)\n",
    "\n",
    "# which columns have missing genes\n",
    "which(colMeans(cforest_inp_litSur) %in% 0.001)\n",
    "\n",
    "# # Replace 0 with 0.001\n",
    "# cforest_inp_litSur[cforest_inp_litSur == 0] <- 0.001\n",
    "\n",
    "# # convert values to log\n",
    "# cforest_inp_litSur <- log(cforest_inp_litSur, 2)\n",
    "\n",
    "cforest_predictions_litSur <- predict(cforest_litSur, cforest_inp_litSur)\n",
    "confusionMatrix(data = cforest_predictions_litSur, reference = expr_res$Response, positive = \"Y\")"
   ]
  },
  {
   "cell_type": "markdown",
   "id": "63d3b5b2",
   "metadata": {},
   "source": [
    "### Prat et al."
   ]
  },
  {
   "cell_type": "code",
   "execution_count": 43,
   "id": "591c7747",
   "metadata": {},
   "outputs": [
    {
     "data": {
      "text/html": [
       "<style>\n",
       ".list-inline {list-style: none; margin:0; padding: 0}\n",
       ".list-inline>li {display: inline-block}\n",
       ".list-inline>li:not(:last-child)::after {content: \"\\00b7\"; padding: 0 .5ex}\n",
       "</style>\n",
       "<ol class=list-inline><li>50</li><li>55</li><li>58</li><li>59</li><li>70</li><li>104</li><li>179</li><li>202</li><li>203</li><li>266</li><li>306</li><li>309</li><li>311</li><li>316</li><li>330</li><li>372</li><li>425</li><li>445</li><li>447</li><li>449</li></ol>\n"
      ],
      "text/latex": [
       "\\begin{enumerate*}\n",
       "\\item 50\n",
       "\\item 55\n",
       "\\item 58\n",
       "\\item 59\n",
       "\\item 70\n",
       "\\item 104\n",
       "\\item 179\n",
       "\\item 202\n",
       "\\item 203\n",
       "\\item 266\n",
       "\\item 306\n",
       "\\item 309\n",
       "\\item 311\n",
       "\\item 316\n",
       "\\item 330\n",
       "\\item 372\n",
       "\\item 425\n",
       "\\item 445\n",
       "\\item 447\n",
       "\\item 449\n",
       "\\end{enumerate*}\n"
      ],
      "text/markdown": [
       "1. 50\n",
       "2. 55\n",
       "3. 58\n",
       "4. 59\n",
       "5. 70\n",
       "6. 104\n",
       "7. 179\n",
       "8. 202\n",
       "9. 203\n",
       "10. 266\n",
       "11. 306\n",
       "12. 309\n",
       "13. 311\n",
       "14. 316\n",
       "15. 330\n",
       "16. 372\n",
       "17. 425\n",
       "18. 445\n",
       "19. 447\n",
       "20. 449\n",
       "\n",
       "\n"
      ],
      "text/plain": [
       " [1]  50  55  58  59  70 104 179 202 203 266 306 309 311 316 330 372 425 445 447\n",
       "[20] 449"
      ]
     },
     "metadata": {},
     "output_type": "display_data"
    },
    {
     "data": {
      "text/plain": [
       "Confusion Matrix and Statistics\n",
       "\n",
       "          Reference\n",
       "Prediction  N  Y\n",
       "         N  3  1\n",
       "         Y 38 32\n",
       "                                          \n",
       "               Accuracy : 0.473           \n",
       "                 95% CI : (0.3557, 0.5925)\n",
       "    No Information Rate : 0.5541          \n",
       "    P-Value [Acc > NIR] : 0.9354          \n",
       "                                          \n",
       "                  Kappa : 0.0386          \n",
       "                                          \n",
       " Mcnemar's Test P-Value : 8.185e-09       \n",
       "                                          \n",
       "            Sensitivity : 0.96970         \n",
       "            Specificity : 0.07317         \n",
       "         Pos Pred Value : 0.45714         \n",
       "         Neg Pred Value : 0.75000         \n",
       "             Prevalence : 0.44595         \n",
       "         Detection Rate : 0.43243         \n",
       "   Detection Prevalence : 0.94595         \n",
       "      Balanced Accuracy : 0.52143         \n",
       "                                          \n",
       "       'Positive' Class : Y               \n",
       "                                          "
      ]
     },
     "metadata": {},
     "output_type": "display_data"
    }
   ],
   "source": [
    "cforest_prat <- readRDS(\"/home/jp/ICP_Responders/ML/GideHugoRiaz_AntiPD1/Pre-processingFeatureSelection/Model testing/SavedModels/cforest_prat.rds\")\n",
    "feature.prat <- readRDS(\"/home/jp/ICP_Responders/ML/GideHugoRiaz_AntiPD1/Pre-processingFeatureSelection/Model testing/SavedModels/feature.prat.rds\")\n",
    "\n",
    "res <- list()\n",
    "tmp <- feature.prat[, -which(colnames(feature.prat) %in% \"Response\")]\n",
    "\n",
    "for (i in 1:ncol(tmp)){\n",
    "    gene_name <- colnames(tmp)[i]\n",
    "    check_gene <- length(which(colnames(expr_mat) %in% gene_name))\n",
    "    if(check_gene == 1){\n",
    "        res[[i]] <- expr_mat[,which(colnames(expr_mat) %in% gene_name)]\n",
    "    }else{\n",
    "        res[[i]] <- rep(0.001, nrow(expr_mat))\n",
    "    }\n",
    "    names(res)[i] <- gene_name \n",
    "}\n",
    "\n",
    "cforest_inp_prat <- do.call(cbind, res)\n",
    "\n",
    "# which columns have missing genes\n",
    "which(colMeans(cforest_inp_prat) %in% 0.001)\n",
    "\n",
    "# # Replace 0 with 0.001\n",
    "# cforest_inp_prat[cforest_inp_prat == 0] <- 0.001\n",
    "\n",
    "# # convert values to log\n",
    "# cforest_inp_prat <- log(cforest_inp_prat, 2)\n",
    "\n",
    "cforest_predictions_prat <- predict(cforest_prat, cforest_inp_prat)\n",
    "confusionMatrix(data = cforest_predictions_prat, reference = expr_res$Response, positive = \"Y\")"
   ]
  },
  {
   "cell_type": "markdown",
   "id": "26b97a83",
   "metadata": {},
   "source": [
    "# Naive Bayes"
   ]
  },
  {
   "cell_type": "markdown",
   "id": "19e505ed",
   "metadata": {},
   "source": [
    "## MergedRank200"
   ]
  },
  {
   "cell_type": "code",
   "execution_count": 25,
   "id": "d2a1388c",
   "metadata": {},
   "outputs": [
    {
     "data": {
      "text/html": [
       "<style>\n",
       ".list-inline {list-style: none; margin:0; padding: 0}\n",
       ".list-inline>li {display: inline-block}\n",
       ".list-inline>li:not(:last-child)::after {content: \"\\00b7\"; padding: 0 .5ex}\n",
       "</style>\n",
       "<ol class=list-inline><li>2</li><li>10</li><li>12</li><li>35</li><li>45</li><li>48</li><li>130</li></ol>\n"
      ],
      "text/latex": [
       "\\begin{enumerate*}\n",
       "\\item 2\n",
       "\\item 10\n",
       "\\item 12\n",
       "\\item 35\n",
       "\\item 45\n",
       "\\item 48\n",
       "\\item 130\n",
       "\\end{enumerate*}\n"
      ],
      "text/markdown": [
       "1. 2\n",
       "2. 10\n",
       "3. 12\n",
       "4. 35\n",
       "5. 45\n",
       "6. 48\n",
       "7. 130\n",
       "\n",
       "\n"
      ],
      "text/plain": [
       "[1]   2  10  12  35  45  48 130"
      ]
     },
     "metadata": {},
     "output_type": "display_data"
    },
    {
     "data": {
      "text/plain": [
       "Confusion Matrix and Statistics\n",
       "\n",
       "          Reference\n",
       "Prediction  N  Y\n",
       "         N 27 21\n",
       "         Y 14 12\n",
       "                                          \n",
       "               Accuracy : 0.527           \n",
       "                 95% CI : (0.4075, 0.6443)\n",
       "    No Information Rate : 0.5541          \n",
       "    P-Value [Acc > NIR] : 0.7214          \n",
       "                                          \n",
       "                  Kappa : 0.0226          \n",
       "                                          \n",
       " Mcnemar's Test P-Value : 0.3105          \n",
       "                                          \n",
       "            Sensitivity : 0.3636          \n",
       "            Specificity : 0.6585          \n",
       "         Pos Pred Value : 0.4615          \n",
       "         Neg Pred Value : 0.5625          \n",
       "             Prevalence : 0.4459          \n",
       "         Detection Rate : 0.1622          \n",
       "   Detection Prevalence : 0.3514          \n",
       "      Balanced Accuracy : 0.5111          \n",
       "                                          \n",
       "       'Positive' Class : Y               \n",
       "                                          "
      ]
     },
     "metadata": {},
     "output_type": "display_data"
    }
   ],
   "source": [
    "nb_mergedRank <- readRDS(\"/home/jp/ICP_Responders/ML/GideHugoRiaz_AntiPD1/Pre-processingFeatureSelection/Model testing/SavedModels/nb_mergedRank.rds\")\n",
    "feature.mergedRank <- readRDS(\"/home/jp/ICP_Responders/ML/GideHugoRiaz_AntiPD1/Pre-processingFeatureSelection/Model testing/SavedModels/feature.mergedRank.rds\")\n",
    "\n",
    "res <- list()\n",
    "tmp <- feature.mergedRank[, -which(colnames(feature.mergedRank) %in% \"Response\")]\n",
    "\n",
    "for (i in 1:ncol(tmp)){\n",
    "    gene_name <- colnames(tmp)[i]\n",
    "    check_gene <- length(which(colnames(expr_mat) %in% gene_name))\n",
    "    if(check_gene == 1){\n",
    "        res[[i]] <- expr_mat[,which(colnames(expr_mat) %in% gene_name)]\n",
    "    }else{\n",
    "        res[[i]] <- rep(0.001, nrow(expr_mat))\n",
    "    }\n",
    "    names(res)[i] <- gene_name \n",
    "}\n",
    "\n",
    "nb_inp_mergedRank <- do.call(cbind, res)\n",
    "\n",
    "# which columns have missing genes\n",
    "which(colMeans(nb_inp_mergedRank) %in% 0.001)\n",
    "\n",
    "# # Replace 0 with 0.001\n",
    "# nb_inp_mergedRank[nb_inp_mergedRank == 0] <- 0.001\n",
    "\n",
    "# # convert values to log\n",
    "# nb_inp_mergedRank <- log(nb_inp_mergedRank, 2)\n",
    "\n",
    "nb_predictions_mergedRank <- predict(nb_mergedRank, nb_inp_mergedRank)\n",
    "confusionMatrix(data = nb_predictions_mergedRank, reference = expr_res$Response, positive = \"Y\")"
   ]
  },
  {
   "cell_type": "markdown",
   "id": "afb4cbe7",
   "metadata": {},
   "source": [
    "## Variance"
   ]
  },
  {
   "cell_type": "code",
   "execution_count": 26,
   "id": "ef90e1ca",
   "metadata": {},
   "outputs": [
    {
     "data": {
      "text/html": [
       "<style>\n",
       ".list-inline {list-style: none; margin:0; padding: 0}\n",
       ".list-inline>li {display: inline-block}\n",
       ".list-inline>li:not(:last-child)::after {content: \"\\00b7\"; padding: 0 .5ex}\n",
       "</style>\n",
       "<ol class=list-inline><li>23</li><li>26</li><li>33</li><li>78</li><li>103</li><li>144</li><li>150</li><li>162</li><li>163</li><li>164</li><li>165</li><li>166</li><li>167</li><li>168</li><li>169</li><li>170</li><li>171</li><li>172</li><li>173</li><li>179</li><li>195</li></ol>\n"
      ],
      "text/latex": [
       "\\begin{enumerate*}\n",
       "\\item 23\n",
       "\\item 26\n",
       "\\item 33\n",
       "\\item 78\n",
       "\\item 103\n",
       "\\item 144\n",
       "\\item 150\n",
       "\\item 162\n",
       "\\item 163\n",
       "\\item 164\n",
       "\\item 165\n",
       "\\item 166\n",
       "\\item 167\n",
       "\\item 168\n",
       "\\item 169\n",
       "\\item 170\n",
       "\\item 171\n",
       "\\item 172\n",
       "\\item 173\n",
       "\\item 179\n",
       "\\item 195\n",
       "\\end{enumerate*}\n"
      ],
      "text/markdown": [
       "1. 23\n",
       "2. 26\n",
       "3. 33\n",
       "4. 78\n",
       "5. 103\n",
       "6. 144\n",
       "7. 150\n",
       "8. 162\n",
       "9. 163\n",
       "10. 164\n",
       "11. 165\n",
       "12. 166\n",
       "13. 167\n",
       "14. 168\n",
       "15. 169\n",
       "16. 170\n",
       "17. 171\n",
       "18. 172\n",
       "19. 173\n",
       "20. 179\n",
       "21. 195\n",
       "\n",
       "\n"
      ],
      "text/plain": [
       " [1]  23  26  33  78 103 144 150 162 163 164 165 166 167 168 169 170 171 172 173\n",
       "[20] 179 195"
      ]
     },
     "metadata": {},
     "output_type": "display_data"
    },
    {
     "data": {
      "text/plain": [
       "Confusion Matrix and Statistics\n",
       "\n",
       "          Reference\n",
       "Prediction  N  Y\n",
       "         N  6  7\n",
       "         Y 35 26\n",
       "                                          \n",
       "               Accuracy : 0.4324          \n",
       "                 95% CI : (0.3177, 0.5528)\n",
       "    No Information Rate : 0.5541          \n",
       "    P-Value [Acc > NIR] : 0.9866          \n",
       "                                          \n",
       "                  Kappa : -0.0608         \n",
       "                                          \n",
       " Mcnemar's Test P-Value : 3.097e-05       \n",
       "                                          \n",
       "            Sensitivity : 0.7879          \n",
       "            Specificity : 0.1463          \n",
       "         Pos Pred Value : 0.4262          \n",
       "         Neg Pred Value : 0.4615          \n",
       "             Prevalence : 0.4459          \n",
       "         Detection Rate : 0.3514          \n",
       "   Detection Prevalence : 0.8243          \n",
       "      Balanced Accuracy : 0.4671          \n",
       "                                          \n",
       "       'Positive' Class : Y               \n",
       "                                          "
      ]
     },
     "metadata": {},
     "output_type": "display_data"
    }
   ],
   "source": [
    "nb_top200var <- readRDS(\"/home/jp/ICP_Responders/ML/GideHugoRiaz_AntiPD1/Pre-processingFeatureSelection/Model testing/SavedModels/nb_top200var.rds\")\n",
    "feature.top200var <- readRDS(\"/home/jp/ICP_Responders/ML/GideHugoRiaz_AntiPD1/Pre-processingFeatureSelection/Model testing/SavedModels/feature.top200var.rds\")\n",
    "\n",
    "res <- list()\n",
    "tmp <- feature.top200var[, -which(colnames(feature.top200var) %in% \"Response\")]\n",
    "\n",
    "for (i in 1:ncol(tmp)){\n",
    "    gene_name <- colnames(tmp)[i]\n",
    "    check_gene <- length(which(colnames(expr_mat) %in% gene_name))\n",
    "    if(check_gene == 1){\n",
    "        res[[i]] <- expr_mat[,which(colnames(expr_mat) %in% gene_name)]\n",
    "    }else{\n",
    "        res[[i]] <- rep(0.001, nrow(expr_mat))\n",
    "    }\n",
    "    names(res)[i] <- gene_name \n",
    "}\n",
    "\n",
    "nb_inp_top200var <- do.call(cbind, res)\n",
    "\n",
    "# which columns have missing genes\n",
    "which(colMeans(nb_inp_top200var) %in% 0.001)\n",
    "\n",
    "# # Replace 0 with 0.001\n",
    "# nb_inp_top200var[nb_inp_top200var == 0] <- 0.001\n",
    "\n",
    "# # convert values to log\n",
    "# nb_inp_top200var <- log(nb_inp_top200var, 2)\n",
    "\n",
    "nb_predictions_top200var <- predict(nb_top200var, nb_inp_top200var)\n",
    "confusionMatrix(data = nb_predictions_top200var, reference = expr_res$Response, positive = \"Y\")"
   ]
  },
  {
   "cell_type": "markdown",
   "id": "b2672b90",
   "metadata": {},
   "source": [
    "## FCBF"
   ]
  },
  {
   "cell_type": "code",
   "execution_count": 27,
   "id": "ab7d7d61",
   "metadata": {
    "scrolled": true
   },
   "outputs": [
    {
     "data": {
      "text/html": [
       "<style>\n",
       ".list-inline {list-style: none; margin:0; padding: 0}\n",
       ".list-inline>li {display: inline-block}\n",
       ".list-inline>li:not(:last-child)::after {content: \"\\00b7\"; padding: 0 .5ex}\n",
       "</style>\n",
       "<ol class=list-inline><li>18</li><li>19</li><li>29</li></ol>\n"
      ],
      "text/latex": [
       "\\begin{enumerate*}\n",
       "\\item 18\n",
       "\\item 19\n",
       "\\item 29\n",
       "\\end{enumerate*}\n"
      ],
      "text/markdown": [
       "1. 18\n",
       "2. 19\n",
       "3. 29\n",
       "\n",
       "\n"
      ],
      "text/plain": [
       "[1] 18 19 29"
      ]
     },
     "metadata": {},
     "output_type": "display_data"
    },
    {
     "data": {
      "text/plain": [
       "Confusion Matrix and Statistics\n",
       "\n",
       "          Reference\n",
       "Prediction  N  Y\n",
       "         N  2  2\n",
       "         Y 39 31\n",
       "                                          \n",
       "               Accuracy : 0.4459          \n",
       "                 95% CI : (0.3302, 0.5661)\n",
       "    No Information Rate : 0.5541          \n",
       "    P-Value [Acc > NIR] : 0.9763          \n",
       "                                          \n",
       "                  Kappa : -0.0107         \n",
       "                                          \n",
       " Mcnemar's Test P-Value : 1.885e-08       \n",
       "                                          \n",
       "            Sensitivity : 0.93939         \n",
       "            Specificity : 0.04878         \n",
       "         Pos Pred Value : 0.44286         \n",
       "         Neg Pred Value : 0.50000         \n",
       "             Prevalence : 0.44595         \n",
       "         Detection Rate : 0.41892         \n",
       "   Detection Prevalence : 0.94595         \n",
       "      Balanced Accuracy : 0.49409         \n",
       "                                          \n",
       "       'Positive' Class : Y               \n",
       "                                          "
      ]
     },
     "metadata": {},
     "output_type": "display_data"
    }
   ],
   "source": [
    "nb_fcbf <- readRDS(\"/home/jp/ICP_Responders/ML/GideHugoRiaz_AntiPD1/Pre-processingFeatureSelection/Model testing/SavedModels/nb_fcbf.rds\")\n",
    "feature.fcbf <- readRDS(\"/home/jp/ICP_Responders/ML/GideHugoRiaz_AntiPD1/Pre-processingFeatureSelection/Model testing/SavedModels/feature.fcbf.rds\")\n",
    "\n",
    "res <- list()\n",
    "tmp <- feature.fcbf[, -which(colnames(feature.fcbf) %in% \"Response\")]\n",
    "\n",
    "for (i in 1:ncol(tmp)){\n",
    "    gene_name <- colnames(tmp)[i]\n",
    "    check_gene <- length(which(colnames(expr_mat) %in% gene_name))\n",
    "    if(check_gene == 1){\n",
    "        res[[i]] <- expr_mat[,which(colnames(expr_mat) %in% gene_name)]\n",
    "    }else{\n",
    "        res[[i]] <- rep(0.001, nrow(expr_mat))\n",
    "    }\n",
    "    names(res)[i] <- gene_name \n",
    "}\n",
    "\n",
    "nb_inp_fcbf <- do.call(cbind, res)\n",
    "\n",
    "# which columns have missing genes\n",
    "which(colMeans(nb_inp_fcbf) %in% 0.001)\n",
    "\n",
    "# # Replace 0 with 0.001\n",
    "# nb_inp_fcbf[nb_inp_fcbf == 0] <- 0.001\n",
    "\n",
    "# # convert values to log\n",
    "# nb_inp_fcbf <- log(nb_inp_fcbf, 2)\n",
    "\n",
    "nb_predictions_fcbf <- predict(nb_fcbf, nb_inp_fcbf)\n",
    "confusionMatrix(data = nb_predictions_fcbf, reference = expr_res$Response, positive = \"Y\")"
   ]
  },
  {
   "cell_type": "markdown",
   "id": "1f80d993",
   "metadata": {},
   "source": [
    "## Limma"
   ]
  },
  {
   "cell_type": "code",
   "execution_count": 28,
   "id": "004f8449",
   "metadata": {
    "scrolled": true
   },
   "outputs": [
    {
     "data": {
      "text/html": [
       "<style>\n",
       ".list-inline {list-style: none; margin:0; padding: 0}\n",
       ".list-inline>li {display: inline-block}\n",
       ".list-inline>li:not(:last-child)::after {content: \"\\00b7\"; padding: 0 .5ex}\n",
       "</style>\n",
       "<ol class=list-inline><li>17</li><li>27</li><li>45</li><li>50</li></ol>\n"
      ],
      "text/latex": [
       "\\begin{enumerate*}\n",
       "\\item 17\n",
       "\\item 27\n",
       "\\item 45\n",
       "\\item 50\n",
       "\\end{enumerate*}\n"
      ],
      "text/markdown": [
       "1. 17\n",
       "2. 27\n",
       "3. 45\n",
       "4. 50\n",
       "\n",
       "\n"
      ],
      "text/plain": [
       "[1] 17 27 45 50"
      ]
     },
     "metadata": {},
     "output_type": "display_data"
    },
    {
     "data": {
      "text/plain": [
       "Confusion Matrix and Statistics\n",
       "\n",
       "          Reference\n",
       "Prediction  N  Y\n",
       "         N 32 23\n",
       "         Y  9 10\n",
       "                                          \n",
       "               Accuracy : 0.5676          \n",
       "                 95% CI : (0.4472, 0.6823)\n",
       "    No Information Rate : 0.5541          \n",
       "    P-Value [Acc > NIR] : 0.45517         \n",
       "                                          \n",
       "                  Kappa : 0.0871          \n",
       "                                          \n",
       " Mcnemar's Test P-Value : 0.02156         \n",
       "                                          \n",
       "            Sensitivity : 0.3030          \n",
       "            Specificity : 0.7805          \n",
       "         Pos Pred Value : 0.5263          \n",
       "         Neg Pred Value : 0.5818          \n",
       "             Prevalence : 0.4459          \n",
       "         Detection Rate : 0.1351          \n",
       "   Detection Prevalence : 0.2568          \n",
       "      Balanced Accuracy : 0.5418          \n",
       "                                          \n",
       "       'Positive' Class : Y               \n",
       "                                          "
      ]
     },
     "metadata": {},
     "output_type": "display_data"
    }
   ],
   "source": [
    "nb_limma <- readRDS(\"/home/jp/ICP_Responders/ML/GideHugoRiaz_AntiPD1/Pre-processingFeatureSelection/Model testing/SavedModels/nb_limma.rds\")\n",
    "feature.limma <- readRDS(\"/home/jp/ICP_Responders/ML/GideHugoRiaz_AntiPD1/Pre-processingFeatureSelection/Model testing/SavedModels/feature.limma.rds\")\n",
    "\n",
    "res <- list()\n",
    "tmp <- feature.limma[, -which(colnames(feature.limma) %in% \"Response\")]\n",
    "\n",
    "for (i in 1:ncol(tmp)){\n",
    "    gene_name <- colnames(tmp)[i]\n",
    "    check_gene <- length(which(colnames(expr_mat) %in% gene_name))\n",
    "    if(check_gene == 1){\n",
    "        res[[i]] <- expr_mat[,which(colnames(expr_mat) %in% gene_name)]\n",
    "    }else{\n",
    "        res[[i]] <- rep(0.001, nrow(expr_mat))\n",
    "    }\n",
    "    names(res)[i] <- gene_name \n",
    "}\n",
    "\n",
    "nb_inp_limma <- do.call(cbind, res)\n",
    "\n",
    "# which columns have missing genes\n",
    "which(colMeans(nb_inp_limma) %in% 0.001)\n",
    "\n",
    "# # Replace 0 with 0.001\n",
    "# nb_inp_limma[nb_inp_limma == 0] <- 0.001\n",
    "\n",
    "# # convert values to log\n",
    "# nb_inp_limma <- log(nb_inp_limma, 2)\n",
    "\n",
    "nb_predictions_limma <- predict(nb_limma, nb_inp_limma)\n",
    "confusionMatrix(data = nb_predictions_limma, reference = expr_res$Response, positive = \"Y\")"
   ]
  },
  {
   "cell_type": "markdown",
   "id": "e8e03b1a",
   "metadata": {},
   "source": [
    "## Random Forest Permutation"
   ]
  },
  {
   "cell_type": "code",
   "execution_count": 29,
   "id": "d594b403",
   "metadata": {
    "scrolled": true
   },
   "outputs": [
    {
     "data": {
      "text/html": [
       "<style>\n",
       ".list-inline {list-style: none; margin:0; padding: 0}\n",
       ".list-inline>li {display: inline-block}\n",
       ".list-inline>li:not(:last-child)::after {content: \"\\00b7\"; padding: 0 .5ex}\n",
       "</style>\n",
       "<ol class=list-inline><li>25</li><li>35</li><li>54</li><li>87</li><li>95</li><li>114</li><li>126</li><li>156</li><li>174</li><li>200</li></ol>\n"
      ],
      "text/latex": [
       "\\begin{enumerate*}\n",
       "\\item 25\n",
       "\\item 35\n",
       "\\item 54\n",
       "\\item 87\n",
       "\\item 95\n",
       "\\item 114\n",
       "\\item 126\n",
       "\\item 156\n",
       "\\item 174\n",
       "\\item 200\n",
       "\\end{enumerate*}\n"
      ],
      "text/markdown": [
       "1. 25\n",
       "2. 35\n",
       "3. 54\n",
       "4. 87\n",
       "5. 95\n",
       "6. 114\n",
       "7. 126\n",
       "8. 156\n",
       "9. 174\n",
       "10. 200\n",
       "\n",
       "\n"
      ],
      "text/plain": [
       " [1]  25  35  54  87  95 114 126 156 174 200"
      ]
     },
     "metadata": {},
     "output_type": "display_data"
    },
    {
     "data": {
      "text/plain": [
       "Confusion Matrix and Statistics\n",
       "\n",
       "          Reference\n",
       "Prediction  N  Y\n",
       "         N  8  5\n",
       "         Y 33 28\n",
       "                                          \n",
       "               Accuracy : 0.4865          \n",
       "                 95% CI : (0.3685, 0.6056)\n",
       "    No Information Rate : 0.5541          \n",
       "    P-Value [Acc > NIR] : 0.9005          \n",
       "                                          \n",
       "                  Kappa : 0.0403          \n",
       "                                          \n",
       " Mcnemar's Test P-Value : 1.187e-05       \n",
       "                                          \n",
       "            Sensitivity : 0.8485          \n",
       "            Specificity : 0.1951          \n",
       "         Pos Pred Value : 0.4590          \n",
       "         Neg Pred Value : 0.6154          \n",
       "             Prevalence : 0.4459          \n",
       "         Detection Rate : 0.3784          \n",
       "   Detection Prevalence : 0.8243          \n",
       "      Balanced Accuracy : 0.5218          \n",
       "                                          \n",
       "       'Positive' Class : Y               \n",
       "                                          "
      ]
     },
     "metadata": {},
     "output_type": "display_data"
    }
   ],
   "source": [
    "nb_ranger <- readRDS(\"/home/jp/ICP_Responders/ML/GideHugoRiaz_AntiPD1/Pre-processingFeatureSelection/Model testing/SavedModels/nb_ranger.rds\")\n",
    "feature.ranger <- readRDS(\"/home/jp/ICP_Responders/ML/GideHugoRiaz_AntiPD1/Pre-processingFeatureSelection/Model testing/SavedModels/feature.ranger.rds\")\n",
    "\n",
    "res <- list()\n",
    "tmp <- feature.ranger[, -which(colnames(feature.ranger) %in% \"Response\")]\n",
    "\n",
    "for (i in 1:ncol(tmp)){\n",
    "    gene_name <- colnames(tmp)[i]\n",
    "    check_gene <- length(which(colnames(expr_mat) %in% gene_name))\n",
    "    if(check_gene == 1){\n",
    "        res[[i]] <- expr_mat[,which(colnames(expr_mat) %in% gene_name)]\n",
    "    }else{\n",
    "        res[[i]] <- rep(0.001, nrow(expr_mat))\n",
    "    }\n",
    "    names(res)[i] <- gene_name \n",
    "}\n",
    "\n",
    "nb_inp_ranger <- do.call(cbind, res)\n",
    "\n",
    "# which columns have missing genes\n",
    "which(colMeans(nb_inp_ranger) %in% 0.001)\n",
    "\n",
    "# # Replace 0 with 0.001\n",
    "# nb_inp_ranger[nb_inp_ranger == 0] <- 0.001\n",
    "\n",
    "# # convert values to log\n",
    "# nb_inp_ranger <- log(nb_inp_ranger, 2)\n",
    "\n",
    "nb_predictions_ranger <- predict(nb_ranger, nb_inp_ranger)\n",
    "confusionMatrix(data = nb_predictions_ranger, reference = expr_res$Response, positive = \"Y\")"
   ]
  },
  {
   "cell_type": "markdown",
   "id": "43aa0011",
   "metadata": {},
   "source": [
    "## Mutual Information"
   ]
  },
  {
   "cell_type": "code",
   "execution_count": 30,
   "id": "c1440091",
   "metadata": {
    "scrolled": true
   },
   "outputs": [
    {
     "data": {
      "text/html": [
       "<style>\n",
       ".list-inline {list-style: none; margin:0; padding: 0}\n",
       ".list-inline>li {display: inline-block}\n",
       ".list-inline>li:not(:last-child)::after {content: \"\\00b7\"; padding: 0 .5ex}\n",
       "</style>\n",
       "<ol class=list-inline><li>1</li><li>25</li><li>36</li><li>84</li><li>114</li><li>144</li><li>154</li><li>185</li></ol>\n"
      ],
      "text/latex": [
       "\\begin{enumerate*}\n",
       "\\item 1\n",
       "\\item 25\n",
       "\\item 36\n",
       "\\item 84\n",
       "\\item 114\n",
       "\\item 144\n",
       "\\item 154\n",
       "\\item 185\n",
       "\\end{enumerate*}\n"
      ],
      "text/markdown": [
       "1. 1\n",
       "2. 25\n",
       "3. 36\n",
       "4. 84\n",
       "5. 114\n",
       "6. 144\n",
       "7. 154\n",
       "8. 185\n",
       "\n",
       "\n"
      ],
      "text/plain": [
       "[1]   1  25  36  84 114 144 154 185"
      ]
     },
     "metadata": {},
     "output_type": "display_data"
    },
    {
     "data": {
      "text/plain": [
       "Confusion Matrix and Statistics\n",
       "\n",
       "          Reference\n",
       "Prediction  N  Y\n",
       "         N  1  0\n",
       "         Y 40 33\n",
       "                                          \n",
       "               Accuracy : 0.4595          \n",
       "                 95% CI : (0.3429, 0.5793)\n",
       "    No Information Rate : 0.5541          \n",
       "    P-Value [Acc > NIR] : 0.9599          \n",
       "                                          \n",
       "                  Kappa : 0.0218          \n",
       "                                          \n",
       " Mcnemar's Test P-Value : 6.984e-10       \n",
       "                                          \n",
       "            Sensitivity : 1.00000         \n",
       "            Specificity : 0.02439         \n",
       "         Pos Pred Value : 0.45205         \n",
       "         Neg Pred Value : 1.00000         \n",
       "             Prevalence : 0.44595         \n",
       "         Detection Rate : 0.44595         \n",
       "   Detection Prevalence : 0.98649         \n",
       "      Balanced Accuracy : 0.51220         \n",
       "                                          \n",
       "       'Positive' Class : Y               \n",
       "                                          "
      ]
     },
     "metadata": {},
     "output_type": "display_data"
    }
   ],
   "source": [
    "nb_jmim <- readRDS(\"/home/jp/ICP_Responders/ML/GideHugoRiaz_AntiPD1/Pre-processingFeatureSelection/Model testing/SavedModels/nb_jmim.rds\")\n",
    "feature.jmim <- readRDS(\"/home/jp/ICP_Responders/ML/GideHugoRiaz_AntiPD1/Pre-processingFeatureSelection/Model testing/SavedModels/feature.jmim.rds\")\n",
    "\n",
    "res <- list()\n",
    "tmp <- feature.jmim[, -which(colnames(feature.jmim) %in% \"Response\")]\n",
    "\n",
    "for (i in 1:ncol(tmp)){\n",
    "    gene_name <- colnames(tmp)[i]\n",
    "    check_gene <- length(which(colnames(expr_mat) %in% gene_name))\n",
    "    if(check_gene == 1){\n",
    "        res[[i]] <- expr_mat[,which(colnames(expr_mat) %in% gene_name)]\n",
    "    }else{\n",
    "        res[[i]] <- rep(0.001, nrow(expr_mat))\n",
    "    }\n",
    "    names(res)[i] <- gene_name \n",
    "}\n",
    "\n",
    "nb_inp_jmim <- do.call(cbind, res)\n",
    "\n",
    "# which columns have missing genes\n",
    "which(colMeans(nb_inp_jmim) %in% 0.001)\n",
    "\n",
    "# # Replace 0 with 0.001\n",
    "# nb_inp_jmim[nb_inp_jmim == 0] <- 0.001\n",
    "\n",
    "# # convert values to log\n",
    "# nb_inp_jmim <- log(nb_inp_jmim, 2)\n",
    "\n",
    "nb_predictions_jmim <- predict(nb_jmim, nb_inp_jmim)\n",
    "confusionMatrix(data = nb_predictions_jmim, reference = expr_res$Response, positive = \"Y\")"
   ]
  },
  {
   "cell_type": "markdown",
   "id": "98b741d5",
   "metadata": {},
   "source": [
    "## Literature Survey"
   ]
  },
  {
   "cell_type": "code",
   "execution_count": 31,
   "id": "5a26cdfb",
   "metadata": {
    "scrolled": true
   },
   "outputs": [
    {
     "data": {
      "text/html": [],
      "text/latex": [],
      "text/markdown": [],
      "text/plain": [
       "integer(0)"
      ]
     },
     "metadata": {},
     "output_type": "display_data"
    },
    {
     "data": {
      "text/plain": [
       "Confusion Matrix and Statistics\n",
       "\n",
       "          Reference\n",
       "Prediction  N  Y\n",
       "         N 21 15\n",
       "         Y 20 18\n",
       "                                          \n",
       "               Accuracy : 0.527           \n",
       "                 95% CI : (0.4075, 0.6443)\n",
       "    No Information Rate : 0.5541          \n",
       "    P-Value [Acc > NIR] : 0.7214          \n",
       "                                          \n",
       "                  Kappa : 0.0568          \n",
       "                                          \n",
       " Mcnemar's Test P-Value : 0.4990          \n",
       "                                          \n",
       "            Sensitivity : 0.5455          \n",
       "            Specificity : 0.5122          \n",
       "         Pos Pred Value : 0.4737          \n",
       "         Neg Pred Value : 0.5833          \n",
       "             Prevalence : 0.4459          \n",
       "         Detection Rate : 0.2432          \n",
       "   Detection Prevalence : 0.5135          \n",
       "      Balanced Accuracy : 0.5288          \n",
       "                                          \n",
       "       'Positive' Class : Y               \n",
       "                                          "
      ]
     },
     "metadata": {},
     "output_type": "display_data"
    }
   ],
   "source": [
    "nb_litSur <- readRDS(\"/home/jp/ICP_Responders/ML/GideHugoRiaz_AntiPD1/Pre-processingFeatureSelection/Model testing/SavedModels/nb_litSur.rds\")\n",
    "feature.litSur <- readRDS(\"/home/jp/ICP_Responders/ML/GideHugoRiaz_AntiPD1/Pre-processingFeatureSelection/Model testing/SavedModels/feature.litSur.rds\")\n",
    "\n",
    "res <- list()\n",
    "tmp <- feature.litSur[, -which(colnames(feature.litSur) %in% \"Response\")]\n",
    "\n",
    "for (i in 1:ncol(tmp)){\n",
    "    gene_name <- colnames(tmp)[i]\n",
    "    check_gene <- length(which(colnames(expr_mat) %in% gene_name))\n",
    "    if(check_gene == 1){\n",
    "        res[[i]] <- expr_mat[,which(colnames(expr_mat) %in% gene_name)]\n",
    "    }else{\n",
    "        res[[i]] <- rep(0.001, nrow(expr_mat))\n",
    "    }\n",
    "    names(res)[i] <- gene_name \n",
    "}\n",
    "\n",
    "nb_inp_litSur <- do.call(cbind, res)\n",
    "\n",
    "# which columns have missing genes\n",
    "which(colMeans(nb_inp_litSur) %in% 0.001)\n",
    "\n",
    "# # Replace 0 with 0.001\n",
    "# nb_inp_litSur[nb_inp_litSur == 0] <- 0.001\n",
    "\n",
    "# # convert values to log\n",
    "# nb_inp_litSur <- log(nb_inp_litSur, 2)\n",
    "\n",
    "nb_predictions_litSur <- predict(nb_litSur, nb_inp_litSur)\n",
    "confusionMatrix(data = nb_predictions_litSur, reference = expr_res$Response, positive = \"Y\")"
   ]
  },
  {
   "cell_type": "markdown",
   "id": "f7b62f80",
   "metadata": {},
   "source": [
    "## Prat et al."
   ]
  },
  {
   "cell_type": "code",
   "execution_count": 32,
   "id": "68b857a3",
   "metadata": {
    "scrolled": true
   },
   "outputs": [
    {
     "data": {
      "text/html": [
       "<style>\n",
       ".list-inline {list-style: none; margin:0; padding: 0}\n",
       ".list-inline>li {display: inline-block}\n",
       ".list-inline>li:not(:last-child)::after {content: \"\\00b7\"; padding: 0 .5ex}\n",
       "</style>\n",
       "<ol class=list-inline><li>50</li><li>55</li><li>58</li><li>59</li><li>70</li><li>104</li><li>179</li><li>202</li><li>203</li><li>266</li><li>306</li><li>309</li><li>311</li><li>316</li><li>330</li><li>372</li><li>425</li><li>445</li><li>447</li><li>449</li></ol>\n"
      ],
      "text/latex": [
       "\\begin{enumerate*}\n",
       "\\item 50\n",
       "\\item 55\n",
       "\\item 58\n",
       "\\item 59\n",
       "\\item 70\n",
       "\\item 104\n",
       "\\item 179\n",
       "\\item 202\n",
       "\\item 203\n",
       "\\item 266\n",
       "\\item 306\n",
       "\\item 309\n",
       "\\item 311\n",
       "\\item 316\n",
       "\\item 330\n",
       "\\item 372\n",
       "\\item 425\n",
       "\\item 445\n",
       "\\item 447\n",
       "\\item 449\n",
       "\\end{enumerate*}\n"
      ],
      "text/markdown": [
       "1. 50\n",
       "2. 55\n",
       "3. 58\n",
       "4. 59\n",
       "5. 70\n",
       "6. 104\n",
       "7. 179\n",
       "8. 202\n",
       "9. 203\n",
       "10. 266\n",
       "11. 306\n",
       "12. 309\n",
       "13. 311\n",
       "14. 316\n",
       "15. 330\n",
       "16. 372\n",
       "17. 425\n",
       "18. 445\n",
       "19. 447\n",
       "20. 449\n",
       "\n",
       "\n"
      ],
      "text/plain": [
       " [1]  50  55  58  59  70 104 179 202 203 266 306 309 311 316 330 372 425 445 447\n",
       "[20] 449"
      ]
     },
     "metadata": {},
     "output_type": "display_data"
    },
    {
     "data": {
      "text/plain": [
       "Confusion Matrix and Statistics\n",
       "\n",
       "          Reference\n",
       "Prediction  N  Y\n",
       "         N  0  0\n",
       "         Y 41 33\n",
       "                                          \n",
       "               Accuracy : 0.4459          \n",
       "                 95% CI : (0.3302, 0.5661)\n",
       "    No Information Rate : 0.5541          \n",
       "    P-Value [Acc > NIR] : 0.9763          \n",
       "                                          \n",
       "                  Kappa : 0               \n",
       "                                          \n",
       " Mcnemar's Test P-Value : 4.185e-10       \n",
       "                                          \n",
       "            Sensitivity : 1.0000          \n",
       "            Specificity : 0.0000          \n",
       "         Pos Pred Value : 0.4459          \n",
       "         Neg Pred Value :    NaN          \n",
       "             Prevalence : 0.4459          \n",
       "         Detection Rate : 0.4459          \n",
       "   Detection Prevalence : 1.0000          \n",
       "      Balanced Accuracy : 0.5000          \n",
       "                                          \n",
       "       'Positive' Class : Y               \n",
       "                                          "
      ]
     },
     "metadata": {},
     "output_type": "display_data"
    }
   ],
   "source": [
    "nb_prat <- readRDS(\"/home/jp/ICP_Responders/ML/GideHugoRiaz_AntiPD1/Pre-processingFeatureSelection/Model testing/SavedModels/nb_prat.rds\")\n",
    "feature.prat <- readRDS(\"/home/jp/ICP_Responders/ML/GideHugoRiaz_AntiPD1/Pre-processingFeatureSelection/Model testing/SavedModels/feature.prat.rds\")\n",
    "\n",
    "res <- list()\n",
    "tmp <- feature.prat[, -which(colnames(feature.prat) %in% \"Response\")]\n",
    "\n",
    "for (i in 1:ncol(tmp)){\n",
    "    gene_name <- colnames(tmp)[i]\n",
    "    check_gene <- length(which(colnames(expr_mat) %in% gene_name))\n",
    "    if(check_gene == 1){\n",
    "        res[[i]] <- expr_mat[,which(colnames(expr_mat) %in% gene_name)]\n",
    "    }else{\n",
    "        res[[i]] <- rep(0.001, nrow(expr_mat))\n",
    "    }\n",
    "    names(res)[i] <- gene_name \n",
    "}\n",
    "\n",
    "nb_inp_prat <- do.call(cbind, res)\n",
    "\n",
    "# which columns have missing genes\n",
    "which(colMeans(nb_inp_prat) %in% 0.001)\n",
    "\n",
    "# # Replace 0 with 0.001\n",
    "# nb_inp_prat[nb_inp_prat == 0] <- 0.001\n",
    "\n",
    "# # convert values to log\n",
    "# nb_inp_prat <- log(nb_inp_prat, 2)\n",
    "\n",
    "nb_predictions_prat <- predict(nb_prat, nb_inp_prat)\n",
    "confusionMatrix(data = nb_predictions_prat, reference = expr_res$Response, positive = \"Y\")"
   ]
  },
  {
   "cell_type": "code",
   "execution_count": null,
   "id": "2ec11ac1",
   "metadata": {},
   "outputs": [],
   "source": [
    "# ncol(mod_inp_mat)\n",
    "# # sort(table(colnames(mod_inp_mat)), decreasing=TRUE)\n",
    "\n",
    "# getSymbols(\"163059\", 'org.Hs.eg.db')\n",
    "# colnames(expression)[grep(\"ZNF433\", colnames(expression))]"
   ]
  }
 ],
 "metadata": {
  "kernelspec": {
   "display_name": "R [conda env:caret]",
   "language": "R",
   "name": "conda-env-caret-r"
  },
  "language_info": {
   "codemirror_mode": "r",
   "file_extension": ".r",
   "mimetype": "text/x-r-source",
   "name": "R",
   "pygments_lexer": "r",
   "version": "4.0.5"
  },
  "toc": {
   "base_numbering": 1,
   "nav_menu": {},
   "number_sections": true,
   "sideBar": true,
   "skip_h1_title": false,
   "title_cell": "Table of Contents",
   "title_sidebar": "Contents",
   "toc_cell": false,
   "toc_position": {},
   "toc_section_display": true,
   "toc_window_display": true
  }
 },
 "nbformat": 4,
 "nbformat_minor": 5
}
