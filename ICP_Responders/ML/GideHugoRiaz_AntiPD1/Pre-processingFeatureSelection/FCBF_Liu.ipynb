{
 "cells": [
  {
   "cell_type": "markdown",
   "metadata": {},
   "source": [
    "# FCBF : Fast Correlation Based Filter for Feature Selection"
   ]
  },
  {
   "cell_type": "code",
   "execution_count": 1,
   "metadata": {},
   "outputs": [
    {
     "name": "stderr",
     "output_type": "stream",
     "text": [
      "Loading required package: lattice\n",
      "\n",
      "Loading required package: ggplot2\n",
      "\n"
     ]
    }
   ],
   "source": [
    "library(\"FCBF\")\n",
    "library('mlbench')\n",
    "library('caret')\n",
    "set.seed(64)"
   ]
  },
  {
   "cell_type": "markdown",
   "metadata": {},
   "source": [
    "## Read pre-processed input data"
   ]
  },
  {
   "cell_type": "code",
   "execution_count": 2,
   "metadata": {},
   "outputs": [],
   "source": [
    "mod_inp_mat <- readRDS(\"/home/jp/ICP_Responders/ML/GideHugoRiaz_AntiPD1/Pre-processingFeatureSelection/liu_mod_inp_mat_AntiPD1.rds\")"
   ]
  },
  {
   "cell_type": "code",
   "execution_count": 3,
   "metadata": {},
   "outputs": [],
   "source": [
    "# dividing data into discrete expression and response\n",
    "expr <- mod_inp_mat[,-which(colnames(mod_inp_mat) %in%\n",
    "                                        c(\"Patient\", \"OS\", \"OS.Event\", \"RECIST\", \"Age\", \"Gender\", \"Response\",\"Source\"))]\n",
    "expr <- t(expr)\n",
    "discrete_expression <- as.data.frame(discretize_exprs(expr))\n",
    "res <- as.factor(mod_inp_mat$Response)"
   ]
  },
  {
   "cell_type": "markdown",
   "metadata": {},
   "source": [
    "## SU Plot"
   ]
  },
  {
   "cell_type": "code",
   "execution_count": 4,
   "metadata": {
    "scrolled": false
   },
   "outputs": [
    {
     "data": {
      "image/png": "[encoded data removed]",
      "text/plain": [
       "plot without title"
      ]
     },
     "metadata": {
      "image/png": {
       "height": 420,
       "width": 420
      }
     },
     "output_type": "display_data"
    }
   ],
   "source": [
    "su_plot(discrete_expression,res)"
   ]
  },
  {
   "cell_type": "markdown",
   "metadata": {},
   "source": [
    "## FCBF Analysis"
   ]
  },
  {
   "cell_type": "markdown",
   "metadata": {},
   "source": [
    "Change cutoff???"
   ]
  },
  {
   "cell_type": "code",
   "execution_count": 6,
   "metadata": {
    "scrolled": true
   },
   "outputs": [
    {
     "name": "stdout",
     "output_type": "stream",
     "text": [
      "[1] \"Number of features features =  8398\"\n",
      "[1] \"Number of prospective features =  6588\"\n",
      "[1] \"Number of final features =  18\"\n"
     ]
    }
   ],
   "source": [
    "fcbf_features <- fcbf(\n",
    "                      discrete_expression,\n",
    "                      res,\n",
    "                      n_genes_selected_in_first_step = 6541,\n",
    "                      minimum_su = 0.00,\n",
    "                      verbose = FALSE,\n",
    "                      samples_in_rows = FALSE,\n",
    "                      balance_classes = FALSE\n",
    "                     )\n"
   ]
  },
  {
   "cell_type": "code",
   "execution_count": 7,
   "metadata": {},
   "outputs": [],
   "source": [
    "fcbf_table <- expr[fcbf_features$index,]\n",
    "\n",
    "high_variance_genes <- sort(apply(expr, 1, var, na.rm = TRUE), decreasing = TRUE)\n",
    "variance_table <- expr[names(high_variance_genes)[1:200], ]"
   ]
  },
  {
   "cell_type": "code",
   "execution_count": 8,
   "metadata": {
    "scrolled": true
   },
   "outputs": [
    {
     "data": {
      "text/html": [
       "200"
      ],
      "text/latex": [
       "200"
      ],
      "text/markdown": [
       "200"
      ],
      "text/plain": [
       "[1] 200"
      ]
     },
     "metadata": {},
     "output_type": "display_data"
    },
    {
     "data": {
      "text/html": [
       "<style>\n",
       ".list-inline {list-style: none; margin:0; padding: 0}\n",
       ".list-inline>li {display: inline-block}\n",
       ".list-inline>li:not(:last-child)::after {content: \"\\00b7\"; padding: 0 .5ex}\n",
       "</style>\n",
       "<ol class=list-inline><li>'6085'</li><li>'100126299'</li><li>'6084'</li><li>'28883'</li><li>'26864'</li><li>'406993'</li></ol>\n"
      ],
      "text/latex": [
       "\\begin{enumerate*}\n",
       "\\item '6085'\n",
       "\\item '100126299'\n",
       "\\item '6084'\n",
       "\\item '28883'\n",
       "\\item '26864'\n",
       "\\item '406993'\n",
       "\\end{enumerate*}\n"
      ],
      "text/markdown": [
       "1. '6085'\n",
       "2. '100126299'\n",
       "3. '6084'\n",
       "4. '28883'\n",
       "5. '26864'\n",
       "6. '406993'\n",
       "\n",
       "\n"
      ],
      "text/plain": [
       "[1] \"6085\"      \"100126299\" \"6084\"      \"28883\"     \"26864\"     \"406993\"   "
      ]
     },
     "metadata": {},
     "output_type": "display_data"
    }
   ],
   "source": [
    "length(rownames(variance_table))\n",
    "head(rownames(variance_table))  "
   ]
  },
  {
   "cell_type": "code",
   "execution_count": 9,
   "metadata": {},
   "outputs": [],
   "source": [
    "dataset_fcbf <- cbind(as.data.frame(t(fcbf_table)),Response = res)\n",
    "dataset_100_var <- cbind(as.data.frame(t(variance_table)),Response = res)"
   ]
  },
  {
   "cell_type": "code",
   "execution_count": 10,
   "metadata": {
    "scrolled": true
   },
   "outputs": [
    {
     "data": {
      "text/html": [
       "<style>\n",
       ".list-inline {list-style: none; margin:0; padding: 0}\n",
       ".list-inline>li {display: inline-block}\n",
       ".list-inline>li:not(:last-child)::after {content: \"\\00b7\"; padding: 0 .5ex}\n",
       "</style>\n",
       "<ol class=list-inline><li>60</li><li>19</li></ol>\n"
      ],
      "text/latex": [
       "\\begin{enumerate*}\n",
       "\\item 60\n",
       "\\item 19\n",
       "\\end{enumerate*}\n"
      ],
      "text/markdown": [
       "1. 60\n",
       "2. 19\n",
       "\n",
       "\n"
      ],
      "text/plain": [
       "[1] 60 19"
      ]
     },
     "metadata": {},
     "output_type": "display_data"
    },
    {
     "data": {
      "text/html": [
       "<table class=\"dataframe\">\n",
       "<caption>A data.frame: 6 × 19</caption>\n",
       "<thead>\n",
       "\t<tr><th></th><th scope=col>677767</th><th scope=col>148189</th><th scope=col>9360</th><th scope=col>64778</th><th scope=col>342538</th><th scope=col>55867</th><th scope=col>100996571</th><th scope=col>64232</th><th scope=col>101060691</th><th scope=col>100128733</th><th scope=col>54529</th><th scope=col>150967</th><th scope=col>729862</th><th scope=col>64582</th><th scope=col>342931</th><th scope=col>401447</th><th scope=col>29068</th><th scope=col>4322</th><th scope=col>Response</th></tr>\n",
       "\t<tr><th></th><th scope=col>&lt;dbl&gt;</th><th scope=col>&lt;dbl&gt;</th><th scope=col>&lt;dbl&gt;</th><th scope=col>&lt;dbl&gt;</th><th scope=col>&lt;dbl&gt;</th><th scope=col>&lt;dbl&gt;</th><th scope=col>&lt;dbl&gt;</th><th scope=col>&lt;dbl&gt;</th><th scope=col>&lt;dbl&gt;</th><th scope=col>&lt;dbl&gt;</th><th scope=col>&lt;dbl&gt;</th><th scope=col>&lt;dbl&gt;</th><th scope=col>&lt;dbl&gt;</th><th scope=col>&lt;dbl&gt;</th><th scope=col>&lt;dbl&gt;</th><th scope=col>&lt;dbl&gt;</th><th scope=col>&lt;dbl&gt;</th><th scope=col>&lt;dbl&gt;</th><th scope=col>&lt;fct&gt;</th></tr>\n",
       "</thead>\n",
       "<tbody>\n",
       "\t<tr><th scope=row>1</th><td>12.562514</td><td>-9.965784</td><td>6.209974</td><td>7.884318</td><td>-1.625174</td><td>-9.965784</td><td>-9.965784</td><td>-9.9657843</td><td>-9.965784</td><td>-1.184602</td><td>5.147729</td><td>-9.965784</td><td> 3.434749</td><td>-0.3032464</td><td>-4.432529</td><td>-0.3032464</td><td>6.281287</td><td>-3.1106013</td><td>Y</td></tr>\n",
       "\t<tr><th scope=row>2</th><td>12.007040</td><td>-9.965784</td><td>6.686382</td><td>7.005579</td><td>-1.507996</td><td>-9.965784</td><td>-9.965784</td><td>-9.9657843</td><td>-9.965784</td><td>-2.401081</td><td>5.806282</td><td>-9.965784</td><td>-9.965784</td><td>-1.6234737</td><td>-9.965784</td><td> 0.5729235</td><td>5.420009</td><td>-1.5079965</td><td>Y</td></tr>\n",
       "\t<tr><th scope=row>3</th><td>10.832783</td><td>-9.965784</td><td>6.414987</td><td>6.851156</td><td>-9.965784</td><td>-9.965784</td><td>-9.965784</td><td> 0.1893780</td><td>-4.395585</td><td>-3.810622</td><td>4.204328</td><td>-9.965784</td><td> 2.112210</td><td>-1.8106220</td><td>-9.965784</td><td>-9.9657843</td><td>3.992433</td><td>-0.6951448</td><td>Y</td></tr>\n",
       "\t<tr><th scope=row>4</th><td> 9.832489</td><td>-9.965784</td><td>8.534349</td><td>6.758181</td><td>-9.965784</td><td>-9.965784</td><td>-9.965784</td><td>-9.9657843</td><td>-9.965784</td><td>-9.965784</td><td>3.654269</td><td>-9.965784</td><td>-9.965784</td><td> 2.5628943</td><td>-9.965784</td><td>-9.9657843</td><td>4.998933</td><td>-9.9657843</td><td>Y</td></tr>\n",
       "\t<tr><th scope=row>5</th><td>12.591880</td><td>-9.965784</td><td>4.914116</td><td>9.657411</td><td> 4.707944</td><td>-9.965784</td><td>-9.965784</td><td>-9.9657843</td><td>-9.965784</td><td>-9.965784</td><td>4.932127</td><td>-9.965784</td><td>-9.965784</td><td>-9.9657843</td><td>-9.965784</td><td>-9.9657843</td><td>3.084846</td><td>-9.9657843</td><td>N</td></tr>\n",
       "\t<tr><th scope=row>6</th><td>11.232063</td><td>-9.965784</td><td>5.816113</td><td>6.977165</td><td>-1.104984</td><td>-9.965784</td><td>-9.965784</td><td>-0.3500963</td><td>-9.965784</td><td>-9.965784</td><td>3.933935</td><td>-9.965784</td><td>-9.965784</td><td>-0.8570562</td><td>-9.965784</td><td> 0.3868693</td><td>4.438048</td><td>-1.0175209</td><td>N</td></tr>\n",
       "</tbody>\n",
       "</table>\n"
      ],
      "text/latex": [
       "A data.frame: 6 × 19\n",
       "\\begin{tabular}{r|lllllllllllllllllll}\n",
       "  & 677767 & 148189 & 9360 & 64778 & 342538 & 55867 & 100996571 & 64232 & 101060691 & 100128733 & 54529 & 150967 & 729862 & 64582 & 342931 & 401447 & 29068 & 4322 & Response\\\\\n",
       "  & <dbl> & <dbl> & <dbl> & <dbl> & <dbl> & <dbl> & <dbl> & <dbl> & <dbl> & <dbl> & <dbl> & <dbl> & <dbl> & <dbl> & <dbl> & <dbl> & <dbl> & <dbl> & <fct>\\\\\n",
       "\\hline\n",
       "\t1 & 12.562514 & -9.965784 & 6.209974 & 7.884318 & -1.625174 & -9.965784 & -9.965784 & -9.9657843 & -9.965784 & -1.184602 & 5.147729 & -9.965784 &  3.434749 & -0.3032464 & -4.432529 & -0.3032464 & 6.281287 & -3.1106013 & Y\\\\\n",
       "\t2 & 12.007040 & -9.965784 & 6.686382 & 7.005579 & -1.507996 & -9.965784 & -9.965784 & -9.9657843 & -9.965784 & -2.401081 & 5.806282 & -9.965784 & -9.965784 & -1.6234737 & -9.965784 &  0.5729235 & 5.420009 & -1.5079965 & Y\\\\\n",
       "\t3 & 10.832783 & -9.965784 & 6.414987 & 6.851156 & -9.965784 & -9.965784 & -9.965784 &  0.1893780 & -4.395585 & -3.810622 & 4.204328 & -9.965784 &  2.112210 & -1.8106220 & -9.965784 & -9.9657843 & 3.992433 & -0.6951448 & Y\\\\\n",
       "\t4 &  9.832489 & -9.965784 & 8.534349 & 6.758181 & -9.965784 & -9.965784 & -9.965784 & -9.9657843 & -9.965784 & -9.965784 & 3.654269 & -9.965784 & -9.965784 &  2.5628943 & -9.965784 & -9.9657843 & 4.998933 & -9.9657843 & Y\\\\\n",
       "\t5 & 12.591880 & -9.965784 & 4.914116 & 9.657411 &  4.707944 & -9.965784 & -9.965784 & -9.9657843 & -9.965784 & -9.965784 & 4.932127 & -9.965784 & -9.965784 & -9.9657843 & -9.965784 & -9.9657843 & 3.084846 & -9.9657843 & N\\\\\n",
       "\t6 & 11.232063 & -9.965784 & 5.816113 & 6.977165 & -1.104984 & -9.965784 & -9.965784 & -0.3500963 & -9.965784 & -9.965784 & 3.933935 & -9.965784 & -9.965784 & -0.8570562 & -9.965784 &  0.3868693 & 4.438048 & -1.0175209 & N\\\\\n",
       "\\end{tabular}\n"
      ],
      "text/markdown": [
       "\n",
       "A data.frame: 6 × 19\n",
       "\n",
       "| <!--/--> | 677767 &lt;dbl&gt; | 148189 &lt;dbl&gt; | 9360 &lt;dbl&gt; | 64778 &lt;dbl&gt; | 342538 &lt;dbl&gt; | 55867 &lt;dbl&gt; | 100996571 &lt;dbl&gt; | 64232 &lt;dbl&gt; | 101060691 &lt;dbl&gt; | 100128733 &lt;dbl&gt; | 54529 &lt;dbl&gt; | 150967 &lt;dbl&gt; | 729862 &lt;dbl&gt; | 64582 &lt;dbl&gt; | 342931 &lt;dbl&gt; | 401447 &lt;dbl&gt; | 29068 &lt;dbl&gt; | 4322 &lt;dbl&gt; | Response &lt;fct&gt; |\n",
       "|---|---|---|---|---|---|---|---|---|---|---|---|---|---|---|---|---|---|---|---|\n",
       "| 1 | 12.562514 | -9.965784 | 6.209974 | 7.884318 | -1.625174 | -9.965784 | -9.965784 | -9.9657843 | -9.965784 | -1.184602 | 5.147729 | -9.965784 |  3.434749 | -0.3032464 | -4.432529 | -0.3032464 | 6.281287 | -3.1106013 | Y |\n",
       "| 2 | 12.007040 | -9.965784 | 6.686382 | 7.005579 | -1.507996 | -9.965784 | -9.965784 | -9.9657843 | -9.965784 | -2.401081 | 5.806282 | -9.965784 | -9.965784 | -1.6234737 | -9.965784 |  0.5729235 | 5.420009 | -1.5079965 | Y |\n",
       "| 3 | 10.832783 | -9.965784 | 6.414987 | 6.851156 | -9.965784 | -9.965784 | -9.965784 |  0.1893780 | -4.395585 | -3.810622 | 4.204328 | -9.965784 |  2.112210 | -1.8106220 | -9.965784 | -9.9657843 | 3.992433 | -0.6951448 | Y |\n",
       "| 4 |  9.832489 | -9.965784 | 8.534349 | 6.758181 | -9.965784 | -9.965784 | -9.965784 | -9.9657843 | -9.965784 | -9.965784 | 3.654269 | -9.965784 | -9.965784 |  2.5628943 | -9.965784 | -9.9657843 | 4.998933 | -9.9657843 | Y |\n",
       "| 5 | 12.591880 | -9.965784 | 4.914116 | 9.657411 |  4.707944 | -9.965784 | -9.965784 | -9.9657843 | -9.965784 | -9.965784 | 4.932127 | -9.965784 | -9.965784 | -9.9657843 | -9.965784 | -9.9657843 | 3.084846 | -9.9657843 | N |\n",
       "| 6 | 11.232063 | -9.965784 | 5.816113 | 6.977165 | -1.104984 | -9.965784 | -9.965784 | -0.3500963 | -9.965784 | -9.965784 | 3.933935 | -9.965784 | -9.965784 | -0.8570562 | -9.965784 |  0.3868693 | 4.438048 | -1.0175209 | N |\n",
       "\n"
      ],
      "text/plain": [
       "  677767    148189    9360     64778    342538    55867     100996571\n",
       "1 12.562514 -9.965784 6.209974 7.884318 -1.625174 -9.965784 -9.965784\n",
       "2 12.007040 -9.965784 6.686382 7.005579 -1.507996 -9.965784 -9.965784\n",
       "3 10.832783 -9.965784 6.414987 6.851156 -9.965784 -9.965784 -9.965784\n",
       "4  9.832489 -9.965784 8.534349 6.758181 -9.965784 -9.965784 -9.965784\n",
       "5 12.591880 -9.965784 4.914116 9.657411  4.707944 -9.965784 -9.965784\n",
       "6 11.232063 -9.965784 5.816113 6.977165 -1.104984 -9.965784 -9.965784\n",
       "  64232      101060691 100128733 54529    150967    729862    64582     \n",
       "1 -9.9657843 -9.965784 -1.184602 5.147729 -9.965784  3.434749 -0.3032464\n",
       "2 -9.9657843 -9.965784 -2.401081 5.806282 -9.965784 -9.965784 -1.6234737\n",
       "3  0.1893780 -4.395585 -3.810622 4.204328 -9.965784  2.112210 -1.8106220\n",
       "4 -9.9657843 -9.965784 -9.965784 3.654269 -9.965784 -9.965784  2.5628943\n",
       "5 -9.9657843 -9.965784 -9.965784 4.932127 -9.965784 -9.965784 -9.9657843\n",
       "6 -0.3500963 -9.965784 -9.965784 3.933935 -9.965784 -9.965784 -0.8570562\n",
       "  342931    401447     29068    4322       Response\n",
       "1 -4.432529 -0.3032464 6.281287 -3.1106013 Y       \n",
       "2 -9.965784  0.5729235 5.420009 -1.5079965 Y       \n",
       "3 -9.965784 -9.9657843 3.992433 -0.6951448 Y       \n",
       "4 -9.965784 -9.9657843 4.998933 -9.9657843 Y       \n",
       "5 -9.965784 -9.9657843 3.084846 -9.9657843 N       \n",
       "6 -9.965784  0.3868693 4.438048 -1.0175209 N       "
      ]
     },
     "metadata": {},
     "output_type": "display_data"
    }
   ],
   "source": [
    "# dataset_fcbf$Response <- as.character(dataset_fcbf$Response)\n",
    "# dataset_fcbf$Response\n",
    "\n",
    "\n",
    "\n",
    "# dataset_fcbf[dataset_fcbf$Response == '1',\"Response\"] <- 'Y' \n",
    "# dataset_fcbf[dataset_fcbf$Response == '0', \"Response\"] <- 'N' \n",
    "# dataset_fcbf$Response <- as.factor(dataset_fcbf$Response)\n",
    "dim(dataset_fcbf)\n",
    "head(dataset_fcbf)"
   ]
  },
  {
   "cell_type": "code",
   "execution_count": 11,
   "metadata": {},
   "outputs": [
    {
     "data": {
      "text/html": [
       "<style>\n",
       ".list-inline {list-style: none; margin:0; padding: 0}\n",
       ".list-inline>li {display: inline-block}\n",
       ".list-inline>li:not(:last-child)::after {content: \"\\00b7\"; padding: 0 .5ex}\n",
       "</style>\n",
       "<ol class=list-inline><li>60</li><li>201</li></ol>\n"
      ],
      "text/latex": [
       "\\begin{enumerate*}\n",
       "\\item 60\n",
       "\\item 201\n",
       "\\end{enumerate*}\n"
      ],
      "text/markdown": [
       "1. 60\n",
       "2. 201\n",
       "\n",
       "\n"
      ],
      "text/plain": [
       "[1]  60 201"
      ]
     },
     "metadata": {},
     "output_type": "display_data"
    },
    {
     "data": {
      "text/html": [
       "<table class=\"dataframe\">\n",
       "<caption>A data.frame: 6 × 201</caption>\n",
       "<thead>\n",
       "\t<tr><th></th><th scope=col>6085</th><th scope=col>100126299</th><th scope=col>6084</th><th scope=col>28883</th><th scope=col>26864</th><th scope=col>406993</th><th scope=col>100126339</th><th scope=col>26829</th><th scope=col>90737</th><th scope=col>768216</th><th scope=col>⋯</th><th scope=col>26494</th><th scope=col>147920</th><th scope=col>64478</th><th scope=col>392256</th><th scope=col>100132291</th><th scope=col>80039</th><th scope=col>117195</th><th scope=col>642424</th><th scope=col>28466</th><th scope=col>Response</th></tr>\n",
       "\t<tr><th></th><th scope=col>&lt;dbl&gt;</th><th scope=col>&lt;dbl&gt;</th><th scope=col>&lt;dbl&gt;</th><th scope=col>&lt;dbl&gt;</th><th scope=col>&lt;dbl&gt;</th><th scope=col>&lt;dbl&gt;</th><th scope=col>&lt;dbl&gt;</th><th scope=col>&lt;dbl&gt;</th><th scope=col>&lt;dbl&gt;</th><th scope=col>&lt;dbl&gt;</th><th scope=col>⋯</th><th scope=col>&lt;dbl&gt;</th><th scope=col>&lt;dbl&gt;</th><th scope=col>&lt;dbl&gt;</th><th scope=col>&lt;dbl&gt;</th><th scope=col>&lt;dbl&gt;</th><th scope=col>&lt;dbl&gt;</th><th scope=col>&lt;dbl&gt;</th><th scope=col>&lt;dbl&gt;</th><th scope=col>&lt;dbl&gt;</th><th scope=col>&lt;fct&gt;</th></tr>\n",
       "</thead>\n",
       "<tbody>\n",
       "\t<tr><th scope=row>1</th><td> 5.969417</td><td>12.787192</td><td> 6.491912</td><td> 4.006262</td><td> 3.749865</td><td>-9.965784</td><td> 5.103718</td><td>-9.965784</td><td>-9.9657843</td><td> 3.122059</td><td>⋯</td><td> 3.338960</td><td>-9.965784</td><td> 3.691592</td><td> 1.633560</td><td>-9.9657843</td><td>-9.9657843</td><td> 3.843595</td><td> 3.5702856</td><td> 0.7172177</td><td>Y</td></tr>\n",
       "\t<tr><th scope=row>2</th><td> 4.140292</td><td>13.795458</td><td> 6.330238</td><td> 2.971473</td><td>-9.965784</td><td>-9.965784</td><td>-9.965784</td><td>-9.965784</td><td>-0.4010813</td><td> 5.234507</td><td>⋯</td><td>-9.965784</td><td>-9.965784</td><td>-5.208436</td><td>-9.965784</td><td> 1.1491158</td><td>-9.9657843</td><td>-9.965784</td><td>-9.9657843</td><td>-9.9657843</td><td>Y</td></tr>\n",
       "\t<tr><th scope=row>3</th><td>-9.965784</td><td>-9.965784</td><td>10.204851</td><td> 8.504339</td><td>-9.965784</td><td>-9.965784</td><td>-9.965784</td><td> 4.797941</td><td>-2.0736564</td><td>-9.965784</td><td>⋯</td><td>-0.640697</td><td>-9.965784</td><td>-3.810622</td><td> 1.593100</td><td>-9.9657843</td><td>-1.8106220</td><td> 6.490112</td><td> 0.6488096</td><td>-9.9657843</td><td>Y</td></tr>\n",
       "\t<tr><th scope=row>4</th><td>-9.965784</td><td>-9.965784</td><td>-9.965784</td><td>-9.965784</td><td>-9.965784</td><td>-9.965784</td><td>-9.965784</td><td>-9.965784</td><td>-9.9657843</td><td>-9.965784</td><td>⋯</td><td>-9.965784</td><td>-9.965784</td><td>-9.965784</td><td>-9.965784</td><td>-9.9657843</td><td> 5.3029085</td><td>-9.965784</td><td>-9.9657843</td><td>-9.9657843</td><td>Y</td></tr>\n",
       "\t<tr><th scope=row>5</th><td>11.337385</td><td>12.426861</td><td> 7.960924</td><td> 6.641626</td><td>-9.965784</td><td>-9.965784</td><td>-9.965784</td><td>-9.965784</td><td>-9.9657843</td><td>-9.965784</td><td>⋯</td><td>-9.965784</td><td>-9.965784</td><td>-2.137546</td><td>-9.965784</td><td>-0.9151541</td><td>-9.9657843</td><td> 4.534879</td><td>-9.9657843</td><td>-9.9657843</td><td>N</td></tr>\n",
       "\t<tr><th scope=row>6</th><td>-9.965784</td><td>-9.965784</td><td>-9.965784</td><td> 7.400828</td><td> 6.751831</td><td> 6.080511</td><td> 5.319183</td><td>-9.965784</td><td>-9.9657843</td><td>-9.965784</td><td>⋯</td><td>-9.965784</td><td> 1.581517</td><td>-9.965784</td><td> 1.464872</td><td>-9.9657843</td><td> 0.2525682</td><td>-9.965784</td><td> 2.8198287</td><td>-9.9657843</td><td>N</td></tr>\n",
       "</tbody>\n",
       "</table>\n"
      ],
      "text/latex": [
       "A data.frame: 6 × 201\n",
       "\\begin{tabular}{r|lllllllllllllllllllll}\n",
       "  & 6085 & 100126299 & 6084 & 28883 & 26864 & 406993 & 100126339 & 26829 & 90737 & 768216 & ⋯ & 26494 & 147920 & 64478 & 392256 & 100132291 & 80039 & 117195 & 642424 & 28466 & Response\\\\\n",
       "  & <dbl> & <dbl> & <dbl> & <dbl> & <dbl> & <dbl> & <dbl> & <dbl> & <dbl> & <dbl> & ⋯ & <dbl> & <dbl> & <dbl> & <dbl> & <dbl> & <dbl> & <dbl> & <dbl> & <dbl> & <fct>\\\\\n",
       "\\hline\n",
       "\t1 &  5.969417 & 12.787192 &  6.491912 &  4.006262 &  3.749865 & -9.965784 &  5.103718 & -9.965784 & -9.9657843 &  3.122059 & ⋯ &  3.338960 & -9.965784 &  3.691592 &  1.633560 & -9.9657843 & -9.9657843 &  3.843595 &  3.5702856 &  0.7172177 & Y\\\\\n",
       "\t2 &  4.140292 & 13.795458 &  6.330238 &  2.971473 & -9.965784 & -9.965784 & -9.965784 & -9.965784 & -0.4010813 &  5.234507 & ⋯ & -9.965784 & -9.965784 & -5.208436 & -9.965784 &  1.1491158 & -9.9657843 & -9.965784 & -9.9657843 & -9.9657843 & Y\\\\\n",
       "\t3 & -9.965784 & -9.965784 & 10.204851 &  8.504339 & -9.965784 & -9.965784 & -9.965784 &  4.797941 & -2.0736564 & -9.965784 & ⋯ & -0.640697 & -9.965784 & -3.810622 &  1.593100 & -9.9657843 & -1.8106220 &  6.490112 &  0.6488096 & -9.9657843 & Y\\\\\n",
       "\t4 & -9.965784 & -9.965784 & -9.965784 & -9.965784 & -9.965784 & -9.965784 & -9.965784 & -9.965784 & -9.9657843 & -9.965784 & ⋯ & -9.965784 & -9.965784 & -9.965784 & -9.965784 & -9.9657843 &  5.3029085 & -9.965784 & -9.9657843 & -9.9657843 & Y\\\\\n",
       "\t5 & 11.337385 & 12.426861 &  7.960924 &  6.641626 & -9.965784 & -9.965784 & -9.965784 & -9.965784 & -9.9657843 & -9.965784 & ⋯ & -9.965784 & -9.965784 & -2.137546 & -9.965784 & -0.9151541 & -9.9657843 &  4.534879 & -9.9657843 & -9.9657843 & N\\\\\n",
       "\t6 & -9.965784 & -9.965784 & -9.965784 &  7.400828 &  6.751831 &  6.080511 &  5.319183 & -9.965784 & -9.9657843 & -9.965784 & ⋯ & -9.965784 &  1.581517 & -9.965784 &  1.464872 & -9.9657843 &  0.2525682 & -9.965784 &  2.8198287 & -9.9657843 & N\\\\\n",
       "\\end{tabular}\n"
      ],
      "text/markdown": [
       "\n",
       "A data.frame: 6 × 201\n",
       "\n",
       "| <!--/--> | 6085 &lt;dbl&gt; | 100126299 &lt;dbl&gt; | 6084 &lt;dbl&gt; | 28883 &lt;dbl&gt; | 26864 &lt;dbl&gt; | 406993 &lt;dbl&gt; | 100126339 &lt;dbl&gt; | 26829 &lt;dbl&gt; | 90737 &lt;dbl&gt; | 768216 &lt;dbl&gt; | ⋯ ⋯ | 26494 &lt;dbl&gt; | 147920 &lt;dbl&gt; | 64478 &lt;dbl&gt; | 392256 &lt;dbl&gt; | 100132291 &lt;dbl&gt; | 80039 &lt;dbl&gt; | 117195 &lt;dbl&gt; | 642424 &lt;dbl&gt; | 28466 &lt;dbl&gt; | Response &lt;fct&gt; |\n",
       "|---|---|---|---|---|---|---|---|---|---|---|---|---|---|---|---|---|---|---|---|---|---|\n",
       "| 1 |  5.969417 | 12.787192 |  6.491912 |  4.006262 |  3.749865 | -9.965784 |  5.103718 | -9.965784 | -9.9657843 |  3.122059 | ⋯ |  3.338960 | -9.965784 |  3.691592 |  1.633560 | -9.9657843 | -9.9657843 |  3.843595 |  3.5702856 |  0.7172177 | Y |\n",
       "| 2 |  4.140292 | 13.795458 |  6.330238 |  2.971473 | -9.965784 | -9.965784 | -9.965784 | -9.965784 | -0.4010813 |  5.234507 | ⋯ | -9.965784 | -9.965784 | -5.208436 | -9.965784 |  1.1491158 | -9.9657843 | -9.965784 | -9.9657843 | -9.9657843 | Y |\n",
       "| 3 | -9.965784 | -9.965784 | 10.204851 |  8.504339 | -9.965784 | -9.965784 | -9.965784 |  4.797941 | -2.0736564 | -9.965784 | ⋯ | -0.640697 | -9.965784 | -3.810622 |  1.593100 | -9.9657843 | -1.8106220 |  6.490112 |  0.6488096 | -9.9657843 | Y |\n",
       "| 4 | -9.965784 | -9.965784 | -9.965784 | -9.965784 | -9.965784 | -9.965784 | -9.965784 | -9.965784 | -9.9657843 | -9.965784 | ⋯ | -9.965784 | -9.965784 | -9.965784 | -9.965784 | -9.9657843 |  5.3029085 | -9.965784 | -9.9657843 | -9.9657843 | Y |\n",
       "| 5 | 11.337385 | 12.426861 |  7.960924 |  6.641626 | -9.965784 | -9.965784 | -9.965784 | -9.965784 | -9.9657843 | -9.965784 | ⋯ | -9.965784 | -9.965784 | -2.137546 | -9.965784 | -0.9151541 | -9.9657843 |  4.534879 | -9.9657843 | -9.9657843 | N |\n",
       "| 6 | -9.965784 | -9.965784 | -9.965784 |  7.400828 |  6.751831 |  6.080511 |  5.319183 | -9.965784 | -9.9657843 | -9.965784 | ⋯ | -9.965784 |  1.581517 | -9.965784 |  1.464872 | -9.9657843 |  0.2525682 | -9.965784 |  2.8198287 | -9.9657843 | N |\n",
       "\n"
      ],
      "text/plain": [
       "  6085      100126299 6084      28883     26864     406993    100126339\n",
       "1  5.969417 12.787192  6.491912  4.006262  3.749865 -9.965784  5.103718\n",
       "2  4.140292 13.795458  6.330238  2.971473 -9.965784 -9.965784 -9.965784\n",
       "3 -9.965784 -9.965784 10.204851  8.504339 -9.965784 -9.965784 -9.965784\n",
       "4 -9.965784 -9.965784 -9.965784 -9.965784 -9.965784 -9.965784 -9.965784\n",
       "5 11.337385 12.426861  7.960924  6.641626 -9.965784 -9.965784 -9.965784\n",
       "6 -9.965784 -9.965784 -9.965784  7.400828  6.751831  6.080511  5.319183\n",
       "  26829     90737      768216    ⋯ 26494     147920    64478     392256   \n",
       "1 -9.965784 -9.9657843  3.122059 ⋯  3.338960 -9.965784  3.691592  1.633560\n",
       "2 -9.965784 -0.4010813  5.234507 ⋯ -9.965784 -9.965784 -5.208436 -9.965784\n",
       "3  4.797941 -2.0736564 -9.965784 ⋯ -0.640697 -9.965784 -3.810622  1.593100\n",
       "4 -9.965784 -9.9657843 -9.965784 ⋯ -9.965784 -9.965784 -9.965784 -9.965784\n",
       "5 -9.965784 -9.9657843 -9.965784 ⋯ -9.965784 -9.965784 -2.137546 -9.965784\n",
       "6 -9.965784 -9.9657843 -9.965784 ⋯ -9.965784  1.581517 -9.965784  1.464872\n",
       "  100132291  80039      117195    642424     28466      Response\n",
       "1 -9.9657843 -9.9657843  3.843595  3.5702856  0.7172177 Y       \n",
       "2  1.1491158 -9.9657843 -9.965784 -9.9657843 -9.9657843 Y       \n",
       "3 -9.9657843 -1.8106220  6.490112  0.6488096 -9.9657843 Y       \n",
       "4 -9.9657843  5.3029085 -9.965784 -9.9657843 -9.9657843 Y       \n",
       "5 -0.9151541 -9.9657843  4.534879 -9.9657843 -9.9657843 N       \n",
       "6 -9.9657843  0.2525682 -9.965784  2.8198287 -9.9657843 N       "
      ]
     },
     "metadata": {},
     "output_type": "display_data"
    }
   ],
   "source": [
    "dim(dataset_100_var)\n",
    "head(dataset_100_var)"
   ]
  },
  {
   "cell_type": "markdown",
   "metadata": {},
   "source": [
    "## Output Gene Lists"
   ]
  },
  {
   "cell_type": "code",
   "execution_count": 14,
   "metadata": {},
   "outputs": [],
   "source": [
    "fcbf.list <- colnames(dataset_fcbf)[-which(colnames(dataset_fcbf) %in% c(\"Response\"))]\n",
    "top100var.list <- colnames(dataset_100_var)[-which(colnames(dataset_100_var) %in% c(\"Response\"))]\n",
    "saveRDS(fcbf.list, \"/home/jp/ICP_Responders/ML/GideHugoRiaz_AntiPD1/Pre-processingFeatureSelection/liu_fcbf18.list.rds\")\n",
    "saveRDS(top100var.list, \"/home/jp/ICP_Responders/ML/GideHugoRiaz_AntiPD1/Pre-processingFeatureSelection/liu_top200var.list.rds\")"
   ]
  }
 ],
 "metadata": {
  "kernelspec": {
   "display_name": "R [conda env:fcbf]",
   "language": "R",
   "name": "conda-env-fcbf-r"
  },
  "language_info": {
   "codemirror_mode": "r",
   "file_extension": ".r",
   "mimetype": "text/x-r-source",
   "name": "R",
   "pygments_lexer": "r",
   "version": "4.1.0"
  },
  "toc": {
   "base_numbering": 1,
   "nav_menu": {},
   "number_sections": true,
   "sideBar": true,
   "skip_h1_title": false,
   "title_cell": "Table of Contents",
   "title_sidebar": "Contents",
   "toc_cell": false,
   "toc_position": {},
   "toc_section_display": true,
   "toc_window_display": false
  }
 },
 "nbformat": 4,
 "nbformat_minor": 4
}
