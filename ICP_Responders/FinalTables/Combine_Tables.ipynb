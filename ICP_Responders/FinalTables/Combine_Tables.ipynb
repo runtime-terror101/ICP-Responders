{
 "cells": [
  {
   "cell_type": "markdown",
   "id": "1849f2e6",
   "metadata": {},
   "source": [
    "# Combine Tables"
   ]
  },
  {
   "cell_type": "code",
   "execution_count": 1,
   "id": "aade5611",
   "metadata": {},
   "outputs": [],
   "source": [
    "setwd(\"/home/jp/ICP_Responders/FinalTables\")"
   ]
  },
  {
   "cell_type": "code",
   "execution_count": 2,
   "id": "9e9f8c17",
   "metadata": {
    "scrolled": true
   },
   "outputs": [
    {
     "name": "stderr",
     "output_type": "stream",
     "text": [
      "\n",
      "Attaching package: ‘dplyr’\n",
      "\n",
      "\n",
      "The following objects are masked from ‘package:plyr’:\n",
      "\n",
      "    arrange, count, desc, failwith, id, mutate, rename, summarise,\n",
      "    summarize\n",
      "\n",
      "\n",
      "The following objects are masked from ‘package:stats’:\n",
      "\n",
      "    filter, lag\n",
      "\n",
      "\n",
      "The following objects are masked from ‘package:base’:\n",
      "\n",
      "    intersect, setdiff, setequal, union\n",
      "\n",
      "\n"
     ]
    }
   ],
   "source": [
    "library(plyr)\n",
    "library(dplyr)"
   ]
  },
  {
   "cell_type": "markdown",
   "id": "883185a4",
   "metadata": {},
   "source": [
    "## Fetching Data"
   ]
  },
  {
   "cell_type": "code",
   "execution_count": 9,
   "id": "ec1829d3",
   "metadata": {},
   "outputs": [],
   "source": [
    "prat <- read.csv(\"Prat.csv\")\n",
    "prat <- prat[prat$Type %in% c(\"MELANOMA\"), ]  # The database from Prat et al., Cancer Res 2017 has data for multiple cancer types,\n",
    "                                              #picking only the melanoma samples\n",
    "gide_pn <- read.csv(\"Gide_pn.csv\")\n",
    "# gide_pni <- read.csv(\"Gide_pni.csv\")\n",
    "hugo <- read.csv(\"Hugo.csv\")\n",
    "lauss <- read.csv(\"Lauss.csv\")\n",
    "nathanson <- read.csv(\"Nathanson_pre.csv\")\n",
    "riaz_naive <- read.csv(\"Riaz_naive.csv\")\n",
    "riaz_prog <- read.csv(\"Riaz_prog.csv\")"
   ]
  },
  {
   "cell_type": "code",
   "execution_count": 10,
   "id": "c91f70bb",
   "metadata": {},
   "outputs": [],
   "source": [
    "# Removing unnecessary X  from entrez ID as R adds it as a suffix to colnames with numeric characters\n",
    "names(prat) <- sub(\"^X\", \"\", names(prat))\n",
    "# names(gide_pni) <- sub(\"^X\", \"\", names(gide_pni))\n",
    "names(gide_pn) <- sub(\"^X\", \"\", names(gide_pn))\n",
    "names(hugo) <- sub(\"^X\", \"\", names(hugo))\n",
    "names(lauss) <- sub(\"^X\", \"\", names(lauss))\n",
    "names(nathanson) <- sub(\"^X\", \"\", names(nathanson))\n",
    "names(riaz_naive) <- sub(\"^X\", \"\", names(riaz_naive))\n",
    "names(riaz_prog) <- sub(\"^X\", \"\", names(riaz_prog))"
   ]
  },
  {
   "cell_type": "code",
   "execution_count": 33,
   "id": "28aab01b",
   "metadata": {},
   "outputs": [
    {
     "data": {
      "text/html": [
       "25"
      ],
      "text/latex": [
       "25"
      ],
      "text/markdown": [
       "25"
      ],
      "text/plain": [
       "[1] 25"
      ]
     },
     "metadata": {},
     "output_type": "display_data"
    },
    {
     "data": {
      "text/html": [
       "54"
      ],
      "text/latex": [
       "54"
      ],
      "text/markdown": [
       "54"
      ],
      "text/plain": [
       "[1] 54"
      ]
     },
     "metadata": {},
     "output_type": "display_data"
    },
    {
     "data": {
      "text/html": [
       "38"
      ],
      "text/latex": [
       "38"
      ],
      "text/markdown": [
       "38"
      ],
      "text/plain": [
       "[1] 38"
      ]
     },
     "metadata": {},
     "output_type": "display_data"
    },
    {
     "data": {
      "text/html": [
       "27"
      ],
      "text/latex": [
       "27"
      ],
      "text/markdown": [
       "27"
      ],
      "text/plain": [
       "[1] 27"
      ]
     },
     "metadata": {},
     "output_type": "display_data"
    },
    {
     "data": {
      "text/html": [
       "9"
      ],
      "text/latex": [
       "9"
      ],
      "text/markdown": [
       "9"
      ],
      "text/plain": [
       "[1] 9"
      ]
     },
     "metadata": {},
     "output_type": "display_data"
    },
    {
     "data": {
      "text/html": [
       "25"
      ],
      "text/latex": [
       "25"
      ],
      "text/markdown": [
       "25"
      ],
      "text/plain": [
       "[1] 25"
      ]
     },
     "metadata": {},
     "output_type": "display_data"
    },
    {
     "data": {
      "text/html": [
       "26"
      ],
      "text/latex": [
       "26"
      ],
      "text/markdown": [
       "26"
      ],
      "text/plain": [
       "[1] 26"
      ]
     },
     "metadata": {},
     "output_type": "display_data"
    }
   ],
   "source": [
    "nrow(prat)\n",
    "nrow(gide_pn)\n",
    "nrow(hugo)\n",
    "nrow(lauss)\n",
    "nrow(nathanson)\n",
    "nrow(riaz_naive)\n",
    "nrow(riaz_prog)"
   ]
  },
  {
   "cell_type": "code",
   "execution_count": 28,
   "id": "7af23c2a",
   "metadata": {},
   "outputs": [
    {
     "data": {
      "text/html": [
       "<style>\n",
       ".list-inline {list-style: none; margin:0; padding: 0}\n",
       ".list-inline>li {display: inline-block}\n",
       ".list-inline>li:not(:last-child)::after {content: \"\\00b7\"; padding: 0 .5ex}\n",
       "</style>\n",
       "<ol class=list-inline><li>'PFS'</li><li>'PFS.Event'</li></ol>\n"
      ],
      "text/latex": [
       "\\begin{enumerate*}\n",
       "\\item 'PFS'\n",
       "\\item 'PFS.Event'\n",
       "\\end{enumerate*}\n"
      ],
      "text/markdown": [
       "1. 'PFS'\n",
       "2. 'PFS.Event'\n",
       "\n",
       "\n"
      ],
      "text/plain": [
       "[1] \"PFS\"       \"PFS.Event\""
      ]
     },
     "metadata": {},
     "output_type": "display_data"
    }
   ],
   "source": [
    "grep(\"\\\\bPFS\\\\b\",names(prat), value=T)"
   ]
  },
  {
   "cell_type": "markdown",
   "id": "03ace55a",
   "metadata": {},
   "source": [
    "## Finding common column names\n"
   ]
  },
  {
   "cell_type": "code",
   "execution_count": 11,
   "id": "9c242800",
   "metadata": {
    "scrolled": true
   },
   "outputs": [
    {
     "data": {
      "text/html": [
       "<style>\n",
       ".list-inline {list-style: none; margin:0; padding: 0}\n",
       ".list-inline>li {display: inline-block}\n",
       ".list-inline>li:not(:last-child)::after {content: \"\\00b7\"; padding: 0 .5ex}\n",
       "</style>\n",
       "<ol class=list-inline><li>'Patient'</li><li>'Response'</li><li>'3920'</li><li>'345611'</li><li>'3929'</li><li>'54210'</li></ol>\n"
      ],
      "text/latex": [
       "\\begin{enumerate*}\n",
       "\\item 'Patient'\n",
       "\\item 'Response'\n",
       "\\item '3920'\n",
       "\\item '345611'\n",
       "\\item '3929'\n",
       "\\item '54210'\n",
       "\\end{enumerate*}\n"
      ],
      "text/markdown": [
       "1. 'Patient'\n",
       "2. 'Response'\n",
       "3. '3920'\n",
       "4. '345611'\n",
       "5. '3929'\n",
       "6. '54210'\n",
       "\n",
       "\n"
      ],
      "text/plain": [
       "[1] \"Patient\"  \"Response\" \"3920\"     \"345611\"   \"3929\"     \"54210\"   "
      ]
     },
     "metadata": {},
     "output_type": "display_data"
    }
   ],
   "source": [
    "common_col_names <- Reduce(intersect, list(names(prat),names(gide_pn),names(hugo),names(lauss),\n",
    "                                          names(nathanson),names(riaz_naive),names(riaz_prog)))\n",
    "#TODO: Fix to include PFS, OS, PFS Event, etc. Names don't match exactly\n",
    "head(common_col_names)"
   ]
  },
  {
   "cell_type": "code",
   "execution_count": 12,
   "id": "d3a1094b",
   "metadata": {},
   "outputs": [],
   "source": [
    "prat_sub <- prat[ , common_col_names]   \n",
    "# gide_pni_sub <- gide_pni[ , common_col_names]   \n",
    "gide_pn_sub <- gide_pn[ , common_col_names]  \n",
    "hugo_sub <- hugo[ , common_col_names]  \n",
    "lauss_sub <- lauss[ , common_col_names]\n",
    "nathanson_sub <- nathanson[ , common_col_names]\n",
    "riaz_naive_sub <- riaz_naive[ , common_col_names]\n",
    "riaz_prog_sub <- riaz_prog[ , common_col_names]"
   ]
  },
  {
   "cell_type": "code",
   "execution_count": 13,
   "id": "c04dacba",
   "metadata": {},
   "outputs": [
    {
     "data": {
      "text/html": [
       "<table>\n",
       "<caption>A data.frame: 6 × 676</caption>\n",
       "<thead>\n",
       "\t<tr><th></th><th scope=col>Patient</th><th scope=col>Response</th><th scope=col>3920</th><th scope=col>345611</th><th scope=col>3929</th><th scope=col>54210</th><th scope=col>3716</th><th scope=col>10454</th><th scope=col>3557</th><th scope=col>3556</th><th scope=col>⋯</th><th scope=col>80380</th><th scope=col>80381</th><th scope=col>2002</th><th scope=col>353514</th><th scope=col>4940</th><th scope=col>84166</th><th scope=col>6236</th><th scope=col>80153</th><th scope=col>4851</th><th scope=col>4582</th></tr>\n",
       "\t<tr><th></th><th scope=col>&lt;chr&gt;</th><th scope=col>&lt;int&gt;</th><th scope=col>&lt;dbl&gt;</th><th scope=col>&lt;dbl&gt;</th><th scope=col>&lt;dbl&gt;</th><th scope=col>&lt;dbl&gt;</th><th scope=col>&lt;dbl&gt;</th><th scope=col>&lt;dbl&gt;</th><th scope=col>&lt;dbl&gt;</th><th scope=col>&lt;dbl&gt;</th><th scope=col>⋯</th><th scope=col>&lt;dbl&gt;</th><th scope=col>&lt;dbl&gt;</th><th scope=col>&lt;dbl&gt;</th><th scope=col>&lt;dbl&gt;</th><th scope=col>&lt;dbl&gt;</th><th scope=col>&lt;dbl&gt;</th><th scope=col>&lt;dbl&gt;</th><th scope=col>&lt;dbl&gt;</th><th scope=col>&lt;dbl&gt;</th><th scope=col>&lt;dbl&gt;</th></tr>\n",
       "</thead>\n",
       "<tbody>\n",
       "\t<tr><th scope=row>1</th><td>A41</td><td>0</td><td>NA</td><td>NA</td><td>NA</td><td>NA</td><td>NA</td><td>NA</td><td>NA</td><td>NA</td><td>⋯</td><td>NA</td><td>NA</td><td>NA</td><td>NA</td><td>NA</td><td>NA</td><td>NA</td><td>NA</td><td>NA</td><td>NA</td></tr>\n",
       "\t<tr><th scope=row>2</th><td>A42</td><td>0</td><td>NA</td><td>NA</td><td>NA</td><td>NA</td><td>NA</td><td>NA</td><td>NA</td><td>NA</td><td>⋯</td><td>NA</td><td>NA</td><td>NA</td><td>NA</td><td>NA</td><td>NA</td><td>NA</td><td>NA</td><td>NA</td><td>NA</td></tr>\n",
       "\t<tr><th scope=row>3</th><td>A43</td><td>0</td><td>NA</td><td>NA</td><td>NA</td><td>NA</td><td>NA</td><td>NA</td><td>NA</td><td>NA</td><td>⋯</td><td>NA</td><td>NA</td><td>NA</td><td>NA</td><td>NA</td><td>NA</td><td>NA</td><td>NA</td><td>NA</td><td>NA</td></tr>\n",
       "\t<tr><th scope=row>4</th><td>A44</td><td>1</td><td>NA</td><td>NA</td><td>NA</td><td>NA</td><td>NA</td><td>NA</td><td>NA</td><td>NA</td><td>⋯</td><td>NA</td><td>NA</td><td>NA</td><td>NA</td><td>NA</td><td>NA</td><td>NA</td><td>NA</td><td>NA</td><td>NA</td></tr>\n",
       "\t<tr><th scope=row>5</th><td>A45</td><td>0</td><td>NA</td><td>NA</td><td>NA</td><td>NA</td><td>NA</td><td>NA</td><td>NA</td><td>NA</td><td>⋯</td><td>NA</td><td>NA</td><td>NA</td><td>NA</td><td>NA</td><td>NA</td><td>NA</td><td>NA</td><td>NA</td><td>NA</td></tr>\n",
       "\t<tr><th scope=row>6</th><td>A46</td><td>0</td><td>NA</td><td>NA</td><td>NA</td><td>NA</td><td>NA</td><td>NA</td><td>NA</td><td>NA</td><td>⋯</td><td>NA</td><td>NA</td><td>NA</td><td>NA</td><td>NA</td><td>NA</td><td>NA</td><td>NA</td><td>NA</td><td>NA</td></tr>\n",
       "</tbody>\n",
       "</table>\n"
      ],
      "text/latex": [
       "A data.frame: 6 × 676\n",
       "\\begin{tabular}{r|lllllllllllllllllllll}\n",
       "  & Patient & Response & 3920 & 345611 & 3929 & 54210 & 3716 & 10454 & 3557 & 3556 & ⋯ & 80380 & 80381 & 2002 & 353514 & 4940 & 84166 & 6236 & 80153 & 4851 & 4582\\\\\n",
       "  & <chr> & <int> & <dbl> & <dbl> & <dbl> & <dbl> & <dbl> & <dbl> & <dbl> & <dbl> & ⋯ & <dbl> & <dbl> & <dbl> & <dbl> & <dbl> & <dbl> & <dbl> & <dbl> & <dbl> & <dbl>\\\\\n",
       "\\hline\n",
       "\t1 & A41 & 0 & NA & NA & NA & NA & NA & NA & NA & NA & ⋯ & NA & NA & NA & NA & NA & NA & NA & NA & NA & NA\\\\\n",
       "\t2 & A42 & 0 & NA & NA & NA & NA & NA & NA & NA & NA & ⋯ & NA & NA & NA & NA & NA & NA & NA & NA & NA & NA\\\\\n",
       "\t3 & A43 & 0 & NA & NA & NA & NA & NA & NA & NA & NA & ⋯ & NA & NA & NA & NA & NA & NA & NA & NA & NA & NA\\\\\n",
       "\t4 & A44 & 1 & NA & NA & NA & NA & NA & NA & NA & NA & ⋯ & NA & NA & NA & NA & NA & NA & NA & NA & NA & NA\\\\\n",
       "\t5 & A45 & 0 & NA & NA & NA & NA & NA & NA & NA & NA & ⋯ & NA & NA & NA & NA & NA & NA & NA & NA & NA & NA\\\\\n",
       "\t6 & A46 & 0 & NA & NA & NA & NA & NA & NA & NA & NA & ⋯ & NA & NA & NA & NA & NA & NA & NA & NA & NA & NA\\\\\n",
       "\\end{tabular}\n"
      ],
      "text/markdown": [
       "\n",
       "A data.frame: 6 × 676\n",
       "\n",
       "| <!--/--> | Patient &lt;chr&gt; | Response &lt;int&gt; | 3920 &lt;dbl&gt; | 345611 &lt;dbl&gt; | 3929 &lt;dbl&gt; | 54210 &lt;dbl&gt; | 3716 &lt;dbl&gt; | 10454 &lt;dbl&gt; | 3557 &lt;dbl&gt; | 3556 &lt;dbl&gt; | ⋯ ⋯ | 80380 &lt;dbl&gt; | 80381 &lt;dbl&gt; | 2002 &lt;dbl&gt; | 353514 &lt;dbl&gt; | 4940 &lt;dbl&gt; | 84166 &lt;dbl&gt; | 6236 &lt;dbl&gt; | 80153 &lt;dbl&gt; | 4851 &lt;dbl&gt; | 4582 &lt;dbl&gt; |\n",
       "|---|---|---|---|---|---|---|---|---|---|---|---|---|---|---|---|---|---|---|---|---|---|\n",
       "| 1 | A41 | 0 | NA | NA | NA | NA | NA | NA | NA | NA | ⋯ | NA | NA | NA | NA | NA | NA | NA | NA | NA | NA |\n",
       "| 2 | A42 | 0 | NA | NA | NA | NA | NA | NA | NA | NA | ⋯ | NA | NA | NA | NA | NA | NA | NA | NA | NA | NA |\n",
       "| 3 | A43 | 0 | NA | NA | NA | NA | NA | NA | NA | NA | ⋯ | NA | NA | NA | NA | NA | NA | NA | NA | NA | NA |\n",
       "| 4 | A44 | 1 | NA | NA | NA | NA | NA | NA | NA | NA | ⋯ | NA | NA | NA | NA | NA | NA | NA | NA | NA | NA |\n",
       "| 5 | A45 | 0 | NA | NA | NA | NA | NA | NA | NA | NA | ⋯ | NA | NA | NA | NA | NA | NA | NA | NA | NA | NA |\n",
       "| 6 | A46 | 0 | NA | NA | NA | NA | NA | NA | NA | NA | ⋯ | NA | NA | NA | NA | NA | NA | NA | NA | NA | NA |\n",
       "\n"
      ],
      "text/plain": [
       "  Patient Response 3920 345611 3929 54210 3716 10454 3557 3556 ⋯ 80380 80381\n",
       "1 A41     0        NA   NA     NA   NA    NA   NA    NA   NA   ⋯ NA    NA   \n",
       "2 A42     0        NA   NA     NA   NA    NA   NA    NA   NA   ⋯ NA    NA   \n",
       "3 A43     0        NA   NA     NA   NA    NA   NA    NA   NA   ⋯ NA    NA   \n",
       "4 A44     1        NA   NA     NA   NA    NA   NA    NA   NA   ⋯ NA    NA   \n",
       "5 A45     0        NA   NA     NA   NA    NA   NA    NA   NA   ⋯ NA    NA   \n",
       "6 A46     0        NA   NA     NA   NA    NA   NA    NA   NA   ⋯ NA    NA   \n",
       "  2002 353514 4940 84166 6236 80153 4851 4582\n",
       "1 NA   NA     NA   NA    NA   NA    NA   NA  \n",
       "2 NA   NA     NA   NA    NA   NA    NA   NA  \n",
       "3 NA   NA     NA   NA    NA   NA    NA   NA  \n",
       "4 NA   NA     NA   NA    NA   NA    NA   NA  \n",
       "5 NA   NA     NA   NA    NA   NA    NA   NA  \n",
       "6 NA   NA     NA   NA    NA   NA    NA   NA  "
      ]
     },
     "metadata": {},
     "output_type": "display_data"
    }
   ],
   "source": [
    "final_table_response_and_expression <- rbind.fill(prat_sub,gide_pn_sub,hugo_sub,lauss_sub,\n",
    "                                                  nathanson_sub,riaz_naive_sub,riaz_prog_sub)\n",
    "head(final_table_response_and_expression)"
   ]
  },
  {
   "cell_type": "markdown",
   "id": "7f85a06e",
   "metadata": {},
   "source": [
    "# Writing final csv"
   ]
  },
  {
   "cell_type": "code",
   "execution_count": 14,
   "id": "913e65f8",
   "metadata": {},
   "outputs": [],
   "source": [
    "write.csv(final_table_response_and_expression, \"Final_table_response_and_expression.csv\", row.names = FALSE)"
   ]
  },
  {
   "cell_type": "code",
   "execution_count": 16,
   "id": "2a52df65",
   "metadata": {
    "scrolled": true
   },
   "outputs": [
    {
     "data": {
      "text/html": [
       "<style>\n",
       ".list-inline {list-style: none; margin:0; padding: 0}\n",
       ".list-inline>li {display: inline-block}\n",
       ".list-inline>li:not(:last-child)::after {content: \"\\00b7\"; padding: 0 .5ex}\n",
       "</style>\n",
       "<ol class=list-inline><li>'Patient'</li><li>'Response'</li><li>'3920'</li><li>'345611'</li><li>'3929'</li><li>'54210'</li></ol>\n"
      ],
      "text/latex": [
       "\\begin{enumerate*}\n",
       "\\item 'Patient'\n",
       "\\item 'Response'\n",
       "\\item '3920'\n",
       "\\item '345611'\n",
       "\\item '3929'\n",
       "\\item '54210'\n",
       "\\end{enumerate*}\n"
      ],
      "text/markdown": [
       "1. 'Patient'\n",
       "2. 'Response'\n",
       "3. '3920'\n",
       "4. '345611'\n",
       "5. '3929'\n",
       "6. '54210'\n",
       "\n",
       "\n"
      ],
      "text/plain": [
       "[1] \"Patient\"  \"Response\" \"3920\"     \"345611\"   \"3929\"     \"54210\"   "
      ]
     },
     "metadata": {},
     "output_type": "display_data"
    }
   ],
   "source": [
    "df <- read.csv(\"Final_table_response_and_expression.csv\")\n",
    "names(df) <- sub(\"^X\", \"\", names(df))\n",
    "head(names(df))"
   ]
  },
  {
   "cell_type": "code",
   "execution_count": null,
   "id": "ee904f9b",
   "metadata": {},
   "outputs": [],
   "source": []
  }
 ],
 "metadata": {
  "kernelspec": {
   "display_name": "R [conda env:jpEnv] *",
   "language": "R",
   "name": "conda-env-jpEnv-r"
  },
  "language_info": {
   "codemirror_mode": "r",
   "file_extension": ".r",
   "mimetype": "text/x-r-source",
   "name": "R",
   "pygments_lexer": "r",
   "version": "3.5.1"
  },
  "toc": {
   "base_numbering": 1,
   "nav_menu": {},
   "number_sections": true,
   "sideBar": true,
   "skip_h1_title": false,
   "title_cell": "Table of Contents",
   "title_sidebar": "Contents",
   "toc_cell": false,
   "toc_position": {},
   "toc_section_display": true,
   "toc_window_display": false
  }
 },
 "nbformat": 4,
 "nbformat_minor": 5
}
