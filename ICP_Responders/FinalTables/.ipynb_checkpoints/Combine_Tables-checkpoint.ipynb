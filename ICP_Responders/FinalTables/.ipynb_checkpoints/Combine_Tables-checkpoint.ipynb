{
 "cells": [
  {
   "cell_type": "markdown",
   "id": "1849f2e6",
   "metadata": {},
   "source": [
    "# Combine Tables"
   ]
  },
  {
   "cell_type": "code",
   "execution_count": 1,
   "id": "aade5611",
   "metadata": {},
   "outputs": [],
   "source": [
    "setwd(\"/home/jp/ICP_Responders/FinalTables\")"
   ]
  },
  {
   "cell_type": "code",
   "execution_count": 2,
   "id": "9e9f8c17",
   "metadata": {
    "scrolled": true
   },
   "outputs": [
    {
     "name": "stderr",
     "output_type": "stream",
     "text": [
      "\n",
      "Attaching package: ‘dplyr’\n",
      "\n",
      "\n",
      "The following objects are masked from ‘package:plyr’:\n",
      "\n",
      "    arrange, count, desc, failwith, id, mutate, rename, summarise,\n",
      "    summarize\n",
      "\n",
      "\n",
      "The following objects are masked from ‘package:stats’:\n",
      "\n",
      "    filter, lag\n",
      "\n",
      "\n",
      "The following objects are masked from ‘package:base’:\n",
      "\n",
      "    intersect, setdiff, setequal, union\n",
      "\n",
      "\n"
     ]
    }
   ],
   "source": [
    "library(plyr)\n",
    "library(dplyr)"
   ]
  },
  {
   "cell_type": "markdown",
   "id": "883185a4",
   "metadata": {},
   "source": [
    "## Fetching Data"
   ]
  },
  {
   "cell_type": "code",
   "execution_count": 3,
   "id": "ec1829d3",
   "metadata": {},
   "outputs": [],
   "source": [
    "prat <- read.csv(\"Prat.csv\")\n",
    "prat <- prat[prat$Type %in% c(\"MELANOMA\"), ]  # The database from Prat et al., Cancer Res 2017 has data for multiple cancer types,\n",
    "                                              #picking only the melanoma samples\n",
    "gide_pn <- read.csv(\"Gide_pn.csv\")\n",
    "gide_pni <- read.csv(\"Gide_pni.csv\")\n",
    "hugo <- read.csv(\"Hugo.csv\")\n",
    "lauss <- read.csv(\"Lauss.csv\")\n",
    "nathanson <- read.csv(\"Nathanson_pre.csv\")\n",
    "riaz_naive <- read.csv(\"Riaz_naive.csv\")\n",
    "riaz_prog <- read.csv(\"Riaz_prog.csv\")"
   ]
  },
  {
   "cell_type": "code",
   "execution_count": 4,
   "id": "c91f70bb",
   "metadata": {},
   "outputs": [],
   "source": [
    "# Removing unnecessary X  from entrez ID as R adds it as a suffix to colnames with numeric characters\n",
    "names(prat) <- sub(\"^X\", \"\", names(prat))\n",
    "names(gide_pni) <- sub(\"^X\", \"\", names(gide_pni))\n",
    "names(gide_pn) <- sub(\"^X\", \"\", names(gide_pn))\n",
    "names(hugo) <- sub(\"^X\", \"\", names(hugo))\n",
    "names(lauss) <- sub(\"^X\", \"\", names(lauss))\n",
    "names(nathanson) <- sub(\"^X\", \"\", names(nathanson))\n",
    "names(riaz_naive) <- sub(\"^X\", \"\", names(riaz_naive))\n",
    "names(riaz_prog) <- sub(\"^X\", \"\", names(riaz_prog))"
   ]
  },
  {
   "cell_type": "code",
   "execution_count": 58,
   "id": "28aab01b",
   "metadata": {},
   "outputs": [
    {
     "data": {
      "text/html": [
       "25"
      ],
      "text/latex": [
       "25"
      ],
      "text/markdown": [
       "25"
      ],
      "text/plain": [
       "[1] 25"
      ]
     },
     "metadata": {},
     "output_type": "display_data"
    },
    {
     "data": {
      "text/html": [
       "54"
      ],
      "text/latex": [
       "54"
      ],
      "text/markdown": [
       "54"
      ],
      "text/plain": [
       "[1] 54"
      ]
     },
     "metadata": {},
     "output_type": "display_data"
    },
    {
     "data": {
      "text/html": [
       "51"
      ],
      "text/latex": [
       "51"
      ],
      "text/markdown": [
       "51"
      ],
      "text/plain": [
       "[1] 51"
      ]
     },
     "metadata": {},
     "output_type": "display_data"
    },
    {
     "data": {
      "text/html": [
       "38"
      ],
      "text/latex": [
       "38"
      ],
      "text/markdown": [
       "38"
      ],
      "text/plain": [
       "[1] 38"
      ]
     },
     "metadata": {},
     "output_type": "display_data"
    },
    {
     "data": {
      "text/html": [
       "27"
      ],
      "text/latex": [
       "27"
      ],
      "text/markdown": [
       "27"
      ],
      "text/plain": [
       "[1] 27"
      ]
     },
     "metadata": {},
     "output_type": "display_data"
    },
    {
     "data": {
      "text/html": [
       "9"
      ],
      "text/latex": [
       "9"
      ],
      "text/markdown": [
       "9"
      ],
      "text/plain": [
       "[1] 9"
      ]
     },
     "metadata": {},
     "output_type": "display_data"
    },
    {
     "data": {
      "text/html": [
       "25"
      ],
      "text/latex": [
       "25"
      ],
      "text/markdown": [
       "25"
      ],
      "text/plain": [
       "[1] 25"
      ]
     },
     "metadata": {},
     "output_type": "display_data"
    },
    {
     "data": {
      "text/html": [
       "26"
      ],
      "text/latex": [
       "26"
      ],
      "text/markdown": [
       "26"
      ],
      "text/plain": [
       "[1] 26"
      ]
     },
     "metadata": {},
     "output_type": "display_data"
    }
   ],
   "source": [
    "nrow(prat)\n",
    "nrow(gide_pn)\n",
    "nrow(gide_pni)\n",
    "nrow(hugo)\n",
    "nrow(lauss)\n",
    "nrow(nathanson)\n",
    "nrow(riaz_naive)\n",
    "nrow(riaz_prog)"
   ]
  },
  {
   "cell_type": "code",
   "execution_count": 6,
   "id": "7af23c2a",
   "metadata": {},
   "outputs": [
    {
     "data": {
      "text/html": [
       "<style>\n",
       ".list-inline {list-style: none; margin:0; padding: 0}\n",
       ".list-inline>li {display: inline-block}\n",
       ".list-inline>li:not(:last-child)::after {content: \"\\00b7\"; padding: 0 .5ex}\n",
       "</style>\n",
       "<ol class=list-inline><li>'PFS'</li><li>'PFS.Event'</li></ol>\n"
      ],
      "text/latex": [
       "\\begin{enumerate*}\n",
       "\\item 'PFS'\n",
       "\\item 'PFS.Event'\n",
       "\\end{enumerate*}\n"
      ],
      "text/markdown": [
       "1. 'PFS'\n",
       "2. 'PFS.Event'\n",
       "\n",
       "\n"
      ],
      "text/plain": [
       "[1] \"PFS\"       \"PFS.Event\""
      ]
     },
     "metadata": {},
     "output_type": "display_data"
    }
   ],
   "source": [
    "grep(\"\\\\bPFS\\\\b\",names(prat), value=T)"
   ]
  },
  {
   "cell_type": "markdown",
   "id": "c4910d89",
   "metadata": {},
   "source": [
    "## Finding common clinical data"
   ]
  },
  {
   "cell_type": "code",
   "execution_count": 26,
   "id": "e1093419",
   "metadata": {},
   "outputs": [],
   "source": [
    "gide_pn_cl <- gide_pn\n",
    "gide_pni_cl <- gide_pni\n",
    "hugo_cl <- hugo\n",
    "prat_cl <- prat\n",
    "nathanson_cl <- nathanson\n",
    "lauss_cl <- lauss\n",
    "riaz_naive_cl <- riaz_naive\n",
    "riaz_prog_cl <- riaz_prog\n",
    "\n",
    "prat_cl$OS <- NA\n",
    "prat_cl$OS.Event <- NA\n",
    "lauss_cl$Gender <- NA\n",
    "lauss_cl$Age <- NA\n",
    "nathanson_cl$Age <- NA"
   ]
  },
  {
   "cell_type": "code",
   "execution_count": 72,
   "id": "47400eb4",
   "metadata": {},
   "outputs": [
    {
     "data": {
      "text/plain": [
       "\n",
       "        0         1 \n",
       "0.4814815 0.5185185 "
      ]
     },
     "metadata": {},
     "output_type": "display_data"
    },
    {
     "data": {
      "text/plain": [
       "\n",
       "        0         1 \n",
       "0.3137255 0.6862745 "
      ]
     },
     "metadata": {},
     "output_type": "display_data"
    },
    {
     "data": {
      "text/plain": [
       "\n",
       "        0         1 \n",
       "0.4473684 0.5526316 "
      ]
     },
     "metadata": {},
     "output_type": "display_data"
    },
    {
     "data": {
      "text/plain": [
       "\n",
       "   0    1 \n",
       "0.56 0.44 "
      ]
     },
     "metadata": {},
     "output_type": "display_data"
    },
    {
     "data": {
      "text/plain": [
       "\n",
       "        0         1 \n",
       "0.5555556 0.4444444 "
      ]
     },
     "metadata": {},
     "output_type": "display_data"
    },
    {
     "data": {
      "text/plain": [
       "\n",
       "        0         1 \n",
       "0.5555556 0.4444444 "
      ]
     },
     "metadata": {},
     "output_type": "display_data"
    },
    {
     "data": {
      "text/plain": [
       "\n",
       "   0    1 \n",
       "0.76 0.24 "
      ]
     },
     "metadata": {},
     "output_type": "display_data"
    },
    {
     "data": {
      "text/plain": [
       "\n",
       "        0         1 \n",
       "0.8461538 0.1538462 "
      ]
     },
     "metadata": {},
     "output_type": "display_data"
    }
   ],
   "source": [
    "prop.table(table(gide_pn$Response))\n",
    "prop.table(table(gide_pni$Response))\n",
    "prop.table(table(hugo$Response))\n",
    "prop.table(table(prat$Response))\n",
    "prop.table(table(nathanson$Response))\n",
    "prop.table(table(lauss$Response))\n",
    "prop.table(table(riaz_naive$Response))\n",
    "prop.table(table(riaz_prog$Response))"
   ]
  },
  {
   "cell_type": "code",
   "execution_count": 48,
   "id": "ab1ba8cb",
   "metadata": {
    "scrolled": true
   },
   "outputs": [
    {
     "name": "stderr",
     "output_type": "stream",
     "text": [
      "Warning message in `[<-.factor`(`*tmp*`, ri, value = c(1L, 10L, 11L, 12L, 13L, 14L, :\n",
      "“invalid factor level, NA generated”\n",
      "Warning message in `[<-.factor`(`*tmp*`, ri, value = c(1L, 10L, 11L, 12L, 13L, 14L, :\n",
      "“invalid factor level, NA generated”\n"
     ]
    }
   ],
   "source": [
    "final_table_clinical <- Reduce(function(x,y) rbind(x, y), \n",
    "                               list(prat_cl[,c(\"Patient\", \"Response\", \"Age\", \"Gender\", \"OS\", \"OS.Event\")],\n",
    "                                    gide_pn_cl[,c(\"Patient\", \"Response\", \"Age\", \"Gender\", \"OS\", \"OS.Event\")],\n",
    "                                    gide_pni_cl[,c(\"Patient\", \"Response\", \"Age\", \"Gender\", \"OS\", \"OS.Event\")],\n",
    "                                    hugo_cl[,c(\"Patient\", \"Response\", \"Age\", \"Gender\", \"OS\", \"OS.Event\")],\n",
    "                                    lauss_cl[,c(\"Patient\", \"Response\", \"Age\", \"Gender\", \"OS\", \"OS.Event\")],\n",
    "                                    nathanson_cl[,c(\"Patient\", \"Response\", \"Age\", \"Gender\", \"OS\", \"OS.Event\")],\n",
    "                                    riaz_naive_cl[,c(\"Patient\", \"Response\", \"Age\", \"Gender\", \"OS\", \"OS.Event\")],\n",
    "                                    riaz_prog_cl[,c(\"Patient\", \"Response\", \"Age\", \"Gender\", \"OS\", \"OS.Event\")]\n",
    "                                    )                               \n",
    "                               )"
   ]
  },
  {
   "cell_type": "code",
   "execution_count": 54,
   "id": "db65e340",
   "metadata": {},
   "outputs": [
    {
     "data": {
      "text/html": [
       "<style>\n",
       ".list-inline {list-style: none; margin:0; padding: 0}\n",
       ".list-inline>li {display: inline-block}\n",
       ".list-inline>li:not(:last-child)::after {content: \"\\00b7\"; padding: 0 .5ex}\n",
       "</style>\n",
       "<ol class=list-inline><li>'Patient'</li><li>'Response'</li><li>'Age'</li><li>'Gender'</li><li>'OS'</li><li>'OS.Event'</li></ol>\n"
      ],
      "text/latex": [
       "\\begin{enumerate*}\n",
       "\\item 'Patient'\n",
       "\\item 'Response'\n",
       "\\item 'Age'\n",
       "\\item 'Gender'\n",
       "\\item 'OS'\n",
       "\\item 'OS.Event'\n",
       "\\end{enumerate*}\n"
      ],
      "text/markdown": [
       "1. 'Patient'\n",
       "2. 'Response'\n",
       "3. 'Age'\n",
       "4. 'Gender'\n",
       "5. 'OS'\n",
       "6. 'OS.Event'\n",
       "\n",
       "\n"
      ],
      "text/plain": [
       "[1] \"Patient\"  \"Response\" \"Age\"      \"Gender\"   \"OS\"       \"OS.Event\""
      ]
     },
     "metadata": {},
     "output_type": "display_data"
    },
    {
     "data": {
      "text/html": [
       "<style>\n",
       ".list-inline {list-style: none; margin:0; padding: 0}\n",
       ".list-inline>li {display: inline-block}\n",
       ".list-inline>li:not(:last-child)::after {content: \"\\00b7\"; padding: 0 .5ex}\n",
       "</style>\n",
       "<ol class=list-inline><li>255</li><li>6</li></ol>\n"
      ],
      "text/latex": [
       "\\begin{enumerate*}\n",
       "\\item 255\n",
       "\\item 6\n",
       "\\end{enumerate*}\n"
      ],
      "text/markdown": [
       "1. 255\n",
       "2. 6\n",
       "\n",
       "\n"
      ],
      "text/plain": [
       "[1] 255   6"
      ]
     },
     "metadata": {},
     "output_type": "display_data"
    },
    {
     "data": {
      "text/html": [
       "<table>\n",
       "<caption>A data.frame: 6 × 6</caption>\n",
       "<thead>\n",
       "\t<tr><th></th><th scope=col>Patient</th><th scope=col>Response</th><th scope=col>Age</th><th scope=col>Gender</th><th scope=col>OS</th><th scope=col>OS.Event</th></tr>\n",
       "\t<tr><th></th><th scope=col>&lt;fct&gt;</th><th scope=col>&lt;int&gt;</th><th scope=col>&lt;int&gt;</th><th scope=col>&lt;int&gt;</th><th scope=col>&lt;dbl&gt;</th><th scope=col>&lt;int&gt;</th></tr>\n",
       "</thead>\n",
       "<tbody>\n",
       "\t<tr><th scope=row>36</th><td>A41</td><td>0</td><td>68</td><td>1</td><td>NA</td><td>NA</td></tr>\n",
       "\t<tr><th scope=row>37</th><td>A42</td><td>0</td><td>59</td><td>0</td><td>NA</td><td>NA</td></tr>\n",
       "\t<tr><th scope=row>38</th><td>A43</td><td>0</td><td>70</td><td>0</td><td>NA</td><td>NA</td></tr>\n",
       "\t<tr><th scope=row>39</th><td>A44</td><td>1</td><td>83</td><td>1</td><td>NA</td><td>NA</td></tr>\n",
       "\t<tr><th scope=row>40</th><td>A45</td><td>0</td><td>80</td><td>0</td><td>NA</td><td>NA</td></tr>\n",
       "\t<tr><th scope=row>41</th><td>A46</td><td>0</td><td>50</td><td>0</td><td>NA</td><td>NA</td></tr>\n",
       "</tbody>\n",
       "</table>\n"
      ],
      "text/latex": [
       "A data.frame: 6 × 6\n",
       "\\begin{tabular}{r|llllll}\n",
       "  & Patient & Response & Age & Gender & OS & OS.Event\\\\\n",
       "  & <fct> & <int> & <int> & <int> & <dbl> & <int>\\\\\n",
       "\\hline\n",
       "\t36 & A41 & 0 & 68 & 1 & NA & NA\\\\\n",
       "\t37 & A42 & 0 & 59 & 0 & NA & NA\\\\\n",
       "\t38 & A43 & 0 & 70 & 0 & NA & NA\\\\\n",
       "\t39 & A44 & 1 & 83 & 1 & NA & NA\\\\\n",
       "\t40 & A45 & 0 & 80 & 0 & NA & NA\\\\\n",
       "\t41 & A46 & 0 & 50 & 0 & NA & NA\\\\\n",
       "\\end{tabular}\n"
      ],
      "text/markdown": [
       "\n",
       "A data.frame: 6 × 6\n",
       "\n",
       "| <!--/--> | Patient &lt;fct&gt; | Response &lt;int&gt; | Age &lt;int&gt; | Gender &lt;int&gt; | OS &lt;dbl&gt; | OS.Event &lt;int&gt; |\n",
       "|---|---|---|---|---|---|---|\n",
       "| 36 | A41 | 0 | 68 | 1 | NA | NA |\n",
       "| 37 | A42 | 0 | 59 | 0 | NA | NA |\n",
       "| 38 | A43 | 0 | 70 | 0 | NA | NA |\n",
       "| 39 | A44 | 1 | 83 | 1 | NA | NA |\n",
       "| 40 | A45 | 0 | 80 | 0 | NA | NA |\n",
       "| 41 | A46 | 0 | 50 | 0 | NA | NA |\n",
       "\n"
      ],
      "text/plain": [
       "   Patient Response Age Gender OS OS.Event\n",
       "36 A41     0        68  1      NA NA      \n",
       "37 A42     0        59  0      NA NA      \n",
       "38 A43     0        70  0      NA NA      \n",
       "39 A44     1        83  1      NA NA      \n",
       "40 A45     0        80  0      NA NA      \n",
       "41 A46     0        50  0      NA NA      "
      ]
     },
     "metadata": {},
     "output_type": "display_data"
    }
   ],
   "source": [
    "# final_table_clinical <- final_table_clinical[,c(1:5,9)]\n",
    "colnames(final_table_clinical)\n",
    "dim(final_table_clinical)\n",
    "head(final_table_clinical)"
   ]
  },
  {
   "cell_type": "markdown",
   "id": "03ace55a",
   "metadata": {},
   "source": [
    "## Finding common column names for gene expression\n"
   ]
  },
  {
   "cell_type": "code",
   "execution_count": null,
   "id": "9f824232",
   "metadata": {},
   "outputs": [],
   "source": []
  },
  {
   "cell_type": "code",
   "execution_count": null,
   "id": "feafc0f0",
   "metadata": {},
   "outputs": [],
   "source": []
  },
  {
   "cell_type": "code",
   "execution_count": 96,
   "id": "fe06a493",
   "metadata": {},
   "outputs": [
    {
     "data": {
      "text/html": [
       "<table>\n",
       "<caption>A data.frame: 6 × 674</caption>\n",
       "<thead>\n",
       "\t<tr><th></th><th scope=col>Patient</th><th scope=col>Response</th><th scope=col>3920</th><th scope=col>345611</th><th scope=col>3929</th><th scope=col>54210</th><th scope=col>3716</th><th scope=col>10454</th><th scope=col>3557</th><th scope=col>3556</th><th scope=col>⋯</th><th scope=col>80380</th><th scope=col>80381</th><th scope=col>2002</th><th scope=col>353514</th><th scope=col>4940</th><th scope=col>84166</th><th scope=col>6236</th><th scope=col>80153</th><th scope=col>4851</th><th scope=col>4582</th></tr>\n",
       "\t<tr><th></th><th scope=col>&lt;chr&gt;</th><th scope=col>&lt;int&gt;</th><th scope=col>&lt;dbl&gt;</th><th scope=col>&lt;dbl&gt;</th><th scope=col>&lt;dbl&gt;</th><th scope=col>&lt;dbl&gt;</th><th scope=col>&lt;dbl&gt;</th><th scope=col>&lt;dbl&gt;</th><th scope=col>&lt;dbl&gt;</th><th scope=col>&lt;dbl&gt;</th><th scope=col>⋯</th><th scope=col>&lt;dbl&gt;</th><th scope=col>&lt;dbl&gt;</th><th scope=col>&lt;dbl&gt;</th><th scope=col>&lt;dbl&gt;</th><th scope=col>&lt;dbl&gt;</th><th scope=col>&lt;dbl&gt;</th><th scope=col>&lt;dbl&gt;</th><th scope=col>&lt;dbl&gt;</th><th scope=col>&lt;dbl&gt;</th><th scope=col>&lt;dbl&gt;</th></tr>\n",
       "</thead>\n",
       "<tbody>\n",
       "\t<tr><th scope=row>250</th><td>Pt79</td><td>0</td><td> 1.00084295</td><td>-0.08410945</td><td>-0.8151114</td><td>-0.8809378</td><td> 0.09149843</td><td> 0.20453385</td><td>-1.4849841</td><td> 0.2877233</td><td>⋯</td><td>-0.21858772</td><td>-1.3268485</td><td> 0.04378626</td><td>-1.3572572</td><td>-1.0392013</td><td> 0.4126503</td><td>-0.2980641</td><td> 0.8097202</td><td> 0.4158430</td><td>-0.6365383</td></tr>\n",
       "\t<tr><th scope=row>251</th><td>Pt82</td><td>0</td><td>-0.23291868</td><td> 0.15572320</td><td> 1.9216673</td><td>-0.4435866</td><td>-0.73373452</td><td>-0.35362718</td><td>-0.5434037</td><td>-0.6147333</td><td>⋯</td><td>-0.00836145</td><td>-0.2967438</td><td>-0.55640634</td><td>-0.5932861</td><td>-1.6750865</td><td>-0.5852694</td><td>-0.1074941</td><td>-0.1635896</td><td>-0.3720574</td><td>-0.5057028</td></tr>\n",
       "\t<tr><th scope=row>252</th><td>Pt85</td><td>0</td><td> 0.85942880</td><td>-0.15020085</td><td>-1.0122270</td><td> 0.8211893</td><td>-0.25756343</td><td>-0.01167449</td><td> 0.3953208</td><td> 2.3851941</td><td>⋯</td><td>-1.06841409</td><td> 0.1162816</td><td> 0.85260746</td><td>-0.8222788</td><td>-0.4949079</td><td>-0.4449492</td><td>-0.2980641</td><td>-0.8755626</td><td>-0.7496690</td><td>-0.2647822</td></tr>\n",
       "\t<tr><th scope=row>253</th><td>Pt90</td><td>0</td><td> 0.33766871</td><td>-0.10310139</td><td>-0.2166535</td><td> 2.2832531</td><td>-0.55409585</td><td>-0.55146658</td><td> 4.4701978</td><td>-0.6542684</td><td>⋯</td><td> 0.38330421</td><td> 0.3997010</td><td>-0.22059600</td><td> 2.2725026</td><td> 0.5470087</td><td>-0.3142405</td><td> 0.3161637</td><td>-0.7258247</td><td>-0.3960919</td><td> 0.5797279</td></tr>\n",
       "\t<tr><th scope=row>254</th><td>Pt92</td><td>0</td><td>-0.07670529</td><td>-0.05276197</td><td>-1.0324625</td><td>-0.8334151</td><td> 0.09497564</td><td> 0.83299736</td><td> 0.5185093</td><td>-0.8195689</td><td>⋯</td><td> 0.77019116</td><td> 0.1421818</td><td>-0.07986178</td><td> 1.1948504</td><td> 2.4069452</td><td> 1.0292690</td><td>-0.2398134</td><td>-0.1469826</td><td> 0.4518477</td><td> 0.4970701</td></tr>\n",
       "\t<tr><th scope=row>255</th><td>Pt98</td><td>0</td><td>-0.23680940</td><td> 0.13284822</td><td>-0.8941238</td><td>-0.8772226</td><td>-1.03849917</td><td> 0.32901564</td><td>-0.2184458</td><td>-0.5791981</td><td>⋯</td><td>-0.76589755</td><td>-0.4283180</td><td>-0.02139695</td><td>-0.4832295</td><td>-1.2544656</td><td>-0.9195794</td><td>-0.2623213</td><td> 0.5461429</td><td>-0.1548215</td><td>-0.5183832</td></tr>\n",
       "</tbody>\n",
       "</table>\n"
      ],
      "text/latex": [
       "A data.frame: 6 × 674\n",
       "\\begin{tabular}{r|lllllllllllllllllllll}\n",
       "  & Patient & Response & 3920 & 345611 & 3929 & 54210 & 3716 & 10454 & 3557 & 3556 & ⋯ & 80380 & 80381 & 2002 & 353514 & 4940 & 84166 & 6236 & 80153 & 4851 & 4582\\\\\n",
       "  & <chr> & <int> & <dbl> & <dbl> & <dbl> & <dbl> & <dbl> & <dbl> & <dbl> & <dbl> & ⋯ & <dbl> & <dbl> & <dbl> & <dbl> & <dbl> & <dbl> & <dbl> & <dbl> & <dbl> & <dbl>\\\\\n",
       "\\hline\n",
       "\t250 & Pt79 & 0 &  1.00084295 & -0.08410945 & -0.8151114 & -0.8809378 &  0.09149843 &  0.20453385 & -1.4849841 &  0.2877233 & ⋯ & -0.21858772 & -1.3268485 &  0.04378626 & -1.3572572 & -1.0392013 &  0.4126503 & -0.2980641 &  0.8097202 &  0.4158430 & -0.6365383\\\\\n",
       "\t251 & Pt82 & 0 & -0.23291868 &  0.15572320 &  1.9216673 & -0.4435866 & -0.73373452 & -0.35362718 & -0.5434037 & -0.6147333 & ⋯ & -0.00836145 & -0.2967438 & -0.55640634 & -0.5932861 & -1.6750865 & -0.5852694 & -0.1074941 & -0.1635896 & -0.3720574 & -0.5057028\\\\\n",
       "\t252 & Pt85 & 0 &  0.85942880 & -0.15020085 & -1.0122270 &  0.8211893 & -0.25756343 & -0.01167449 &  0.3953208 &  2.3851941 & ⋯ & -1.06841409 &  0.1162816 &  0.85260746 & -0.8222788 & -0.4949079 & -0.4449492 & -0.2980641 & -0.8755626 & -0.7496690 & -0.2647822\\\\\n",
       "\t253 & Pt90 & 0 &  0.33766871 & -0.10310139 & -0.2166535 &  2.2832531 & -0.55409585 & -0.55146658 &  4.4701978 & -0.6542684 & ⋯ &  0.38330421 &  0.3997010 & -0.22059600 &  2.2725026 &  0.5470087 & -0.3142405 &  0.3161637 & -0.7258247 & -0.3960919 &  0.5797279\\\\\n",
       "\t254 & Pt92 & 0 & -0.07670529 & -0.05276197 & -1.0324625 & -0.8334151 &  0.09497564 &  0.83299736 &  0.5185093 & -0.8195689 & ⋯ &  0.77019116 &  0.1421818 & -0.07986178 &  1.1948504 &  2.4069452 &  1.0292690 & -0.2398134 & -0.1469826 &  0.4518477 &  0.4970701\\\\\n",
       "\t255 & Pt98 & 0 & -0.23680940 &  0.13284822 & -0.8941238 & -0.8772226 & -1.03849917 &  0.32901564 & -0.2184458 & -0.5791981 & ⋯ & -0.76589755 & -0.4283180 & -0.02139695 & -0.4832295 & -1.2544656 & -0.9195794 & -0.2623213 &  0.5461429 & -0.1548215 & -0.5183832\\\\\n",
       "\\end{tabular}\n"
      ],
      "text/markdown": [
       "\n",
       "A data.frame: 6 × 674\n",
       "\n",
       "| <!--/--> | Patient &lt;chr&gt; | Response &lt;int&gt; | 3920 &lt;dbl&gt; | 345611 &lt;dbl&gt; | 3929 &lt;dbl&gt; | 54210 &lt;dbl&gt; | 3716 &lt;dbl&gt; | 10454 &lt;dbl&gt; | 3557 &lt;dbl&gt; | 3556 &lt;dbl&gt; | ⋯ ⋯ | 80380 &lt;dbl&gt; | 80381 &lt;dbl&gt; | 2002 &lt;dbl&gt; | 353514 &lt;dbl&gt; | 4940 &lt;dbl&gt; | 84166 &lt;dbl&gt; | 6236 &lt;dbl&gt; | 80153 &lt;dbl&gt; | 4851 &lt;dbl&gt; | 4582 &lt;dbl&gt; |\n",
       "|---|---|---|---|---|---|---|---|---|---|---|---|---|---|---|---|---|---|---|---|---|---|\n",
       "| 250 | Pt79 | 0 |  1.00084295 | -0.08410945 | -0.8151114 | -0.8809378 |  0.09149843 |  0.20453385 | -1.4849841 |  0.2877233 | ⋯ | -0.21858772 | -1.3268485 |  0.04378626 | -1.3572572 | -1.0392013 |  0.4126503 | -0.2980641 |  0.8097202 |  0.4158430 | -0.6365383 |\n",
       "| 251 | Pt82 | 0 | -0.23291868 |  0.15572320 |  1.9216673 | -0.4435866 | -0.73373452 | -0.35362718 | -0.5434037 | -0.6147333 | ⋯ | -0.00836145 | -0.2967438 | -0.55640634 | -0.5932861 | -1.6750865 | -0.5852694 | -0.1074941 | -0.1635896 | -0.3720574 | -0.5057028 |\n",
       "| 252 | Pt85 | 0 |  0.85942880 | -0.15020085 | -1.0122270 |  0.8211893 | -0.25756343 | -0.01167449 |  0.3953208 |  2.3851941 | ⋯ | -1.06841409 |  0.1162816 |  0.85260746 | -0.8222788 | -0.4949079 | -0.4449492 | -0.2980641 | -0.8755626 | -0.7496690 | -0.2647822 |\n",
       "| 253 | Pt90 | 0 |  0.33766871 | -0.10310139 | -0.2166535 |  2.2832531 | -0.55409585 | -0.55146658 |  4.4701978 | -0.6542684 | ⋯ |  0.38330421 |  0.3997010 | -0.22059600 |  2.2725026 |  0.5470087 | -0.3142405 |  0.3161637 | -0.7258247 | -0.3960919 |  0.5797279 |\n",
       "| 254 | Pt92 | 0 | -0.07670529 | -0.05276197 | -1.0324625 | -0.8334151 |  0.09497564 |  0.83299736 |  0.5185093 | -0.8195689 | ⋯ |  0.77019116 |  0.1421818 | -0.07986178 |  1.1948504 |  2.4069452 |  1.0292690 | -0.2398134 | -0.1469826 |  0.4518477 |  0.4970701 |\n",
       "| 255 | Pt98 | 0 | -0.23680940 |  0.13284822 | -0.8941238 | -0.8772226 | -1.03849917 |  0.32901564 | -0.2184458 | -0.5791981 | ⋯ | -0.76589755 | -0.4283180 | -0.02139695 | -0.4832295 | -1.2544656 | -0.9195794 | -0.2623213 |  0.5461429 | -0.1548215 | -0.5183832 |\n",
       "\n"
      ],
      "text/plain": [
       "    Patient Response 3920        345611      3929       54210      3716       \n",
       "250 Pt79    0         1.00084295 -0.08410945 -0.8151114 -0.8809378  0.09149843\n",
       "251 Pt82    0        -0.23291868  0.15572320  1.9216673 -0.4435866 -0.73373452\n",
       "252 Pt85    0         0.85942880 -0.15020085 -1.0122270  0.8211893 -0.25756343\n",
       "253 Pt90    0         0.33766871 -0.10310139 -0.2166535  2.2832531 -0.55409585\n",
       "254 Pt92    0        -0.07670529 -0.05276197 -1.0324625 -0.8334151  0.09497564\n",
       "255 Pt98    0        -0.23680940  0.13284822 -0.8941238 -0.8772226 -1.03849917\n",
       "    10454       3557       3556       ⋯ 80380       80381      2002       \n",
       "250  0.20453385 -1.4849841  0.2877233 ⋯ -0.21858772 -1.3268485  0.04378626\n",
       "251 -0.35362718 -0.5434037 -0.6147333 ⋯ -0.00836145 -0.2967438 -0.55640634\n",
       "252 -0.01167449  0.3953208  2.3851941 ⋯ -1.06841409  0.1162816  0.85260746\n",
       "253 -0.55146658  4.4701978 -0.6542684 ⋯  0.38330421  0.3997010 -0.22059600\n",
       "254  0.83299736  0.5185093 -0.8195689 ⋯  0.77019116  0.1421818 -0.07986178\n",
       "255  0.32901564 -0.2184458 -0.5791981 ⋯ -0.76589755 -0.4283180 -0.02139695\n",
       "    353514     4940       84166      6236       80153      4851      \n",
       "250 -1.3572572 -1.0392013  0.4126503 -0.2980641  0.8097202  0.4158430\n",
       "251 -0.5932861 -1.6750865 -0.5852694 -0.1074941 -0.1635896 -0.3720574\n",
       "252 -0.8222788 -0.4949079 -0.4449492 -0.2980641 -0.8755626 -0.7496690\n",
       "253  2.2725026  0.5470087 -0.3142405  0.3161637 -0.7258247 -0.3960919\n",
       "254  1.1948504  2.4069452  1.0292690 -0.2398134 -0.1469826  0.4518477\n",
       "255 -0.4832295 -1.2544656 -0.9195794 -0.2623213  0.5461429 -0.1548215\n",
       "    4582      \n",
       "250 -0.6365383\n",
       "251 -0.5057028\n",
       "252 -0.2647822\n",
       "253  0.5797279\n",
       "254  0.4970701\n",
       "255 -0.5183832"
      ]
     },
     "metadata": {},
     "output_type": "display_data"
    }
   ],
   "source": [
    "common_col_names <- Reduce(intersect, list(names(prat),names(gide_pn),names(gide_pni),\n",
    "                                                                      names(hugo),names(lauss), names(nathanson),\n",
    "                                                                      names(riaz_naive), names(riaz_prog)))\n",
    "\n",
    "prat_sub <- prat[ , common_col_names]   \n",
    "gide_pni_sub <- gide_pni[ , common_col_names]   \n",
    "gide_pn_sub <- gide_pn[ , common_col_names]  \n",
    "hugo_sub <- hugo[ , common_col_names]  \n",
    "lauss_sub <- lauss[ , common_col_names]\n",
    "nathanson_sub <- nathanson[ , common_col_names]\n",
    "riaz_naive_sub <- riaz_naive[ , common_col_names]\n",
    "riaz_prog_sub <- riaz_prog[ , common_col_names]\n",
    "\n",
    "final_table_response_and_expression <- rbind.fill(prat_sub,gide_pn_sub,gide_pni_sub,hugo_sub,lauss_sub,\n",
    "                                                  nathanson_sub,riaz_naive_sub, riaz_prog_sub)\n",
    "tail(final_table_response_and_expression)"
   ]
  },
  {
   "cell_type": "code",
   "execution_count": 69,
   "id": "4fb60099",
   "metadata": {},
   "outputs": [
    {
     "data": {
      "text/plain": [
       "\n",
       "        0         1 \n",
       "0.5254902 0.4745098 "
      ]
     },
     "metadata": {},
     "output_type": "display_data"
    }
   ],
   "source": [
    "prop.table(table(final_table_response_and_expression$Response))"
   ]
  },
  {
   "cell_type": "markdown",
   "id": "7f85a06e",
   "metadata": {},
   "source": [
    "\n",
    "# Writing final csv"
   ]
  },
  {
   "cell_type": "code",
   "execution_count": 55,
   "id": "913e65f8",
   "metadata": {},
   "outputs": [],
   "source": [
    "write.csv(final_table_response_and_expression, \"Final_table_response_and_expression.csv\", row.names = FALSE)\n",
    "write.csv(final_table_clinical, \"Final_table_clinical.csv\", row.names = FALSE)"
   ]
  },
  {
   "cell_type": "code",
   "execution_count": 56,
   "id": "2a52df65",
   "metadata": {
    "scrolled": true
   },
   "outputs": [
    {
     "data": {
      "text/html": [
       "<style>\n",
       ".list-inline {list-style: none; margin:0; padding: 0}\n",
       ".list-inline>li {display: inline-block}\n",
       ".list-inline>li:not(:last-child)::after {content: \"\\00b7\"; padding: 0 .5ex}\n",
       "</style>\n",
       "<ol class=list-inline><li>'Patient'</li><li>'Response'</li><li>'3920'</li><li>'345611'</li><li>'3929'</li><li>'54210'</li></ol>\n"
      ],
      "text/latex": [
       "\\begin{enumerate*}\n",
       "\\item 'Patient'\n",
       "\\item 'Response'\n",
       "\\item '3920'\n",
       "\\item '345611'\n",
       "\\item '3929'\n",
       "\\item '54210'\n",
       "\\end{enumerate*}\n"
      ],
      "text/markdown": [
       "1. 'Patient'\n",
       "2. 'Response'\n",
       "3. '3920'\n",
       "4. '345611'\n",
       "5. '3929'\n",
       "6. '54210'\n",
       "\n",
       "\n"
      ],
      "text/plain": [
       "[1] \"Patient\"  \"Response\" \"3920\"     \"345611\"   \"3929\"     \"54210\"   "
      ]
     },
     "metadata": {},
     "output_type": "display_data"
    }
   ],
   "source": [
    "df <- read.csv(\"Final_table_response_and_expression.csv\")\n",
    "names(df) <- sub(\"^X\", \"\", names(df))\n",
    "head(names(df))"
   ]
  },
  {
   "cell_type": "code",
   "execution_count": 57,
   "id": "ee904f9b",
   "metadata": {},
   "outputs": [
    {
     "data": {
      "text/html": [
       "<style>\n",
       ".list-inline {list-style: none; margin:0; padding: 0}\n",
       ".list-inline>li {display: inline-block}\n",
       ".list-inline>li:not(:last-child)::after {content: \"\\00b7\"; padding: 0 .5ex}\n",
       "</style>\n",
       "<ol class=list-inline><li>'Patient'</li><li>'Response'</li><li>'Age'</li><li>'Gender'</li><li>'OS'</li><li>'OS.Event'</li></ol>\n"
      ],
      "text/latex": [
       "\\begin{enumerate*}\n",
       "\\item 'Patient'\n",
       "\\item 'Response'\n",
       "\\item 'Age'\n",
       "\\item 'Gender'\n",
       "\\item 'OS'\n",
       "\\item 'OS.Event'\n",
       "\\end{enumerate*}\n"
      ],
      "text/markdown": [
       "1. 'Patient'\n",
       "2. 'Response'\n",
       "3. 'Age'\n",
       "4. 'Gender'\n",
       "5. 'OS'\n",
       "6. 'OS.Event'\n",
       "\n",
       "\n"
      ],
      "text/plain": [
       "[1] \"Patient\"  \"Response\" \"Age\"      \"Gender\"   \"OS\"       \"OS.Event\""
      ]
     },
     "metadata": {},
     "output_type": "display_data"
    }
   ],
   "source": [
    "df <- read.csv(\"Final_table_clinical.csv\")\n",
    "names(df) <- sub(\"^X\", \"\", names(df))\n",
    "names(df)"
   ]
  },
  {
   "cell_type": "markdown",
   "id": "840c981a",
   "metadata": {},
   "source": [
    "# Clinical Variable Analysis"
   ]
  },
  {
   "cell_type": "code",
   "execution_count": 95,
   "id": "4e1295a3",
   "metadata": {},
   "outputs": [],
   "source": [
    "# common <- Reduce(intersect, list(\n",
    "#                                  names(prat),\n",
    "#                                  names(gide_pn),\n",
    "#                                  names(gide_pni),\n",
    "#                                  names(hugo)\n",
    "#                                  names(lauss), \n",
    "#                                  names(nathanson),\n",
    "#                                  names(riaz_naive) \n",
    "#                                  names(riaz_prog)\n",
    "#                                 )\n",
    "#                 )\n",
    "# length(common)\n",
    "# common"
   ]
  },
  {
   "cell_type": "code",
   "execution_count": 79,
   "id": "d07636c6",
   "metadata": {},
   "outputs": [
    {
     "data": {
      "text/plain": [
       "\n",
       "        0         1 \n",
       "0.6184211 0.3815789 "
      ]
     },
     "metadata": {},
     "output_type": "display_data"
    },
    {
     "data": {
      "text/plain": [
       "\n",
       "        19         22         24         27         33         34         36 \n",
       "0.00456621 0.00456621 0.00456621 0.00456621 0.01826484 0.00456621 0.00456621 \n",
       "        37         39         40         41         42         43         44 \n",
       "0.00913242 0.00456621 0.02283105 0.01369863 0.00913242 0.01369863 0.00456621 \n",
       "        45         46         47         48         49         50         51 \n",
       "0.02283105 0.00456621 0.03196347 0.03196347 0.02283105 0.00913242 0.02283105 \n",
       "        52         53         54         55         56         57         58 \n",
       "0.02739726 0.02283105 0.02283105 0.04109589 0.02739726 0.02739726 0.03652968 \n",
       "        59         60         61         62         63         64         65 \n",
       "0.03196347 0.02283105 0.03196347 0.02739726 0.03652968 0.02283105 0.00913242 \n",
       "        66         67         68         69         70         71         72 \n",
       "0.02283105 0.01826484 0.03196347 0.02283105 0.02739726 0.02739726 0.01826484 \n",
       "        73         74         75         76         78         79         80 \n",
       "0.00456621 0.02283105 0.01369863 0.02739726 0.00913242 0.01369863 0.01369863 \n",
       "        81         82         83         84         85         86         89 \n",
       "0.01369863 0.00913242 0.00913242 0.00913242 0.00456621 0.00913242 0.00913242 \n",
       "        90 \n",
       "0.00456621 "
      ]
     },
     "metadata": {},
     "output_type": "display_data"
    }
   ],
   "source": [
    "prop.table(table(final_table_clinical$Gender))\n",
    "prop.table(table(final_table_clinical$Age))"
   ]
  },
  {
   "cell_type": "code",
   "execution_count": 144,
   "id": "24d522b6",
   "metadata": {},
   "outputs": [
    {
     "data": {
      "text/plain": [
       "\n",
       "22 24 33 34 36 39 40 41 42 44 45 47 48 49 51 52 53 54 55 56 57 58 59 60 62 63 \n",
       " 1  1  4  1  1  1  1  1  1  1  2  2  4  2  3  3  2  2  2  3  3  4  3  2  1  3 \n",
       "64 66 67 68 70 71 72 73 74 75 76 79 81 \n",
       " 2  2  1  3  1  3  2  1  2  3  1  1  1 "
      ]
     },
     "metadata": {},
     "output_type": "display_data"
    },
    {
     "data": {
      "image/png": "[encoded data removed]",
      "text/plain": [
       "Plot with title “Age(Anti-CTLA4)”"
      ]
     },
     "metadata": {
      "image/png": {
       "height": 420,
       "width": 420
      },
      "text/plain": {
       "height": 420,
       "width": 420
      }
     },
     "output_type": "display_data"
    }
   ],
   "source": [
    "table(c(gide_pni$Age,riaz_prog$Age))\n",
    "x <- c(gide_pni$Age,riaz_prog$Age)\n",
    "hist(x,\n",
    "     main=\"Age(Anti-CTLA4)\",\n",
    "     breaks=seq(min(x), max(x)),\n",
    "     xlab=\"Age\",\n",
    "     ylab=\"Frequency\",\n",
    "     col = \"purple\")\n"
   ]
  },
  {
   "cell_type": "code",
   "execution_count": 125,
   "id": "14c5bf2e",
   "metadata": {},
   "outputs": [
    {
     "data": {
      "text/plain": [
       "\n",
       " 0  1 \n",
       "18  7 "
      ]
     },
     "metadata": {},
     "output_type": "display_data"
    },
    {
     "data": {
      "image/png": "[encoded data removed]",
      "text/plain": [
       "Plot with title “Gender(Prat Anti-PD1)”"
      ]
     },
     "metadata": {
      "image/png": {
       "height": 420,
       "width": 420
      },
      "text/plain": {
       "height": 420,
       "width": 420
      }
     },
     "output_type": "display_data"
    }
   ],
   "source": [
    "table(prat$Gender)\n",
    "\n",
    "barplot(table(prat$Gender),\n",
    "        main=\"Gender(Prat Anti-PD1)\",\n",
    "        xlab=\"Gender\",\n",
    "        ylab=\"Frequency\",\n",
    "        col = c(\"blue\",\"red\"))\n",
    "legend(\"topright\",\n",
    "c(\"Female\",\"Male\"),\n",
    "fill = c(\"blue\",\"red\")\n",
    ")"
   ]
  }
 ],
 "metadata": {
  "kernelspec": {
   "display_name": "R [conda env:jpEnv] *",
   "language": "R",
   "name": "conda-env-jpEnv-r"
  },
  "language_info": {
   "codemirror_mode": "r",
   "file_extension": ".r",
   "mimetype": "text/x-r-source",
   "name": "R",
   "pygments_lexer": "r",
   "version": "3.5.1"
  },
  "toc": {
   "base_numbering": 1,
   "nav_menu": {},
   "number_sections": true,
   "sideBar": true,
   "skip_h1_title": false,
   "title_cell": "Table of Contents",
   "title_sidebar": "Contents",
   "toc_cell": false,
   "toc_position": {},
   "toc_section_display": true,
   "toc_window_display": false
  }
 },
 "nbformat": 4,
 "nbformat_minor": 5
}
