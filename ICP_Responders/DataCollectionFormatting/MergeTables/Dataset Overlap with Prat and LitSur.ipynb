{
 "cells": [
  {
   "cell_type": "code",
   "execution_count": 2,
   "id": "110dab0d",
   "metadata": {},
   "outputs": [],
   "source": [
    "gide <- read.csv(\"/home/jp/ICP_Responders/DataCollectionFormatting/MergeTables/Gide_pn.csv\", check.names=FALSE)\n",
    "hugo <- read.csv(\"/home/jp/ICP_Responders/DataCollectionFormatting/MergeTables/Hugo.csv\", check.names=FALSE)\n",
    "riaz <- read.csv(\"/home/jp/ICP_Responders/DataCollectionFormatting/MergeTables/Riaz_naive.csv\", check.names=FALSE)\n",
    "amato <- read.csv(\"/home/jp/ICP_Responders/DataCollectionFormatting/MergeTables/Amato.csv\", check.names=FALSE)\n",
    "liu <- read.csv(\"/home/jp/ICP_Responders/DataCollectionFormatting/MergeTables/Liu.csv\", check.names=FALSE)\n",
    "prat <- read.csv(\"/home/jp/ICP_Responders/DataCollectionFormatting/MergeTables/Prat.csv\", check.names=FALSE)"
   ]
  },
  {
   "cell_type": "code",
   "execution_count": 3,
   "id": "debfc387",
   "metadata": {},
   "outputs": [
    {
     "data": {
      "text/html": [
       "<style>\n",
       ".list-inline {list-style: none; margin:0; padding: 0}\n",
       ".list-inline>li {display: inline-block}\n",
       ".list-inline>li:not(:last-child)::after {content: \"\\00b7\"; padding: 0 .5ex}\n",
       "</style>\n",
       "<ol class=list-inline><li>5133</li><li>29126</li><li>80380</li><li>1493</li><li>925</li><li>920</li></ol>\n"
      ],
      "text/latex": [
       "\\begin{enumerate*}\n",
       "\\item 5133\n",
       "\\item 29126\n",
       "\\item 80380\n",
       "\\item 1493\n",
       "\\item 925\n",
       "\\item 920\n",
       "\\end{enumerate*}\n"
      ],
      "text/markdown": [
       "1. 5133\n",
       "2. 29126\n",
       "3. 80380\n",
       "4. 1493\n",
       "5. 925\n",
       "6. 920\n",
       "\n",
       "\n"
      ],
      "text/plain": [
       "[1]  5133 29126 80380  1493   925   920"
      ]
     },
     "metadata": {},
     "output_type": "display_data"
    }
   ],
   "source": [
    "genes_lit_sur <- read.csv(\"/home/jp/ICP_Responders/Literature Review/GenesOfInterest.csv\")\n",
    "head(genes_lit_sur$ID)"
   ]
  },
  {
   "cell_type": "code",
   "execution_count": 15,
   "id": "d3b4f053",
   "metadata": {},
   "outputs": [
    {
     "data": {
      "text/html": [
       "18570"
      ],
      "text/latex": [
       "18570"
      ],
      "text/markdown": [
       "18570"
      ],
      "text/plain": [
       "[1] 18570"
      ]
     },
     "metadata": {},
     "output_type": "display_data"
    },
    {
     "data": {
      "text/html": [
       "18848"
      ],
      "text/latex": [
       "18848"
      ],
      "text/markdown": [
       "18848"
      ],
      "text/plain": [
       "[1] 18848"
      ]
     },
     "metadata": {},
     "output_type": "display_data"
    },
    {
     "data": {
      "text/html": [
       "19944"
      ],
      "text/latex": [
       "19944"
      ],
      "text/markdown": [
       "19944"
      ],
      "text/plain": [
       "[1] 19944"
      ]
     },
     "metadata": {},
     "output_type": "display_data"
    },
    {
     "data": {
      "text/html": [
       "19800"
      ],
      "text/latex": [
       "19800"
      ],
      "text/markdown": [
       "19800"
      ],
      "text/plain": [
       "[1] 19800"
      ]
     },
     "metadata": {},
     "output_type": "display_data"
    },
    {
     "data": {
      "text/html": [
       "20831"
      ],
      "text/latex": [
       "20831"
      ],
      "text/markdown": [
       "20831"
      ],
      "text/plain": [
       "[1] 20831"
      ]
     },
     "metadata": {},
     "output_type": "display_data"
    },
    {
     "data": {
      "text/html": [
       "766"
      ],
      "text/latex": [
       "766"
      ],
      "text/markdown": [
       "766"
      ],
      "text/plain": [
       "[1] 766"
      ]
     },
     "metadata": {},
     "output_type": "display_data"
    },
    {
     "data": {
      "text/html": [
       "49"
      ],
      "text/latex": [
       "49"
      ],
      "text/markdown": [
       "49"
      ],
      "text/plain": [
       "[1] 49"
      ]
     },
     "metadata": {},
     "output_type": "display_data"
    }
   ],
   "source": [
    "length(grep(\"[0-9]\",colnames(gide)))\n",
    "length(grep(\"[0-9]\",colnames(hugo)))\n",
    "length(grep(\"[0-9]\",colnames(riaz)))\n",
    "length(grep(\"[0-9]\",colnames(amato)))\n",
    "length(grep(\"[0-9]\",colnames(liu)))\n",
    "length(grep(\"[0-9]\",colnames(prat)))\n",
    "length(genes_lit_sur$ID)"
   ]
  },
  {
   "cell_type": "code",
   "execution_count": 31,
   "id": "9d0e2055",
   "metadata": {},
   "outputs": [
    {
     "data": {
      "text/html": [
       "48"
      ],
      "text/latex": [
       "48"
      ],
      "text/markdown": [
       "48"
      ],
      "text/plain": [
       "[1] 48"
      ]
     },
     "metadata": {},
     "output_type": "display_data"
    }
   ],
   "source": [
    "overlap <- length(Reduce(intersect,    list(\n",
    "#                                             colnames(gide)[grep(\"[0-9]\",colnames(gide))]\n",
    "#                                             ,colnames(hugo)[grep(\"[0-9]\",colnames(hugo))]\n",
    "#                                             ,colnames(riaz)[grep(\"[0-9]\",colnames(riaz))]\n",
    "#                                             ,colnames(amato)[grep(\"[0-9]\",colnames(amato))]\n",
    "                                            colnames(liu)[grep(\"[0-9]\",colnames(liu))]\n",
    "#                                             ,colnames(prat)[grep(\"[0-9]\",colnames(prat))]\n",
    "                                            ,genes_lit_sur$ID\n",
    "                                           )))\n",
    "\n",
    "\n",
    "overlap\n"
   ]
  },
  {
   "cell_type": "code",
   "execution_count": null,
   "id": "b941db5b",
   "metadata": {},
   "outputs": [],
   "source": []
  }
 ],
 "metadata": {
  "kernelspec": {
   "display_name": "R [conda env:jpEnv] *",
   "language": "R",
   "name": "conda-env-jpEnv-r"
  },
  "language_info": {
   "codemirror_mode": "r",
   "file_extension": ".r",
   "mimetype": "text/x-r-source",
   "name": "R",
   "pygments_lexer": "r",
   "version": "3.5.1"
  },
  "toc": {
   "base_numbering": 1,
   "nav_menu": {},
   "number_sections": true,
   "sideBar": true,
   "skip_h1_title": false,
   "title_cell": "Table of Contents",
   "title_sidebar": "Contents",
   "toc_cell": false,
   "toc_position": {},
   "toc_section_display": true,
   "toc_window_display": false
  }
 },
 "nbformat": 4,
 "nbformat_minor": 5
}
