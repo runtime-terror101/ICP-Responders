{
 "cells": [
  {
   "cell_type": "markdown",
   "id": "aa85ed9e",
   "metadata": {},
   "source": [
    "# Add datasets from Amato et al, and Liu et al."
   ]
  },
  {
   "cell_type": "code",
   "execution_count": 1,
   "id": "3392d70b",
   "metadata": {},
   "outputs": [
    {
     "data": {
      "text/html": [
       "'/home/jp/ICP_Responders/DataCollectionFormatting/MergeTables'"
      ],
      "text/latex": [
       "'/home/jp/ICP\\_Responders/DataCollectionFormatting/MergeTables'"
      ],
      "text/markdown": [
       "'/home/jp/ICP_Responders/DataCollectionFormatting/MergeTables'"
      ],
      "text/plain": [
       "[1] \"/home/jp/ICP_Responders/DataCollectionFormatting/MergeTables\""
      ]
     },
     "metadata": {},
     "output_type": "display_data"
    }
   ],
   "source": [
    "getwd()"
   ]
  },
  {
   "cell_type": "code",
   "execution_count": 2,
   "id": "2795d25d",
   "metadata": {
    "scrolled": true
   },
   "outputs": [
    {
     "name": "stderr",
     "output_type": "stream",
     "text": [
      "\n",
      "Attaching package: ‘dplyr’\n",
      "\n",
      "\n",
      "The following objects are masked from ‘package:plyr’:\n",
      "\n",
      "    arrange, count, desc, failwith, id, mutate, rename, summarise,\n",
      "    summarize\n",
      "\n",
      "\n",
      "The following objects are masked from ‘package:stats’:\n",
      "\n",
      "    filter, lag\n",
      "\n",
      "\n",
      "The following objects are masked from ‘package:base’:\n",
      "\n",
      "    intersect, setdiff, setequal, union\n",
      "\n",
      "\n",
      "Loading required package: lattice\n",
      "\n",
      "Loading required package: ggplot2\n",
      "\n"
     ]
    }
   ],
   "source": [
    "library(plyr)\n",
    "library(dplyr)\n",
    "library(scales)\n",
    "library(caret)\n",
    "\n",
    "set.seed(64)"
   ]
  },
  {
   "cell_type": "markdown",
   "id": "b6f27d97",
   "metadata": {},
   "source": [
    "## Read Gide Hugo Riaz AntiPD1 data"
   ]
  },
  {
   "cell_type": "code",
   "execution_count": 3,
   "id": "a3d7f779",
   "metadata": {},
   "outputs": [],
   "source": [
    "GideHugoRiaz_AntiPD1 <- read.csv(\"/home/jp/ICP_Responders/DataCollectionFormatting/MergeTables/GideHugoRiaz_AntiPD1.csv\", check.names=FALSE)"
   ]
  },
  {
   "cell_type": "code",
   "execution_count": 4,
   "id": "9e29a2d3",
   "metadata": {},
   "outputs": [
    {
     "data": {
      "text/html": [
       "<table class=\"dataframe\">\n",
       "<caption>A data.frame: 6 × 16018</caption>\n",
       "<thead>\n",
       "\t<tr><th></th><th scope=col>Patient</th><th scope=col>OS</th><th scope=col>OS.Event</th><th scope=col>RECIST</th><th scope=col>Age</th><th scope=col>Gender</th><th scope=col>Response</th><th scope=col>1</th><th scope=col>503538</th><th scope=col>2</th><th scope=col>⋯</th><th scope=col>11130</th><th scope=col>7789</th><th scope=col>158586</th><th scope=col>79364</th><th scope=col>440590</th><th scope=col>79699</th><th scope=col>7791</th><th scope=col>23140</th><th scope=col>26009</th><th scope=col>Source</th></tr>\n",
       "\t<tr><th></th><th scope=col>&lt;int&gt;</th><th scope=col>&lt;int&gt;</th><th scope=col>&lt;int&gt;</th><th scope=col>&lt;int&gt;</th><th scope=col>&lt;int&gt;</th><th scope=col>&lt;int&gt;</th><th scope=col>&lt;int&gt;</th><th scope=col>&lt;dbl&gt;</th><th scope=col>&lt;dbl&gt;</th><th scope=col>&lt;dbl&gt;</th><th scope=col>⋯</th><th scope=col>&lt;dbl&gt;</th><th scope=col>&lt;dbl&gt;</th><th scope=col>&lt;dbl&gt;</th><th scope=col>&lt;dbl&gt;</th><th scope=col>&lt;dbl&gt;</th><th scope=col>&lt;dbl&gt;</th><th scope=col>&lt;dbl&gt;</th><th scope=col>&lt;dbl&gt;</th><th scope=col>&lt;dbl&gt;</th><th scope=col>&lt;chr&gt;</th></tr>\n",
       "</thead>\n",
       "<tbody>\n",
       "\t<tr><th scope=row>1</th><td> 1</td><td>147</td><td>1</td><td>0</td><td>48</td><td>1</td><td>0</td><td>         NA</td><td>        NA</td><td>        NA</td><td>⋯</td><td>        NA</td><td>           NA</td><td>        NA</td><td>         NA</td><td>         NA</td><td>         NA</td><td>        NA</td><td>        NA</td><td>         NA</td><td>GideAntiPD1</td></tr>\n",
       "\t<tr><th scope=row>2</th><td>10</td><td>551</td><td>0</td><td>0</td><td>90</td><td>0</td><td>0</td><td> 0.44967917</td><td>-0.1256063</td><td>-0.9428421</td><td>⋯</td><td> 1.5168029</td><td> 0.2051403085</td><td> 0.2497006</td><td> 0.50803986</td><td> 0.70851142</td><td> 0.45721398</td><td>-0.7961158</td><td> 0.2429606</td><td> 1.18213316</td><td>GideAntiPD1</td></tr>\n",
       "\t<tr><th scope=row>3</th><td>11</td><td>166</td><td>1</td><td>0</td><td>66</td><td>0</td><td>0</td><td>-1.16982847</td><td>-0.6828899</td><td>-0.8272336</td><td>⋯</td><td>-1.0120033</td><td> 0.0005757279</td><td>-0.4148035</td><td> 0.05113678</td><td> 0.09727642</td><td>-0.16385787</td><td>-0.2469282</td><td> 0.1171039</td><td>-0.74993078</td><td>GideAntiPD1</td></tr>\n",
       "\t<tr><th scope=row>4</th><td>12</td><td>199</td><td>1</td><td>1</td><td>52</td><td>0</td><td>0</td><td>-0.04601746</td><td> 1.5028679</td><td>-0.8496055</td><td>⋯</td><td>-0.6297312</td><td> 0.1098136507</td><td>-0.4097749</td><td>-0.18345745</td><td> 0.16842307</td><td>-0.19196153</td><td> 0.6580495</td><td> 0.9784882</td><td>-0.27105096</td><td>GideAntiPD1</td></tr>\n",
       "\t<tr><th scope=row>5</th><td>13</td><td> 96</td><td>1</td><td>0</td><td>69</td><td>0</td><td>0</td><td> 0.67577556</td><td>-0.4820313</td><td>-1.6330965</td><td>⋯</td><td> 1.1309116</td><td>-0.2777108820</td><td>-0.1297598</td><td>-0.06003260</td><td>-0.12662805</td><td>-0.13856663</td><td>-1.2178791</td><td>-0.2099152</td><td> 0.08612588</td><td>GideAntiPD1</td></tr>\n",
       "\t<tr><th scope=row>6</th><td>14</td><td>993</td><td>1</td><td>0</td><td>58</td><td>0</td><td>0</td><td>-0.11535008</td><td>-0.1847109</td><td>-0.4553360</td><td>⋯</td><td>-0.1761315</td><td>-0.3655941746</td><td>-0.7592193</td><td> 0.41185003</td><td>-0.11559656</td><td>-0.05134074</td><td>-0.2665028</td><td>-0.3051941</td><td>-0.84401986</td><td>GideAntiPD1</td></tr>\n",
       "</tbody>\n",
       "</table>\n"
      ],
      "text/latex": [
       "A data.frame: 6 × 16018\n",
       "\\begin{tabular}{r|lllllllllllllllllllll}\n",
       "  & Patient & OS & OS.Event & RECIST & Age & Gender & Response & 1 & 503538 & 2 & ⋯ & 11130 & 7789 & 158586 & 79364 & 440590 & 79699 & 7791 & 23140 & 26009 & Source\\\\\n",
       "  & <int> & <int> & <int> & <int> & <int> & <int> & <int> & <dbl> & <dbl> & <dbl> & ⋯ & <dbl> & <dbl> & <dbl> & <dbl> & <dbl> & <dbl> & <dbl> & <dbl> & <dbl> & <chr>\\\\\n",
       "\\hline\n",
       "\t1 &  1 & 147 & 1 & 0 & 48 & 1 & 0 &          NA &         NA &         NA & ⋯ &         NA &            NA &         NA &          NA &          NA &          NA &         NA &         NA &          NA & GideAntiPD1\\\\\n",
       "\t2 & 10 & 551 & 0 & 0 & 90 & 0 & 0 &  0.44967917 & -0.1256063 & -0.9428421 & ⋯ &  1.5168029 &  0.2051403085 &  0.2497006 &  0.50803986 &  0.70851142 &  0.45721398 & -0.7961158 &  0.2429606 &  1.18213316 & GideAntiPD1\\\\\n",
       "\t3 & 11 & 166 & 1 & 0 & 66 & 0 & 0 & -1.16982847 & -0.6828899 & -0.8272336 & ⋯ & -1.0120033 &  0.0005757279 & -0.4148035 &  0.05113678 &  0.09727642 & -0.16385787 & -0.2469282 &  0.1171039 & -0.74993078 & GideAntiPD1\\\\\n",
       "\t4 & 12 & 199 & 1 & 1 & 52 & 0 & 0 & -0.04601746 &  1.5028679 & -0.8496055 & ⋯ & -0.6297312 &  0.1098136507 & -0.4097749 & -0.18345745 &  0.16842307 & -0.19196153 &  0.6580495 &  0.9784882 & -0.27105096 & GideAntiPD1\\\\\n",
       "\t5 & 13 &  96 & 1 & 0 & 69 & 0 & 0 &  0.67577556 & -0.4820313 & -1.6330965 & ⋯ &  1.1309116 & -0.2777108820 & -0.1297598 & -0.06003260 & -0.12662805 & -0.13856663 & -1.2178791 & -0.2099152 &  0.08612588 & GideAntiPD1\\\\\n",
       "\t6 & 14 & 993 & 1 & 0 & 58 & 0 & 0 & -0.11535008 & -0.1847109 & -0.4553360 & ⋯ & -0.1761315 & -0.3655941746 & -0.7592193 &  0.41185003 & -0.11559656 & -0.05134074 & -0.2665028 & -0.3051941 & -0.84401986 & GideAntiPD1\\\\\n",
       "\\end{tabular}\n"
      ],
      "text/markdown": [
       "\n",
       "A data.frame: 6 × 16018\n",
       "\n",
       "| <!--/--> | Patient &lt;int&gt; | OS &lt;int&gt; | OS.Event &lt;int&gt; | RECIST &lt;int&gt; | Age &lt;int&gt; | Gender &lt;int&gt; | Response &lt;int&gt; | 1 &lt;dbl&gt; | 503538 &lt;dbl&gt; | 2 &lt;dbl&gt; | ⋯ ⋯ | 11130 &lt;dbl&gt; | 7789 &lt;dbl&gt; | 158586 &lt;dbl&gt; | 79364 &lt;dbl&gt; | 440590 &lt;dbl&gt; | 79699 &lt;dbl&gt; | 7791 &lt;dbl&gt; | 23140 &lt;dbl&gt; | 26009 &lt;dbl&gt; | Source &lt;chr&gt; |\n",
       "|---|---|---|---|---|---|---|---|---|---|---|---|---|---|---|---|---|---|---|---|---|---|\n",
       "| 1 |  1 | 147 | 1 | 0 | 48 | 1 | 0 |          NA |         NA |         NA | ⋯ |         NA |            NA |         NA |          NA |          NA |          NA |         NA |         NA |          NA | GideAntiPD1 |\n",
       "| 2 | 10 | 551 | 0 | 0 | 90 | 0 | 0 |  0.44967917 | -0.1256063 | -0.9428421 | ⋯ |  1.5168029 |  0.2051403085 |  0.2497006 |  0.50803986 |  0.70851142 |  0.45721398 | -0.7961158 |  0.2429606 |  1.18213316 | GideAntiPD1 |\n",
       "| 3 | 11 | 166 | 1 | 0 | 66 | 0 | 0 | -1.16982847 | -0.6828899 | -0.8272336 | ⋯ | -1.0120033 |  0.0005757279 | -0.4148035 |  0.05113678 |  0.09727642 | -0.16385787 | -0.2469282 |  0.1171039 | -0.74993078 | GideAntiPD1 |\n",
       "| 4 | 12 | 199 | 1 | 1 | 52 | 0 | 0 | -0.04601746 |  1.5028679 | -0.8496055 | ⋯ | -0.6297312 |  0.1098136507 | -0.4097749 | -0.18345745 |  0.16842307 | -0.19196153 |  0.6580495 |  0.9784882 | -0.27105096 | GideAntiPD1 |\n",
       "| 5 | 13 |  96 | 1 | 0 | 69 | 0 | 0 |  0.67577556 | -0.4820313 | -1.6330965 | ⋯ |  1.1309116 | -0.2777108820 | -0.1297598 | -0.06003260 | -0.12662805 | -0.13856663 | -1.2178791 | -0.2099152 |  0.08612588 | GideAntiPD1 |\n",
       "| 6 | 14 | 993 | 1 | 0 | 58 | 0 | 0 | -0.11535008 | -0.1847109 | -0.4553360 | ⋯ | -0.1761315 | -0.3655941746 | -0.7592193 |  0.41185003 | -0.11559656 | -0.05134074 | -0.2665028 | -0.3051941 | -0.84401986 | GideAntiPD1 |\n",
       "\n"
      ],
      "text/plain": [
       "  Patient OS  OS.Event RECIST Age Gender Response 1           503538    \n",
       "1  1      147 1        0      48  1      0                 NA         NA\n",
       "2 10      551 0        0      90  0      0         0.44967917 -0.1256063\n",
       "3 11      166 1        0      66  0      0        -1.16982847 -0.6828899\n",
       "4 12      199 1        1      52  0      0        -0.04601746  1.5028679\n",
       "5 13       96 1        0      69  0      0         0.67577556 -0.4820313\n",
       "6 14      993 1        0      58  0      0        -0.11535008 -0.1847109\n",
       "  2          ⋯ 11130      7789          158586     79364       440590     \n",
       "1         NA ⋯         NA            NA         NA          NA          NA\n",
       "2 -0.9428421 ⋯  1.5168029  0.2051403085  0.2497006  0.50803986  0.70851142\n",
       "3 -0.8272336 ⋯ -1.0120033  0.0005757279 -0.4148035  0.05113678  0.09727642\n",
       "4 -0.8496055 ⋯ -0.6297312  0.1098136507 -0.4097749 -0.18345745  0.16842307\n",
       "5 -1.6330965 ⋯  1.1309116 -0.2777108820 -0.1297598 -0.06003260 -0.12662805\n",
       "6 -0.4553360 ⋯ -0.1761315 -0.3655941746 -0.7592193  0.41185003 -0.11559656\n",
       "  79699       7791       23140      26009       Source     \n",
       "1          NA         NA         NA          NA GideAntiPD1\n",
       "2  0.45721398 -0.7961158  0.2429606  1.18213316 GideAntiPD1\n",
       "3 -0.16385787 -0.2469282  0.1171039 -0.74993078 GideAntiPD1\n",
       "4 -0.19196153  0.6580495  0.9784882 -0.27105096 GideAntiPD1\n",
       "5 -0.13856663 -1.2178791 -0.2099152  0.08612588 GideAntiPD1\n",
       "6 -0.05134074 -0.2665028 -0.3051941 -0.84401986 GideAntiPD1"
      ]
     },
     "metadata": {},
     "output_type": "display_data"
    }
   ],
   "source": [
    "head(GideHugoRiaz_AntiPD1)"
   ]
  },
  {
   "cell_type": "markdown",
   "id": "3cc8b1d7",
   "metadata": {},
   "source": [
    "## Add Amato and Liu datasets"
   ]
  },
  {
   "cell_type": "code",
   "execution_count": 5,
   "id": "7fe499b8",
   "metadata": {},
   "outputs": [],
   "source": [
    "liu <- read.csv(\"Liu.csv\", check.names=FALSE)\n",
    "amato <- read.csv(\"Amato.csv\", check.names=FALSE)"
   ]
  },
  {
   "cell_type": "code",
   "execution_count": 6,
   "id": "c05564c8",
   "metadata": {},
   "outputs": [],
   "source": [
    "amato[amato$Response == \"Y\", \"Response\"] <- 1\n",
    "amato[amato$Response == \"N\", \"Response\"] <- 0\n",
    "liu[liu$Response == \"Y\", \"Response\"] <- 1\n",
    "liu[liu$Response == \"N\", \"Response\"] <- 0\n",
    "\n",
    "amato$Response <- as.integer(amato$Response)\n",
    "liu$Response <- as.integer(liu$Response)\n",
    "\n",
    "liu$Source <- \"LiuAntiPD1\"\n",
    "amato$Source <- \"AmatoAntiPD1\""
   ]
  },
  {
   "cell_type": "code",
   "execution_count": 7,
   "id": "0c93f4d0",
   "metadata": {},
   "outputs": [
    {
     "data": {
      "text/html": [
       "<table class=\"dataframe\">\n",
       "<caption>A data.frame: 6 × 20851</caption>\n",
       "<thead>\n",
       "\t<tr><th></th><th scope=col>Patient</th><th scope=col>1</th><th scope=col>503538</th><th scope=col>29974</th><th scope=col>2</th><th scope=col>144571</th><th scope=col>144568</th><th scope=col>127550</th><th scope=col>53947</th><th scope=col>51146</th><th scope=col>⋯</th><th scope=col>7789</th><th scope=col>158586</th><th scope=col>79364</th><th scope=col>440590</th><th scope=col>79699</th><th scope=col>7791</th><th scope=col>23140</th><th scope=col>26009</th><th scope=col>Response</th><th scope=col>Source</th></tr>\n",
       "\t<tr><th></th><th scope=col>&lt;chr&gt;</th><th scope=col>&lt;dbl&gt;</th><th scope=col>&lt;dbl&gt;</th><th scope=col>&lt;dbl&gt;</th><th scope=col>&lt;dbl&gt;</th><th scope=col>&lt;dbl&gt;</th><th scope=col>&lt;dbl&gt;</th><th scope=col>&lt;dbl&gt;</th><th scope=col>&lt;dbl&gt;</th><th scope=col>&lt;dbl&gt;</th><th scope=col>⋯</th><th scope=col>&lt;dbl&gt;</th><th scope=col>&lt;dbl&gt;</th><th scope=col>&lt;dbl&gt;</th><th scope=col>&lt;dbl&gt;</th><th scope=col>&lt;dbl&gt;</th><th scope=col>&lt;dbl&gt;</th><th scope=col>&lt;dbl&gt;</th><th scope=col>&lt;dbl&gt;</th><th scope=col>&lt;int&gt;</th><th scope=col>&lt;chr&gt;</th></tr>\n",
       "</thead>\n",
       "<tbody>\n",
       "\t<tr><th scope=row>1</th><td>Patient102</td><td> 4.327359</td><td>-0.8475669</td><td>-2.262604</td><td>9.663733</td><td>-1.7320897</td><td>-9.965784</td><td>-9.965784</td><td> 1.2113268</td><td>-0.5745484</td><td>⋯</td><td> 1.4003606</td><td> 1.834257</td><td> 3.762227</td><td>-3.847567</td><td> 4.796289</td><td>7.912183</td><td>5.170169</td><td> 4.024851</td><td>1</td><td>LiuAntiPD1</td></tr>\n",
       "\t<tr><th scope=row>2</th><td>Patient105</td><td> 3.701457</td><td>-9.9657843</td><td>-9.965784</td><td>6.761310</td><td>-0.6234737</td><td>-4.208436</td><td>-3.208436</td><td>-0.8161188</td><td>-2.8865081</td><td>⋯</td><td>-0.6848742</td><td> 1.020383</td><td> 2.209416</td><td>-4.208436</td><td> 4.649545</td><td>4.322945</td><td>3.519484</td><td> 5.063027</td><td>1</td><td>LiuAntiPD1</td></tr>\n",
       "\t<tr><th scope=row>3</th><td>Patient106</td><td> 4.198740</td><td>-0.1476570</td><td>-9.965784</td><td>6.551687</td><td>-3.3955845</td><td>-3.073656</td><td>-9.965784</td><td>-1.2256595</td><td>-3.0736564</td><td>⋯</td><td> 0.9263436</td><td> 1.659698</td><td> 3.092256</td><td>-5.395585</td><td> 4.280373</td><td>5.412575</td><td>4.915028</td><td> 4.160922</td><td>1</td><td>LiuAntiPD1</td></tr>\n",
       "\t<tr><th scope=row>4</th><td>Patient107</td><td>-9.965784</td><td>-9.9657843</td><td>-9.965784</td><td>9.078291</td><td>-9.9657843</td><td>-9.965784</td><td>-9.965784</td><td>-9.9657843</td><td>-9.9657843</td><td>⋯</td><td>-9.9657843</td><td>-9.965784</td><td>-9.965784</td><td>-9.965784</td><td>-9.965784</td><td>8.560465</td><td>4.292071</td><td>-9.965784</td><td>1</td><td>LiuAntiPD1</td></tr>\n",
       "\t<tr><th scope=row>5</th><td>Patient108</td><td>-0.722509</td><td>-9.9657843</td><td>-9.965784</td><td>9.443654</td><td>-9.9657843</td><td>-9.965784</td><td>-9.965784</td><td>-9.9657843</td><td>-9.9657843</td><td>⋯</td><td>-9.9657843</td><td>-1.137546</td><td> 3.703756</td><td>-9.965784</td><td> 2.921347</td><td>6.015583</td><td>5.499078</td><td> 2.581272</td><td>0</td><td>LiuAntiPD1</td></tr>\n",
       "\t<tr><th scope=row>6</th><td>Patient112</td><td> 4.152404</td><td> 0.2525682</td><td>-3.104984</td><td>8.719776</td><td>-1.1049838</td><td> 3.024299</td><td>-9.965784</td><td> 2.3044072</td><td>-9.9657843</td><td>⋯</td><td> 1.5243729</td><td> 2.064941</td><td> 3.819829</td><td>-9.965784</td><td> 3.386869</td><td>6.673093</td><td>5.017844</td><td> 3.922922</td><td>0</td><td>LiuAntiPD1</td></tr>\n",
       "</tbody>\n",
       "</table>\n"
      ],
      "text/latex": [
       "A data.frame: 6 × 20851\n",
       "\\begin{tabular}{r|lllllllllllllllllllll}\n",
       "  & Patient & 1 & 503538 & 29974 & 2 & 144571 & 144568 & 127550 & 53947 & 51146 & ⋯ & 7789 & 158586 & 79364 & 440590 & 79699 & 7791 & 23140 & 26009 & Response & Source\\\\\n",
       "  & <chr> & <dbl> & <dbl> & <dbl> & <dbl> & <dbl> & <dbl> & <dbl> & <dbl> & <dbl> & ⋯ & <dbl> & <dbl> & <dbl> & <dbl> & <dbl> & <dbl> & <dbl> & <dbl> & <int> & <chr>\\\\\n",
       "\\hline\n",
       "\t1 & Patient102 &  4.327359 & -0.8475669 & -2.262604 & 9.663733 & -1.7320897 & -9.965784 & -9.965784 &  1.2113268 & -0.5745484 & ⋯ &  1.4003606 &  1.834257 &  3.762227 & -3.847567 &  4.796289 & 7.912183 & 5.170169 &  4.024851 & 1 & LiuAntiPD1\\\\\n",
       "\t2 & Patient105 &  3.701457 & -9.9657843 & -9.965784 & 6.761310 & -0.6234737 & -4.208436 & -3.208436 & -0.8161188 & -2.8865081 & ⋯ & -0.6848742 &  1.020383 &  2.209416 & -4.208436 &  4.649545 & 4.322945 & 3.519484 &  5.063027 & 1 & LiuAntiPD1\\\\\n",
       "\t3 & Patient106 &  4.198740 & -0.1476570 & -9.965784 & 6.551687 & -3.3955845 & -3.073656 & -9.965784 & -1.2256595 & -3.0736564 & ⋯ &  0.9263436 &  1.659698 &  3.092256 & -5.395585 &  4.280373 & 5.412575 & 4.915028 &  4.160922 & 1 & LiuAntiPD1\\\\\n",
       "\t4 & Patient107 & -9.965784 & -9.9657843 & -9.965784 & 9.078291 & -9.9657843 & -9.965784 & -9.965784 & -9.9657843 & -9.9657843 & ⋯ & -9.9657843 & -9.965784 & -9.965784 & -9.965784 & -9.965784 & 8.560465 & 4.292071 & -9.965784 & 1 & LiuAntiPD1\\\\\n",
       "\t5 & Patient108 & -0.722509 & -9.9657843 & -9.965784 & 9.443654 & -9.9657843 & -9.965784 & -9.965784 & -9.9657843 & -9.9657843 & ⋯ & -9.9657843 & -1.137546 &  3.703756 & -9.965784 &  2.921347 & 6.015583 & 5.499078 &  2.581272 & 0 & LiuAntiPD1\\\\\n",
       "\t6 & Patient112 &  4.152404 &  0.2525682 & -3.104984 & 8.719776 & -1.1049838 &  3.024299 & -9.965784 &  2.3044072 & -9.9657843 & ⋯ &  1.5243729 &  2.064941 &  3.819829 & -9.965784 &  3.386869 & 6.673093 & 5.017844 &  3.922922 & 0 & LiuAntiPD1\\\\\n",
       "\\end{tabular}\n"
      ],
      "text/markdown": [
       "\n",
       "A data.frame: 6 × 20851\n",
       "\n",
       "| <!--/--> | Patient &lt;chr&gt; | 1 &lt;dbl&gt; | 503538 &lt;dbl&gt; | 29974 &lt;dbl&gt; | 2 &lt;dbl&gt; | 144571 &lt;dbl&gt; | 144568 &lt;dbl&gt; | 127550 &lt;dbl&gt; | 53947 &lt;dbl&gt; | 51146 &lt;dbl&gt; | ⋯ ⋯ | 7789 &lt;dbl&gt; | 158586 &lt;dbl&gt; | 79364 &lt;dbl&gt; | 440590 &lt;dbl&gt; | 79699 &lt;dbl&gt; | 7791 &lt;dbl&gt; | 23140 &lt;dbl&gt; | 26009 &lt;dbl&gt; | Response &lt;int&gt; | Source &lt;chr&gt; |\n",
       "|---|---|---|---|---|---|---|---|---|---|---|---|---|---|---|---|---|---|---|---|---|---|\n",
       "| 1 | Patient102 |  4.327359 | -0.8475669 | -2.262604 | 9.663733 | -1.7320897 | -9.965784 | -9.965784 |  1.2113268 | -0.5745484 | ⋯ |  1.4003606 |  1.834257 |  3.762227 | -3.847567 |  4.796289 | 7.912183 | 5.170169 |  4.024851 | 1 | LiuAntiPD1 |\n",
       "| 2 | Patient105 |  3.701457 | -9.9657843 | -9.965784 | 6.761310 | -0.6234737 | -4.208436 | -3.208436 | -0.8161188 | -2.8865081 | ⋯ | -0.6848742 |  1.020383 |  2.209416 | -4.208436 |  4.649545 | 4.322945 | 3.519484 |  5.063027 | 1 | LiuAntiPD1 |\n",
       "| 3 | Patient106 |  4.198740 | -0.1476570 | -9.965784 | 6.551687 | -3.3955845 | -3.073656 | -9.965784 | -1.2256595 | -3.0736564 | ⋯ |  0.9263436 |  1.659698 |  3.092256 | -5.395585 |  4.280373 | 5.412575 | 4.915028 |  4.160922 | 1 | LiuAntiPD1 |\n",
       "| 4 | Patient107 | -9.965784 | -9.9657843 | -9.965784 | 9.078291 | -9.9657843 | -9.965784 | -9.965784 | -9.9657843 | -9.9657843 | ⋯ | -9.9657843 | -9.965784 | -9.965784 | -9.965784 | -9.965784 | 8.560465 | 4.292071 | -9.965784 | 1 | LiuAntiPD1 |\n",
       "| 5 | Patient108 | -0.722509 | -9.9657843 | -9.965784 | 9.443654 | -9.9657843 | -9.965784 | -9.965784 | -9.9657843 | -9.9657843 | ⋯ | -9.9657843 | -1.137546 |  3.703756 | -9.965784 |  2.921347 | 6.015583 | 5.499078 |  2.581272 | 0 | LiuAntiPD1 |\n",
       "| 6 | Patient112 |  4.152404 |  0.2525682 | -3.104984 | 8.719776 | -1.1049838 |  3.024299 | -9.965784 |  2.3044072 | -9.9657843 | ⋯ |  1.5243729 |  2.064941 |  3.819829 | -9.965784 |  3.386869 | 6.673093 | 5.017844 |  3.922922 | 0 | LiuAntiPD1 |\n",
       "\n"
      ],
      "text/plain": [
       "  Patient    1         503538     29974     2        144571     144568   \n",
       "1 Patient102  4.327359 -0.8475669 -2.262604 9.663733 -1.7320897 -9.965784\n",
       "2 Patient105  3.701457 -9.9657843 -9.965784 6.761310 -0.6234737 -4.208436\n",
       "3 Patient106  4.198740 -0.1476570 -9.965784 6.551687 -3.3955845 -3.073656\n",
       "4 Patient107 -9.965784 -9.9657843 -9.965784 9.078291 -9.9657843 -9.965784\n",
       "5 Patient108 -0.722509 -9.9657843 -9.965784 9.443654 -9.9657843 -9.965784\n",
       "6 Patient112  4.152404  0.2525682 -3.104984 8.719776 -1.1049838  3.024299\n",
       "  127550    53947      51146      ⋯ 7789       158586    79364     440590   \n",
       "1 -9.965784  1.2113268 -0.5745484 ⋯  1.4003606  1.834257  3.762227 -3.847567\n",
       "2 -3.208436 -0.8161188 -2.8865081 ⋯ -0.6848742  1.020383  2.209416 -4.208436\n",
       "3 -9.965784 -1.2256595 -3.0736564 ⋯  0.9263436  1.659698  3.092256 -5.395585\n",
       "4 -9.965784 -9.9657843 -9.9657843 ⋯ -9.9657843 -9.965784 -9.965784 -9.965784\n",
       "5 -9.965784 -9.9657843 -9.9657843 ⋯ -9.9657843 -1.137546  3.703756 -9.965784\n",
       "6 -9.965784  2.3044072 -9.9657843 ⋯  1.5243729  2.064941  3.819829 -9.965784\n",
       "  79699     7791     23140    26009     Response Source    \n",
       "1  4.796289 7.912183 5.170169  4.024851 1        LiuAntiPD1\n",
       "2  4.649545 4.322945 3.519484  5.063027 1        LiuAntiPD1\n",
       "3  4.280373 5.412575 4.915028  4.160922 1        LiuAntiPD1\n",
       "4 -9.965784 8.560465 4.292071 -9.965784 1        LiuAntiPD1\n",
       "5  2.921347 6.015583 5.499078  2.581272 0        LiuAntiPD1\n",
       "6  3.386869 6.673093 5.017844  3.922922 0        LiuAntiPD1"
      ]
     },
     "metadata": {},
     "output_type": "display_data"
    },
    {
     "data": {
      "text/html": [
       "<table class=\"dataframe\">\n",
       "<caption>A data.frame: 6 × 19807</caption>\n",
       "<thead>\n",
       "\t<tr><th></th><th scope=col>Patient</th><th scope=col>Age</th><th scope=col>Gender</th><th scope=col>ResponseClass</th><th scope=col>Response</th><th scope=col>29126</th><th scope=col>9308</th><th scope=col>4790</th><th scope=col>4791</th><th scope=col>5537</th><th scope=col>⋯</th><th scope=col>93474</th><th scope=col>100533111</th><th scope=col>57116</th><th scope=col>7620</th><th scope=col>90592</th><th scope=col>155061</th><th scope=col>79970</th><th scope=col>284323</th><th scope=col>163131</th><th scope=col>Source</th></tr>\n",
       "\t<tr><th></th><th scope=col>&lt;chr&gt;</th><th scope=col>&lt;int&gt;</th><th scope=col>&lt;chr&gt;</th><th scope=col>&lt;chr&gt;</th><th scope=col>&lt;int&gt;</th><th scope=col>&lt;dbl&gt;</th><th scope=col>&lt;dbl&gt;</th><th scope=col>&lt;dbl&gt;</th><th scope=col>&lt;dbl&gt;</th><th scope=col>&lt;dbl&gt;</th><th scope=col>⋯</th><th scope=col>&lt;dbl&gt;</th><th scope=col>&lt;dbl&gt;</th><th scope=col>&lt;dbl&gt;</th><th scope=col>&lt;dbl&gt;</th><th scope=col>&lt;dbl&gt;</th><th scope=col>&lt;dbl&gt;</th><th scope=col>&lt;dbl&gt;</th><th scope=col>&lt;dbl&gt;</th><th scope=col>&lt;dbl&gt;</th><th scope=col>&lt;chr&gt;</th></tr>\n",
       "</thead>\n",
       "<tbody>\n",
       "\t<tr><th scope=row>1</th><td>Sample_01_MB_1692</td><td>23</td><td>F</td><td>CR</td><td>1</td><td> 0.7738782</td><td>3.815524</td><td>2.780161</td><td>5.755571</td><td>1.974816</td><td>⋯</td><td>0.5262792</td><td>0.5262792</td><td>0.5262792</td><td>3.325588</td><td>3.325588</td><td>3.796411</td><td>3.796411</td><td>1.5757673</td><td>1.5757673</td><td>AmatoAntiPD1</td></tr>\n",
       "\t<tr><th scope=row>2</th><td>Sample_02_MB_2674</td><td>79</td><td>F</td><td>CR</td><td>1</td><td>-0.1099549</td><td>3.843562</td><td>2.845388</td><td>4.416846</td><td>3.246364</td><td>⋯</td><td>1.5943383</td><td>1.5943383</td><td>1.5943383</td><td>3.319504</td><td>3.319504</td><td>3.238645</td><td>3.238645</td><td>1.2080864</td><td>1.2080864</td><td>AmatoAntiPD1</td></tr>\n",
       "\t<tr><th scope=row>3</th><td>Sample_03_MB_4103</td><td>41</td><td>M</td><td>PR</td><td>1</td><td>-2.8306804</td><td>1.921006</td><td>2.157121</td><td>3.994254</td><td>2.576745</td><td>⋯</td><td>0.3428164</td><td>0.3428164</td><td>0.3428164</td><td>1.571939</td><td>1.571939</td><td>3.178028</td><td>3.178028</td><td>1.5242794</td><td>1.5242794</td><td>AmatoAntiPD1</td></tr>\n",
       "\t<tr><th scope=row>4</th><td>Sample_04_MB_2750</td><td>57</td><td>M</td><td>PR</td><td>1</td><td>-1.1479564</td><td>2.777657</td><td>3.085069</td><td>3.391369</td><td>3.151700</td><td>⋯</td><td>1.5133796</td><td>1.5133796</td><td>1.5133796</td><td>2.868215</td><td>2.868215</td><td>2.362560</td><td>2.362560</td><td>0.8328657</td><td>0.8328657</td><td>AmatoAntiPD1</td></tr>\n",
       "\t<tr><th scope=row>5</th><td>Sample_05_MB_2781</td><td>59</td><td>F</td><td>PR</td><td>1</td><td>-2.7967412</td><td>2.501350</td><td>3.092772</td><td>3.026124</td><td>3.879490</td><td>⋯</td><td>0.6005742</td><td>0.6005742</td><td>0.6005742</td><td>2.531476</td><td>2.531476</td><td>3.750928</td><td>3.750928</td><td>1.6022953</td><td>1.6022953</td><td>AmatoAntiPD1</td></tr>\n",
       "\t<tr><th scope=row>6</th><td>Sample_06_MB_1882</td><td>88</td><td>M</td><td>PR</td><td>1</td><td>-1.7144486</td><td>5.071582</td><td>2.541639</td><td>4.102473</td><td>3.525067</td><td>⋯</td><td>0.4801927</td><td>0.4801927</td><td>0.4801927</td><td>2.095263</td><td>2.095263</td><td>2.995855</td><td>2.995855</td><td>1.1410469</td><td>1.1410469</td><td>AmatoAntiPD1</td></tr>\n",
       "</tbody>\n",
       "</table>\n"
      ],
      "text/latex": [
       "A data.frame: 6 × 19807\n",
       "\\begin{tabular}{r|lllllllllllllllllllll}\n",
       "  & Patient & Age & Gender & ResponseClass & Response & 29126 & 9308 & 4790 & 4791 & 5537 & ⋯ & 93474 & 100533111 & 57116 & 7620 & 90592 & 155061 & 79970 & 284323 & 163131 & Source\\\\\n",
       "  & <chr> & <int> & <chr> & <chr> & <int> & <dbl> & <dbl> & <dbl> & <dbl> & <dbl> & ⋯ & <dbl> & <dbl> & <dbl> & <dbl> & <dbl> & <dbl> & <dbl> & <dbl> & <dbl> & <chr>\\\\\n",
       "\\hline\n",
       "\t1 & Sample\\_01\\_MB\\_1692 & 23 & F & CR & 1 &  0.7738782 & 3.815524 & 2.780161 & 5.755571 & 1.974816 & ⋯ & 0.5262792 & 0.5262792 & 0.5262792 & 3.325588 & 3.325588 & 3.796411 & 3.796411 & 1.5757673 & 1.5757673 & AmatoAntiPD1\\\\\n",
       "\t2 & Sample\\_02\\_MB\\_2674 & 79 & F & CR & 1 & -0.1099549 & 3.843562 & 2.845388 & 4.416846 & 3.246364 & ⋯ & 1.5943383 & 1.5943383 & 1.5943383 & 3.319504 & 3.319504 & 3.238645 & 3.238645 & 1.2080864 & 1.2080864 & AmatoAntiPD1\\\\\n",
       "\t3 & Sample\\_03\\_MB\\_4103 & 41 & M & PR & 1 & -2.8306804 & 1.921006 & 2.157121 & 3.994254 & 2.576745 & ⋯ & 0.3428164 & 0.3428164 & 0.3428164 & 1.571939 & 1.571939 & 3.178028 & 3.178028 & 1.5242794 & 1.5242794 & AmatoAntiPD1\\\\\n",
       "\t4 & Sample\\_04\\_MB\\_2750 & 57 & M & PR & 1 & -1.1479564 & 2.777657 & 3.085069 & 3.391369 & 3.151700 & ⋯ & 1.5133796 & 1.5133796 & 1.5133796 & 2.868215 & 2.868215 & 2.362560 & 2.362560 & 0.8328657 & 0.8328657 & AmatoAntiPD1\\\\\n",
       "\t5 & Sample\\_05\\_MB\\_2781 & 59 & F & PR & 1 & -2.7967412 & 2.501350 & 3.092772 & 3.026124 & 3.879490 & ⋯ & 0.6005742 & 0.6005742 & 0.6005742 & 2.531476 & 2.531476 & 3.750928 & 3.750928 & 1.6022953 & 1.6022953 & AmatoAntiPD1\\\\\n",
       "\t6 & Sample\\_06\\_MB\\_1882 & 88 & M & PR & 1 & -1.7144486 & 5.071582 & 2.541639 & 4.102473 & 3.525067 & ⋯ & 0.4801927 & 0.4801927 & 0.4801927 & 2.095263 & 2.095263 & 2.995855 & 2.995855 & 1.1410469 & 1.1410469 & AmatoAntiPD1\\\\\n",
       "\\end{tabular}\n"
      ],
      "text/markdown": [
       "\n",
       "A data.frame: 6 × 19807\n",
       "\n",
       "| <!--/--> | Patient &lt;chr&gt; | Age &lt;int&gt; | Gender &lt;chr&gt; | ResponseClass &lt;chr&gt; | Response &lt;int&gt; | 29126 &lt;dbl&gt; | 9308 &lt;dbl&gt; | 4790 &lt;dbl&gt; | 4791 &lt;dbl&gt; | 5537 &lt;dbl&gt; | ⋯ ⋯ | 93474 &lt;dbl&gt; | 100533111 &lt;dbl&gt; | 57116 &lt;dbl&gt; | 7620 &lt;dbl&gt; | 90592 &lt;dbl&gt; | 155061 &lt;dbl&gt; | 79970 &lt;dbl&gt; | 284323 &lt;dbl&gt; | 163131 &lt;dbl&gt; | Source &lt;chr&gt; |\n",
       "|---|---|---|---|---|---|---|---|---|---|---|---|---|---|---|---|---|---|---|---|---|---|\n",
       "| 1 | Sample_01_MB_1692 | 23 | F | CR | 1 |  0.7738782 | 3.815524 | 2.780161 | 5.755571 | 1.974816 | ⋯ | 0.5262792 | 0.5262792 | 0.5262792 | 3.325588 | 3.325588 | 3.796411 | 3.796411 | 1.5757673 | 1.5757673 | AmatoAntiPD1 |\n",
       "| 2 | Sample_02_MB_2674 | 79 | F | CR | 1 | -0.1099549 | 3.843562 | 2.845388 | 4.416846 | 3.246364 | ⋯ | 1.5943383 | 1.5943383 | 1.5943383 | 3.319504 | 3.319504 | 3.238645 | 3.238645 | 1.2080864 | 1.2080864 | AmatoAntiPD1 |\n",
       "| 3 | Sample_03_MB_4103 | 41 | M | PR | 1 | -2.8306804 | 1.921006 | 2.157121 | 3.994254 | 2.576745 | ⋯ | 0.3428164 | 0.3428164 | 0.3428164 | 1.571939 | 1.571939 | 3.178028 | 3.178028 | 1.5242794 | 1.5242794 | AmatoAntiPD1 |\n",
       "| 4 | Sample_04_MB_2750 | 57 | M | PR | 1 | -1.1479564 | 2.777657 | 3.085069 | 3.391369 | 3.151700 | ⋯ | 1.5133796 | 1.5133796 | 1.5133796 | 2.868215 | 2.868215 | 2.362560 | 2.362560 | 0.8328657 | 0.8328657 | AmatoAntiPD1 |\n",
       "| 5 | Sample_05_MB_2781 | 59 | F | PR | 1 | -2.7967412 | 2.501350 | 3.092772 | 3.026124 | 3.879490 | ⋯ | 0.6005742 | 0.6005742 | 0.6005742 | 2.531476 | 2.531476 | 3.750928 | 3.750928 | 1.6022953 | 1.6022953 | AmatoAntiPD1 |\n",
       "| 6 | Sample_06_MB_1882 | 88 | M | PR | 1 | -1.7144486 | 5.071582 | 2.541639 | 4.102473 | 3.525067 | ⋯ | 0.4801927 | 0.4801927 | 0.4801927 | 2.095263 | 2.095263 | 2.995855 | 2.995855 | 1.1410469 | 1.1410469 | AmatoAntiPD1 |\n",
       "\n"
      ],
      "text/plain": [
       "  Patient           Age Gender ResponseClass Response 29126      9308    \n",
       "1 Sample_01_MB_1692 23  F      CR            1         0.7738782 3.815524\n",
       "2 Sample_02_MB_2674 79  F      CR            1        -0.1099549 3.843562\n",
       "3 Sample_03_MB_4103 41  M      PR            1        -2.8306804 1.921006\n",
       "4 Sample_04_MB_2750 57  M      PR            1        -1.1479564 2.777657\n",
       "5 Sample_05_MB_2781 59  F      PR            1        -2.7967412 2.501350\n",
       "6 Sample_06_MB_1882 88  M      PR            1        -1.7144486 5.071582\n",
       "  4790     4791     5537     ⋯ 93474     100533111 57116     7620     90592   \n",
       "1 2.780161 5.755571 1.974816 ⋯ 0.5262792 0.5262792 0.5262792 3.325588 3.325588\n",
       "2 2.845388 4.416846 3.246364 ⋯ 1.5943383 1.5943383 1.5943383 3.319504 3.319504\n",
       "3 2.157121 3.994254 2.576745 ⋯ 0.3428164 0.3428164 0.3428164 1.571939 1.571939\n",
       "4 3.085069 3.391369 3.151700 ⋯ 1.5133796 1.5133796 1.5133796 2.868215 2.868215\n",
       "5 3.092772 3.026124 3.879490 ⋯ 0.6005742 0.6005742 0.6005742 2.531476 2.531476\n",
       "6 2.541639 4.102473 3.525067 ⋯ 0.4801927 0.4801927 0.4801927 2.095263 2.095263\n",
       "  155061   79970    284323    163131    Source      \n",
       "1 3.796411 3.796411 1.5757673 1.5757673 AmatoAntiPD1\n",
       "2 3.238645 3.238645 1.2080864 1.2080864 AmatoAntiPD1\n",
       "3 3.178028 3.178028 1.5242794 1.5242794 AmatoAntiPD1\n",
       "4 2.362560 2.362560 0.8328657 0.8328657 AmatoAntiPD1\n",
       "5 3.750928 3.750928 1.6022953 1.6022953 AmatoAntiPD1\n",
       "6 2.995855 2.995855 1.1410469 1.1410469 AmatoAntiPD1"
      ]
     },
     "metadata": {},
     "output_type": "display_data"
    }
   ],
   "source": [
    "head(liu)\n",
    "head(amato)"
   ]
  },
  {
   "cell_type": "code",
   "execution_count": 8,
   "id": "eb9330ae",
   "metadata": {},
   "outputs": [
    {
     "data": {
      "text/html": [
       "<table class=\"dataframe\">\n",
       "<caption>A data.frame: 6 × 15327</caption>\n",
       "<thead>\n",
       "\t<tr><th></th><th scope=col>Patient</th><th scope=col>Response</th><th scope=col>1</th><th scope=col>503538</th><th scope=col>2</th><th scope=col>144571</th><th scope=col>144568</th><th scope=col>53947</th><th scope=col>8086</th><th scope=col>65985</th><th scope=col>⋯</th><th scope=col>11130</th><th scope=col>7789</th><th scope=col>158586</th><th scope=col>79364</th><th scope=col>440590</th><th scope=col>79699</th><th scope=col>7791</th><th scope=col>23140</th><th scope=col>26009</th><th scope=col>Source</th></tr>\n",
       "\t<tr><th></th><th scope=col>&lt;chr&gt;</th><th scope=col>&lt;int&gt;</th><th scope=col>&lt;dbl&gt;</th><th scope=col>&lt;dbl&gt;</th><th scope=col>&lt;dbl&gt;</th><th scope=col>&lt;dbl&gt;</th><th scope=col>&lt;dbl&gt;</th><th scope=col>&lt;dbl&gt;</th><th scope=col>&lt;dbl&gt;</th><th scope=col>&lt;dbl&gt;</th><th scope=col>⋯</th><th scope=col>&lt;dbl&gt;</th><th scope=col>&lt;dbl&gt;</th><th scope=col>&lt;dbl&gt;</th><th scope=col>&lt;dbl&gt;</th><th scope=col>&lt;dbl&gt;</th><th scope=col>&lt;dbl&gt;</th><th scope=col>&lt;dbl&gt;</th><th scope=col>&lt;dbl&gt;</th><th scope=col>&lt;dbl&gt;</th><th scope=col>&lt;chr&gt;</th></tr>\n",
       "</thead>\n",
       "<tbody>\n",
       "\t<tr><th scope=row>200</th><td>Sample_09_MB_3838</td><td>0</td><td>5.027680</td><td> 2.26477661</td><td>8.438858</td><td> 2.7710172</td><td>-9.965784</td><td> 1.09326268</td><td>5.823064</td><td>1.717662</td><td>⋯</td><td>1.887584</td><td>-1.719409</td><td>-0.80585746</td><td>3.639116</td><td>-1.991938</td><td>0.8673825</td><td>6.046609</td><td>3.393444</td><td>2.103484</td><td>AmatoAntiPD1</td></tr>\n",
       "\t<tr><th scope=row>201</th><td>Sample_10_MB_2786</td><td>0</td><td>3.345794</td><td> 1.67680899</td><td>7.548968</td><td>-2.4127387</td><td>-9.965784</td><td> 0.07054046</td><td>4.600829</td><td>3.308489</td><td>⋯</td><td>3.637587</td><td>-1.435475</td><td> 0.35039541</td><td>2.935084</td><td>-9.965784</td><td>0.9410462</td><td>6.247924</td><td>3.369159</td><td>2.580196</td><td>AmatoAntiPD1</td></tr>\n",
       "\t<tr><th scope=row>202</th><td>Sample_11_MB_2855</td><td>0</td><td>2.264726</td><td>-1.39103183</td><td>4.350009</td><td>-2.6968073</td><td>-3.916469</td><td>-0.51541843</td><td>5.461306</td><td>2.771150</td><td>⋯</td><td>3.362021</td><td>-1.918022</td><td>-0.02245629</td><td>2.469852</td><td>-9.965784</td><td>0.1489992</td><td>7.337310</td><td>3.319098</td><td>3.273065</td><td>AmatoAntiPD1</td></tr>\n",
       "\t<tr><th scope=row>203</th><td>Sample_12_MB_3316</td><td>0</td><td>3.912621</td><td> 1.59729756</td><td>5.930177</td><td>-0.6404878</td><td>-5.350815</td><td> 1.44436493</td><td>4.843733</td><td>3.206188</td><td>⋯</td><td>3.530395</td><td>-1.511876</td><td>-0.06183919</td><td>3.489260</td><td>-9.965784</td><td>0.6465590</td><td>6.761897</td><td>3.321501</td><td>2.410561</td><td>AmatoAntiPD1</td></tr>\n",
       "\t<tr><th scope=row>204</th><td>Sample_13_MB_3432</td><td>0</td><td>3.980784</td><td> 0.57359751</td><td>6.099373</td><td>-4.7721978</td><td>-9.965784</td><td> 1.18828064</td><td>4.656788</td><td>2.969366</td><td>⋯</td><td>5.079310</td><td>-1.519859</td><td>-0.07129389</td><td>3.558721</td><td>-9.965784</td><td>0.2066057</td><td>6.861993</td><td>2.619746</td><td>2.895762</td><td>AmatoAntiPD1</td></tr>\n",
       "\t<tr><th scope=row>205</th><td>Sample_14_MB_4117</td><td>0</td><td>2.809468</td><td> 0.09937601</td><td>8.358831</td><td>-2.3488679</td><td>-6.170485</td><td>-1.36468951</td><td>3.033005</td><td>2.617985</td><td>⋯</td><td>3.661088</td><td>-0.449383</td><td> 0.64732372</td><td>2.597178</td><td>-9.965784</td><td>2.1150033</td><td>7.261879</td><td>1.524430</td><td>2.690998</td><td>AmatoAntiPD1</td></tr>\n",
       "</tbody>\n",
       "</table>\n"
      ],
      "text/latex": [
       "A data.frame: 6 × 15327\n",
       "\\begin{tabular}{r|lllllllllllllllllllll}\n",
       "  & Patient & Response & 1 & 503538 & 2 & 144571 & 144568 & 53947 & 8086 & 65985 & ⋯ & 11130 & 7789 & 158586 & 79364 & 440590 & 79699 & 7791 & 23140 & 26009 & Source\\\\\n",
       "  & <chr> & <int> & <dbl> & <dbl> & <dbl> & <dbl> & <dbl> & <dbl> & <dbl> & <dbl> & ⋯ & <dbl> & <dbl> & <dbl> & <dbl> & <dbl> & <dbl> & <dbl> & <dbl> & <dbl> & <chr>\\\\\n",
       "\\hline\n",
       "\t200 & Sample\\_09\\_MB\\_3838 & 0 & 5.027680 &  2.26477661 & 8.438858 &  2.7710172 & -9.965784 &  1.09326268 & 5.823064 & 1.717662 & ⋯ & 1.887584 & -1.719409 & -0.80585746 & 3.639116 & -1.991938 & 0.8673825 & 6.046609 & 3.393444 & 2.103484 & AmatoAntiPD1\\\\\n",
       "\t201 & Sample\\_10\\_MB\\_2786 & 0 & 3.345794 &  1.67680899 & 7.548968 & -2.4127387 & -9.965784 &  0.07054046 & 4.600829 & 3.308489 & ⋯ & 3.637587 & -1.435475 &  0.35039541 & 2.935084 & -9.965784 & 0.9410462 & 6.247924 & 3.369159 & 2.580196 & AmatoAntiPD1\\\\\n",
       "\t202 & Sample\\_11\\_MB\\_2855 & 0 & 2.264726 & -1.39103183 & 4.350009 & -2.6968073 & -3.916469 & -0.51541843 & 5.461306 & 2.771150 & ⋯ & 3.362021 & -1.918022 & -0.02245629 & 2.469852 & -9.965784 & 0.1489992 & 7.337310 & 3.319098 & 3.273065 & AmatoAntiPD1\\\\\n",
       "\t203 & Sample\\_12\\_MB\\_3316 & 0 & 3.912621 &  1.59729756 & 5.930177 & -0.6404878 & -5.350815 &  1.44436493 & 4.843733 & 3.206188 & ⋯ & 3.530395 & -1.511876 & -0.06183919 & 3.489260 & -9.965784 & 0.6465590 & 6.761897 & 3.321501 & 2.410561 & AmatoAntiPD1\\\\\n",
       "\t204 & Sample\\_13\\_MB\\_3432 & 0 & 3.980784 &  0.57359751 & 6.099373 & -4.7721978 & -9.965784 &  1.18828064 & 4.656788 & 2.969366 & ⋯ & 5.079310 & -1.519859 & -0.07129389 & 3.558721 & -9.965784 & 0.2066057 & 6.861993 & 2.619746 & 2.895762 & AmatoAntiPD1\\\\\n",
       "\t205 & Sample\\_14\\_MB\\_4117 & 0 & 2.809468 &  0.09937601 & 8.358831 & -2.3488679 & -6.170485 & -1.36468951 & 3.033005 & 2.617985 & ⋯ & 3.661088 & -0.449383 &  0.64732372 & 2.597178 & -9.965784 & 2.1150033 & 7.261879 & 1.524430 & 2.690998 & AmatoAntiPD1\\\\\n",
       "\\end{tabular}\n"
      ],
      "text/markdown": [
       "\n",
       "A data.frame: 6 × 15327\n",
       "\n",
       "| <!--/--> | Patient &lt;chr&gt; | Response &lt;int&gt; | 1 &lt;dbl&gt; | 503538 &lt;dbl&gt; | 2 &lt;dbl&gt; | 144571 &lt;dbl&gt; | 144568 &lt;dbl&gt; | 53947 &lt;dbl&gt; | 8086 &lt;dbl&gt; | 65985 &lt;dbl&gt; | ⋯ ⋯ | 11130 &lt;dbl&gt; | 7789 &lt;dbl&gt; | 158586 &lt;dbl&gt; | 79364 &lt;dbl&gt; | 440590 &lt;dbl&gt; | 79699 &lt;dbl&gt; | 7791 &lt;dbl&gt; | 23140 &lt;dbl&gt; | 26009 &lt;dbl&gt; | Source &lt;chr&gt; |\n",
       "|---|---|---|---|---|---|---|---|---|---|---|---|---|---|---|---|---|---|---|---|---|---|\n",
       "| 200 | Sample_09_MB_3838 | 0 | 5.027680 |  2.26477661 | 8.438858 |  2.7710172 | -9.965784 |  1.09326268 | 5.823064 | 1.717662 | ⋯ | 1.887584 | -1.719409 | -0.80585746 | 3.639116 | -1.991938 | 0.8673825 | 6.046609 | 3.393444 | 2.103484 | AmatoAntiPD1 |\n",
       "| 201 | Sample_10_MB_2786 | 0 | 3.345794 |  1.67680899 | 7.548968 | -2.4127387 | -9.965784 |  0.07054046 | 4.600829 | 3.308489 | ⋯ | 3.637587 | -1.435475 |  0.35039541 | 2.935084 | -9.965784 | 0.9410462 | 6.247924 | 3.369159 | 2.580196 | AmatoAntiPD1 |\n",
       "| 202 | Sample_11_MB_2855 | 0 | 2.264726 | -1.39103183 | 4.350009 | -2.6968073 | -3.916469 | -0.51541843 | 5.461306 | 2.771150 | ⋯ | 3.362021 | -1.918022 | -0.02245629 | 2.469852 | -9.965784 | 0.1489992 | 7.337310 | 3.319098 | 3.273065 | AmatoAntiPD1 |\n",
       "| 203 | Sample_12_MB_3316 | 0 | 3.912621 |  1.59729756 | 5.930177 | -0.6404878 | -5.350815 |  1.44436493 | 4.843733 | 3.206188 | ⋯ | 3.530395 | -1.511876 | -0.06183919 | 3.489260 | -9.965784 | 0.6465590 | 6.761897 | 3.321501 | 2.410561 | AmatoAntiPD1 |\n",
       "| 204 | Sample_13_MB_3432 | 0 | 3.980784 |  0.57359751 | 6.099373 | -4.7721978 | -9.965784 |  1.18828064 | 4.656788 | 2.969366 | ⋯ | 5.079310 | -1.519859 | -0.07129389 | 3.558721 | -9.965784 | 0.2066057 | 6.861993 | 2.619746 | 2.895762 | AmatoAntiPD1 |\n",
       "| 205 | Sample_14_MB_4117 | 0 | 2.809468 |  0.09937601 | 8.358831 | -2.3488679 | -6.170485 | -1.36468951 | 3.033005 | 2.617985 | ⋯ | 3.661088 | -0.449383 |  0.64732372 | 2.597178 | -9.965784 | 2.1150033 | 7.261879 | 1.524430 | 2.690998 | AmatoAntiPD1 |\n",
       "\n"
      ],
      "text/plain": [
       "    Patient           Response 1        503538      2        144571    \n",
       "200 Sample_09_MB_3838 0        5.027680  2.26477661 8.438858  2.7710172\n",
       "201 Sample_10_MB_2786 0        3.345794  1.67680899 7.548968 -2.4127387\n",
       "202 Sample_11_MB_2855 0        2.264726 -1.39103183 4.350009 -2.6968073\n",
       "203 Sample_12_MB_3316 0        3.912621  1.59729756 5.930177 -0.6404878\n",
       "204 Sample_13_MB_3432 0        3.980784  0.57359751 6.099373 -4.7721978\n",
       "205 Sample_14_MB_4117 0        2.809468  0.09937601 8.358831 -2.3488679\n",
       "    144568    53947       8086     65985    ⋯ 11130    7789      158586     \n",
       "200 -9.965784  1.09326268 5.823064 1.717662 ⋯ 1.887584 -1.719409 -0.80585746\n",
       "201 -9.965784  0.07054046 4.600829 3.308489 ⋯ 3.637587 -1.435475  0.35039541\n",
       "202 -3.916469 -0.51541843 5.461306 2.771150 ⋯ 3.362021 -1.918022 -0.02245629\n",
       "203 -5.350815  1.44436493 4.843733 3.206188 ⋯ 3.530395 -1.511876 -0.06183919\n",
       "204 -9.965784  1.18828064 4.656788 2.969366 ⋯ 5.079310 -1.519859 -0.07129389\n",
       "205 -6.170485 -1.36468951 3.033005 2.617985 ⋯ 3.661088 -0.449383  0.64732372\n",
       "    79364    440590    79699     7791     23140    26009    Source      \n",
       "200 3.639116 -1.991938 0.8673825 6.046609 3.393444 2.103484 AmatoAntiPD1\n",
       "201 2.935084 -9.965784 0.9410462 6.247924 3.369159 2.580196 AmatoAntiPD1\n",
       "202 2.469852 -9.965784 0.1489992 7.337310 3.319098 3.273065 AmatoAntiPD1\n",
       "203 3.489260 -9.965784 0.6465590 6.761897 3.321501 2.410561 AmatoAntiPD1\n",
       "204 3.558721 -9.965784 0.2066057 6.861993 2.619746 2.895762 AmatoAntiPD1\n",
       "205 2.597178 -9.965784 2.1150033 7.261879 1.524430 2.690998 AmatoAntiPD1"
      ]
     },
     "metadata": {},
     "output_type": "display_data"
    }
   ],
   "source": [
    "common_col_names_pd1 <- Reduce(intersect, list(\n",
    "                                           names(GideHugoRiaz_AntiPD1),\n",
    "                                           names(liu),\n",
    "                                           names(amato)))\n",
    "\n",
    "GideHugoRiaz_AntiPD1_sub_pd1 <- GideHugoRiaz_AntiPD1[ , common_col_names_pd1]   \n",
    "liu_sub_pd1 <- liu[ , common_col_names_pd1]  \n",
    "amato_sub_pd1 <- amato[ , common_col_names_pd1]\n",
    "\n",
    "\n",
    "GideHugoRiazAmatoLiu_AntiPD1 <- rbind.fill(GideHugoRiaz_AntiPD1_sub_pd1, liu_sub_pd1, amato_sub_pd1)\n",
    "tail(GideHugoRiazAmatoLiu_AntiPD1)"
   ]
  },
  {
   "cell_type": "markdown",
   "id": "b2ae3b0d",
   "metadata": {},
   "source": [
    "# Clean Data"
   ]
  },
  {
   "cell_type": "code",
   "execution_count": 9,
   "id": "224467f4",
   "metadata": {},
   "outputs": [],
   "source": [
    "# # Check which column has > 50% NA values\n",
    "# countNA <- function(x=NULL,cutOff=NULL){\n",
    "#   output<-FALSE\n",
    "#   perc<-sum(is.na(x))*100/length(x)\n",
    "#   if(perc>cutOff){output<-TRUE}\n",
    "#   output  \n",
    "# }\n",
    "# col_nas <- apply(GideHugoRiazAmatoLiu_AntiPD1,2,function(x){countNA(x, 50)})\n",
    "# cat(\"Columns with NAs > 50% = \", sum(col_nas), \"\\n\")\n",
    "# # all columns have <50% NAs\n",
    "\n",
    "# # Check which rows has > 50% NA values\n",
    "# row_nas <- apply(GideHugoRiazAmatoLiu_AntiPD1,1,function(x){countNA(x, 50)})\n",
    "# cat(\"Rows with NAs > 50% = \", sum(row_nas), \"\\n\")\n",
    "\n",
    "# # 25 rows have >50% NAs, removing them\n",
    "# GideHugoRiazAmatoLiu_AntiPD1_filtered <- GideHugoRiazAmatoLiu_AntiPD1[-which(row_nas %in% TRUE),]\n",
    "\n",
    "# cat(\"Dimensions of the filtered dataset = \", dim(GideHugoRiazAmatoLiu_AntiPD1_filtered))"
   ]
  },
  {
   "cell_type": "markdown",
   "id": "7643d2b9",
   "metadata": {},
   "source": [
    "# Make train and test subsets"
   ]
  },
  {
   "cell_type": "code",
   "execution_count": 12,
   "id": "2ff522e9",
   "metadata": {
    "scrolled": true
   },
   "outputs": [
    {
     "data": {
      "text/html": [
       "164"
      ],
      "text/latex": [
       "164"
      ],
      "text/markdown": [
       "164"
      ],
      "text/plain": [
       "[1] 164"
      ]
     },
     "metadata": {},
     "output_type": "display_data"
    },
    {
     "data": {
      "text/html": [
       "41"
      ],
      "text/latex": [
       "41"
      ],
      "text/markdown": [
       "41"
      ],
      "text/plain": [
       "[1] 41"
      ]
     },
     "metadata": {},
     "output_type": "display_data"
    }
   ],
   "source": [
    "train_pos <- createDataPartition(GideHugoRiazAmatoLiu_AntiPD1$Response, p = 0.8, list = F)\n",
    "train <- GideHugoRiazAmatoLiu_AntiPD1[train_pos, ]\n",
    "test <- GideHugoRiazAmatoLiu_AntiPD1[-train_pos, ]\n",
    "\n",
    "nrow(train)\n",
    "nrow(test)\n",
    "# nrow(GideHugoRiazAmatoLiu_AntiPD1_filtered)\n",
    "\n",
    "saveRDS(GideHugoRiazAmatoLiu_AntiPD1, \"/home/jp/ICP_Responders/ML/GideHugoRiaz_AntiPD1/Pre-processingFeatureSelection/GideHugoRiazAmatoLiu_AntiPD1.rds\")\n",
    "\n",
    "# saveRDS(GideHugoRiazAmatoLiu_AntiPD1_filtered, \"/home/jp/ICP_Responders/ML/GideHugoRiaz_AntiPD1/Pre-processingFeatureSelection/GideHugoRiazAmatoLiu_AntiPD1_filtered.rds\")\n",
    "\n",
    "saveRDS(train, \n",
    "        \"/home/jp/ICP_Responders/ML/GideHugoRiaz_AntiPD1/Pre-processingFeatureSelection/GideHugoRiazAmatoLiu_AntiPD1_train.rds\")\n",
    "\n",
    "saveRDS(test, \n",
    "        \"/home/jp/ICP_Responders/ML/GideHugoRiaz_AntiPD1/Pre-processingFeatureSelection/GideHugoRiazAmatoLiu_AntiPD1_test.rds\")"
   ]
  },
  {
   "cell_type": "code",
   "execution_count": 13,
   "id": "50d061c7",
   "metadata": {},
   "outputs": [
    {
     "data": {
      "text/html": [
       "<table class=\"dataframe\">\n",
       "<caption>A data.frame: 6 × 15327</caption>\n",
       "<thead>\n",
       "\t<tr><th></th><th scope=col>Patient</th><th scope=col>Response</th><th scope=col>1</th><th scope=col>503538</th><th scope=col>2</th><th scope=col>144571</th><th scope=col>144568</th><th scope=col>53947</th><th scope=col>8086</th><th scope=col>65985</th><th scope=col>⋯</th><th scope=col>11130</th><th scope=col>7789</th><th scope=col>158586</th><th scope=col>79364</th><th scope=col>440590</th><th scope=col>79699</th><th scope=col>7791</th><th scope=col>23140</th><th scope=col>26009</th><th scope=col>Source</th></tr>\n",
       "\t<tr><th></th><th scope=col>&lt;chr&gt;</th><th scope=col>&lt;int&gt;</th><th scope=col>&lt;dbl&gt;</th><th scope=col>&lt;dbl&gt;</th><th scope=col>&lt;dbl&gt;</th><th scope=col>&lt;dbl&gt;</th><th scope=col>&lt;dbl&gt;</th><th scope=col>&lt;dbl&gt;</th><th scope=col>&lt;dbl&gt;</th><th scope=col>&lt;dbl&gt;</th><th scope=col>⋯</th><th scope=col>&lt;dbl&gt;</th><th scope=col>&lt;dbl&gt;</th><th scope=col>&lt;dbl&gt;</th><th scope=col>&lt;dbl&gt;</th><th scope=col>&lt;dbl&gt;</th><th scope=col>&lt;dbl&gt;</th><th scope=col>&lt;dbl&gt;</th><th scope=col>&lt;dbl&gt;</th><th scope=col>&lt;dbl&gt;</th><th scope=col>&lt;chr&gt;</th></tr>\n",
       "</thead>\n",
       "<tbody>\n",
       "\t<tr><th scope=row>1</th><td>1 </td><td>0</td><td>         NA</td><td>        NA</td><td>        NA</td><td>          NA</td><td>       NA</td><td>        NA</td><td>        NA</td><td>       NA</td><td>⋯</td><td>        NA</td><td>           NA</td><td>        NA</td><td>         NA</td><td>         NA</td><td>         NA</td><td>        NA</td><td>         NA</td><td>        NA</td><td>GideAntiPD1</td></tr>\n",
       "\t<tr><th scope=row>2</th><td>10</td><td>0</td><td> 0.44967917</td><td>-0.1256063</td><td>-0.9428421</td><td>-0.613896552</td><td>0.3001431</td><td>-0.8007014</td><td>-0.2001231</td><td>0.6050572</td><td>⋯</td><td> 1.5168029</td><td> 0.2051403085</td><td> 0.2497006</td><td> 0.50803986</td><td> 0.70851142</td><td> 0.45721398</td><td>-0.7961158</td><td> 0.24296059</td><td> 1.1821332</td><td>GideAntiPD1</td></tr>\n",
       "\t<tr><th scope=row>3</th><td>11</td><td>0</td><td>-1.16982847</td><td>-0.6828899</td><td>-0.8272336</td><td>-0.446609752</td><td>4.9701435</td><td> 1.2678120</td><td>-0.1597048</td><td>2.3022740</td><td>⋯</td><td>-1.0120033</td><td> 0.0005757279</td><td>-0.4148035</td><td> 0.05113678</td><td> 0.09727642</td><td>-0.16385787</td><td>-0.2469282</td><td> 0.11710389</td><td>-0.7499308</td><td>GideAntiPD1</td></tr>\n",
       "\t<tr><th scope=row>4</th><td>12</td><td>0</td><td>-0.04601746</td><td> 1.5028679</td><td>-0.8496055</td><td>-0.702546587</td><td>0.6318195</td><td> 1.4189363</td><td> 0.7402082</td><td>0.6934887</td><td>⋯</td><td>-0.6297312</td><td> 0.1098136507</td><td>-0.4097749</td><td>-0.18345745</td><td> 0.16842307</td><td>-0.19196153</td><td> 0.6580495</td><td> 0.97848818</td><td>-0.2710510</td><td>GideAntiPD1</td></tr>\n",
       "\t<tr><th scope=row>6</th><td>14</td><td>0</td><td>-0.11535008</td><td>-0.1847109</td><td>-0.4553360</td><td> 0.118023126</td><td>3.3019088</td><td>-0.4543087</td><td> 0.2428361</td><td>0.1082517</td><td>⋯</td><td>-0.1761315</td><td>-0.3655941746</td><td>-0.7592193</td><td> 0.41185003</td><td>-0.11559656</td><td>-0.05134074</td><td>-0.2665028</td><td>-0.30519406</td><td>-0.8440199</td><td>GideAntiPD1</td></tr>\n",
       "\t<tr><th scope=row>7</th><td>15</td><td>0</td><td>-0.14481244</td><td> 1.3029584</td><td>-1.1511116</td><td>-0.005086172</td><td>2.9010415</td><td> 1.1339221</td><td> 0.7687573</td><td>0.9108753</td><td>⋯</td><td>-1.4024428</td><td> 0.9012394246</td><td> 0.1606743</td><td> 0.67071102</td><td>-0.18993268</td><td>-0.11826441</td><td>-1.1862133</td><td> 0.02628124</td><td> 0.2700032</td><td>GideAntiPD1</td></tr>\n",
       "</tbody>\n",
       "</table>\n"
      ],
      "text/latex": [
       "A data.frame: 6 × 15327\n",
       "\\begin{tabular}{r|lllllllllllllllllllll}\n",
       "  & Patient & Response & 1 & 503538 & 2 & 144571 & 144568 & 53947 & 8086 & 65985 & ⋯ & 11130 & 7789 & 158586 & 79364 & 440590 & 79699 & 7791 & 23140 & 26009 & Source\\\\\n",
       "  & <chr> & <int> & <dbl> & <dbl> & <dbl> & <dbl> & <dbl> & <dbl> & <dbl> & <dbl> & ⋯ & <dbl> & <dbl> & <dbl> & <dbl> & <dbl> & <dbl> & <dbl> & <dbl> & <dbl> & <chr>\\\\\n",
       "\\hline\n",
       "\t1 & 1  & 0 &          NA &         NA &         NA &           NA &        NA &         NA &         NA &        NA & ⋯ &         NA &            NA &         NA &          NA &          NA &          NA &         NA &          NA &         NA & GideAntiPD1\\\\\n",
       "\t2 & 10 & 0 &  0.44967917 & -0.1256063 & -0.9428421 & -0.613896552 & 0.3001431 & -0.8007014 & -0.2001231 & 0.6050572 & ⋯ &  1.5168029 &  0.2051403085 &  0.2497006 &  0.50803986 &  0.70851142 &  0.45721398 & -0.7961158 &  0.24296059 &  1.1821332 & GideAntiPD1\\\\\n",
       "\t3 & 11 & 0 & -1.16982847 & -0.6828899 & -0.8272336 & -0.446609752 & 4.9701435 &  1.2678120 & -0.1597048 & 2.3022740 & ⋯ & -1.0120033 &  0.0005757279 & -0.4148035 &  0.05113678 &  0.09727642 & -0.16385787 & -0.2469282 &  0.11710389 & -0.7499308 & GideAntiPD1\\\\\n",
       "\t4 & 12 & 0 & -0.04601746 &  1.5028679 & -0.8496055 & -0.702546587 & 0.6318195 &  1.4189363 &  0.7402082 & 0.6934887 & ⋯ & -0.6297312 &  0.1098136507 & -0.4097749 & -0.18345745 &  0.16842307 & -0.19196153 &  0.6580495 &  0.97848818 & -0.2710510 & GideAntiPD1\\\\\n",
       "\t6 & 14 & 0 & -0.11535008 & -0.1847109 & -0.4553360 &  0.118023126 & 3.3019088 & -0.4543087 &  0.2428361 & 0.1082517 & ⋯ & -0.1761315 & -0.3655941746 & -0.7592193 &  0.41185003 & -0.11559656 & -0.05134074 & -0.2665028 & -0.30519406 & -0.8440199 & GideAntiPD1\\\\\n",
       "\t7 & 15 & 0 & -0.14481244 &  1.3029584 & -1.1511116 & -0.005086172 & 2.9010415 &  1.1339221 &  0.7687573 & 0.9108753 & ⋯ & -1.4024428 &  0.9012394246 &  0.1606743 &  0.67071102 & -0.18993268 & -0.11826441 & -1.1862133 &  0.02628124 &  0.2700032 & GideAntiPD1\\\\\n",
       "\\end{tabular}\n"
      ],
      "text/markdown": [
       "\n",
       "A data.frame: 6 × 15327\n",
       "\n",
       "| <!--/--> | Patient &lt;chr&gt; | Response &lt;int&gt; | 1 &lt;dbl&gt; | 503538 &lt;dbl&gt; | 2 &lt;dbl&gt; | 144571 &lt;dbl&gt; | 144568 &lt;dbl&gt; | 53947 &lt;dbl&gt; | 8086 &lt;dbl&gt; | 65985 &lt;dbl&gt; | ⋯ ⋯ | 11130 &lt;dbl&gt; | 7789 &lt;dbl&gt; | 158586 &lt;dbl&gt; | 79364 &lt;dbl&gt; | 440590 &lt;dbl&gt; | 79699 &lt;dbl&gt; | 7791 &lt;dbl&gt; | 23140 &lt;dbl&gt; | 26009 &lt;dbl&gt; | Source &lt;chr&gt; |\n",
       "|---|---|---|---|---|---|---|---|---|---|---|---|---|---|---|---|---|---|---|---|---|---|\n",
       "| 1 | 1  | 0 |          NA |         NA |         NA |           NA |        NA |         NA |         NA |        NA | ⋯ |         NA |            NA |         NA |          NA |          NA |          NA |         NA |          NA |         NA | GideAntiPD1 |\n",
       "| 2 | 10 | 0 |  0.44967917 | -0.1256063 | -0.9428421 | -0.613896552 | 0.3001431 | -0.8007014 | -0.2001231 | 0.6050572 | ⋯ |  1.5168029 |  0.2051403085 |  0.2497006 |  0.50803986 |  0.70851142 |  0.45721398 | -0.7961158 |  0.24296059 |  1.1821332 | GideAntiPD1 |\n",
       "| 3 | 11 | 0 | -1.16982847 | -0.6828899 | -0.8272336 | -0.446609752 | 4.9701435 |  1.2678120 | -0.1597048 | 2.3022740 | ⋯ | -1.0120033 |  0.0005757279 | -0.4148035 |  0.05113678 |  0.09727642 | -0.16385787 | -0.2469282 |  0.11710389 | -0.7499308 | GideAntiPD1 |\n",
       "| 4 | 12 | 0 | -0.04601746 |  1.5028679 | -0.8496055 | -0.702546587 | 0.6318195 |  1.4189363 |  0.7402082 | 0.6934887 | ⋯ | -0.6297312 |  0.1098136507 | -0.4097749 | -0.18345745 |  0.16842307 | -0.19196153 |  0.6580495 |  0.97848818 | -0.2710510 | GideAntiPD1 |\n",
       "| 6 | 14 | 0 | -0.11535008 | -0.1847109 | -0.4553360 |  0.118023126 | 3.3019088 | -0.4543087 |  0.2428361 | 0.1082517 | ⋯ | -0.1761315 | -0.3655941746 | -0.7592193 |  0.41185003 | -0.11559656 | -0.05134074 | -0.2665028 | -0.30519406 | -0.8440199 | GideAntiPD1 |\n",
       "| 7 | 15 | 0 | -0.14481244 |  1.3029584 | -1.1511116 | -0.005086172 | 2.9010415 |  1.1339221 |  0.7687573 | 0.9108753 | ⋯ | -1.4024428 |  0.9012394246 |  0.1606743 |  0.67071102 | -0.18993268 | -0.11826441 | -1.1862133 |  0.02628124 |  0.2700032 | GideAntiPD1 |\n",
       "\n"
      ],
      "text/plain": [
       "  Patient Response 1           503538     2          144571       144568   \n",
       "1 1       0                 NA         NA         NA           NA        NA\n",
       "2 10      0         0.44967917 -0.1256063 -0.9428421 -0.613896552 0.3001431\n",
       "3 11      0        -1.16982847 -0.6828899 -0.8272336 -0.446609752 4.9701435\n",
       "4 12      0        -0.04601746  1.5028679 -0.8496055 -0.702546587 0.6318195\n",
       "6 14      0        -0.11535008 -0.1847109 -0.4553360  0.118023126 3.3019088\n",
       "7 15      0        -0.14481244  1.3029584 -1.1511116 -0.005086172 2.9010415\n",
       "  53947      8086       65985     ⋯ 11130      7789          158586    \n",
       "1         NA         NA        NA ⋯         NA            NA         NA\n",
       "2 -0.8007014 -0.2001231 0.6050572 ⋯  1.5168029  0.2051403085  0.2497006\n",
       "3  1.2678120 -0.1597048 2.3022740 ⋯ -1.0120033  0.0005757279 -0.4148035\n",
       "4  1.4189363  0.7402082 0.6934887 ⋯ -0.6297312  0.1098136507 -0.4097749\n",
       "6 -0.4543087  0.2428361 0.1082517 ⋯ -0.1761315 -0.3655941746 -0.7592193\n",
       "7  1.1339221  0.7687573 0.9108753 ⋯ -1.4024428  0.9012394246  0.1606743\n",
       "  79364       440590      79699       7791       23140       26009     \n",
       "1          NA          NA          NA         NA          NA         NA\n",
       "2  0.50803986  0.70851142  0.45721398 -0.7961158  0.24296059  1.1821332\n",
       "3  0.05113678  0.09727642 -0.16385787 -0.2469282  0.11710389 -0.7499308\n",
       "4 -0.18345745  0.16842307 -0.19196153  0.6580495  0.97848818 -0.2710510\n",
       "6  0.41185003 -0.11559656 -0.05134074 -0.2665028 -0.30519406 -0.8440199\n",
       "7  0.67071102 -0.18993268 -0.11826441 -1.1862133  0.02628124  0.2700032\n",
       "  Source     \n",
       "1 GideAntiPD1\n",
       "2 GideAntiPD1\n",
       "3 GideAntiPD1\n",
       "4 GideAntiPD1\n",
       "6 GideAntiPD1\n",
       "7 GideAntiPD1"
      ]
     },
     "metadata": {},
     "output_type": "display_data"
    }
   ],
   "source": [
    "head(train)"
   ]
  },
  {
   "cell_type": "code",
   "execution_count": 14,
   "id": "1f4f8e88",
   "metadata": {},
   "outputs": [
    {
     "data": {
      "text/html": [
       "<table class=\"dataframe\">\n",
       "<caption>A data.frame: 6 × 15327</caption>\n",
       "<thead>\n",
       "\t<tr><th></th><th scope=col>Patient</th><th scope=col>Response</th><th scope=col>1</th><th scope=col>503538</th><th scope=col>2</th><th scope=col>144571</th><th scope=col>144568</th><th scope=col>53947</th><th scope=col>8086</th><th scope=col>65985</th><th scope=col>⋯</th><th scope=col>11130</th><th scope=col>7789</th><th scope=col>158586</th><th scope=col>79364</th><th scope=col>440590</th><th scope=col>79699</th><th scope=col>7791</th><th scope=col>23140</th><th scope=col>26009</th><th scope=col>Source</th></tr>\n",
       "\t<tr><th></th><th scope=col>&lt;chr&gt;</th><th scope=col>&lt;int&gt;</th><th scope=col>&lt;dbl&gt;</th><th scope=col>&lt;dbl&gt;</th><th scope=col>&lt;dbl&gt;</th><th scope=col>&lt;dbl&gt;</th><th scope=col>&lt;dbl&gt;</th><th scope=col>&lt;dbl&gt;</th><th scope=col>&lt;dbl&gt;</th><th scope=col>&lt;dbl&gt;</th><th scope=col>⋯</th><th scope=col>&lt;dbl&gt;</th><th scope=col>&lt;dbl&gt;</th><th scope=col>&lt;dbl&gt;</th><th scope=col>&lt;dbl&gt;</th><th scope=col>&lt;dbl&gt;</th><th scope=col>&lt;dbl&gt;</th><th scope=col>&lt;dbl&gt;</th><th scope=col>&lt;dbl&gt;</th><th scope=col>&lt;dbl&gt;</th><th scope=col>&lt;chr&gt;</th></tr>\n",
       "</thead>\n",
       "<tbody>\n",
       "\t<tr><th scope=row>1</th><td>1 </td><td>0</td><td>         NA</td><td>        NA</td><td>        NA</td><td>          NA</td><td>       NA</td><td>        NA</td><td>        NA</td><td>       NA</td><td>⋯</td><td>        NA</td><td>           NA</td><td>        NA</td><td>         NA</td><td>         NA</td><td>         NA</td><td>        NA</td><td>         NA</td><td>        NA</td><td>GideAntiPD1</td></tr>\n",
       "\t<tr><th scope=row>2</th><td>10</td><td>0</td><td> 0.44967917</td><td>-0.1256063</td><td>-0.9428421</td><td>-0.613896552</td><td>0.3001431</td><td>-0.8007014</td><td>-0.2001231</td><td>0.6050572</td><td>⋯</td><td> 1.5168029</td><td> 0.2051403085</td><td> 0.2497006</td><td> 0.50803986</td><td> 0.70851142</td><td> 0.45721398</td><td>-0.7961158</td><td> 0.24296059</td><td> 1.1821332</td><td>GideAntiPD1</td></tr>\n",
       "\t<tr><th scope=row>3</th><td>11</td><td>0</td><td>-1.16982847</td><td>-0.6828899</td><td>-0.8272336</td><td>-0.446609752</td><td>4.9701435</td><td> 1.2678120</td><td>-0.1597048</td><td>2.3022740</td><td>⋯</td><td>-1.0120033</td><td> 0.0005757279</td><td>-0.4148035</td><td> 0.05113678</td><td> 0.09727642</td><td>-0.16385787</td><td>-0.2469282</td><td> 0.11710389</td><td>-0.7499308</td><td>GideAntiPD1</td></tr>\n",
       "\t<tr><th scope=row>4</th><td>12</td><td>0</td><td>-0.04601746</td><td> 1.5028679</td><td>-0.8496055</td><td>-0.702546587</td><td>0.6318195</td><td> 1.4189363</td><td> 0.7402082</td><td>0.6934887</td><td>⋯</td><td>-0.6297312</td><td> 0.1098136507</td><td>-0.4097749</td><td>-0.18345745</td><td> 0.16842307</td><td>-0.19196153</td><td> 0.6580495</td><td> 0.97848818</td><td>-0.2710510</td><td>GideAntiPD1</td></tr>\n",
       "\t<tr><th scope=row>6</th><td>14</td><td>0</td><td>-0.11535008</td><td>-0.1847109</td><td>-0.4553360</td><td> 0.118023126</td><td>3.3019088</td><td>-0.4543087</td><td> 0.2428361</td><td>0.1082517</td><td>⋯</td><td>-0.1761315</td><td>-0.3655941746</td><td>-0.7592193</td><td> 0.41185003</td><td>-0.11559656</td><td>-0.05134074</td><td>-0.2665028</td><td>-0.30519406</td><td>-0.8440199</td><td>GideAntiPD1</td></tr>\n",
       "\t<tr><th scope=row>7</th><td>15</td><td>0</td><td>-0.14481244</td><td> 1.3029584</td><td>-1.1511116</td><td>-0.005086172</td><td>2.9010415</td><td> 1.1339221</td><td> 0.7687573</td><td>0.9108753</td><td>⋯</td><td>-1.4024428</td><td> 0.9012394246</td><td> 0.1606743</td><td> 0.67071102</td><td>-0.18993268</td><td>-0.11826441</td><td>-1.1862133</td><td> 0.02628124</td><td> 0.2700032</td><td>GideAntiPD1</td></tr>\n",
       "</tbody>\n",
       "</table>\n"
      ],
      "text/latex": [
       "A data.frame: 6 × 15327\n",
       "\\begin{tabular}{r|lllllllllllllllllllll}\n",
       "  & Patient & Response & 1 & 503538 & 2 & 144571 & 144568 & 53947 & 8086 & 65985 & ⋯ & 11130 & 7789 & 158586 & 79364 & 440590 & 79699 & 7791 & 23140 & 26009 & Source\\\\\n",
       "  & <chr> & <int> & <dbl> & <dbl> & <dbl> & <dbl> & <dbl> & <dbl> & <dbl> & <dbl> & ⋯ & <dbl> & <dbl> & <dbl> & <dbl> & <dbl> & <dbl> & <dbl> & <dbl> & <dbl> & <chr>\\\\\n",
       "\\hline\n",
       "\t1 & 1  & 0 &          NA &         NA &         NA &           NA &        NA &         NA &         NA &        NA & ⋯ &         NA &            NA &         NA &          NA &          NA &          NA &         NA &          NA &         NA & GideAntiPD1\\\\\n",
       "\t2 & 10 & 0 &  0.44967917 & -0.1256063 & -0.9428421 & -0.613896552 & 0.3001431 & -0.8007014 & -0.2001231 & 0.6050572 & ⋯ &  1.5168029 &  0.2051403085 &  0.2497006 &  0.50803986 &  0.70851142 &  0.45721398 & -0.7961158 &  0.24296059 &  1.1821332 & GideAntiPD1\\\\\n",
       "\t3 & 11 & 0 & -1.16982847 & -0.6828899 & -0.8272336 & -0.446609752 & 4.9701435 &  1.2678120 & -0.1597048 & 2.3022740 & ⋯ & -1.0120033 &  0.0005757279 & -0.4148035 &  0.05113678 &  0.09727642 & -0.16385787 & -0.2469282 &  0.11710389 & -0.7499308 & GideAntiPD1\\\\\n",
       "\t4 & 12 & 0 & -0.04601746 &  1.5028679 & -0.8496055 & -0.702546587 & 0.6318195 &  1.4189363 &  0.7402082 & 0.6934887 & ⋯ & -0.6297312 &  0.1098136507 & -0.4097749 & -0.18345745 &  0.16842307 & -0.19196153 &  0.6580495 &  0.97848818 & -0.2710510 & GideAntiPD1\\\\\n",
       "\t6 & 14 & 0 & -0.11535008 & -0.1847109 & -0.4553360 &  0.118023126 & 3.3019088 & -0.4543087 &  0.2428361 & 0.1082517 & ⋯ & -0.1761315 & -0.3655941746 & -0.7592193 &  0.41185003 & -0.11559656 & -0.05134074 & -0.2665028 & -0.30519406 & -0.8440199 & GideAntiPD1\\\\\n",
       "\t7 & 15 & 0 & -0.14481244 &  1.3029584 & -1.1511116 & -0.005086172 & 2.9010415 &  1.1339221 &  0.7687573 & 0.9108753 & ⋯ & -1.4024428 &  0.9012394246 &  0.1606743 &  0.67071102 & -0.18993268 & -0.11826441 & -1.1862133 &  0.02628124 &  0.2700032 & GideAntiPD1\\\\\n",
       "\\end{tabular}\n"
      ],
      "text/markdown": [
       "\n",
       "A data.frame: 6 × 15327\n",
       "\n",
       "| <!--/--> | Patient &lt;chr&gt; | Response &lt;int&gt; | 1 &lt;dbl&gt; | 503538 &lt;dbl&gt; | 2 &lt;dbl&gt; | 144571 &lt;dbl&gt; | 144568 &lt;dbl&gt; | 53947 &lt;dbl&gt; | 8086 &lt;dbl&gt; | 65985 &lt;dbl&gt; | ⋯ ⋯ | 11130 &lt;dbl&gt; | 7789 &lt;dbl&gt; | 158586 &lt;dbl&gt; | 79364 &lt;dbl&gt; | 440590 &lt;dbl&gt; | 79699 &lt;dbl&gt; | 7791 &lt;dbl&gt; | 23140 &lt;dbl&gt; | 26009 &lt;dbl&gt; | Source &lt;chr&gt; |\n",
       "|---|---|---|---|---|---|---|---|---|---|---|---|---|---|---|---|---|---|---|---|---|---|\n",
       "| 1 | 1  | 0 |          NA |         NA |         NA |           NA |        NA |         NA |         NA |        NA | ⋯ |         NA |            NA |         NA |          NA |          NA |          NA |         NA |          NA |         NA | GideAntiPD1 |\n",
       "| 2 | 10 | 0 |  0.44967917 | -0.1256063 | -0.9428421 | -0.613896552 | 0.3001431 | -0.8007014 | -0.2001231 | 0.6050572 | ⋯ |  1.5168029 |  0.2051403085 |  0.2497006 |  0.50803986 |  0.70851142 |  0.45721398 | -0.7961158 |  0.24296059 |  1.1821332 | GideAntiPD1 |\n",
       "| 3 | 11 | 0 | -1.16982847 | -0.6828899 | -0.8272336 | -0.446609752 | 4.9701435 |  1.2678120 | -0.1597048 | 2.3022740 | ⋯ | -1.0120033 |  0.0005757279 | -0.4148035 |  0.05113678 |  0.09727642 | -0.16385787 | -0.2469282 |  0.11710389 | -0.7499308 | GideAntiPD1 |\n",
       "| 4 | 12 | 0 | -0.04601746 |  1.5028679 | -0.8496055 | -0.702546587 | 0.6318195 |  1.4189363 |  0.7402082 | 0.6934887 | ⋯ | -0.6297312 |  0.1098136507 | -0.4097749 | -0.18345745 |  0.16842307 | -0.19196153 |  0.6580495 |  0.97848818 | -0.2710510 | GideAntiPD1 |\n",
       "| 6 | 14 | 0 | -0.11535008 | -0.1847109 | -0.4553360 |  0.118023126 | 3.3019088 | -0.4543087 |  0.2428361 | 0.1082517 | ⋯ | -0.1761315 | -0.3655941746 | -0.7592193 |  0.41185003 | -0.11559656 | -0.05134074 | -0.2665028 | -0.30519406 | -0.8440199 | GideAntiPD1 |\n",
       "| 7 | 15 | 0 | -0.14481244 |  1.3029584 | -1.1511116 | -0.005086172 | 2.9010415 |  1.1339221 |  0.7687573 | 0.9108753 | ⋯ | -1.4024428 |  0.9012394246 |  0.1606743 |  0.67071102 | -0.18993268 | -0.11826441 | -1.1862133 |  0.02628124 |  0.2700032 | GideAntiPD1 |\n",
       "\n"
      ],
      "text/plain": [
       "  Patient Response 1           503538     2          144571       144568   \n",
       "1 1       0                 NA         NA         NA           NA        NA\n",
       "2 10      0         0.44967917 -0.1256063 -0.9428421 -0.613896552 0.3001431\n",
       "3 11      0        -1.16982847 -0.6828899 -0.8272336 -0.446609752 4.9701435\n",
       "4 12      0        -0.04601746  1.5028679 -0.8496055 -0.702546587 0.6318195\n",
       "6 14      0        -0.11535008 -0.1847109 -0.4553360  0.118023126 3.3019088\n",
       "7 15      0        -0.14481244  1.3029584 -1.1511116 -0.005086172 2.9010415\n",
       "  53947      8086       65985     ⋯ 11130      7789          158586    \n",
       "1         NA         NA        NA ⋯         NA            NA         NA\n",
       "2 -0.8007014 -0.2001231 0.6050572 ⋯  1.5168029  0.2051403085  0.2497006\n",
       "3  1.2678120 -0.1597048 2.3022740 ⋯ -1.0120033  0.0005757279 -0.4148035\n",
       "4  1.4189363  0.7402082 0.6934887 ⋯ -0.6297312  0.1098136507 -0.4097749\n",
       "6 -0.4543087  0.2428361 0.1082517 ⋯ -0.1761315 -0.3655941746 -0.7592193\n",
       "7  1.1339221  0.7687573 0.9108753 ⋯ -1.4024428  0.9012394246  0.1606743\n",
       "  79364       440590      79699       7791       23140       26009     \n",
       "1          NA          NA          NA         NA          NA         NA\n",
       "2  0.50803986  0.70851142  0.45721398 -0.7961158  0.24296059  1.1821332\n",
       "3  0.05113678  0.09727642 -0.16385787 -0.2469282  0.11710389 -0.7499308\n",
       "4 -0.18345745  0.16842307 -0.19196153  0.6580495  0.97848818 -0.2710510\n",
       "6  0.41185003 -0.11559656 -0.05134074 -0.2665028 -0.30519406 -0.8440199\n",
       "7  0.67071102 -0.18993268 -0.11826441 -1.1862133  0.02628124  0.2700032\n",
       "  Source     \n",
       "1 GideAntiPD1\n",
       "2 GideAntiPD1\n",
       "3 GideAntiPD1\n",
       "4 GideAntiPD1\n",
       "6 GideAntiPD1\n",
       "7 GideAntiPD1"
      ]
     },
     "metadata": {},
     "output_type": "display_data"
    },
    {
     "data": {
      "text/html": [
       "<style>\n",
       ".list-inline {list-style: none; margin:0; padding: 0}\n",
       ".list-inline>li {display: inline-block}\n",
       ".list-inline>li:not(:last-child)::after {content: \"\\00b7\"; padding: 0 .5ex}\n",
       "</style>\n",
       "<ol class=list-inline><li>164</li><li>15327</li></ol>\n"
      ],
      "text/latex": [
       "\\begin{enumerate*}\n",
       "\\item 164\n",
       "\\item 15327\n",
       "\\end{enumerate*}\n"
      ],
      "text/markdown": [
       "1. 164\n",
       "2. 15327\n",
       "\n",
       "\n"
      ],
      "text/plain": [
       "[1]   164 15327"
      ]
     },
     "metadata": {},
     "output_type": "display_data"
    }
   ],
   "source": [
    "tmp <- readRDS(\"/home/jp/ICP_Responders/ML/GideHugoRiaz_AntiPD1/Pre-processingFeatureSelection/GideHugoRiazAmatoLiu_AntiPD1_train.rds\")\n",
    "head(tmp)\n",
    "dim(tmp)"
   ]
  },
  {
   "cell_type": "markdown",
   "id": "7f6e4551",
   "metadata": {},
   "source": [
    "# Write into csv file"
   ]
  },
  {
   "cell_type": "code",
   "execution_count": 17,
   "id": "1b67a659",
   "metadata": {},
   "outputs": [],
   "source": [
    "write.csv(GideHugoRiazAmatoLiu_AntiPD1, \"/home/jp/ICP_Responders/DataCollectionFormatting/MergeTables/GideHugoRiazAmatoLiu_AntiPD1.csv\", row.names = FALSE)"
   ]
  },
  {
   "cell_type": "code",
   "execution_count": 18,
   "id": "cb1d54f4",
   "metadata": {
    "scrolled": true
   },
   "outputs": [
    {
     "data": {
      "text/html": [
       "<table class=\"dataframe\">\n",
       "<caption>A data.frame: 6 × 15327</caption>\n",
       "<thead>\n",
       "\t<tr><th></th><th scope=col>Patient</th><th scope=col>Response</th><th scope=col>1</th><th scope=col>503538</th><th scope=col>2</th><th scope=col>144571</th><th scope=col>144568</th><th scope=col>53947</th><th scope=col>8086</th><th scope=col>65985</th><th scope=col>⋯</th><th scope=col>11130</th><th scope=col>7789</th><th scope=col>158586</th><th scope=col>79364</th><th scope=col>440590</th><th scope=col>79699</th><th scope=col>7791</th><th scope=col>23140</th><th scope=col>26009</th><th scope=col>Source</th></tr>\n",
       "\t<tr><th></th><th scope=col>&lt;chr&gt;</th><th scope=col>&lt;int&gt;</th><th scope=col>&lt;dbl&gt;</th><th scope=col>&lt;dbl&gt;</th><th scope=col>&lt;dbl&gt;</th><th scope=col>&lt;dbl&gt;</th><th scope=col>&lt;dbl&gt;</th><th scope=col>&lt;dbl&gt;</th><th scope=col>&lt;dbl&gt;</th><th scope=col>&lt;dbl&gt;</th><th scope=col>⋯</th><th scope=col>&lt;dbl&gt;</th><th scope=col>&lt;dbl&gt;</th><th scope=col>&lt;dbl&gt;</th><th scope=col>&lt;dbl&gt;</th><th scope=col>&lt;dbl&gt;</th><th scope=col>&lt;dbl&gt;</th><th scope=col>&lt;dbl&gt;</th><th scope=col>&lt;dbl&gt;</th><th scope=col>&lt;dbl&gt;</th><th scope=col>&lt;chr&gt;</th></tr>\n",
       "</thead>\n",
       "<tbody>\n",
       "\t<tr><th scope=row>1</th><td>1 </td><td>0</td><td>         NA</td><td>        NA</td><td>        NA</td><td>        NA</td><td>       NA</td><td>        NA</td><td>         NA</td><td>       NA</td><td>⋯</td><td>        NA</td><td>           NA</td><td>        NA</td><td>         NA</td><td>         NA</td><td>         NA</td><td>        NA</td><td>        NA</td><td>         NA</td><td>GideAntiPD1</td></tr>\n",
       "\t<tr><th scope=row>2</th><td>10</td><td>0</td><td> 0.44967917</td><td>-0.1256063</td><td>-0.9428421</td><td>-0.6138966</td><td>0.3001431</td><td>-0.8007014</td><td>-0.20012314</td><td>0.6050572</td><td>⋯</td><td> 1.5168029</td><td> 0.2051403085</td><td> 0.2497006</td><td> 0.50803986</td><td> 0.70851142</td><td> 0.45721398</td><td>-0.7961158</td><td> 0.2429606</td><td> 1.18213316</td><td>GideAntiPD1</td></tr>\n",
       "\t<tr><th scope=row>3</th><td>11</td><td>0</td><td>-1.16982847</td><td>-0.6828899</td><td>-0.8272336</td><td>-0.4466098</td><td>4.9701435</td><td> 1.2678120</td><td>-0.15970481</td><td>2.3022740</td><td>⋯</td><td>-1.0120033</td><td> 0.0005757279</td><td>-0.4148035</td><td> 0.05113678</td><td> 0.09727642</td><td>-0.16385787</td><td>-0.2469282</td><td> 0.1171039</td><td>-0.74993078</td><td>GideAntiPD1</td></tr>\n",
       "\t<tr><th scope=row>4</th><td>12</td><td>0</td><td>-0.04601746</td><td> 1.5028679</td><td>-0.8496055</td><td>-0.7025466</td><td>0.6318195</td><td> 1.4189363</td><td> 0.74020824</td><td>0.6934887</td><td>⋯</td><td>-0.6297312</td><td> 0.1098136507</td><td>-0.4097749</td><td>-0.18345745</td><td> 0.16842307</td><td>-0.19196153</td><td> 0.6580495</td><td> 0.9784882</td><td>-0.27105096</td><td>GideAntiPD1</td></tr>\n",
       "\t<tr><th scope=row>5</th><td>13</td><td>0</td><td> 0.67577556</td><td>-0.4820313</td><td>-1.6330965</td><td> 0.4909002</td><td>2.3912536</td><td>-0.7919329</td><td>-0.07076524</td><td>0.6020135</td><td>⋯</td><td> 1.1309116</td><td>-0.2777108820</td><td>-0.1297598</td><td>-0.06003260</td><td>-0.12662805</td><td>-0.13856663</td><td>-1.2178791</td><td>-0.2099152</td><td> 0.08612588</td><td>GideAntiPD1</td></tr>\n",
       "\t<tr><th scope=row>6</th><td>14</td><td>0</td><td>-0.11535008</td><td>-0.1847109</td><td>-0.4553360</td><td> 0.1180231</td><td>3.3019088</td><td>-0.4543087</td><td> 0.24283611</td><td>0.1082517</td><td>⋯</td><td>-0.1761315</td><td>-0.3655941746</td><td>-0.7592193</td><td> 0.41185003</td><td>-0.11559656</td><td>-0.05134074</td><td>-0.2665028</td><td>-0.3051941</td><td>-0.84401986</td><td>GideAntiPD1</td></tr>\n",
       "</tbody>\n",
       "</table>\n"
      ],
      "text/latex": [
       "A data.frame: 6 × 15327\n",
       "\\begin{tabular}{r|lllllllllllllllllllll}\n",
       "  & Patient & Response & 1 & 503538 & 2 & 144571 & 144568 & 53947 & 8086 & 65985 & ⋯ & 11130 & 7789 & 158586 & 79364 & 440590 & 79699 & 7791 & 23140 & 26009 & Source\\\\\n",
       "  & <chr> & <int> & <dbl> & <dbl> & <dbl> & <dbl> & <dbl> & <dbl> & <dbl> & <dbl> & ⋯ & <dbl> & <dbl> & <dbl> & <dbl> & <dbl> & <dbl> & <dbl> & <dbl> & <dbl> & <chr>\\\\\n",
       "\\hline\n",
       "\t1 & 1  & 0 &          NA &         NA &         NA &         NA &        NA &         NA &          NA &        NA & ⋯ &         NA &            NA &         NA &          NA &          NA &          NA &         NA &         NA &          NA & GideAntiPD1\\\\\n",
       "\t2 & 10 & 0 &  0.44967917 & -0.1256063 & -0.9428421 & -0.6138966 & 0.3001431 & -0.8007014 & -0.20012314 & 0.6050572 & ⋯ &  1.5168029 &  0.2051403085 &  0.2497006 &  0.50803986 &  0.70851142 &  0.45721398 & -0.7961158 &  0.2429606 &  1.18213316 & GideAntiPD1\\\\\n",
       "\t3 & 11 & 0 & -1.16982847 & -0.6828899 & -0.8272336 & -0.4466098 & 4.9701435 &  1.2678120 & -0.15970481 & 2.3022740 & ⋯ & -1.0120033 &  0.0005757279 & -0.4148035 &  0.05113678 &  0.09727642 & -0.16385787 & -0.2469282 &  0.1171039 & -0.74993078 & GideAntiPD1\\\\\n",
       "\t4 & 12 & 0 & -0.04601746 &  1.5028679 & -0.8496055 & -0.7025466 & 0.6318195 &  1.4189363 &  0.74020824 & 0.6934887 & ⋯ & -0.6297312 &  0.1098136507 & -0.4097749 & -0.18345745 &  0.16842307 & -0.19196153 &  0.6580495 &  0.9784882 & -0.27105096 & GideAntiPD1\\\\\n",
       "\t5 & 13 & 0 &  0.67577556 & -0.4820313 & -1.6330965 &  0.4909002 & 2.3912536 & -0.7919329 & -0.07076524 & 0.6020135 & ⋯ &  1.1309116 & -0.2777108820 & -0.1297598 & -0.06003260 & -0.12662805 & -0.13856663 & -1.2178791 & -0.2099152 &  0.08612588 & GideAntiPD1\\\\\n",
       "\t6 & 14 & 0 & -0.11535008 & -0.1847109 & -0.4553360 &  0.1180231 & 3.3019088 & -0.4543087 &  0.24283611 & 0.1082517 & ⋯ & -0.1761315 & -0.3655941746 & -0.7592193 &  0.41185003 & -0.11559656 & -0.05134074 & -0.2665028 & -0.3051941 & -0.84401986 & GideAntiPD1\\\\\n",
       "\\end{tabular}\n"
      ],
      "text/markdown": [
       "\n",
       "A data.frame: 6 × 15327\n",
       "\n",
       "| <!--/--> | Patient &lt;chr&gt; | Response &lt;int&gt; | 1 &lt;dbl&gt; | 503538 &lt;dbl&gt; | 2 &lt;dbl&gt; | 144571 &lt;dbl&gt; | 144568 &lt;dbl&gt; | 53947 &lt;dbl&gt; | 8086 &lt;dbl&gt; | 65985 &lt;dbl&gt; | ⋯ ⋯ | 11130 &lt;dbl&gt; | 7789 &lt;dbl&gt; | 158586 &lt;dbl&gt; | 79364 &lt;dbl&gt; | 440590 &lt;dbl&gt; | 79699 &lt;dbl&gt; | 7791 &lt;dbl&gt; | 23140 &lt;dbl&gt; | 26009 &lt;dbl&gt; | Source &lt;chr&gt; |\n",
       "|---|---|---|---|---|---|---|---|---|---|---|---|---|---|---|---|---|---|---|---|---|---|\n",
       "| 1 | 1  | 0 |          NA |         NA |         NA |         NA |        NA |         NA |          NA |        NA | ⋯ |         NA |            NA |         NA |          NA |          NA |          NA |         NA |         NA |          NA | GideAntiPD1 |\n",
       "| 2 | 10 | 0 |  0.44967917 | -0.1256063 | -0.9428421 | -0.6138966 | 0.3001431 | -0.8007014 | -0.20012314 | 0.6050572 | ⋯ |  1.5168029 |  0.2051403085 |  0.2497006 |  0.50803986 |  0.70851142 |  0.45721398 | -0.7961158 |  0.2429606 |  1.18213316 | GideAntiPD1 |\n",
       "| 3 | 11 | 0 | -1.16982847 | -0.6828899 | -0.8272336 | -0.4466098 | 4.9701435 |  1.2678120 | -0.15970481 | 2.3022740 | ⋯ | -1.0120033 |  0.0005757279 | -0.4148035 |  0.05113678 |  0.09727642 | -0.16385787 | -0.2469282 |  0.1171039 | -0.74993078 | GideAntiPD1 |\n",
       "| 4 | 12 | 0 | -0.04601746 |  1.5028679 | -0.8496055 | -0.7025466 | 0.6318195 |  1.4189363 |  0.74020824 | 0.6934887 | ⋯ | -0.6297312 |  0.1098136507 | -0.4097749 | -0.18345745 |  0.16842307 | -0.19196153 |  0.6580495 |  0.9784882 | -0.27105096 | GideAntiPD1 |\n",
       "| 5 | 13 | 0 |  0.67577556 | -0.4820313 | -1.6330965 |  0.4909002 | 2.3912536 | -0.7919329 | -0.07076524 | 0.6020135 | ⋯ |  1.1309116 | -0.2777108820 | -0.1297598 | -0.06003260 | -0.12662805 | -0.13856663 | -1.2178791 | -0.2099152 |  0.08612588 | GideAntiPD1 |\n",
       "| 6 | 14 | 0 | -0.11535008 | -0.1847109 | -0.4553360 |  0.1180231 | 3.3019088 | -0.4543087 |  0.24283611 | 0.1082517 | ⋯ | -0.1761315 | -0.3655941746 | -0.7592193 |  0.41185003 | -0.11559656 | -0.05134074 | -0.2665028 | -0.3051941 | -0.84401986 | GideAntiPD1 |\n",
       "\n"
      ],
      "text/plain": [
       "  Patient Response 1           503538     2          144571     144568   \n",
       "1 1       0                 NA         NA         NA         NA        NA\n",
       "2 10      0         0.44967917 -0.1256063 -0.9428421 -0.6138966 0.3001431\n",
       "3 11      0        -1.16982847 -0.6828899 -0.8272336 -0.4466098 4.9701435\n",
       "4 12      0        -0.04601746  1.5028679 -0.8496055 -0.7025466 0.6318195\n",
       "5 13      0         0.67577556 -0.4820313 -1.6330965  0.4909002 2.3912536\n",
       "6 14      0        -0.11535008 -0.1847109 -0.4553360  0.1180231 3.3019088\n",
       "  53947      8086        65985     ⋯ 11130      7789          158586    \n",
       "1         NA          NA        NA ⋯         NA            NA         NA\n",
       "2 -0.8007014 -0.20012314 0.6050572 ⋯  1.5168029  0.2051403085  0.2497006\n",
       "3  1.2678120 -0.15970481 2.3022740 ⋯ -1.0120033  0.0005757279 -0.4148035\n",
       "4  1.4189363  0.74020824 0.6934887 ⋯ -0.6297312  0.1098136507 -0.4097749\n",
       "5 -0.7919329 -0.07076524 0.6020135 ⋯  1.1309116 -0.2777108820 -0.1297598\n",
       "6 -0.4543087  0.24283611 0.1082517 ⋯ -0.1761315 -0.3655941746 -0.7592193\n",
       "  79364       440590      79699       7791       23140      26009      \n",
       "1          NA          NA          NA         NA         NA          NA\n",
       "2  0.50803986  0.70851142  0.45721398 -0.7961158  0.2429606  1.18213316\n",
       "3  0.05113678  0.09727642 -0.16385787 -0.2469282  0.1171039 -0.74993078\n",
       "4 -0.18345745  0.16842307 -0.19196153  0.6580495  0.9784882 -0.27105096\n",
       "5 -0.06003260 -0.12662805 -0.13856663 -1.2178791 -0.2099152  0.08612588\n",
       "6  0.41185003 -0.11559656 -0.05134074 -0.2665028 -0.3051941 -0.84401986\n",
       "  Source     \n",
       "1 GideAntiPD1\n",
       "2 GideAntiPD1\n",
       "3 GideAntiPD1\n",
       "4 GideAntiPD1\n",
       "5 GideAntiPD1\n",
       "6 GideAntiPD1"
      ]
     },
     "metadata": {},
     "output_type": "display_data"
    }
   ],
   "source": [
    "head(GideHugoRiazAmatoLiu_AntiPD1)"
   ]
  }
 ],
 "metadata": {
  "kernelspec": {
   "display_name": "R [conda env:caret]",
   "language": "R",
   "name": "conda-env-caret-r"
  },
  "language_info": {
   "codemirror_mode": "r",
   "file_extension": ".r",
   "mimetype": "text/x-r-source",
   "name": "R",
   "pygments_lexer": "r",
   "version": "4.0.5"
  },
  "toc": {
   "base_numbering": 1,
   "nav_menu": {},
   "number_sections": true,
   "sideBar": true,
   "skip_h1_title": false,
   "title_cell": "Table of Contents",
   "title_sidebar": "Contents",
   "toc_cell": false,
   "toc_position": {},
   "toc_section_display": true,
   "toc_window_display": true
  }
 },
 "nbformat": 4,
 "nbformat_minor": 5
}
