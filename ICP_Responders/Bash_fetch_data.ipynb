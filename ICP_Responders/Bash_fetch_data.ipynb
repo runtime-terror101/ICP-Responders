{
 "cells": [
  {
   "cell_type": "markdown",
   "id": "588c8697",
   "metadata": {},
   "source": [
    "# Downloading raw data"
   ]
  },
  {
   "cell_type": "markdown",
   "id": "502d9f9e",
   "metadata": {},
   "source": [
    "## Nathanson et al., Cancer Immunol Res 2017\n",
    "### Downloading Transcriptome, Clinical Outcome, Response Outcome in Nathanson.tar.gz"
   ]
  },
  {
   "cell_type": "code",
   "execution_count": 6,
   "id": "86d856e1-e9e8-4b85-93fa-7b94782669da",
   "metadata": {},
   "outputs": [],
   "source": [
    "cd Data/ # all data in Data directory please :)"
   ]
  },
  {
   "cell_type": "code",
   "execution_count": 6,
   "id": "e6349162-f0e4-45f1-a66b-d0d718522b25",
   "metadata": {},
   "outputs": [
    {
     "name": "stdout",
     "output_type": "stream",
     "text": [
      "  % Total    % Received % Xferd  Average Speed   Time    Time     Time  Current\n",
      "                                 Dload  Upload   Total   Spent    Left  Speed\n",
      "100 40.9M  100 40.9M    0     0  17.9M      0  0:00:02  0:00:02 --:--:-- 17.9M\n",
      "\u001b[?2004h"
     ]
    },
    {
     "ename": "",
     "evalue": "1",
     "output_type": "error",
     "traceback": []
    }
   ],
   "source": [
    "curl https://raw.githubusercontent.com/hammerlab/melanoma-reanalysis/master/files/cufflinks.tar.gz -o Nathanson.tar.gz"
   ]
  },
  {
   "cell_type": "code",
   "execution_count": 7,
   "id": "7abf8310",
   "metadata": {},
   "outputs": [
    {
     "name": "stdout",
     "output_type": "stream",
     "text": [
      "cufflinks.csv\n",
      "\u001b[?2004h"
     ]
    },
    {
     "ename": "",
     "evalue": "1",
     "output_type": "error",
     "traceback": []
    }
   ],
   "source": [
    "tar -xvzf Nathanson.tar.gz"
   ]
  },
  {
   "cell_type": "code",
   "execution_count": 9,
   "id": "c62b92b5",
   "metadata": {},
   "outputs": [
    {
     "name": "stdout",
     "output_type": "stream",
     "text": [
      "tracking_id,class_code,nearest_ref_id,gene_id,gene_short_name,tss_id,locus,length,coverage,FPKM,FPKM_conf_lo,FPKM_conf_hi,FPKM_status,sample,MSK_ID\n",
      "ENSG00000268020,-,-,ENSG00000268020,OR4G4P,-,1:52472-54936,-,-,0.0,0.0,0.0,OK,6494,SK_MEL_560_2T\n",
      "ENSG00000237613,-,-,ENSG00000237613,FAM138A,-,1:34553-36081,-,-,0.0,0.0,0.0,OK,6494,SK_MEL_560_2T\n",
      "ENSG00000186092,-,-,ENSG00000186092,OR4F5,-,1:69090-70008,-,-,0.0,0.0,0.0,OK,6494,SK_MEL_560_2T\n",
      "ENSG00000238009,-,-,ENSG00000238009,RP11-34P13.7,-,1:89294-133566,-,-,0.194482,0.0,0.500884,OK,6494,SK_MEL_560_2T\n",
      "ENSG00000239945,-,-,ENSG00000239945,RP11-34P13.8,-,1:89550-91105,-,-,0.0870031,0.0,0.18726,OK,6494,SK_MEL_560_2T\n",
      "ENSG00000233750,-,-,ENSG00000233750,CICP27,-,1:131024-134836,-,-,0.056305,0.0184647,0.0941453,OK,6494,SK_MEL_560_2T\n",
      "ENSG00000240361,-,-,ENSG00000240361,OR4G11P,-,1:62947-63887,-,-,0.0,0.0,0.0,OK,6494,SK_MEL_560_2T\n",
      "ENSG00000239906,-,-,ENSG00000239906,RP11-34P13.14,-,1:139789-140339,-,-,0.0,0.0,0.0,OK,6494,SK_MEL_560_2T\n",
      "ENSG00000237683,-,-,ENSG00000237683,AL627309.1,-,1:134900-139379,-,-,0.477047,0.340432,0.613662,OK,6494,SK_MEL_560_2T\n",
      "\u001b[?2004h"
     ]
    },
    {
     "ename": "",
     "evalue": "1",
     "output_type": "error",
     "traceback": []
    }
   ],
   "source": [
    "head cufflinks.csv"
   ]
  },
  {
   "cell_type": "markdown",
   "id": "2e4f366c",
   "metadata": {},
   "source": [
    "### Download "
   ]
  },
  {
   "cell_type": "code",
   "execution_count": 18,
   "id": "5e854db5",
   "metadata": {},
   "outputs": [
    {
     "name": "stdout",
     "output_type": "stream",
     "text": [
      "  % Total    % Received % Xferd  Average Speed   Time    Time     Time  Current\n",
      "                                 Dload  Upload   Total   Spent    Left  Speed\n",
      "100 2400k  100 2400k    0     0  2264k      0  0:00:01  0:00:01 --:--:-- 2264k\n",
      "\u001b[?2004h"
     ]
    },
    {
     "ename": "",
     "evalue": "1",
     "output_type": "error",
     "traceback": []
    }
   ],
   "source": [
    "curl http://tide.dfci.harvard.edu/download/release/Nathanson2017_CTLA4_Melanoma_RNASeq_Post.tar.gz/ -o RNASeq_Post.tar.gz"
   ]
  },
  {
   "cell_type": "code",
   "execution_count": 19,
   "id": "a2defd59",
   "metadata": {},
   "outputs": [
    {
     "name": "stdout",
     "output_type": "stream",
     "text": [
      "  % Total    % Received % Xferd  Average Speed   Time    Time     Time  Current\n",
      "                                 Dload  Upload   Total   Spent    Left  Speed\n",
      "100 1524k  100 1524k    0     0  1797k      0 --:--:-- --:--:-- --:--:-- 1795k\n",
      "\u001b[?2004h"
     ]
    },
    {
     "ename": "",
     "evalue": "1",
     "output_type": "error",
     "traceback": []
    }
   ],
   "source": [
    "curl http://tide.dfci.harvard.edu/download/release/Nathanson2017_CTLA4_Melanoma_RNASeq_Pre.tar.gz/ -o RNASeq_Pre.tar.gz"
   ]
  },
  {
   "cell_type": "code",
   "execution_count": 22,
   "id": "5c7c59fc",
   "metadata": {},
   "outputs": [
    {
     "name": "stdout",
     "output_type": "stream",
     "text": [
      "Nathanson2017_CTLA4_Melanoma_RNASeq_Pre/\n",
      "Nathanson2017_CTLA4_Melanoma_RNASeq_Pre/ICB.Nathanson2017_Ipilimumab_Melanoma_Pre.clinical\n",
      "Nathanson2017_CTLA4_Melanoma_RNASeq_Pre/ICB.Nathanson2017_Ipilimumab_Melanoma_Pre.self_subtract\n",
      "Nathanson2017_CTLA4_Melanoma_RNASeq_Post/\n",
      "Nathanson2017_CTLA4_Melanoma_RNASeq_Post/ICB.Nathanson2017_Ipilimumab_Melanoma_Post.self_subtract\n",
      "Nathanson2017_CTLA4_Melanoma_RNASeq_Post/ICB.Nathanson2017_Ipilimumab_Melanoma_Post.clinical\n",
      "\u001b[?2004h"
     ]
    },
    {
     "ename": "",
     "evalue": "1",
     "output_type": "error",
     "traceback": []
    }
   ],
   "source": [
    "tar -xvzf RNASeq_Pre.tar.gz\n",
    "tar -xvzf RNASeq_Post.tar.gz"
   ]
  },
  {
   "cell_type": "code",
   "execution_count": 23,
   "id": "14a6f1fe",
   "metadata": {},
   "outputs": [
    {
     "name": "stdout",
     "output_type": "stream",
     "text": [
      "\u001b[?2004h"
     ]
    },
    {
     "ename": "",
     "evalue": "1",
     "output_type": "error",
     "traceback": []
    }
   ],
   "source": [
    "rm *.gz"
   ]
  },
  {
   "cell_type": "markdown",
   "id": "c021ac53",
   "metadata": {},
   "source": [
    "#### Pre "
   ]
  },
  {
   "cell_type": "code",
   "execution_count": 24,
   "id": "67c5721b",
   "metadata": {
    "scrolled": true
   },
   "outputs": [
    {
     "name": "stdout",
     "output_type": "stream",
     "text": [
      "Patient\tOS\tOS.Event\tGender\tResponse\n",
      "P6126\t1.9\t0\t1\t1\n",
      "P167\t2.7\t0\t0\t1\n",
      "P1494\t2.0\t0\t0\t1\n",
      "P2056\t3.9\t0\t1\t1\n",
      "P2051\t0.8\t1\t1\t0\n",
      "P5784\t0.5\t1\t1\t0\n",
      "P8727\t0.4\t1\t0\t0\n",
      "P1867\t1.5\t1\t0\t0\n",
      "P3549\t0.5\t1\t0\t0\n",
      "\u001b[?2004h"
     ]
    },
    {
     "ename": "",
     "evalue": "1",
     "output_type": "error",
     "traceback": []
    }
   ],
   "source": [
    "head Nathanson2017_CTLA4_Melanoma_RNASeq_Pre/ICB.Nathanson2017_Ipilimumab_Melanoma_Pre.clinical"
   ]
  },
  {
   "cell_type": "code",
   "execution_count": 25,
   "id": "4a253df2",
   "metadata": {
    "scrolled": true
   },
   "outputs": [
    {
     "name": "stdout",
     "output_type": "stream",
     "text": [
      "Entrez\tP6126\tP167\tP1494\tP2056\tP2051\tP5784\tP8727\tP1867\tP3549\n",
      "1\t0.367058437395\t-0.16278033794\t0.321305342627\t0.781277409307\t0.0883214269305\t0.484686667015\t-0.401940098531\t-2.3285187314\t0.850589884598\n",
      "503538\t0.352510327837\t-0.649603756339\t0.105908315772\t0.358202472145\t-0.0504133416919\t0.43570775841\t0.133319327252\t-1.59386386674\t0.908232763353\n",
      "29974\t-0.207620915767\t1.65854302663\t-0.207620915767\t-0.207620915767\t-0.207620915767\t-0.207620915767\t-0.207620915767\t-0.205196616267\t-0.207620915767\n",
      "2\t-1.10498028092\t0.198473593416\t-1.14100375442\t-0.259926056841\t1.34752559401\t0.146231485661\t-1.53951371343\t3.17354893579\t-0.820355803262\n",
      "144571\t-0.418744982697\t-0.404575401859\t0.702840239566\t0.225869288029\t0.872099617313\t-0.460111984032\t-0.59883273491\t-0.0940690781076\t0.175525036698\n",
      "144568\t2.88295634175\t-0.409310584234\t-0.178421596406\t-0.379984610559\t-0.410037756276\t-0.338910467052\t-0.403487645992\t-0.373688598697\t-0.389115082532\n",
      "100874108\t0.0\t0.0\t0.0\t0.0\t0.0\t0.0\t0.0\t0.0\t0.0\n",
      "106478979\t0.0\t0.0\t0.0\t0.0\t0.0\t0.0\t0.0\t0.0\t0.0\n",
      "3\t0.00927685264615\t-0.0428384664792\t-0.0311698640372\t-0.0669379671205\t-0.0216147451646\t0.0271077314342\t-0.0266693482386\t0.141740838449\t0.0111049685107\n",
      "\u001b[?2004h"
     ]
    },
    {
     "ename": "",
     "evalue": "1",
     "output_type": "error",
     "traceback": []
    }
   ],
   "source": [
    "head Nathanson2017_CTLA4_Melanoma_RNASeq_Pre/ICB.Nathanson2017_Ipilimumab_Melanoma_Pre.self_subtract"
   ]
  },
  {
   "cell_type": "markdown",
   "id": "487ebac9",
   "metadata": {},
   "source": [
    "#### Post"
   ]
  },
  {
   "cell_type": "code",
   "execution_count": 27,
   "id": "a9ccef96",
   "metadata": {
    "scrolled": true
   },
   "outputs": [
    {
     "name": "stdout",
     "output_type": "stream",
     "text": [
      "Patient\tOS\tOS.Event\tGender\tResponse\n",
      "P4631\t0.5\t1\t0\t0\n",
      "P9449\t0.6\t1\t1\t0\n",
      "P9521\t2.7\t1\t0\t0\n",
      "P9705\t1.2\t1\t1\t0\n",
      "P1509\t4.5\t0\t1\t1\n",
      "P7623\t4.0\t0\t0\t0\n",
      "P9699\t4.4\t0\t0\t1\n",
      "P346\t2.9\t1\t1\t1\n",
      "P6336\t6.9\t0\t0\t1\n",
      "\u001b[?2004h"
     ]
    },
    {
     "ename": "",
     "evalue": "1",
     "output_type": "error",
     "traceback": []
    }
   ],
   "source": [
    "head Nathanson2017_CTLA4_Melanoma_RNASeq_Post/ICB.Nathanson2017_Ipilimumab_Melanoma_Post.clinical"
   ]
  },
  {
   "cell_type": "code",
   "execution_count": 28,
   "id": "7bdb0bde",
   "metadata": {},
   "outputs": [
    {
     "name": "stdout",
     "output_type": "stream",
     "text": [
      "Entrez\tP4631\tP9449\tP9521\tP9705\tP1509\tP7623\tP9699\tP346\tP6336\tP5038\tP5118\tP6494\tP7357\tP4949\tP4810\n",
      "1\t-0.704845880382\t0.457077055637\t0.370240972986\t-1.00015060016\t-0.676766391974\t-0.77876185492\t0.626088557502\t0.309399569242\t1.13188374657\t0.38475927684\t-0.569043943436\t-1.16500448172\t0.494040705895\t0.424824195569\t0.696259072354\n",
      "503538\t-0.260733658996\t0.0546111036241\t0.267617887631\t-0.486241979398\t0.107567975752\t-1.24566216728\t-0.172919497604\t-0.250204471183\t1.02015062267\t0.499456461629\t0.529155256183\t-0.116236308102\t-0.0606133100403\t-0.181824800288\t0.295876885405\n",
      "29974\t-0.00758271849824\t0.0108901379615\t-0.0104045740259\t-0.00875557450574\t-0.0104045740259\t-0.0104045740259\t-0.0104045740259\t0.0281962749602\t-0.00822123142391\t-0.0104045740259\t-0.0104045740259\t0.0787363880557\t-0.0104045740259\t-0.0100266843425\t-0.0104045740259\n",
      "2\t-1.2417135163\t-0.638328763349\t-0.988008031911\t-0.605413755842\t1.01473734203\t0.880576191607\t0.455263483325\t-1.52716366356\t3.02907592449\t-1.99394622698\t2.02247392589\t-0.306478346992\t1.08526781996\t-2.21547929948\t1.02913691712\n",
      "144571\t0.0457510836015\t0.76213686808\t-0.611786135628\t-0.490136299968\t0.538223846234\t-0.362882308176\t-0.63774827488\t0.0495069251614\t-0.025922150363\t-0.68367274601\t0.101766511145\t0.537171326657\t-0.307874856284\t0.77644319826\t0.309023012171\n",
      "144568\t-0.0292390743135\t0.0265446807441\t-0.0905207039332\t-0.0877167486597\t-0.0720222587524\t-0.0905207039332\t-0.0090509716086\t0.171431752145\t-0.0512691072789\t-0.0905207039332\t-0.0905207039332\t0.517614605885\t-0.0403431036576\t-0.0839049754548\t0.020038016684\n",
      "100874108\t0.0\t0.0\t0.0\t0.0\t0.0\t0.0\t0.0\t0.0\t0.0\t0.0\t0.0\t0.0\t0.0\t0.0\t0.0\n",
      "106478979\t0.00342329599575\t-0.000244521142553\t-0.000244521142553\t-0.000244521142553\t-0.000244521142553\t-0.000244521142553\t-0.000244521142553\t-0.000244521142553\t-0.000244521142553\t-0.000244521142553\t-0.000244521142553\t-0.000244521142553\t-0.000244521142553\t-0.000244521142553\t-0.000244521142553\n",
      "3\t-0.0458451839505\t0.00621615412186\t0.0611914361881\t-0.0336267146322\t-0.0705100987739\t0.128209067056\t-0.0535469238958\t-0.0159713766015\t-0.0387460800899\t-0.0113352723719\t0.148711278255\t-0.0131062068228\t0.013690195674\t-0.0615969343589\t-0.0137333397983\n",
      "\u001b[?2004h"
     ]
    },
    {
     "ename": "",
     "evalue": "1",
     "output_type": "error",
     "traceback": []
    }
   ],
   "source": [
    "head Nathanson2017_CTLA4_Melanoma_RNASeq_Post/ICB.Nathanson2017_Ipilimumab_Melanoma_Post.self_subtract"
   ]
  },
  {
   "cell_type": "markdown",
   "id": "c3aab9d1",
   "metadata": {},
   "source": [
    "## Gide et al., Cancer Cell 2019"
   ]
  },
  {
   "cell_type": "markdown",
   "id": "090201a1",
   "metadata": {},
   "source": [
    "### Downloading Transcriptome"
   ]
  },
  {
   "cell_type": "code",
   "execution_count": null,
   "id": "d1741d21",
   "metadata": {},
   "outputs": [],
   "source": [
    "# download paired reads? read count? base count?"
   ]
  },
  {
   "cell_type": "markdown",
   "id": "a62deeac",
   "metadata": {},
   "source": [
    "### Downloading Supplementary Files\n",
    "Used wget because redirection was causing errors"
   ]
  },
  {
   "cell_type": "code",
   "execution_count": 22,
   "id": "f2a9d83e",
   "metadata": {
    "scrolled": true
   },
   "outputs": [
    {
     "name": "stdout",
     "output_type": "stream",
     "text": [
      "--2021-06-20 20:06:28--  https://www.cell.com/cms/10.1016/j.ccell.2019.01.003/attachment/865a0d07-2671-4582-b1cd-f27fa22b8bc7/mmc2.xlsx\n",
      "Resolving www.cell.com (www.cell.com)... 104.18.123.114, 104.18.124.114\n",
      "Connecting to www.cell.com (www.cell.com)|104.18.123.114|:443... connected.\n",
      "HTTP request sent, awaiting response... 302 Found\n",
      "Location: https://secure.jbs.elsevierhealth.com/action/getSharedSiteSession?redirect=https%3A%2F%2Fwww.cell.com%2Fcms%2F10.1016%2Fj.ccell.2019.01.003%2Fattachment%2F865a0d07-2671-4582-b1cd-f27fa22b8bc7%2Fmmc2.xlsx&rc=0 [following]\n",
      "--2021-06-20 20:06:28--  https://secure.jbs.elsevierhealth.com/action/getSharedSiteSession?redirect=https%3A%2F%2Fwww.cell.com%2Fcms%2F10.1016%2Fj.ccell.2019.01.003%2Fattachment%2F865a0d07-2671-4582-b1cd-f27fa22b8bc7%2Fmmc2.xlsx&rc=0\n",
      "Resolving secure.jbs.elsevierhealth.com (secure.jbs.elsevierhealth.com)... 104.18.124.114, 104.18.123.114\n",
      "Connecting to secure.jbs.elsevierhealth.com (secure.jbs.elsevierhealth.com)|104.18.124.114|:443... connected.\n",
      "HTTP request sent, awaiting response... 302 Found\n",
      "Location: https://secure.jbs.elsevierhealth.com/action/getSharedSiteSession?redirect=https%3A%2F%2Fwww.cell.com%2Fcms%2F10.1016%2Fj.ccell.2019.01.003%2Fattachment%2F865a0d07-2671-4582-b1cd-f27fa22b8bc7%2Fmmc2.xlsx&rc=0&cookieSet=1 [following]\n",
      "--2021-06-20 20:06:29--  https://secure.jbs.elsevierhealth.com/action/getSharedSiteSession?redirect=https%3A%2F%2Fwww.cell.com%2Fcms%2F10.1016%2Fj.ccell.2019.01.003%2Fattachment%2F865a0d07-2671-4582-b1cd-f27fa22b8bc7%2Fmmc2.xlsx&rc=0&cookieSet=1\n",
      "Reusing existing connection to secure.jbs.elsevierhealth.com:443.\n",
      "HTTP request sent, awaiting response... 302 Found\n",
      "Location: https://secure.jbs.elsevierhealth.com/action/getSharedSiteSession?redirect=https%3A%2F%2Fwww.cell.com%2Fcms%2F10.1016%2Fj.ccell.2019.01.003%2Fattachment%2F865a0d07-2671-4582-b1cd-f27fa22b8bc7%2Fmmc2.xlsx&rc=0& [following]\n",
      "--2021-06-20 20:06:29--  https://secure.jbs.elsevierhealth.com/action/getSharedSiteSession?redirect=https%3A%2F%2Fwww.cell.com%2Fcms%2F10.1016%2Fj.ccell.2019.01.003%2Fattachment%2F865a0d07-2671-4582-b1cd-f27fa22b8bc7%2Fmmc2.xlsx&rc=0&\n",
      "Reusing existing connection to secure.jbs.elsevierhealth.com:443.\n",
      "HTTP request sent, awaiting response... 302 Found\n",
      "Location: https://id.elsevier.com/ACW/?return=https%3A%2F%2Fsecure.jbs.elsevierhealth.com%2Faction%2FconsumeSsoCookie%3FredirectUri%3Dhttps%253A%252F%252Fwww.cell.com%252Faction%252FconsumeSharedSessionAction%253FI2KBRCK%253D1%2526JSESSIONID%253DaaapKByAKTLSv9lAI_NOx%2526MAID%253DFeSYJS4hf%25252Bb%25252B%25252BtWOY76KdA%25253D%25253D%2526SERVER%253DWZ6myaEXBLEEYvrnizi8SQ%25253D%25253D%2526ORIGIN%253D129812060%2526RD%253DRD%2526exp%253DpIRqx2JikMWG56DrzHrVow%2525253D%2525253D%26code%3Dnull [following]\n",
      "--2021-06-20 20:06:29--  https://id.elsevier.com/ACW/?return=https%3A%2F%2Fsecure.jbs.elsevierhealth.com%2Faction%2FconsumeSsoCookie%3FredirectUri%3Dhttps%253A%252F%252Fwww.cell.com%252Faction%252FconsumeSharedSessionAction%253FI2KBRCK%253D1%2526JSESSIONID%253DaaapKByAKTLSv9lAI_NOx%2526MAID%253DFeSYJS4hf%25252Bb%25252B%25252BtWOY76KdA%25253D%25253D%2526SERVER%253DWZ6myaEXBLEEYvrnizi8SQ%25253D%25253D%2526ORIGIN%253D129812060%2526RD%253DRD%2526exp%253DpIRqx2JikMWG56DrzHrVow%2525253D%2525253D%26code%3Dnull\n",
      "Resolving id.elsevier.com (id.elsevier.com)... 104.18.234.170, 104.18.233.170, 104.18.232.170, ...\n",
      "Connecting to id.elsevier.com (id.elsevier.com)|104.18.234.170|:443... connected.\n",
      "HTTP request sent, awaiting response... 302 Found\n",
      "The name is too long, 399 chars total.\n",
      "Trying to shorten...\n",
      "New name is index.html?return=https:%2F%2Fsecure.jbs.elsevierhealth.com%2Faction%2FconsumeSsoCookie?redirectUri=https%3A%2F%2Fwww.cell.com%2Faction%2FconsumeSharedSessionAction%3FI2KBRCK%3D1%26JSESSIONID%3DaaapKByAKTLSv9lAI_NOx%26MAID%3DFeSYJS4hf%2.\n",
      "Location: https://secure.jbs.elsevierhealth.com/action/consumeSsoCookie?redirectUri=https%3A%2F%2Fwww.cell.com%2Faction%2FconsumeSharedSessionAction%3FI2KBRCK%3D1%26JSESSIONID%3DaaapKByAKTLSv9lAI_NOx%26MAID%3DFeSYJS4hf%252Bb%252B%252BtWOY76KdA%253D%253D%26SERVER%3DWZ6myaEXBLEEYvrnizi8SQ%253D%253D%26ORIGIN%3D129812060%26RD%3DRD%26exp%3DpIRqx2JikMWG56DrzHrVow%25253D%25253D&code=null&acw=Secure;SameSite=None&utt= [following]\n",
      "--2021-06-20 20:06:29--  https://secure.jbs.elsevierhealth.com/action/consumeSsoCookie?redirectUri=https%3A%2F%2Fwww.cell.com%2Faction%2FconsumeSharedSessionAction%3FI2KBRCK%3D1%26JSESSIONID%3DaaapKByAKTLSv9lAI_NOx%26MAID%3DFeSYJS4hf%252Bb%252B%252BtWOY76KdA%253D%253D%26SERVER%3DWZ6myaEXBLEEYvrnizi8SQ%253D%253D%26ORIGIN%3D129812060%26RD%3DRD%26exp%3DpIRqx2JikMWG56DrzHrVow%25253D%25253D&code=null&acw=Secure;SameSite=None&utt=\n",
      "Connecting to secure.jbs.elsevierhealth.com (secure.jbs.elsevierhealth.com)|104.18.124.114|:443... connected.\n",
      "HTTP request sent, awaiting response... 302 Found\n",
      "The name is too long, 310 chars total.\n",
      "Trying to shorten...\n",
      "New name is consumeSsoCookie?redirectUri=https:%2F%2Fwww.cell.com%2Faction%2FconsumeSharedSessionAction?I2KBRCK=1&JSESSIONID=aaapKByAKTLSv9lAI_NOx&MAID=FeSYJS4hf%2Bb%2B%2BtWOY76KdA%3D%3D&SERVER=WZ6myaEXBLEEYvrnizi8SQ%3D%3D&ORIGIN=129812060&RD=RD&ex.\n",
      "Location: https://www.cell.com/action/consumeSharedSessionAction?I2KBRCK=1&JSESSIONID=aaapKByAKTLSv9lAI_NOx&MAID=FeSYJS4hf%2Bb%2B%2BtWOY76KdA%3D%3D&SERVER=WZ6myaEXBLEEYvrnizi8SQ%3D%3D&ORIGIN=129812060&RD=RD&exp=pIRqx2JikMWG56DrzHrVow%253D%253D [following]\n",
      "--2021-06-20 20:06:30--  https://www.cell.com/action/consumeSharedSessionAction?I2KBRCK=1&JSESSIONID=aaapKByAKTLSv9lAI_NOx&MAID=FeSYJS4hf%2Bb%2B%2BtWOY76KdA%3D%3D&SERVER=WZ6myaEXBLEEYvrnizi8SQ%3D%3D&ORIGIN=129812060&RD=RD&exp=pIRqx2JikMWG56DrzHrVow%253D%253D\n",
      "Connecting to www.cell.com (www.cell.com)|104.18.123.114|:443... connected.\n",
      "HTTP request sent, awaiting response... 302 Found\n",
      "Location: https://www.cell.com/action/consumeSharedSessionAction?I2KBRCK=1&JSESSIONID=aaapKByAKTLSv9lAI_NOx&MAID=FeSYJS4hf%2Bb%2B%2BtWOY76KdA%3D%3D&SERVER=WZ6myaEXBLEEYvrnizi8SQ%3D%3D&ORIGIN=129812060&RD=RD&exp=pIRqx2JikMWG56DrzHrVow%253D%253D&rtc=0 [following]\n",
      "--2021-06-20 20:06:30--  https://www.cell.com/action/consumeSharedSessionAction?I2KBRCK=1&JSESSIONID=aaapKByAKTLSv9lAI_NOx&MAID=FeSYJS4hf%2Bb%2B%2BtWOY76KdA%3D%3D&SERVER=WZ6myaEXBLEEYvrnizi8SQ%3D%3D&ORIGIN=129812060&RD=RD&exp=pIRqx2JikMWG56DrzHrVow%253D%253D&rtc=0\n",
      "Reusing existing connection to www.cell.com:443.\n",
      "HTTP request sent, awaiting response... 302 Found\n",
      "Location: https://www.cell.com/cms/10.1016/j.ccell.2019.01.003/attachment/865a0d07-2671-4582-b1cd-f27fa22b8bc7/mmc2.xlsx [following]\n",
      "--2021-06-20 20:06:30--  https://www.cell.com/cms/10.1016/j.ccell.2019.01.003/attachment/865a0d07-2671-4582-b1cd-f27fa22b8bc7/mmc2.xlsx\n",
      "Reusing existing connection to www.cell.com:443.\n",
      "HTTP request sent, awaiting response... 200 OK\n",
      "Length: 19415 (19K) [application/vnd.openxmlformats-officedocument.spreadsheetml.sheet]\n",
      "Saving to: ‘mmc2.xlsx’\n",
      "\n",
      "mmc2.xlsx           100%[===================>]  18.96K  --.-KB/s    in 0.001s  \n",
      "\n",
      "2021-06-20 20:06:30 (34.1 MB/s) - ‘mmc2.xlsx’ saved [19415/19415]\n",
      "\n",
      "\u001b[?2004h"
     ]
    },
    {
     "ename": "",
     "evalue": "1",
     "output_type": "error",
     "traceback": []
    }
   ],
   "source": [
    "wget --content-disposition https://www.cell.com/cms/10.1016/j.ccell.2019.01.003/attachment/865a0d07-2671-4582-b1cd-f27fa22b8bc7/mmc2.xlsx"
   ]
  },
  {
   "cell_type": "code",
   "execution_count": 61,
   "id": "553b76bc",
   "metadata": {
    "scrolled": true
   },
   "outputs": [
    {
     "name": "stdout",
     "output_type": "stream",
     "text": [
      "--2021-06-17 10:50:07--  https://www.cell.com/cms/10.1016/j.ccell.2019.01.003/attachment/401931cf-5111-4a0b-96c2-d5c7f0e891b6/mmc3.xlsx\n",
      "Resolving www.cell.com (www.cell.com)... 104.18.123.114, 104.18.124.114\n",
      "Connecting to www.cell.com (www.cell.com)|104.18.123.114|:443... connected.\n",
      "HTTP request sent, awaiting response... 302 Found\n",
      "Location: https://secure.jbs.elsevierhealth.com/action/getSharedSiteSession?redirect=https%3A%2F%2Fwww.cell.com%2Fcms%2F10.1016%2Fj.ccell.2019.01.003%2Fattachment%2F401931cf-5111-4a0b-96c2-d5c7f0e891b6%2Fmmc3.xlsx&rc=0 [following]\n",
      "--2021-06-17 10:50:08--  https://secure.jbs.elsevierhealth.com/action/getSharedSiteSession?redirect=https%3A%2F%2Fwww.cell.com%2Fcms%2F10.1016%2Fj.ccell.2019.01.003%2Fattachment%2F401931cf-5111-4a0b-96c2-d5c7f0e891b6%2Fmmc3.xlsx&rc=0\n",
      "Resolving secure.jbs.elsevierhealth.com (secure.jbs.elsevierhealth.com)... 104.18.123.114, 104.18.124.114\n",
      "Connecting to secure.jbs.elsevierhealth.com (secure.jbs.elsevierhealth.com)|104.18.123.114|:443... connected.\n",
      "HTTP request sent, awaiting response... 302 Found\n",
      "Location: https://secure.jbs.elsevierhealth.com/action/getSharedSiteSession?redirect=https%3A%2F%2Fwww.cell.com%2Fcms%2F10.1016%2Fj.ccell.2019.01.003%2Fattachment%2F401931cf-5111-4a0b-96c2-d5c7f0e891b6%2Fmmc3.xlsx&rc=0&cookieSet=1 [following]\n",
      "--2021-06-17 10:50:08--  https://secure.jbs.elsevierhealth.com/action/getSharedSiteSession?redirect=https%3A%2F%2Fwww.cell.com%2Fcms%2F10.1016%2Fj.ccell.2019.01.003%2Fattachment%2F401931cf-5111-4a0b-96c2-d5c7f0e891b6%2Fmmc3.xlsx&rc=0&cookieSet=1\n",
      "Reusing existing connection to secure.jbs.elsevierhealth.com:443.\n",
      "HTTP request sent, awaiting response... 302 Found\n",
      "Location: https://secure.jbs.elsevierhealth.com/action/getSharedSiteSession?redirect=https%3A%2F%2Fwww.cell.com%2Fcms%2F10.1016%2Fj.ccell.2019.01.003%2Fattachment%2F401931cf-5111-4a0b-96c2-d5c7f0e891b6%2Fmmc3.xlsx&rc=0& [following]\n",
      "--2021-06-17 10:50:08--  https://secure.jbs.elsevierhealth.com/action/getSharedSiteSession?redirect=https%3A%2F%2Fwww.cell.com%2Fcms%2F10.1016%2Fj.ccell.2019.01.003%2Fattachment%2F401931cf-5111-4a0b-96c2-d5c7f0e891b6%2Fmmc3.xlsx&rc=0&\n",
      "Reusing existing connection to secure.jbs.elsevierhealth.com:443.\n",
      "HTTP request sent, awaiting response... 302 Found\n",
      "Location: https://id.elsevier.com/ACW/?return=https%3A%2F%2Fsecure.jbs.elsevierhealth.com%2Faction%2FconsumeSsoCookie%3FredirectUri%3Dhttps%253A%252F%252Fwww.cell.com%252Faction%252FconsumeSharedSessionAction%253FI2KBRCK%253D1%2526JSESSIONID%253DaaaM6zIGpl2Pud10fUtOx%2526MAID%253DuQ%25252BEshNOkFr9VKbP8RK%25252Feg%25253D%25253D%2526SERVER%253DWZ6myaEXBLFKjn1do9Q5dA%25253D%25253D%2526ORIGIN%253D351961809%2526RD%253DRD%2526exp%253De022Jz2sgTXf1nZhtQuT3g%2525253D%2525253D%26code%3Dnull [following]\n",
      "--2021-06-17 10:50:08--  https://id.elsevier.com/ACW/?return=https%3A%2F%2Fsecure.jbs.elsevierhealth.com%2Faction%2FconsumeSsoCookie%3FredirectUri%3Dhttps%253A%252F%252Fwww.cell.com%252Faction%252FconsumeSharedSessionAction%253FI2KBRCK%253D1%2526JSESSIONID%253DaaaM6zIGpl2Pud10fUtOx%2526MAID%253DuQ%25252BEshNOkFr9VKbP8RK%25252Feg%25253D%25253D%2526SERVER%253DWZ6myaEXBLFKjn1do9Q5dA%25253D%25253D%2526ORIGIN%253D351961809%2526RD%253DRD%2526exp%253De022Jz2sgTXf1nZhtQuT3g%2525253D%2525253D%26code%3Dnull\n",
      "Resolving id.elsevier.com (id.elsevier.com)... 104.18.231.170, 104.18.235.170, 104.18.234.170, ...\n",
      "Connecting to id.elsevier.com (id.elsevier.com)|104.18.231.170|:443... connected.\n",
      "HTTP request sent, awaiting response... 302 Found\n",
      "The name is too long, 395 chars total.\n",
      "Trying to shorten...\n",
      "New name is index.html?return=https:%2F%2Fsecure.jbs.elsevierhealth.com%2Faction%2FconsumeSsoCookie?redirectUri=https%3A%2F%2Fwww.cell.com%2Faction%2FconsumeSharedSessionAction%3FI2KBRCK%3D1%26JSESSIONID%3DaaaM6zIGpl2Pud10fUtOx%26MAID%3DuQ%252BEshN.\n",
      "Location: https://secure.jbs.elsevierhealth.com/action/consumeSsoCookie?redirectUri=https%3A%2F%2Fwww.cell.com%2Faction%2FconsumeSharedSessionAction%3FI2KBRCK%3D1%26JSESSIONID%3DaaaM6zIGpl2Pud10fUtOx%26MAID%3DuQ%252BEshNOkFr9VKbP8RK%252Feg%253D%253D%26SERVER%3DWZ6myaEXBLFKjn1do9Q5dA%253D%253D%26ORIGIN%3D351961809%26RD%3DRD%26exp%3De022Jz2sgTXf1nZhtQuT3g%25253D%25253D&code=null&acw=Secure;SameSite=None&utt= [following]\n",
      "--2021-06-17 10:50:08--  https://secure.jbs.elsevierhealth.com/action/consumeSsoCookie?redirectUri=https%3A%2F%2Fwww.cell.com%2Faction%2FconsumeSharedSessionAction%3FI2KBRCK%3D1%26JSESSIONID%3DaaaM6zIGpl2Pud10fUtOx%26MAID%3DuQ%252BEshNOkFr9VKbP8RK%252Feg%253D%253D%26SERVER%3DWZ6myaEXBLFKjn1do9Q5dA%253D%253D%26ORIGIN%3D351961809%26RD%3DRD%26exp%3De022Jz2sgTXf1nZhtQuT3g%25253D%25253D&code=null&acw=Secure;SameSite=None&utt=\n",
      "Connecting to secure.jbs.elsevierhealth.com (secure.jbs.elsevierhealth.com)|104.18.123.114|:443... connected.\n",
      "HTTP request sent, awaiting response... 302 Found\n",
      "The name is too long, 308 chars total.\n",
      "Trying to shorten...\n",
      "New name is consumeSsoCookie?redirectUri=https:%2F%2Fwww.cell.com%2Faction%2FconsumeSharedSessionAction?I2KBRCK=1&JSESSIONID=aaaM6zIGpl2Pud10fUtOx&MAID=uQ%2BEshNOkFr9VKbP8RK%2Feg%3D%3D&SERVER=WZ6myaEXBLFKjn1do9Q5dA%3D%3D&ORIGIN=351961809&RD=RD&exp=.\n",
      "Location: https://www.cell.com/action/consumeSharedSessionAction?I2KBRCK=1&JSESSIONID=aaaM6zIGpl2Pud10fUtOx&MAID=uQ%2BEshNOkFr9VKbP8RK%2Feg%3D%3D&SERVER=WZ6myaEXBLFKjn1do9Q5dA%3D%3D&ORIGIN=351961809&RD=RD&exp=e022Jz2sgTXf1nZhtQuT3g%253D%253D [following]\n",
      "--2021-06-17 10:50:09--  https://www.cell.com/action/consumeSharedSessionAction?I2KBRCK=1&JSESSIONID=aaaM6zIGpl2Pud10fUtOx&MAID=uQ%2BEshNOkFr9VKbP8RK%2Feg%3D%3D&SERVER=WZ6myaEXBLFKjn1do9Q5dA%3D%3D&ORIGIN=351961809&RD=RD&exp=e022Jz2sgTXf1nZhtQuT3g%253D%253D\n",
      "Connecting to www.cell.com (www.cell.com)|104.18.123.114|:443... connected.\n",
      "HTTP request sent, awaiting response... 302 Found\n",
      "Location: https://www.cell.com/action/consumeSharedSessionAction?I2KBRCK=1&JSESSIONID=aaaM6zIGpl2Pud10fUtOx&MAID=uQ%2BEshNOkFr9VKbP8RK%2Feg%3D%3D&SERVER=WZ6myaEXBLFKjn1do9Q5dA%3D%3D&ORIGIN=351961809&RD=RD&exp=e022Jz2sgTXf1nZhtQuT3g%253D%253D&rtc=0 [following]\n",
      "--2021-06-17 10:50:10--  https://www.cell.com/action/consumeSharedSessionAction?I2KBRCK=1&JSESSIONID=aaaM6zIGpl2Pud10fUtOx&MAID=uQ%2BEshNOkFr9VKbP8RK%2Feg%3D%3D&SERVER=WZ6myaEXBLFKjn1do9Q5dA%3D%3D&ORIGIN=351961809&RD=RD&exp=e022Jz2sgTXf1nZhtQuT3g%253D%253D&rtc=0\n",
      "Reusing existing connection to www.cell.com:443.\n",
      "HTTP request sent, awaiting response... 302 Found\n",
      "Location: https://www.cell.com/cms/10.1016/j.ccell.2019.01.003/attachment/401931cf-5111-4a0b-96c2-d5c7f0e891b6/mmc3.xlsx [following]\n",
      "--2021-06-17 10:50:10--  https://www.cell.com/cms/10.1016/j.ccell.2019.01.003/attachment/401931cf-5111-4a0b-96c2-d5c7f0e891b6/mmc3.xlsx\n",
      "Reusing existing connection to www.cell.com:443.\n",
      "HTTP request sent, awaiting response... 200 OK\n",
      "Length: 18612 (18K) [application/vnd.openxmlformats-officedocument.spreadsheetml.sheet]\n",
      "Saving to: ‘mmc3.xlsx’\n",
      "\n",
      "mmc3.xlsx           100%[===================>]  18.18K  --.-KB/s    in 0s      \n",
      "\n",
      "2021-06-17 10:50:11 (47.0 MB/s) - ‘mmc3.xlsx’ saved [18612/18612]\n",
      "\n",
      "\u001b[?2004h(base) "
     ]
    },
    {
     "ename": "",
     "evalue": "1",
     "output_type": "error",
     "traceback": []
    }
   ],
   "source": [
    "wget --content-disposition https://www.cell.com/cms/10.1016/j.ccell.2019.01.003/attachment/401931cf-5111-4a0b-96c2-d5c7f0e891b6/mmc3.xlsx"
   ]
  },
  {
   "cell_type": "code",
   "execution_count": 62,
   "id": "d8c3e88d",
   "metadata": {},
   "outputs": [
    {
     "name": "stdout",
     "output_type": "stream",
     "text": [
      "\u001b[?2004h(base) \u001b[?2004l"
     ]
    },
    {
     "ename": "",
     "evalue": "1",
     "output_type": "error",
     "traceback": []
    }
   ],
   "source": [
    "ssconvert --export-type=Gnumeric_stf:stf_csv mmc2.xlsx  Gide_supp1.csv\n",
    "ssconvert --export-type=Gnumeric_stf:stf_csv mmc3.xlsx  Gide_supp2.csv"
   ]
  },
  {
   "cell_type": "markdown",
   "id": "91e7780f",
   "metadata": {},
   "source": [
    "#### File 1"
   ]
  },
  {
   "cell_type": "code",
   "execution_count": 63,
   "id": "9ca599f7",
   "metadata": {},
   "outputs": [
    {
     "name": "stdout",
     "output_type": "stream",
     "text": [
      "\"Table S1. Clinical summary of patients treated with anti-PD-1 monotherapy, Related to Table 1.\",,,,,,,,,,,,,,\n",
      ",,,,,,,,,,,,,,\n",
      "\"Patient no.\",\"Age (Years)\",Sex,Treatment,\"Best RECIST response\",\"Progression Free Survival (Days)\",\"Overall Survival (Days)\",\"Site of PRE Biopsy\",\"Days to EDT Biopsy\",\"Site of EDT Biopsy\",Progressed,\"Last Followup Status\",\"RNA Sequencing\",\"Immunofluorescence Panel 1\",\"Immunofluorescence Panel 2\"\n",
      "1,48,F,Nivolumab,\"PD \",9,147,LN,7,SQ,Yes,\"Dead, melanoma\",-,\"PRE \",\"PRE and EDT\"\n",
      "2,61,F,Pembrolizumab,PD,13,65,SQ,-,-,Yes,\"Dead, melanoma\",PRE,-,-\n",
      "3,50,M,Nivolumab,PD,23,59,SQ,15,SQ,Yes,\"Dead, melanoma\",PRE,EDT,EDT\n",
      "4,84,M,Pembrolizumab,\"PD \",23,22,SQ,9,SQ,Yes,\"Dead, melanoma\",PRE,\"PRE and EDT\",\"PRE and EDT\"\n",
      "5,67,M,Pembrolizumab,PD,39,155,SQ,-,-,Yes,\"Dead, melanoma\",PRE,PRE,PRE\n",
      "6,68,M,Nivolumab,PD,42,94,LN,-,-,Yes,\"Dead, melanoma\",PRE,PRE,PRE\n",
      "7,57,F,Nivolumab,PD,47,80,LN,19,SQ,Yes,\"Dead, melanoma\",PRE,\"PRE and EDT\",EDT\n",
      "\u001b[?2004h(base) "
     ]
    },
    {
     "ename": "",
     "evalue": "1",
     "output_type": "error",
     "traceback": []
    }
   ],
   "source": [
    "head Gide_supp1.csv"
   ]
  },
  {
   "cell_type": "markdown",
   "id": "10902936",
   "metadata": {},
   "source": [
    "#### File 2"
   ]
  },
  {
   "cell_type": "code",
   "execution_count": 64,
   "id": "b9a3bbed",
   "metadata": {
    "scrolled": true
   },
   "outputs": [
    {
     "name": "stdout",
     "output_type": "stream",
     "text": [
      "\"Table S2. Clinical summary of patients treated with combined anti-PD-1 and anti-CTLA-4 immunotherapy, Related to Table 1.\",,,,,,,,,,,,,,\n",
      ",,,,,,,,,,,,,,\n",
      "\"Patient no.\",\"Age (Years)\",Sex,Treatment,\"Best RECIST response\",\"Progression Free Survival (Days)\",\"Overall Survival (Days)\",\"Site of PRE Biopsy\",\"Days to EDT Biopsy\",\"Site of EDT Biopsy\",Progressed,\"Last Followup Status\",\"RNA Sequencing\",\"Immunofluorescence Panel 1\",\"Immunofluorescence Panel 2\"\n",
      "1,42,F,\"Ipilimumab + Pembrolizumab\",PD,15,689,SQ,7,SQ,Yes,Alive,\"PRE and EDT\",\"PRE and EDT\",\"PRE and EDT\"\n",
      "2,41,M,\"Ipilimumab + Pembrolizumab\",PD,34,530,LN,-,-,Yes,Alive,PRE,PRE,PRE\n",
      "3,58,F,\"Ipilimumab + Nivolumab\",PD,37,300,Lung,-,-,Yes,Alive,-,PRE,PRE\n",
      "4,48,M,\"Ipilimumab + Nivolumab\",PD,39,129,SQ,12,SQ,Yes,Alive,EDT,\"PRE and EDT\",\"PRE and EDT\"\n",
      "5,49,F,\"Ipilimumab + Pembrolizumab\",PD,40,93,LN,6,SQ,Yes,\"Dead, melanoma\",-,\"PRE and EDT\",\"PRE and EDT\"\n",
      "6,75,M,\"Ipilimumab + Nivolumab\",PD,41,108,LN,-,-,Yes,\"Dead, melanoma\",PRE,PRE,PRE\n",
      "7,59,M,\"Ipilimumab + Nivolumab\",PR,81,169,SQ,8,SQ,Yes,Alive,PRE,\"PRE and EDT\",\"PRE and EDT\"\n",
      "\u001b[?2004h(base) "
     ]
    },
    {
     "ename": "",
     "evalue": "1",
     "output_type": "error",
     "traceback": []
    }
   ],
   "source": [
    "head Gide_supp2.csv"
   ]
  },
  {
   "cell_type": "code",
   "execution_count": 23,
   "id": "ed760622",
   "metadata": {},
   "outputs": [
    {
     "name": "stdout",
     "output_type": "stream",
     "text": [
      "\u001b[?2004h"
     ]
    },
    {
     "ename": "",
     "evalue": "1",
     "output_type": "error",
     "traceback": []
    }
   ],
   "source": [
    "rm *xlsx"
   ]
  },
  {
   "cell_type": "markdown",
   "id": "7a74d1c7",
   "metadata": {},
   "source": [
    "### Download"
   ]
  },
  {
   "cell_type": "code",
   "execution_count": 5,
   "id": "b2e6c9ad",
   "metadata": {},
   "outputs": [
    {
     "name": "stdout",
     "output_type": "stream",
     "text": [
      "  % Total    % Received % Xferd  Average Speed   Time    Time     Time  Current\n",
      "                                 Dload  Upload   Total   Spent    Left  Speed\n",
      "100 5275k  100 5275k    0     0  5313k      0 --:--:-- --:--:-- --:--:-- 5307k\n",
      "\u001b[?2004h"
     ]
    },
    {
     "ename": "",
     "evalue": "1",
     "output_type": "error",
     "traceback": []
    }
   ],
   "source": [
    "curl http://tide.dfci.harvard.edu/download/release/Gide2019_PD1+CTLA4_Melanoma_RNASeq.tar.gz/ -o Gide1.tar.gz"
   ]
  },
  {
   "cell_type": "code",
   "execution_count": 6,
   "id": "3f298f93",
   "metadata": {},
   "outputs": [
    {
     "name": "stdout",
     "output_type": "stream",
     "text": [
      "  % Total    % Received % Xferd  Average Speed   Time    Time     Time  Current\n",
      "                                 Dload  Upload   Total   Spent    Left  Speed\n",
      "100 6647k  100 6647k    0     0  6183k      0  0:00:01  0:00:01 --:--:-- 6183k\n",
      "\u001b[?2004h"
     ]
    },
    {
     "ename": "",
     "evalue": "1",
     "output_type": "error",
     "traceback": []
    }
   ],
   "source": [
    "curl http://tide.dfci.harvard.edu/download/release/Gide2019_PD1_Melanoma_RNASeq.tar.gz/ -o Gide2.tar.gz"
   ]
  },
  {
   "cell_type": "code",
   "execution_count": 7,
   "id": "a7e9d130",
   "metadata": {},
   "outputs": [
    {
     "name": "stdout",
     "output_type": "stream",
     "text": [
      "Gide2019_PD1+CTLA4_Melanoma_RNASeq/\n",
      "Gide2019_PD1+CTLA4_Melanoma_RNASeq/ICB.Gide2019_Pembrolizumab-Nivolumab+Ipilimumab_Melanoma.self_subtract\n",
      "Gide2019_PD1+CTLA4_Melanoma_RNASeq/ICB.Gide2019_Pembrolizumab-Nivolumab+Ipilimumab_Melanoma.clinical\n",
      "Gide2019_PD1_Melanoma_RNASeq/\n",
      "Gide2019_PD1_Melanoma_RNASeq/ICB.Gide2019_Pembrolizumab-Nivolumab_Melanoma.self_subtract\n",
      "Gide2019_PD1_Melanoma_RNASeq/ICB.Gide2019_Pembrolizumab-Nivolumab_Melanoma.clinical\n",
      "\u001b[?2004h"
     ]
    },
    {
     "ename": "",
     "evalue": "1",
     "output_type": "error",
     "traceback": []
    }
   ],
   "source": [
    "tar -xvzf Gide1.tar.gz\n",
    "tar -xvzf Gide2.tar.gz"
   ]
  },
  {
   "cell_type": "code",
   "execution_count": 8,
   "id": "277f94d4",
   "metadata": {},
   "outputs": [
    {
     "name": "stdout",
     "output_type": "stream",
     "text": [
      "\u001b[?2004h"
     ]
    },
    {
     "ename": "",
     "evalue": "1",
     "output_type": "error",
     "traceback": []
    }
   ],
   "source": [
    "rm *.gz"
   ]
  },
  {
   "cell_type": "markdown",
   "id": "c9682d03",
   "metadata": {},
   "source": [
    "#### Pembrolizumab-Nivolumab+Ipilimumab"
   ]
  },
  {
   "cell_type": "code",
   "execution_count": 9,
   "id": "600a56d8",
   "metadata": {
    "scrolled": true
   },
   "outputs": [
    {
     "name": "stdout",
     "output_type": "stream",
     "text": [
      "\tOS\tOS.Event\tPFS\tPFS.Event\tRECIST\tAge\tGender\tTreatment\tSite\tBest RECIST response\tResponse\n",
      "1\t689\t0\t15\t1\t0\t42\t1\tIpilimumab + Pembrolizumab\tSQ\tPD\t0\n",
      "2\t530\t0\t34\t1\t0\t41\t0\tIpilimumab + Pembrolizumab\tLN\tPD\t0\n",
      "3\t300\t0\t37\t1\t0\t58\t1\tIpilimumab + Nivolumab\tLung\tPD\t0\n",
      "4\t129\t0\t39\t1\t0\t48\t0\tIpilimumab + Nivolumab\tSQ\tPD\t0\n",
      "5\t93\t1\t40\t1\t0\t49\t1\tIpilimumab + Pembrolizumab\tLN\tPD\t0\n",
      "6\t108\t1\t41\t1\t0\t75\t0\tIpilimumab + Nivolumab\tLN\tPD\t0\n",
      "7\t169\t0\t81\t1\t2\t59\t0\tIpilimumab + Nivolumab\tSQ\tPR\t1\n",
      "8\t637\t0\t81\t1\t0\t55\t0\tIpilimumab + Pembrolizumab\tLN\tPD\t0\n",
      "9\t156\t1\t81\t1\t0\t56\t0\tIpilimumab + Pembrolizumab\tLN\tPD\t0\n",
      "\u001b[?2004h"
     ]
    },
    {
     "ename": "",
     "evalue": "1",
     "output_type": "error",
     "traceback": []
    }
   ],
   "source": [
    "head Gide2019_PD1+CTLA4_Melanoma_RNASeq/ICB.Gide2019_Pembrolizumab-Nivolumab+Ipilimumab_Melanoma.clinical "
   ]
  },
  {
   "cell_type": "code",
   "execution_count": 11,
   "id": "1271120e",
   "metadata": {},
   "outputs": [
    {
     "name": "stdout",
     "output_type": "stream",
     "text": [
      "36\t26\t19\t7\t44\t12\t49\t35\t13\t10\t20\t47\t6\t8\t25\t38\t33\t24\t46\t2\t1\t14\t27\t45\t37\t50\t21\t17\t15\t23\t34\t32\n",
      "1\t0.022079710474259162\t0.3693985548247527\t0.014445740447068811\t0.31640366010030174\t-0.9679687343572247\t-1.0711129282753156\t1.1216952190113485\t0.47515082491641714\t-1.2092048162740165\t-0.61833240209784\t-0.6532895522987014\t0.1137806043638685\t0.6216711673776514\t-0.549027187088194\t-0.0739663941210007\t-0.7847341080566461\t0.0709956372822722\t0.375162627431989\t-0.6046099533911233\t0.26308695038605956\t0.3092405077387239\t0.3125574833054836\t0.41001548397825927\t0.5628108084438614\t-0.404080958883839\t-0.09683531286975322\t0.07795681749191008\t0.5301475630011834\t0.8446470245792557\t-0.1348977834166396\t0.50874882609242\t-0.15193508011677848\n",
      "503538\t-0.3993440346331697\t0.4937965200520784\t0.3031724905874036\t-0.23583813471746318\t-0.37173513748430953\t-0.4432668490588296\t0.006291004487891216\t0.3391238085004262\t-0.5414333332868249\t0.014714725789674254\t-0.009017928826131172\t-0.02108879802925845\t0.09141634497601525\t0.34140967485259477\t0.4012907576255935\t-0.0077869459799793095\t0.12662826915908876\t0.42687001179176565\t-0.6332242478648654\t-0.1987860529100698\t0.17528228171147853\t0.8143140067693491\t0.524729459587219\t0.2089604093921158\t-0.07833639329964548\t0.2880636718875449\t-0.19962044193659212\t-0.6535787505896902\t0.408755426283657\t-0.916067933602065\t-0.15391096591630804\t-0.10178291531869221\n",
      "2\t1.3100446125241003\t-2.0555354400498658\t-0.6807448903228934\t-0.030216263556807732\t0.5225906717977722\t2.3171380754508935\t1.456297872629614\t-0.665860392945028\t-0.019892874766766155\t-0.7006519373414832\t-2.6108933634565803\t2.530030581737236\t0.6215899013402133\t-2.4649242817015766\t0.5568403451553579\t0.12535731937335903\t-1.0622813188048257\t2.0102100198171016\t0.35203165132586456\t2.6152296683080394\t-1.303348347538118\t-1.2834788338373704\t1.215095830433608\t-0.44592739450871477\t0.053971449833529306\t-1.3377951068568743\t0.915270444772661\t0.5060419257306386\t-0.24565520561227494\t-0.6877991803389918\t1.3976153888752165\t-2.910350927467081\n",
      "144571\t0.2826620858201394\t-0.13408502037068692\t0.09653196834286804\t-0.395291280895701\t0.29058113626179627\t0.1078686871827117\t1.0136092127788234\t-0.09308171129608644\t0.6540858578959603\t-0.3634987152582456\t1.5620170486037812\t-0.22085072953658935\t-0.034770876452082655\t0.4484863187725616\t-0.3983938221370006\t0.1741239466585749\t-1.0281608778607003\t-0.3408204280974957\t0.021424858162393035\t-0.8734382306181441\t-0.07670973549718929\t-1.0016575983838327\t0.34009902088824906\t-0.1378566196544866\t0.2983293957776363\t-0.3179889077372787\t0.21741237113342415\t-0.122400567369229\t-0.5819281857454731\t-0.6485927024563546\t-0.8846007326437393\t2.1468948337314098\n",
      "144568\t-0.21165347461860154\t-0.23288260689931164\t-0.22800049764429836\t-0.23735979634481047\t1.3954592948255742\t-0.23199857426082965\t0.0026455317255697497\t1.333911644210811\t-0.2253308929935182\t-0.23735979634481047\t-0.23735979634481047\t-0.23735979634481047\t-0.17518586996810342\t-0.23735979634481047\t-0.23735979634481047\t1.6270826070527864\t-0.23735979634481047\t-0.23735979634481047\t-0.16026180692594755\t-0.23735979634481047\t-0.1029603932025121\t-0.23735979634481047\t-0.2193487842076488\t-0.21692890571539947\t-0.23735979634481047\t-0.23735979634481047\t-0.23735979634481047\t-0.1367347016168819\t1.1778140237348251\t-0.0056468422009540165\t-0.06694260246821321\t-0.23735979634481047\n",
      "53947\t-0.20174328836564137\t-0.17725880004239425\t-0.12162472611041841\t-0.417878449903039\t1.2496034713718576\t0.6325661896207744\t0.9484007826953471\t0.01596500163104775\t-0.8760770325308007\t0.496625475148615\t-0.029916922655571332\t-0.38662798047403335\t-0.08569924588772992\t-0.3137751275178129\t-0.583501840308412\t1.0619120677213392\t-0.05546289153561146\t0.4878124044476624\t0.528011381907707\t-0.4335754136419343\t-0.09473420258318344\t0.06524928470803038\t-0.17836319553014746\t0.5173835759466527\t-0.4430959137880164\t0.17021327339078685\t-0.3324936150591762\t-0.10290468593700863\t-0.4266628786154152\t-0.7780984315135689\t0.36754271420403706\t-0.5017909807939493\n",
      "8086\t0.27101637138286083\t0.12710252650863296\t-0.03935540919175207\t-0.9579048488869457\t-0.09848238248680197\t-0.06593464309397579\t-0.2015378444277598\t-0.019883184605117066\t-0.34607874073629663\t-0.4942142160972942\t-0.33408666485619687\t-0.08049887212916929\t0.473041215057755\t-0.0309004568304454\t-0.022990178894539248\t-0.4280516344986349\t-0.16485929639303798\t0.8149564150523716\t0.400593800068342\t0.586873537886353\t0.27427407216153554\t-0.11574018953843357\t-0.24621710958888698\t0.06665659688152115\t0.04636025383094733\t-0.14301865872515673\t-0.5724932343865969\t0.5094730601570969\t0.5778942966264085\t0.12710252650863296\t0.3785768297198029\t-0.29167393647520345\n",
      "65985\t0.35830600220102005\t-0.5636404700524271\t-0.2786648804448739\t-0.26937989307321253\t0.4585162860061298\t-0.6937573298373083\t0.8334867296771091\t0.39161369241857313\t0.000386567985799946\t1.1847091758820572\t-0.4706245114422707\t0.08457755787024412\t0.09214985610280557\t0.023858647931285226\t-0.17469907615431612\t1.255571317308286\t0.057565285280759326\t0.7197109219896278\t-0.40784126154182454\t-0.9311996680426786\t0.4272915405261557\t1.0800537415470717\t-0.6196398121097988\t-0.4002763522168431\t-0.5127994680680423\t-0.07653565305373355\t-0.8267404884783267\t0.5943844349953817\t0.1966029026477374\t-0.3717937641995155\t-0.4603839125007161\t-0.7008081191541606\n",
      "13\t-0.17851692354544602\t-0.27782150982823317\t-0.2447675998570536\t0.2555669336361658\t-0.20287863084511165\t0.9530509425728961\t0.984990580756478\t0.007535656039853178\t-0.049628184889661475\t-0.3026646528966399\t-0.3026646528966399\t-0.11138434920534118\t-0.3026646528966399\t-0.3026646528966399\t-0.2209384404765236\t0.8638907327533338\t0.4767624323012699\t0.11644104854175269\t-0.03619390048767218\t-0.25077333872469776\t-0.18219539566747497\t0.6117161360629065\t-0.3026646528966399\t-0.29286117109551213\t-0.3026646528966399\t-0.2129014483558025\t-0.30221604999110646\t0.1746613572100546\t-0.08652860934388273\t0.2336830659339748\t0.06160048207470126\t-0.27430589819002704\n",
      "\u001b[?2004h"
     ]
    },
    {
     "ename": "",
     "evalue": "1",
     "output_type": "error",
     "traceback": []
    }
   ],
   "source": [
    "head Gide2019_PD1+CTLA4_Melanoma_RNASeq/ICB.Gide2019_Pembrolizumab-Nivolumab+Ipilimumab_Melanoma.self_subtract"
   ]
  },
  {
   "cell_type": "markdown",
   "id": "0ad10d41",
   "metadata": {},
   "source": [
    "#### Pembrolizumab-Nivolumab"
   ]
  },
  {
   "cell_type": "code",
   "execution_count": 13,
   "id": "9c799e84",
   "metadata": {},
   "outputs": [
    {
     "name": "stdout",
     "output_type": "stream",
     "text": [
      "\tOS\tOS.Event\tPFS\tPFS.Event\tRECIST\tAge\tGender\tTreatment\tSite\tBest RECIST response\tResponse\n",
      "1\t147\t1\t9\t1\t0\t48\t1\tNivolumab\tLN\tPD\t0\n",
      "2\t65\t1\t13\t1\t0\t61\t1\tPembrolizumab\tSQ\tPD\t0\n",
      "3\t59\t1\t23\t1\t0\t50\t0\tNivolumab\tSQ\tPD\t0\n",
      "4\t22\t1\t23\t1\t0\t84\t0\tPembrolizumab\tSQ\tPD\t0\n",
      "5\t155\t1\t39\t1\t0\t67\t0\tPembrolizumab\tSQ\tPD\t0\n",
      "6\t94\t1\t42\t1\t0\t68\t0\tNivolumab\tLN\tPD\t0\n",
      "7\t80\t1\t47\t1\t0\t57\t1\tNivolumab\tLN\tPD\t0\n",
      "8\t58\t1\t58\t1\t0\t85\t1\tNivolumab\tSQ\tPD\t0\n",
      "9\t99\t1\t71\t1\t0\t70\t1\tPembrolizumab\tSQ\tPD\t0\n",
      "\u001b[?2004h"
     ]
    },
    {
     "ename": "",
     "evalue": "1",
     "output_type": "error",
     "traceback": []
    }
   ],
   "source": [
    "head Gide2019_PD1_Melanoma_RNASeq/ICB.Gide2019_Pembrolizumab-Nivolumab_Melanoma.clinical"
   ]
  },
  {
   "cell_type": "code",
   "execution_count": 14,
   "id": "09f87283",
   "metadata": {},
   "outputs": [
    {
     "name": "stdout",
     "output_type": "stream",
     "text": [
      "9\t3\t35\t18\t7\t48\t30\t14\t13\t46\t45\t11\t17\t2\t12\t8\t49\t10\t16\t38\t6\t5\t36\t29\t47\t44\t15\t42\t53\t27\t21\t50\t4\t40\t25\t52\t19\t41\t34\t23\t54\n",
      "1\t-1.5823188611272117\t0.4136210792223256\t-1.22017299725538\t0.07509567506024473\t0.05888384012651704\t-0.6620101514395818\t0.429669479898553\t-0.11535008269664271\t0.6757755612866956\t0.5138763584922681\t-0.407728954264007\t-1.1698284671235202\t-0.09359233189262595\t-0.31468182237167763\t-0.046017459555858675\t0.5328568362729857\t0.7557366305611346\t0.4496791728731351\t-0.8108294055547449\t0.02073447419820562\t-1.9496141320595968\t0.4901714721711894\t-0.061813451680464926\t1.0005312695003106\t-0.6611600372894215\t-0.08459075292126261\t-0.1448124407844511\t-0.22502479147411591\t0.9068950910583942\t0.9586085421213744\t0.9276735298731627\t-0.9237223409198247\t-0.9123468229102225\t-0.19708133998605648\t0.7184375027419008\t0.25690495133829483\t0.8390434580230601\t-0.40860109122935784\t1.4464503064189502\t0.04754927869042458\t0.4731032246068896\n",
      "503538\t0.22612656667848707\t0.026864236992675483\t-0.4654447814746092\t-0.1762046045748049\t-0.702086410578196\t-0.4584529416304366\t-0.8448459605020989\t-0.1847108833586013\t-0.48203131152828127\t0.0053654732118399995\t1.0333693719894113\t-0.6828899074251435\t-0.2599664221002149\t-0.2791286990561843\t1.5028678587077935\t-0.5143096288649451\t0.42283946493434366\t-0.12560633538625532\t0.810534942297275\t0.43090122394955266\t-1.5939407476306222\t-0.2578992574153687\t-0.002624338267994686\t1.3155798361236783\t-0.5504933315639036\t0.13549892951658205\t1.3029583894455765\t0.3411512446836784\t-0.32722728831051184\t0.8482426473600979\t0.35195482128108235\t-0.020598068328632424\t-1.0893103162852205\t0.2831535409538435\t-0.04759832248054585\t0.19613082155361106\t0.40829812745338234\t-0.04866972282041049\t0.328543578314326\t-0.6609165976951344\t-0.19542519816912773\n",
      "2\t1.6656807854260922\t-0.6366668712466685\t-0.17419729223206026\t-0.32685865873136777\t0.4745838090978758\t-1.241568243070481\t-0.9813050858490637\t-0.45533602649847893\t-1.6330964588362047\t-0.6105433130063327\t0.22458031492930708\t-0.8272336417143418\t1.0586321862811623\t1.241425191470256\t-0.8496055139877621\t-1.6171786019111005\t0.034434641169136526\t-0.942842122519437\t1.0845834983498968\t-0.32990048745600653\t0.6631408850734388\t-0.6768094915198226\t0.9819537795656466\t-2.2189117358799164\t1.787856406596969\t1.2251337005739593\t-1.1511116392681142\t0.3163984949382641\t-0.5443584362611986\t0.3163984949382641\t0.3382946987609401\t-1.2642798317185209\t0.2397016122569866\t1.186475227294908\t0.7370574418545406\t-1.8164002277472964\t-0.2503431640149518\t2.9694471224647234\t0.32667241477049913\t2.0318622123863292\t-0.3557660747300613\n",
      "144571\t0.41620526112434386\t-0.5208527825655143\t-0.1514277531596111\t-0.3015836813453353\t0.11572231669305055\t0.5462150211838623\t-0.5565702913467647\t0.11802312645072854\t0.4909002405871581\t0.14510437736873394\t1.5359962688344142\t-0.4466097523491306\t-0.4542792058467673\t0.5354788963927073\t-0.702546586747659\t-0.707315340619421\t-0.044468476379124766\t-0.6138965518419286\t-0.5747474023663023\t-0.3323464361875509\t2.0348465873780635\t0.0306180366422264\t0.7566234651526913\t-0.5172993855057112\t0.7649989068066219\t1.9057025751565289\t-0.005086171696442987\t-0.35877735693285795\t0.011554164905267728\t-0.18199521763786197\t-0.43541290926475495\t-0.11756944337724451\t0.20399208928701484\t0.39210060842620553\t0.2533089096348873\t-0.43541290926475495\t-0.5851765355792061\t-0.8970114243630452\t-0.3007490542390916\t-0.5009319579312258\t-0.5153242254772152\n",
      "144568\t-0.8147216455031923\t3.153694074090822\t2.881615373455018\t-1.017703568044775\t-1.017703568044775\t-0.9886255035671235\t-1.017703568044775\t3.3019088229649567\t2.3912535772068635\t0.024950336701250686\t-0.3878936814815609\t4.9701434644635425\t-0.33880690709611205\t-1.017703568044775\t0.6318195258135348\t-0.28577065371559973\t1.7078981164087532\t0.3001431069275371\t-0.30170805015126645\t-1.017703568044775\t-1.017703568044775\t-0.8023873882071414\t-1.017703568044775\t-1.017703568044775\t-0.7593520430644006\t-0.9334474730615921\t2.90104150542357\t-0.9500361017170372\t-1.017703568044775\t-0.8726801199206528\t-1.017703568044775\t-0.9675013673833535\t0.531036970204007\t-1.017703568044775\t0.48117816748671616\t-1.017703568044775\t1.4095049824388652\t-1.017703568044775\t-1.017703568044775\t-1.017703568044775\t-1.017703568044775\n",
      "53947\t0.7521722616346698\t-0.3529379731195257\t-0.3982965869257966\t-0.45728454079816583\t-0.8120631858348266\t-0.23517943029526056\t0.20997399456389187\t-0.45430870041889415\t-0.7919329247479809\t-0.03297678032017748\t-0.0803937828969663\t1.2678120275054496\t0.5777700831848094\t1.0559359829318327\t1.418936264506156\t-1.050975264300734\t0.10370893311983309\t-0.8007014084744144\t0.2388977400379737\t-0.048997532698721535\t0.7234638017404484\t0.1389447195798037\t-0.45376746467740836\t-0.6639160344568282\t1.1522441508556187\t0.38011232398697237\t1.1339221445703638\t0.8281180343144552\t0.0026760761455615345\t-0.7936511201391978\t-0.8808538121127927\t1.0936642322487393\t0.7675663235918151\t0.17559645720119788\t-0.011900327710618885\t-0.5948459952579506\t-0.818328637389115\t-0.709012315636605\t-0.7772133756723296\t0.2902715251832504\t-1.0922498830185159\n",
      "8086\t0.48742978628574907\t0.2173704692329821\t0.11733273733646854\t0.244340205550877\t-0.5205375867038216\t-0.2095268298106454\t-1.275860765365798\t0.24283610733513417\t-0.07076524049781252\t0.042689150389978\t0.17595475988955567\t-0.15970481150458316\t-0.15312546811715766\t0.0036602871062125786\t0.7402082432141057\t-0.08980907196531174\t-0.7293800703528177\t-0.20012313983986996\t0.16062935332311845\t-0.4971322657118806\t-0.24948682863925953\t-0.24442903987058706\t-0.12411218940911883\t0.4826801553480804\t-0.41100401682748355\t0.26360380956538787\t0.768757252925587\t0.5601422120308532\t0.8241202949264386\t1.739264333878645\t-0.8231959882566322\t-0.3608854114371729\t-0.15312546811715766\t-0.2856971350821791\t0.12110436364653143\t0.5593229878410089\t0.2817204829737694\t-0.6678240286403705\t-0.7628235673893897\t0.12643972347510868\t-0.17105779273657795\n",
      "65985\t-0.11137395081151746\t0.9445194478557384\t0.8612417684049096\t0.37405060041510874\t-0.8386622902274397\t0.7394602809312567\t-0.6345680510246696\t0.10825168883962233\t0.6020135003325064\t0.29231340010744855\t-0.652678958582853\t2.302273982947199\t-0.9881817704657143\t-0.14663584840351396\t0.6934887288279081\t-0.1219130332277567\t0.22491213402427856\t0.6050572491535111\t-0.8485835354631401\t-0.5537748737974448\t-0.37863585869841865\t-0.7000881520528459\t-0.014170414707997736\t1.0016501731270595\t-0.9932500993039945\t-0.17956652019276698\t0.9108752992353266\t-0.6243500015146131\t-0.26244683778426614\t-0.12491037493252488\t-0.7993976025729217\t-1.3232279042821289\t-0.21753685340027662\t-0.05100234189880126\t0.2731826889539599\t-0.4576178435514633\t-0.03626696162850962\t0.4186430325967976\t0.19990466118400185\t0.7594694181860038\t-0.25246797659707054\n",
      "13\t2.2802725156164714\t1.2187904966349163\t-0.1599996692573711\t-0.38792630802009104\t-0.15818094565793223\t-0.38792630802009104\t-0.38792630802009104\t-0.38792630802009104\t0.4982985678623068\t0.27977846999121153\t-0.38792630802009104\t1.1773133711170165\t0.15765863708020372\t-0.2923393597340211\t-0.2549706842462275\t-0.047477150360077436\t-0.13340538030639998\t-0.04817242207967998\t-0.2713403234572588\t-0.31726972388655544\t-0.21435512814058746\t-0.38792630802009104\t-0.18193650734736863\t-0.31958175898363017\t-0.38792630802009104\t-0.38792630802009104\t1.3632707194358469\t-0.29013759111852205\t0.012259753215791869\t-0.33570933794134705\t-0.38792630802009104\t1.3666307867610616\t0.3852073387595916\t-0.38792630802009104\t-0.08274478671975438\t-0.17048983570462678\t-0.29837479623710933\t-0.38792630802009104\t-0.36056830986742106\t-0.3309768642809896\t-0.20426069292653493\n",
      "\u001b[?2004h"
     ]
    },
    {
     "ename": "",
     "evalue": "1",
     "output_type": "error",
     "traceback": []
    }
   ],
   "source": [
    "head Gide2019_PD1_Melanoma_RNASeq/ICB.Gide2019_Pembrolizumab-Nivolumab_Melanoma.self_subtract"
   ]
  },
  {
   "cell_type": "markdown",
   "id": "7073ca30",
   "metadata": {},
   "source": [
    "## Riaz et al., Cell 2017"
   ]
  },
  {
   "cell_type": "markdown",
   "id": "81a844a1",
   "metadata": {},
   "source": [
    "### Downloading Transcriptome"
   ]
  },
  {
   "cell_type": "code",
   "execution_count": null,
   "id": "854dbcf0",
   "metadata": {},
   "outputs": [],
   "source": []
  },
  {
   "cell_type": "markdown",
   "id": "f4761ac0",
   "metadata": {},
   "source": [
    "### Downloading Supplementary Files\n",
    "Used wget because redirection was causing errors"
   ]
  },
  {
   "cell_type": "code",
   "execution_count": 67,
   "id": "06378146",
   "metadata": {},
   "outputs": [
    {
     "name": "stdout",
     "output_type": "stream",
     "text": [
      "--2021-06-17 12:41:46--  https://www.cell.com/cms/10.1016/j.cell.2017.09.028/attachment/5f519b6b-f7a6-4ee6-ae31-c6f86891235d/mmc2.xlsx\n",
      "Resolving www.cell.com (www.cell.com)... 104.18.123.114, 104.18.124.114\n",
      "Connecting to www.cell.com (www.cell.com)|104.18.123.114|:443... connected.\n",
      "HTTP request sent, awaiting response... 302 Found\n",
      "Location: https://secure.jbs.elsevierhealth.com/action/getSharedSiteSession?redirect=https%3A%2F%2Fwww.cell.com%2Fcms%2F10.1016%2Fj.cell.2017.09.028%2Fattachment%2F5f519b6b-f7a6-4ee6-ae31-c6f86891235d%2Fmmc2.xlsx&rc=0 [following]\n",
      "--2021-06-17 12:41:46--  https://secure.jbs.elsevierhealth.com/action/getSharedSiteSession?redirect=https%3A%2F%2Fwww.cell.com%2Fcms%2F10.1016%2Fj.cell.2017.09.028%2Fattachment%2F5f519b6b-f7a6-4ee6-ae31-c6f86891235d%2Fmmc2.xlsx&rc=0\n",
      "Resolving secure.jbs.elsevierhealth.com (secure.jbs.elsevierhealth.com)... 104.18.123.114, 104.18.124.114\n",
      "Connecting to secure.jbs.elsevierhealth.com (secure.jbs.elsevierhealth.com)|104.18.123.114|:443... connected.\n",
      "HTTP request sent, awaiting response... 302 Found\n",
      "Location: https://secure.jbs.elsevierhealth.com/action/getSharedSiteSession?redirect=https%3A%2F%2Fwww.cell.com%2Fcms%2F10.1016%2Fj.cell.2017.09.028%2Fattachment%2F5f519b6b-f7a6-4ee6-ae31-c6f86891235d%2Fmmc2.xlsx&rc=0&cookieSet=1 [following]\n",
      "--2021-06-17 12:41:46--  https://secure.jbs.elsevierhealth.com/action/getSharedSiteSession?redirect=https%3A%2F%2Fwww.cell.com%2Fcms%2F10.1016%2Fj.cell.2017.09.028%2Fattachment%2F5f519b6b-f7a6-4ee6-ae31-c6f86891235d%2Fmmc2.xlsx&rc=0&cookieSet=1\n",
      "Reusing existing connection to secure.jbs.elsevierhealth.com:443.\n",
      "HTTP request sent, awaiting response... 302 Found\n",
      "Location: https://secure.jbs.elsevierhealth.com/action/getSharedSiteSession?redirect=https%3A%2F%2Fwww.cell.com%2Fcms%2F10.1016%2Fj.cell.2017.09.028%2Fattachment%2F5f519b6b-f7a6-4ee6-ae31-c6f86891235d%2Fmmc2.xlsx&rc=0& [following]\n",
      "--2021-06-17 12:41:46--  https://secure.jbs.elsevierhealth.com/action/getSharedSiteSession?redirect=https%3A%2F%2Fwww.cell.com%2Fcms%2F10.1016%2Fj.cell.2017.09.028%2Fattachment%2F5f519b6b-f7a6-4ee6-ae31-c6f86891235d%2Fmmc2.xlsx&rc=0&\n",
      "Reusing existing connection to secure.jbs.elsevierhealth.com:443.\n",
      "HTTP request sent, awaiting response... 302 Found\n",
      "Location: https://id.elsevier.com/ACW/?return=https%3A%2F%2Fsecure.jbs.elsevierhealth.com%2Faction%2FconsumeSsoCookie%3FredirectUri%3Dhttps%253A%252F%252Fwww.cell.com%252Faction%252FconsumeSharedSessionAction%253FI2KBRCK%253D1%2526JSESSIONID%253Daaazpfli6qRf7a3SiezOx%2526MAID%253D%25252FVkSCtcXBgFyuqX2Y62o7Q%25253D%25253D%2526SERVER%253DWZ6myaEXBLFkk5eybvJtGQ%25253D%25253D%2526ORIGIN%253D942642874%2526RD%253DRD%2526exp%253DXb5XU2xDiDPnvTd49J9Ahg%2525253D%2525253D%26code%3Dnull [following]\n",
      "--2021-06-17 12:41:48--  https://id.elsevier.com/ACW/?return=https%3A%2F%2Fsecure.jbs.elsevierhealth.com%2Faction%2FconsumeSsoCookie%3FredirectUri%3Dhttps%253A%252F%252Fwww.cell.com%252Faction%252FconsumeSharedSessionAction%253FI2KBRCK%253D1%2526JSESSIONID%253Daaazpfli6qRf7a3SiezOx%2526MAID%253D%25252FVkSCtcXBgFyuqX2Y62o7Q%25253D%25253D%2526SERVER%253DWZ6myaEXBLFkk5eybvJtGQ%25253D%25253D%2526ORIGIN%253D942642874%2526RD%253DRD%2526exp%253DXb5XU2xDiDPnvTd49J9Ahg%2525253D%2525253D%26code%3Dnull\n",
      "Resolving id.elsevier.com (id.elsevier.com)... 104.18.231.170, 104.18.235.170, 104.18.232.170, ...\n",
      "Connecting to id.elsevier.com (id.elsevier.com)|104.18.231.170|:443... connected.\n",
      "HTTP request sent, awaiting response... 302 Found\n",
      "The name is too long, 391 chars total.\n",
      "Trying to shorten...\n",
      "New name is index.html?return=https:%2F%2Fsecure.jbs.elsevierhealth.com%2Faction%2FconsumeSsoCookie?redirectUri=https%3A%2F%2Fwww.cell.com%2Faction%2FconsumeSharedSessionAction%3FI2KBRCK%3D1%26JSESSIONID%3Daaazpfli6qRf7a3SiezOx%26MAID%3D%252FVkSCtc.\n",
      "Location: https://secure.jbs.elsevierhealth.com/action/consumeSsoCookie?redirectUri=https%3A%2F%2Fwww.cell.com%2Faction%2FconsumeSharedSessionAction%3FI2KBRCK%3D1%26JSESSIONID%3Daaazpfli6qRf7a3SiezOx%26MAID%3D%252FVkSCtcXBgFyuqX2Y62o7Q%253D%253D%26SERVER%3DWZ6myaEXBLFkk5eybvJtGQ%253D%253D%26ORIGIN%3D942642874%26RD%3DRD%26exp%3DXb5XU2xDiDPnvTd49J9Ahg%25253D%25253D&code=null&acw=Secure;SameSite=None&utt= [following]\n",
      "--2021-06-17 12:41:49--  https://secure.jbs.elsevierhealth.com/action/consumeSsoCookie?redirectUri=https%3A%2F%2Fwww.cell.com%2Faction%2FconsumeSharedSessionAction%3FI2KBRCK%3D1%26JSESSIONID%3Daaazpfli6qRf7a3SiezOx%26MAID%3D%252FVkSCtcXBgFyuqX2Y62o7Q%253D%253D%26SERVER%3DWZ6myaEXBLFkk5eybvJtGQ%253D%253D%26ORIGIN%3D942642874%26RD%3DRD%26exp%3DXb5XU2xDiDPnvTd49J9Ahg%25253D%25253D&code=null&acw=Secure;SameSite=None&utt=\n",
      "Connecting to secure.jbs.elsevierhealth.com (secure.jbs.elsevierhealth.com)|104.18.123.114|:443... connected.\n",
      "HTTP request sent, awaiting response... 302 Found\n",
      "The name is too long, 306 chars total.\n",
      "Trying to shorten...\n",
      "New name is consumeSsoCookie?redirectUri=https:%2F%2Fwww.cell.com%2Faction%2FconsumeSharedSessionAction?I2KBRCK=1&JSESSIONID=aaazpfli6qRf7a3SiezOx&MAID=%2FVkSCtcXBgFyuqX2Y62o7Q%3D%3D&SERVER=WZ6myaEXBLFkk5eybvJtGQ%3D%3D&ORIGIN=942642874&RD=RD&exp=Xb.\n",
      "Location: https://www.cell.com/action/consumeSharedSessionAction?I2KBRCK=1&JSESSIONID=aaazpfli6qRf7a3SiezOx&MAID=%2FVkSCtcXBgFyuqX2Y62o7Q%3D%3D&SERVER=WZ6myaEXBLFkk5eybvJtGQ%3D%3D&ORIGIN=942642874&RD=RD&exp=Xb5XU2xDiDPnvTd49J9Ahg%253D%253D [following]\n",
      "--2021-06-17 12:41:49--  https://www.cell.com/action/consumeSharedSessionAction?I2KBRCK=1&JSESSIONID=aaazpfli6qRf7a3SiezOx&MAID=%2FVkSCtcXBgFyuqX2Y62o7Q%3D%3D&SERVER=WZ6myaEXBLFkk5eybvJtGQ%3D%3D&ORIGIN=942642874&RD=RD&exp=Xb5XU2xDiDPnvTd49J9Ahg%253D%253D\n",
      "Connecting to www.cell.com (www.cell.com)|104.18.123.114|:443... connected.\n",
      "HTTP request sent, awaiting response... 302 Found\n",
      "Location: https://www.cell.com/action/consumeSharedSessionAction?I2KBRCK=1&JSESSIONID=aaazpfli6qRf7a3SiezOx&MAID=%2FVkSCtcXBgFyuqX2Y62o7Q%3D%3D&SERVER=WZ6myaEXBLFkk5eybvJtGQ%3D%3D&ORIGIN=942642874&RD=RD&exp=Xb5XU2xDiDPnvTd49J9Ahg%253D%253D&rtc=0 [following]\n",
      "--2021-06-17 12:41:49--  https://www.cell.com/action/consumeSharedSessionAction?I2KBRCK=1&JSESSIONID=aaazpfli6qRf7a3SiezOx&MAID=%2FVkSCtcXBgFyuqX2Y62o7Q%3D%3D&SERVER=WZ6myaEXBLFkk5eybvJtGQ%3D%3D&ORIGIN=942642874&RD=RD&exp=Xb5XU2xDiDPnvTd49J9Ahg%253D%253D&rtc=0\n",
      "Reusing existing connection to www.cell.com:443.\n",
      "HTTP request sent, awaiting response... 302 Found\n",
      "Location: https://www.cell.com/cms/10.1016/j.cell.2017.09.028/attachment/5f519b6b-f7a6-4ee6-ae31-c6f86891235d/mmc2.xlsx [following]\n",
      "--2021-06-17 12:41:49--  https://www.cell.com/cms/10.1016/j.cell.2017.09.028/attachment/5f519b6b-f7a6-4ee6-ae31-c6f86891235d/mmc2.xlsx\n",
      "Reusing existing connection to www.cell.com:443.\n",
      "HTTP request sent, awaiting response... 200 OK\n",
      "Length: 17205 (17K) [application/vnd.openxmlformats-officedocument.spreadsheetml.sheet]\n",
      "Saving to: ‘mmc2.xlsx’\n",
      "\n",
      "mmc2.xlsx           100%[===================>]  16.80K  --.-KB/s    in 0.001s  \n",
      "\n",
      "2021-06-17 12:41:50 (24.5 MB/s) - ‘mmc2.xlsx’ saved [17205/17205]\n",
      "\n",
      "\u001b[?2004h(base) "
     ]
    },
    {
     "ename": "",
     "evalue": "1",
     "output_type": "error",
     "traceback": []
    }
   ],
   "source": [
    "wget --content-disposition https://www.cell.com/cms/10.1016/j.cell.2017.09.028/attachment/5f519b6b-f7a6-4ee6-ae31-c6f86891235d/mmc2.xlsx "
   ]
  },
  {
   "cell_type": "code",
   "execution_count": 68,
   "id": "4f319de7",
   "metadata": {},
   "outputs": [
    {
     "name": "stdout",
     "output_type": "stream",
     "text": [
      "\u001b[?2004h(base) "
     ]
    },
    {
     "ename": "",
     "evalue": "1",
     "output_type": "error",
     "traceback": []
    }
   ],
   "source": [
    "ssconvert --export-type=Gnumeric_stf:stf_csv mmc2.xlsx  Riaz_supp.csv"
   ]
  },
  {
   "cell_type": "code",
   "execution_count": 69,
   "id": "f3dfcf8a",
   "metadata": {},
   "outputs": [
    {
     "name": "stdout",
     "output_type": "stream",
     "text": [
      "\"Table S2: Clinical Characteristics \",,,,,,,,,,,\n",
      ",,,,,,,,,,,\n",
      "Patient,Cohort,Response,\"Dead/Alive\n",
      "(Dead = True)\",\"Time to Death\n",
      "(weeks)\",Subtype,\"Mutational\n",
      " Subtype\",\"M Stage\",\"Mutation Load\",\"Neo-antigen Load\",\"Neo-peptide Load\",\"Cytolytic Score\"\n",
      "Pt1,NIV3-PROG,PD,TRUE,22.85714286,CUTANEOUS,NA,M1C,NA,NA,NA,977.8691119\n",
      "Pt10,NIV3-NAIVE,SD,TRUE,36.57142857,CUTANEOUS,NF1,M1A,75,33,56,65.84071689\n",
      "Pt100,NIV3-PROG,PD,TRUE,120,OTHER,TripleWt,M1C,6,5,6,NA\n",
      "Pt101,NIV3-PROG,PR,FALSE,119.1428571,CUTANEOUS,TripleWt,M1A,10,5,6,1392.142234\n",
      "\u001b[?2004h(base) "
     ]
    },
    {
     "ename": "",
     "evalue": "1",
     "output_type": "error",
     "traceback": []
    }
   ],
   "source": [
    "head Riaz_supp.csv"
   ]
  },
  {
   "cell_type": "code",
   "execution_count": 72,
   "id": "62cc4cc3",
   "metadata": {},
   "outputs": [
    {
     "name": "stdout",
     "output_type": "stream",
     "text": [
      "\u001b[?2004h(base) "
     ]
    },
    {
     "ename": "",
     "evalue": "1",
     "output_type": "error",
     "traceback": []
    }
   ],
   "source": [
    "rm *xlsx"
   ]
  },
  {
   "cell_type": "markdown",
   "id": "22319d4b",
   "metadata": {},
   "source": [
    "### Download"
   ]
  },
  {
   "cell_type": "code",
   "execution_count": 73,
   "id": "445dacaa",
   "metadata": {},
   "outputs": [
    {
     "name": "stdout",
     "output_type": "stream",
     "text": [
      "  % Total    % Received % Xferd  Average Speed   Time    Time     Time  Current\n",
      "                                 Dload  Upload   Total   Spent    Left  Speed\n",
      "100 3369k  100 3369k    0     0  3790k      0 --:--:-- --:--:-- --:--:-- 3785k\n",
      "\u001b[?2004h(base) "
     ]
    },
    {
     "ename": "",
     "evalue": "1",
     "output_type": "error",
     "traceback": []
    }
   ],
   "source": [
    "curl http://tide.dfci.harvard.edu/download/release/Riaz2017_PD1_Melanoma_RNASeq_Ipi.Naive.tar.gz/ -o Riaz1.tar.gz"
   ]
  },
  {
   "cell_type": "code",
   "execution_count": 74,
   "id": "65952c0a",
   "metadata": {},
   "outputs": [
    {
     "name": "stdout",
     "output_type": "stream",
     "text": [
      "  % Total    % Received % Xferd  Average Speed   Time    Time     Time  Current\n",
      "                                 Dload  Upload   Total   Spent    Left  Speed\n",
      "100 3495k  100 3495k    0     0  3380k      0  0:00:01  0:00:01 --:--:-- 3380k\n",
      "\u001b[?2004h(base) "
     ]
    },
    {
     "ename": "",
     "evalue": "1",
     "output_type": "error",
     "traceback": []
    }
   ],
   "source": [
    "curl http://tide.dfci.harvard.edu/download/release/Riaz2017_PD1_Melanoma_RNASeq_Ipi.Prog.tar.gz/ -o Riaz2.tar.gz"
   ]
  },
  {
   "cell_type": "code",
   "execution_count": 75,
   "id": "c3afb55b",
   "metadata": {},
   "outputs": [
    {
     "name": "stdout",
     "output_type": "stream",
     "text": [
      "Riaz2017_PD1_Melanoma_RNASeq_Ipi.Naive/\n",
      "Riaz2017_PD1_Melanoma_RNASeq_Ipi.Naive/ICB.Riaz2017_Nivolumab_Melanoma_Naive.self_subtract\n",
      "Riaz2017_PD1_Melanoma_RNASeq_Ipi.Naive/ICB.Riaz2017_Nivolumab_Melanoma_Naive.clinical\n",
      "Riaz2017_PD1_Melanoma_RNASeq_Ipi.Prog/\n",
      "Riaz2017_PD1_Melanoma_RNASeq_Ipi.Prog/ICB.Riaz2017_Nivolumab_Melanoma_Prog.clinical\n",
      "Riaz2017_PD1_Melanoma_RNASeq_Ipi.Prog/ICB.Riaz2017_Nivolumab_Melanoma_Prog.self_subtract\n",
      "\u001b[?2004h(base) "
     ]
    },
    {
     "ename": "",
     "evalue": "1",
     "output_type": "error",
     "traceback": []
    }
   ],
   "source": [
    "tar -xvzf Riaz1.tar.gz\n",
    "tar -xvzf Riaz2.tar.gz"
   ]
  },
  {
   "cell_type": "code",
   "execution_count": 76,
   "id": "ee28e66e",
   "metadata": {},
   "outputs": [
    {
     "name": "stdout",
     "output_type": "stream",
     "text": [
      "\u001b[?2004h(base) "
     ]
    },
    {
     "ename": "",
     "evalue": "1",
     "output_type": "error",
     "traceback": []
    }
   ],
   "source": [
    "rm *gz"
   ]
  },
  {
   "cell_type": "markdown",
   "id": "401563cb",
   "metadata": {},
   "source": [
    "#### Naive"
   ]
  },
  {
   "cell_type": "code",
   "execution_count": 78,
   "id": "0d9591a4",
   "metadata": {},
   "outputs": [
    {
     "name": "stdout",
     "output_type": "stream",
     "text": [
      "\tOS\tOS.Event\tPFS\tPFS.Event\tAge\tGender\tNaive\tResponse\tRECIST\tMutation\tNeoantigen\n",
      "Pt10\t256\t1\t119\t1\t81\t1\t1\t0\t1\t75.0\t33.0\n",
      "Pt11\t837\t1\t59\t1\t61\t1\t1\t0\t0\t106.0\t67.0\n",
      "Pt18\t1073\t0\t519\t1\t53\t0\t1\t1\t2\t217.0\t137.0\n",
      "Pt23\t52\t1\t52\t1\t53\t1\t1\t0\t0\t646.0\t392.0\n",
      "Pt24\t149\t0\t50\t1\t63\t0\t1\t0\t0\t1.0\t1.0\n",
      "Pt27\t475\t1\t50\t1\t65\t0\t1\t0\t0\t183.0\t119.0\n",
      "Pt28\t740\t1\t61\t1\t79\t1\t1\t0\t0\t42.0\t16.0\n",
      "Pt29\t273\t1\t50\t1\t57\t1\t1\t0\t0\t412.0\t238.0\n",
      "Pt3\t1144\t0\t583\t1\t52\t0\t1\t1\t2\t182.0\t119.0\n",
      "\u001b[?2004h(base) "
     ]
    },
    {
     "ename": "",
     "evalue": "1",
     "output_type": "error",
     "traceback": []
    }
   ],
   "source": [
    "head Riaz2017_PD1_Melanoma_RNASeq_Ipi.Naive/ICB.Riaz2017_Nivolumab_Melanoma_Naive.clinical"
   ]
  },
  {
   "cell_type": "code",
   "execution_count": 79,
   "id": "8d9f888c",
   "metadata": {},
   "outputs": [
    {
     "name": "stdout",
     "output_type": "stream",
     "text": [
      "\tPt10\tPt11\tPt18\tPt23\tPt24\tPt27\tPt28\tPt29\tPt3\tPt30\tPt31\tPt4\tPt44\tPt5\tPt59\tPt62\tPt66\tPt72\tPt76\tPt77\tPt8\tPt84\tPt89\tPt9\tPt94\n",
      "114787\t1.39235298956\t-0.351933254538\t0.590385803062\t0.136146754102\t-1.49126416732\t-0.610217691648\t0.276260746372\t0.690812249682\t1.56165078553\t0.080080845892\t-0.770109320618\t0.419395015812\t0.513230158232\t-0.224163235478\t0.187323786822\t-1.26917158149\t-0.227896316228\t0.077760131912\t0.185539094742\t1.70787248143\t0.291588863082\t-0.605369476378\t1.117137061\t1.09052213638\t-0.766622295078\n",
      "114785\t0.133584309649\t0.453920343539\t-0.549718411781\t0.651241017439\t-0.675118701531\t-0.277728120961\t0.227805783289\t-0.153874863431\t0.259788147309\t0.0826991687188\t0.0508869266488\t-0.147920155751\t0.0627619938988\t0.597453174519\t0.397917083349\t0.417683422149\t0.269446764619\t-0.287662108721\t-0.338691083261\t0.147119040339\t0.982604098569\t0.738542802949\t0.660666828989\t0.891736806829\t0.561145924729\n",
      "114784\t-0.0683091947821\t-0.0281744123998\t-0.0529681170024\t0.0279174118572\t0.0229027505822\t-0.0823616328558\t-0.0296014528619\t-0.0593149806892\t-0.00462300631669\t0.00768759273451\t-0.070248543914\t-0.0672302073445\t-0.0628895717403\t-0.0823616328558\t0.0218052486692\t-0.076141895465\t-0.0316454190359\t-0.0823616328558\t-0.0374094296275\t-0.00211603204179\t0.0854901695942\t0.497883244524\t-0.00922555684309\t0.0726505233462\t-0.0621901629104\n",
      "145200\t-0.498098847932\t0.0593979090533\t0.464368437764\t1.72035608679\t0.965182716664\t0.777069872474\t-0.619903369636\t-0.404370136924\t-0.410874296718\t-0.619903369636\t-0.38661287579\t-0.228078470827\t-0.228287404548\t-0.489976806939\t-0.0722245437857\t-0.619903369636\t-0.467351290924\t-0.44798177807\t0.0409686734263\t1.55979970871\t-0.0650886157407\t-0.619903369636\t0.0737579831233\t0.764916774324\t-0.160389913165\n",
      "221545\t-0.0648392268604\t0.27877553096\t0.12228304396\t0.0335465512896\t-0.55751804995\t-1.12879570028\t0.36808326214\t-0.0818334220104\t-0.17575224425\t0.73417378624\t0.40482183978\t-0.36468520073\t-0.40207250433\t-0.19677792619\t-0.0965943028604\t0.16551614968\t0.35107965472\t-0.52223301574\t-0.33985938105\t0.1919585697\t1.10294874453\t0.0961352294496\t0.12752183362\t0.83840875887\t0.19873360489\n",
      "114781\t0.0379380891117\t0.696697248745\t-0.539696176155\t0.201622380302\t-0.539696176155\t-0.539696176155\t0.713270440655\t0.0176580334667\t-0.0137746471243\t0.245748915849\t0.0661015516317\t-0.306732178321\t0.0595492429067\t0.0977285919687\t0.0117538881917\t0.101535385128\t0.22932567451\t-0.0695112752723\t0.0410735368757\t-0.0139920918333\t-0.0691499404083\t-0.183568145493\t-0.252374009511\t1.09111324929\t-0.000139298189294\n",
      "114780\t-0.384913209045\t-0.00747068591439\t-0.384913209045\t0.120792800033\t-0.331335418665\t0.0197142056046\t-0.342398439874\t-0.181566067522\t0.543670114896\t-0.211039989462\t-0.102981773\t-0.308300757758\t-0.258123343571\t0.0386977684216\t0.286942184107\t0.817459687195\t-0.246142637526\t-0.0696501562234\t-0.384913209045\t-0.111225459395\t-0.182671662183\t0.00330994926561\t0.33605819635\t-0.299251975643\t-0.0108179915734\n",
      "10611\t0.0305301263429\t0.42385225834\t-0.0367837397151\t0.41704733424\t-0.391198668712\t0.44832521968\t-0.490312598455\t-0.132987072757\t-0.0178847194311\t-0.414960250731\t0.40468046024\t-0.184283610935\t0.85390096681\t-0.513642529891\t-0.246109982361\t-0.147770887571\t-0.343022294917\t-0.342973923513\t0.27384991377\t0.31815762265\t0.44007824359\t-0.4409244412\t-0.0717506137721\t0.0274986509779\t-0.541066371207\n",
      "114789\t0.233610985911\t-0.566245616999\t-0.0367576595992\t-0.225353837159\t-0.645543459409\t-1.16428768711\t0.372351370151\t-0.484997017279\t0.914204239381\t-0.239237693629\t0.0102679694608\t0.118094984161\t-0.347071394219\t0.320114463921\t-0.247444664609\t0.153146203111\t0.236533719671\t-0.102325036709\t-0.681719550309\t-0.0711785157392\t-0.298005129299\t1.78497721848\t-0.194755418719\t-0.489818463069\t-0.312538665679\n",
      "\u001b[?2004h(base) "
     ]
    },
    {
     "ename": "",
     "evalue": "1",
     "output_type": "error",
     "traceback": []
    }
   ],
   "source": [
    "head Riaz2017_PD1_Melanoma_RNASeq_Ipi.Naive/ICB.Riaz2017_Nivolumab_Melanoma_Naive.self_subtract"
   ]
  },
  {
   "cell_type": "markdown",
   "id": "80045370",
   "metadata": {},
   "source": [
    "#### Prog"
   ]
  },
  {
   "cell_type": "code",
   "execution_count": 80,
   "id": "4be6c371",
   "metadata": {},
   "outputs": [
    {
     "name": "stdout",
     "output_type": "stream",
     "text": [
      "\tOS\tOS.Event\tPFS\tPFS.Event\tAge\tGender\tNaive\tResponse\tRECIST\tMutation\tNeoantigen\n",
      "Pt1\t160\t1\t54\t1\t48\t0\t0\t0\t0\t\t\n",
      "Pt101\t834\t0\t612\t1\t47\t1\t0\t1\t2\t10.0\t5.0\n",
      "Pt103\t484\t0\t50\t1\t52\t1\t0\t0\t0\t21.0\t5.0\n",
      "Pt106\t91\t1\t56\t1\t53\t0\t0\t0\t0\t700.0\t219.0\n",
      "Pt17\t57\t1\t48\t1\t48\t1\t0\t0\t0\t20.0\t13.0\n",
      "Pt2\t275\t1\t115\t0\t75\t0\t0\t0\t1\t\t\n",
      "Pt26\t952\t0\t294\t1\t22\t1\t0\t0\t1\t125.0\t86.0\n",
      "Pt34\t834\t0\t834\t0\t71\t0\t0\t1\t2\t212.0\t144.0\n",
      "Pt36\t1081\t0\t737\t0\t58\t0\t0\t0\t1\t2.0\t1.0\n",
      "\u001b[?2004h(base) "
     ]
    },
    {
     "ename": "",
     "evalue": "1",
     "output_type": "error",
     "traceback": []
    }
   ],
   "source": [
    "head Riaz2017_PD1_Melanoma_RNASeq_Ipi.Prog/ICB.Riaz2017_Nivolumab_Melanoma_Prog.clinical"
   ]
  },
  {
   "cell_type": "code",
   "execution_count": 81,
   "id": "021378a9",
   "metadata": {},
   "outputs": [
    {
     "name": "stdout",
     "output_type": "stream",
     "text": [
      "\tPt1\tPt101\tPt103\tPt106\tPt17\tPt2\tPt26\tPt34\tPt36\tPt37\tPt38\tPt39\tPt46\tPt47\tPt48\tPt49\tPt52\tPt65\tPt67\tPt78\tPt79\tPt82\tPt85\tPt90\tPt92\tPt98\n",
      "114787\t-0.404025180708\t-0.614497007528\t-1.56101327021\t1.37604170985\t-0.051122347088\t0.661301783132\t-1.08093476024\t-0.378845046138\t-1.21103595786\t0.256296307802\t1.49705743276\t0.913884738412\t-1.25934542807\t0.211203508252\t-1.38757734433\t-0.846061506498\t0.595418284582\t-0.233111080528\t-1.608617578\t-0.128482391368\t-0.201240321168\t0.451857170272\t0.891122312582\t0.056247082412\t-0.153948426668\t0.208115751502\n",
      "114785\t-0.0693770679912\t0.102450637029\t-1.08384092588\t0.996080388049\t-0.0918831620112\t-0.669069745681\t1.29080507957\t-0.757123787041\t0.0452483501788\t0.804188357239\t0.395679400249\t-1.17845492651\t-0.447677176301\t0.305167619939\t-0.557547831641\t-0.282514066221\t-0.0363485723212\t0.360271510229\t-1.24327718905\t-1.6822848438\t-0.234210615061\t-0.797187557191\t-1.30070306132\t-0.0489790367212\t0.451396532079\t0.572901498099\n",
      "114784\t-0.0616432523054\t0.016094308503\t-0.0504907926593\t0.0154770106953\t0.562987723519\t0.00198842056641\t-0.0710828439441\t-0.04992854953\t0.281386967485\t-0.0421789793939\t-0.0218590244492\t-0.080336068949\t0.201522812567\t0.128256647995\t-0.0543633067578\t-0.0400969282615\t-0.0226284241829\t0.010182755632\t-0.0766519390991\t-0.0786795284864\t-0.0527553860476\t-0.0576660791426\t-0.0745669273676\t-0.0739407201199\t-0.057449109382\t-0.0787428466516\n",
      "145200\t1.33546002769\t1.68994161219\t-0.209971575172\t-0.388867941268\t-0.619903369636\t-0.0804000902837\t-0.619903369636\t0.164631602637\t-0.619903369636\t-0.0339861207847\t-0.619903369636\t-0.619903369636\t0.266725592141\t2.88154800493\t-0.619903369636\t-0.253173271359\t0.668149196534\t0.467915858134\t-0.270570932413\t-0.619903369636\t-0.619903369636\t-0.619903369636\t0.694722396984\t-0.569606467577\t-0.49485009866\t-0.375407169452\n",
      "221545\t-0.18613217534\t0.19216865954\t-0.18712977977\t0.6495039897\t-0.0497896523204\t0.19706483914\t0.27662376392\t-0.36771081746\t-0.20911267105\t0.19197764454\t0.40506288564\t-0.66545890358\t-0.3269009096\t0.29474613917\t-0.12094526432\t-0.24436525448\t-0.19640244949\t0.61722217748\t-0.65646812056\t-1.00921261542\t0.52085955522\t-0.26548028548\t-0.0737451806204\t-0.34148433425\t0.22104706095\t0.25103611288\n",
      "114781\t-0.362228638831\t-0.117773280568\t-0.539696176155\t-0.0466576075713\t0.809442034625\t-0.355179737122\t0.00312744779671\t-0.539696176155\t-0.0138247466863\t-0.16208374305\t0.212111145737\t-0.0531887629843\t-0.228338383783\t0.370760966079\t0.0566589100777\t-0.29093062441\t0.0331352983507\t0.242518618461\t0.0589853582597\t-0.539696176155\t-0.0880055427283\t-0.220826371548\t-0.162161477156\t-0.196572656753\t0.0390850995337\t1.00824910872\n",
      "114780\t0.49625489681\t-0.340221837697\t-0.2790467618\t0.583487988631\t1.59248707142\t-0.275343365379\t0.133455242452\t-0.307986133378\t1.11886445421\t0.17549654647\t-0.0966072168404\t-0.384913209045\t-0.340761133012\t1.13450238499\t-0.302138418654\t0.814564407895\t-0.211571466499\t-0.247184773555\t-0.31773091303\t-0.300259057039\t-0.251662717645\t-0.258650645362\t-0.0647139211554\t-0.223680771831\t-0.194794607499\t-0.000774963885394\n",
      "10611\t0.59693772021\t-0.0413963273621\t-0.3941407714\t-0.120563536068\t-0.194842709345\t-0.0342490914251\t-0.493150271391\t-0.265341501499\t0.77426478997\t0.279399278328\t-0.589964738705\t-0.305964365743\t0.221804211112\t0.61123558547\t0.0254124084549\t0.0392446866819\t0.42931243078\t0.42421475126\t-0.338148925141\t-0.0561052672401\t-0.0228751687201\t0.0670997634759\t-0.234520948118\t-0.377800621646\t0.15262938251\t0.52526014408\n",
      "114789\t-0.00102356366922\t-0.0497382484892\t-1.08468682633\t0.624425692801\t2.19698893402\t-0.333001174549\t-0.373298432159\t-0.395545407959\t-0.663146520549\t-0.326983990759\t-0.155246245829\t-0.644762001959\t-0.695871710739\t-0.272079124569\t0.696998135941\t-0.293023699799\t0.274283309951\t0.604442191991\t-0.920716156419\t-1.02030485143\t0.559379719381\t1.09041446074\t-0.576330407269\t2.22108897177\t-0.135844438499\t1.63756003967\n",
      "\u001b[?2004h(base) "
     ]
    },
    {
     "ename": "",
     "evalue": "1",
     "output_type": "error",
     "traceback": []
    }
   ],
   "source": [
    "head Riaz2017_PD1_Melanoma_RNASeq_Ipi.Prog/ICB.Riaz2017_Nivolumab_Melanoma_Prog.self_subtract"
   ]
  },
  {
   "cell_type": "markdown",
   "id": "b98b0d9a",
   "metadata": {},
   "source": [
    "## Prat et al., Cancer Res 2017"
   ]
  },
  {
   "cell_type": "markdown",
   "id": "42a4e635",
   "metadata": {},
   "source": [
    "### Downloading Transcriptome"
   ]
  },
  {
   "cell_type": "code",
   "execution_count": null,
   "id": "86359952",
   "metadata": {},
   "outputs": [],
   "source": []
  },
  {
   "cell_type": "markdown",
   "id": "9349101e",
   "metadata": {},
   "source": [
    "### Downloading Supplementary Files"
   ]
  },
  {
   "cell_type": "markdown",
   "id": "8cec1209",
   "metadata": {},
   "source": [
    "#### DO THIS AGAIN SERVICE UNAVALABLE"
   ]
  },
  {
   "cell_type": "code",
   "execution_count": 40,
   "id": "5e29b62a",
   "metadata": {},
   "outputs": [
    {
     "name": "stdout",
     "output_type": "stream",
     "text": [
      "--2021-06-21 18:35:59--  https://cancerres.aacrjournals.org/content/canres/suppl/2017/05/06/0008-5472.CAN-16-3556.DC1/176636_2_unknown_upload_3997093_ddtlnx.xls\n",
      "Resolving cancerres.aacrjournals.org (cancerres.aacrjournals.org)... 104.16.215.26, 104.16.211.26, 104.16.214.26, ...\n",
      "Connecting to cancerres.aacrjournals.org (cancerres.aacrjournals.org)|104.16.215.26|:443... connected.\n",
      "HTTP request sent, awaiting response... 503 Service Temporarily Unavailable\n",
      "2021-06-21 18:35:59 ERROR 503: Service Temporarily Unavailable.\n",
      "\n",
      "\u001b[?2004h"
     ]
    },
    {
     "ename": "",
     "evalue": "1",
     "output_type": "error",
     "traceback": []
    }
   ],
   "source": [
    "wget --content-disposition https://cancerres.aacrjournals.org/content/canres/suppl/2017/05/06/0008-5472.CAN-16-3556.DC1/176636_2_unknown_upload_3997093_ddtlnx.xls > Prat_supp.xls\n"
   ]
  },
  {
   "cell_type": "code",
   "execution_count": 25,
   "id": "f28c9ebc",
   "metadata": {},
   "outputs": [
    {
     "name": "stdout",
     "output_type": "stream",
     "text": [
      "\u001b[?2004h"
     ]
    },
    {
     "ename": "",
     "evalue": "1",
     "output_type": "error",
     "traceback": []
    }
   ],
   "source": [
    "ssconvert --export-type=Gnumeric_stf:stf_csv Prat_supp.xls  Prat_supp.csv"
   ]
  },
  {
   "cell_type": "code",
   "execution_count": 26,
   "id": "a9c751a3",
   "metadata": {
    "scrolled": true
   },
   "outputs": [
    {
     "name": "stdout",
     "output_type": "stream",
     "text": [
      "\u001b[?2004h"
     ]
    },
    {
     "ename": "",
     "evalue": "1",
     "output_type": "error",
     "traceback": []
    }
   ],
   "source": [
    "rm *.xls"
   ]
  },
  {
   "cell_type": "code",
   "execution_count": 27,
   "id": "52360226",
   "metadata": {},
   "outputs": [
    {
     "name": "stdout",
     "output_type": "stream",
     "text": [
      "\"Please turn JavaScript on and reload the page. Checking your browser before accessing aacrjournals.org. Please enable Cookies and reload the page. This process is automatic. Your browser will redirect to your requested content shortly. Please allow up to 5 seconds… Redirecting… DDoS protection by Cloudflare Ray ID: 662bd8cb8c324ec1\"\n",
      "\u001b[?2004h"
     ]
    },
    {
     "ename": "",
     "evalue": "1",
     "output_type": "error",
     "traceback": []
    }
   ],
   "source": [
    "head Prat_supp.csv"
   ]
  },
  {
   "cell_type": "markdown",
   "id": "09ad9eba",
   "metadata": {},
   "source": [
    "### Download"
   ]
  },
  {
   "cell_type": "code",
   "execution_count": 3,
   "id": "267842f9",
   "metadata": {},
   "outputs": [
    {
     "name": "stdout",
     "output_type": "stream",
     "text": [
      "--2021-06-20 18:57:39--  http://tide.dfci.harvard.edu/download/release/Prat2017_PD1_NSCLC-HNSC-Melanoma_Nanostring.tar.gz/\n",
      "Resolving tide.dfci.harvard.edu (tide.dfci.harvard.edu)... 155.52.218.90\n",
      "Connecting to tide.dfci.harvard.edu (tide.dfci.harvard.edu)|155.52.218.90|:80... connected.\n",
      "HTTP request sent, awaiting response... 200 OK\n",
      "Length: 174485 (170K) [application/force-download]\n",
      "Saving to: ‘Prat2017_PD1_NSCLC-HNSC-Melanoma_Nanostring.tar.gz’\n",
      "\n",
      "Prat2017_PD1_NSCLC- 100%[===================>] 170.40K   549KB/s    in 0.3s    \n",
      "\n",
      "2021-06-20 18:57:40 (549 KB/s) - ‘Prat2017_PD1_NSCLC-HNSC-Melanoma_Nanostring.tar.gz’ saved [174485/174485]\n",
      "\n",
      "\u001b[?2004h"
     ]
    },
    {
     "ename": "",
     "evalue": "1",
     "output_type": "error",
     "traceback": []
    }
   ],
   "source": [
    "wget --content-disposition http://tide.dfci.harvard.edu/download/release/Prat2017_PD1_NSCLC-HNSC-Melanoma_Nanostring.tar.gz/"
   ]
  },
  {
   "cell_type": "code",
   "execution_count": 4,
   "id": "4f12310e",
   "metadata": {},
   "outputs": [
    {
     "name": "stdout",
     "output_type": "stream",
     "text": [
      "Prat2017_PD1_NSCLC-HNSC-Melanoma_Nanostring/\n",
      "Prat2017_PD1_NSCLC-HNSC-Melanoma_Nanostring/ICB.Prat2017_Pembrolizumab-Nivolumab_NSCLC-HNSC-Melanoma.clinical\n",
      "Prat2017_PD1_NSCLC-HNSC-Melanoma_Nanostring/ICB.Prat2017_Pembrolizumab-Nivolumab_NSCLC-HNSC-Melanoma.self_subtract\n",
      "\u001b[?2004h"
     ]
    },
    {
     "ename": "",
     "evalue": "1",
     "output_type": "error",
     "traceback": []
    }
   ],
   "source": [
    "tar -xvzf Prat2017_PD1_NSCLC-HNSC-Melanoma_Nanostring.tar.gz"
   ]
  },
  {
   "cell_type": "code",
   "execution_count": 5,
   "id": "2dc9cb2c",
   "metadata": {},
   "outputs": [
    {
     "name": "stdout",
     "output_type": "stream",
     "text": [
      "\u001b[?2004h"
     ]
    },
    {
     "ename": "",
     "evalue": "1",
     "output_type": "error",
     "traceback": []
    }
   ],
   "source": [
    "rm *.gz"
   ]
  },
  {
   "cell_type": "code",
   "execution_count": 6,
   "id": "a2bbcb0f",
   "metadata": {},
   "outputs": [
    {
     "name": "stdout",
     "output_type": "stream",
     "text": [
      "PFS\tPFS.Event\tResponse\tRECIST\tAge\tGender\tType\tECOG\tBaseline\tPretreatment\tSmoking\tDrug\n",
      "A1\t2.733333333\t1\t1\tSD\t75\t0\tHEADNECK\t0\t0\t1\t1\t1\n",
      "A2\t2.0\t1\t0\tPD\t72\t0\tHEADNECK\t1\t0\t1\t1\t1\n",
      "A3\t1.8\t0\t1\tSD\t57\t0\tHEADNECK\t1\t1\t1\t2\t1\n",
      "A4\t13.56666667\t0\t1\tCR\t50\t0\tHEADNECK\t1\t1\t1\t1\t1\n",
      "A5\t12.16666667\t0\t1\tPR\t59\t0\tHEADNECK\t1\t1\t1\t1\t1\n",
      "A6\t25.73333333\t0\t1\tCR\t57\t0\tADENO\t1\t0\t1\t1\t1\n",
      "A7\t1.0\t1\t0\tPD\t59\t1\tADENO\t1\t0\t3\t0\t1\n",
      "A8\t0.0\t1\t0\tPD\t55\t0\tADENO\t1\t0\t4\t1\t1\n",
      "A9\t1.933333333\t0\t1\tSD\t79\t0\tADENO\t1\t0\t1\t1\t1\n",
      "\u001b[?2004h"
     ]
    },
    {
     "ename": "",
     "evalue": "1",
     "output_type": "error",
     "traceback": []
    }
   ],
   "source": [
    "head Prat2017_PD1_NSCLC-HNSC-Melanoma_Nanostring/ICB.Prat2017_Pembrolizumab-Nivolumab_NSCLC-HNSC-Melanoma.clinical"
   ]
  },
  {
   "cell_type": "code",
   "execution_count": 7,
   "id": "5326c96c",
   "metadata": {},
   "outputs": [
    {
     "name": "stdout",
     "output_type": "stream",
     "text": [
      "A3\tA4\tA5\tA16\tA17\tA18\tA19\tA20\tA21\tA22\tA23\tA24\tA25\tA26\tA27\tA32\tA33\tA34\tA35\tA36\tA37\tA38\tA39\tA40\tA57\tA58\tA59\tA60\tA61\tA62\tA63\tA64\tA65\n",
      "3920\t-0.0370489975312\t-0.0595211011044\t-0.0167963434057\t-0.0595211011044\t-0.0452206282564\t-0.119066637965\t0.101110612954\t0.0336335256238\t-0.0452206282564\t-0.127627680999\t-0.0241323440328\t-0.248121832212\t-0.0922247942462\t-0.119066637965\t-0.186058580226\t-0.0241323440328\t-0.00446074435164\t0.217137830953\t0.136640062008\t0.0305260742131\t0.0107719817714\t0.136640062008\t0.0738819273481\t0.0276621448925\t-0.0167963434057\t-0.00751358501489\t-0.0318647381606\t0.230908958227\t-0.00446074435164\t0.165618145252\t0.0623524354098\t0.165618145252\t-0.12364609929\n",
      "345611\t-0.173078747698\t0.010977015992\t-0.0309989761493\t-0.0559012472691\t0.179322986173\t-0.0421794513899\t0.0696451377932\t0.0503388651329\t-0.0162626398842\t0.117930809143\t-0.00918804995341\t-0.0295169666378\t0.00191390887296\t0.00492549233813\t0.0374117325359\t-0.200695933743\t-0.0421794513899\t-0.0187924501649\t0.159733214302\t-0.0406893334801\t-0.0516079054202\t0.0216472885245\t-0.066763142549\t0.0629715346901\t0.052481883515\t0.0306397920707\t-0.139115810838\t-0.102222741268\t0.100150166095\t-0.139115810838\t0.167727669226\t-0.0322321056524\t0.122723267921\n",
      "3929\t-0.368857481246\t-0.0132308295918\t-0.298699051057\t-0.0663990036747\t-0.119616201503\t0.188758424158\t0.429073226033\t-0.157213293826\t0.00743054233119\t0.834049867265\t-0.1433739749\t-0.243702156244\t0.355295730684\t0.0402348224281\t0.247234218632\t-0.114747255893\t0.309456580539\t-0.119616201503\t-0.104489175104\t-0.0637988042338\t-0.0967116892561\t-0.110492559217\t-0.132475855656\t-0.0547356971147\t0.0288963775672\t-0.0994722695069\t0.163667700871\t-0.0301364302372\t-0.0547356971147\t-0.0845051632717\t-0.160368550149\t-0.243702156244\t0.276982006033\n",
      "54210\t0.491806112404\t0.0415928658484\t0.144774171592\t0.317560214587\t0.559775712947\t0.497618872702\t0.198779879175\t0.335860094995\t0.332199506391\t0.290142589701\t-0.0419864440035\t0.497618872702\t0.318667889249\t-0.017280327837\t0.0826714025862\t0.0982127949406\t-0.0345025314968\t-0.473800848453\t-0.132806907908\t-0.21022610133\t-0.017280327837\t-0.45613699598\t0.209285752789\t-0.0955588128666\t-0.0206286965835\t-0.839917151282\t-0.229338273739\t-0.607909359334\t-0.457455681707\t0.150680153856\t-0.188881844741\t-0.267302259022\t-0.476234322344\n",
      "4049\t-0.120158690237\t-0.122179232848\t0.0714318821828\t-0.00016216792412\t-0.00016216792412\t0.00506398109888\t-0.0914248459379\t-0.0732377963384\t-0.00809307054679\t0.044301543967\t-0.00809307054679\t0.14542060915\t-0.0202018377781\t0.342789330234\t-0.127473275821\t0.0260069981988\t0.0410413370601\t-0.019165747957\t0.157556820739\t-0.0861025835206\t-0.13746590676\t-0.0139789595013\t-0.0891463626473\t-0.0461084195414\t-0.0658070815877\t0.0106449219263\t-0.130330410984\t-0.0914248459379\t0.24535985924\t-0.060713344494\t-0.126366181781\t-0.00586340980131\t0.35404212662\n",
      "3716\t-0.0745669385083\t-0.0171824541191\t-0.101576737826\t-0.0247100332755\t0.0719819490946\t-0.0550545843926\t0.040495174396\t-0.00357971536555\t0.00531874087569\t-0.0589065609078\t0.0450709431604\t-0.0186777956969\t0.0450709431604\t-0.00113435297604\t-0.112221739114\t0.0584410446978\t-0.0908929374486\t0.00331025326436\t0.0428617694427\t0.0799138482738\t0.040495174396\t-0.0171824541191\t-0.0487817922749\t0.0554723778836\t-0.0469108707914\t-0.0589065609078\t0.0250840199419\t0.00738663604471\t0.123613202571\t-0.0310752646757\t0.0655886787329\t-0.0310752646757\t0.0823313011384\n",
      "10454\t-0.283848356616\t-0.0468509292535\t-0.0390487662539\t-0.0634922636309\t0.105583569969\t-0.0249036392548\t0.128869615379\t0.105583569969\t-0.112314409484\t-0.116734522214\t-0.030618686932\t-0.0120516058877\t-0.0377915354208\t-0.161218436805\t-0.0359451403852\t-0.0204300317896\t0.165204964696\t0.0907366649013\t-0.213255106254\t0.229537689726\t0.151857762813\t0.112818958588\t-0.0546317532075\t-0.0458425196813\t-0.00459341179546\t0.0739674854017\t0.0370842278135\t0.138195165378\t-0.0776666955869\t0.0606446710925\t0.00987982798875\t0.0444895727053\t-0.073215935967\n",
      "3557\t0.972517923316\t0.634771434642\t-0.0415441820479\t-0.364641812981\t-0.264869481236\t-0.193068303282\t-0.198664515008\t-0.277353443203\t-0.0450999406139\t-0.0948574141439\t-0.260845111475\t0.129609659403\t-0.204163120869\t-0.358844443541\t0.247745895332\t0.125607612052\t-0.460725242107\t0.330581769031\t-0.337297114989\t0.673040744742\t0.301577652987\t0.748483194017\t0.19371963328\t0.400255944245\t-0.300220018626\t-0.349383511993\t-0.177516458795\t-0.293762913722\t-0.323301969884\t0.171439288816\t-0.00796184324994\t0.203174431714\t-0.578404341808\n",
      "3556\t0.043073890336\t0.043073890336\t-0.124916585379\t0.0364847510933\t0.185075174926\t0.0695431825476\t0.299000548604\t-0.193556214235\t0.0520481397601\t-0.0586330271679\t-0.429419859668\t-0.0413596460484\t-0.0859693838468\t-0.343814844322\t-0.369210368048\t0.121001083087\t0.166383574745\t-0.180862452216\t-0.222690969735\t0.350581002242\t0.0112474387465\t0.296083695986\t0.128584342588\t0.112235864804\t-0.176262741859\t0.0761868187035\t0.0346221344854\t0.164582467542\t-0.101283239446\t0.139279723983\t-0.03803576298\t-0.0135174088376\t0.0504447792744\n",
      "\u001b[?2004h"
     ]
    },
    {
     "ename": "",
     "evalue": "1",
     "output_type": "error",
     "traceback": []
    }
   ],
   "source": [
    "head Prat2017_PD1_NSCLC-HNSC-Melanoma_Nanostring/ICB.Prat2017_Pembrolizumab-Nivolumab_NSCLC-HNSC-Melanoma.self_subtract"
   ]
  },
  {
   "cell_type": "markdown",
   "id": "04f6da8f",
   "metadata": {},
   "source": [
    "## Lauss et al., Nat Commun 2017"
   ]
  },
  {
   "cell_type": "markdown",
   "id": "30279db7",
   "metadata": {},
   "source": [
    "### Downloading Transcriptome"
   ]
  },
  {
   "cell_type": "code",
   "execution_count": null,
   "id": "733a8fbe",
   "metadata": {},
   "outputs": [],
   "source": []
  },
  {
   "cell_type": "markdown",
   "id": "78d79c1b",
   "metadata": {},
   "source": [
    "### Downloading Supplementary Files"
   ]
  },
  {
   "cell_type": "code",
   "execution_count": 9,
   "id": "cf75bed3",
   "metadata": {},
   "outputs": [
    {
     "name": "stdout",
     "output_type": "stream",
     "text": [
      "--2021-06-20 19:27:17--  https://www.ncbi.nlm.nih.gov/pmc/articles/PMC5701046/bin/41467_2017_1460_MOESM4_ESM.xlsx\n",
      "Resolving www.ncbi.nlm.nih.gov (www.ncbi.nlm.nih.gov)... 2607:f220:41e:4290::110, 130.14.29.110\n",
      "Connecting to www.ncbi.nlm.nih.gov (www.ncbi.nlm.nih.gov)|2607:f220:41e:4290::110|:443... connected.\n",
      "HTTP request sent, awaiting response... 200 OK\n",
      "Length: 11327 (11K) [application/vnd.openxmlformats-officedocument.spreadsheetml.sheet]\n",
      "Saving to: ‘41467_2017_1460_MOESM4_ESM.xlsx’\n",
      "\n",
      "41467_2017_1460_MOE 100%[===================>]  11.06K  --.-KB/s    in 0s      \n",
      "\n",
      "2021-06-20 19:27:17 (199 MB/s) - ‘41467_2017_1460_MOESM4_ESM.xlsx’ saved [11327/11327]\n",
      "\n",
      "\u001b[?2004h"
     ]
    },
    {
     "ename": "",
     "evalue": "1",
     "output_type": "error",
     "traceback": []
    }
   ],
   "source": [
    "wget --content-disposition https://www.ncbi.nlm.nih.gov/pmc/articles/PMC5701046/bin/41467_2017_1460_MOESM4_ESM.xlsx"
   ]
  },
  {
   "cell_type": "code",
   "execution_count": 10,
   "id": "30398da2",
   "metadata": {},
   "outputs": [
    {
     "name": "stdout",
     "output_type": "stream",
     "text": [
      "\u001b[?2004h"
     ]
    },
    {
     "ename": "",
     "evalue": "1",
     "output_type": "error",
     "traceback": []
    }
   ],
   "source": [
    "ssconvert --export-type=Gnumeric_stf:stf_csv 41467_2017_1460_MOESM4_ESM.xlsx  Lauss_supp.csv"
   ]
  },
  {
   "cell_type": "code",
   "execution_count": 11,
   "id": "7a0cd6e8",
   "metadata": {},
   "outputs": [
    {
     "name": "stdout",
     "output_type": "stream",
     "text": [
      "\"Supplementary Data 1 - Clinical annotation data. Database was locked in June 27, 2017. Time in months.\",,,,,,,,,,,,,\n",
      ",Sample.Timepoint,AJCC.Stage,PFS.Time,PFS.Event,OS.Time,OS.Event,Tumor.Response,Type.of.Lesion,Type.of.Primary,RECIST,RNAseq,Mutations,CopyNumber\n",
      "MM909_01,\"Before TILs\",M1c,48.1,1,92.9,0,-100,LN,unknown,CR,yes,no,no\n",
      "MM909_02,\"Before TILs\",M1b,2,1,6.9,1,10.94,LN,skin,PD,yes,yes,yes\n",
      "MM909_03,\"Before TILs\",M1c,3.8,1,11.4,1,11.92,SC,unknown,SD,yes,yes,yes\n",
      "MM909_06,\"Before TILs\",M1c,2.3,1,4.6,1,-7.14,LN,skin,PD,yes,yes,yes\n",
      "MM909_11,\"Before TILs\",M1a,13.1,1,71.5,0,-100,LN,skin,CR,yes,yes,yes\n",
      "MM909_14,\"Before TILs\",M1c,2.5,1,3.2,1,27.8,LN,unknown,PD,yes,yes,yes\n",
      "MM909_15,\"Before TILs\",M1b,67.13,0,67.1,0,-100,LN,skin,CR,yes,yes,yes\n",
      "MM909_16,\"Before TILs\",M1c,3.9,1,65.3,0,-12,SC,skin,SD,yes,yes,yes\n",
      "\u001b[?2004h"
     ]
    },
    {
     "ename": "",
     "evalue": "1",
     "output_type": "error",
     "traceback": []
    }
   ],
   "source": [
    "head Lauss_supp.csv"
   ]
  },
  {
   "cell_type": "code",
   "execution_count": 12,
   "id": "9f47526d",
   "metadata": {},
   "outputs": [
    {
     "name": "stdout",
     "output_type": "stream",
     "text": [
      "\u001b[?2004h"
     ]
    },
    {
     "ename": "",
     "evalue": "1",
     "output_type": "error",
     "traceback": []
    }
   ],
   "source": [
    "rm *xlsx"
   ]
  },
  {
   "cell_type": "markdown",
   "id": "706c561e",
   "metadata": {},
   "source": [
    "### Download"
   ]
  },
  {
   "cell_type": "code",
   "execution_count": 13,
   "id": "0051b7dd",
   "metadata": {},
   "outputs": [
    {
     "name": "stdout",
     "output_type": "stream",
     "text": [
      "--2021-06-20 19:30:13--  http://tide.dfci.harvard.edu/download/release/Lauss2017_ACT_Melanoma_RNASeq.tar.gz\n",
      "Resolving tide.dfci.harvard.edu (tide.dfci.harvard.edu)... 155.52.218.90\n",
      "Connecting to tide.dfci.harvard.edu (tide.dfci.harvard.edu)|155.52.218.90|:80... connected.\n",
      "HTTP request sent, awaiting response... 301 Moved Permanently\n",
      "Location: /download/release/Lauss2017_ACT_Melanoma_RNASeq.tar.gz/ [following]\n",
      "--2021-06-20 19:30:13--  http://tide.dfci.harvard.edu/download/release/Lauss2017_ACT_Melanoma_RNASeq.tar.gz/\n",
      "Reusing existing connection to tide.dfci.harvard.edu:80.\n",
      "HTTP request sent, awaiting response... 200 OK\n",
      "Length: 1746091 (1.7M) [application/force-download]\n",
      "Saving to: ‘Lauss2017_ACT_Melanoma_RNASeq.tar.gz’\n",
      "\n",
      "Lauss2017_ACT_Melan 100%[===================>]   1.67M  2.46MB/s    in 0.7s    \n",
      "\n",
      "2021-06-20 19:30:14 (2.46 MB/s) - ‘Lauss2017_ACT_Melanoma_RNASeq.tar.gz’ saved [1746091/1746091]\n",
      "\n",
      "\u001b[?2004h"
     ]
    },
    {
     "ename": "",
     "evalue": "1",
     "output_type": "error",
     "traceback": []
    }
   ],
   "source": [
    "wget --content-disposition http://tide.dfci.harvard.edu/download/release/Lauss2017_ACT_Melanoma_RNASeq.tar.gz"
   ]
  },
  {
   "cell_type": "code",
   "execution_count": 14,
   "id": "aef98de8",
   "metadata": {},
   "outputs": [
    {
     "name": "stdout",
     "output_type": "stream",
     "text": [
      "Lauss2017_ACT_Melanoma_RNASeq/\n",
      "Lauss2017_ACT_Melanoma_RNASeq/ICB.Lauss2017_ACT_Melanoma.self_subtract\n",
      "Lauss2017_ACT_Melanoma_RNASeq/ICB.Lauss2017_ACT_Melanoma.clinical\n",
      "\u001b[?2004h"
     ]
    },
    {
     "ename": "",
     "evalue": "1",
     "output_type": "error",
     "traceback": []
    }
   ],
   "source": [
    "tar -xvzf Lauss2017_ACT_Melanoma_RNASeq.tar.gz"
   ]
  },
  {
   "cell_type": "code",
   "execution_count": 15,
   "id": "e290c40e",
   "metadata": {},
   "outputs": [
    {
     "name": "stdout",
     "output_type": "stream",
     "text": [
      "\u001b[?2004h"
     ]
    },
    {
     "ename": "",
     "evalue": "1",
     "output_type": "error",
     "traceback": []
    }
   ],
   "source": [
    "rm *.gz"
   ]
  },
  {
   "cell_type": "code",
   "execution_count": 17,
   "id": "245fa260",
   "metadata": {},
   "outputs": [
    {
     "name": "stdout",
     "output_type": "stream",
     "text": [
      "\tPFS\tPFS.Event\tOS\tOS.Event\tRECIST\tResponse\n",
      "p01\t48.1\t1\t92.9\t0\t3\t1\n",
      "p02\t2.0\t1\t6.9\t1\t0\t0\n",
      "p03\t3.8\t1\t11.4\t1\t1\t0\n",
      "p06\t2.3\t1\t4.6\t1\t0\t0\n",
      "p11\t13.1\t1\t71.5\t0\t3\t1\n",
      "p14\t2.5\t1\t3.2\t1\t0\t0\n",
      "p15\t67.13\t0\t67.1\t0\t3\t1\n",
      "p16\t3.9\t1\t65.3\t0\t1\t0\n",
      "p17\t64.87\t0\t64.9\t0\t2\t1\n",
      "\u001b[?2004h"
     ]
    },
    {
     "ename": "",
     "evalue": "1",
     "output_type": "error",
     "traceback": []
    }
   ],
   "source": [
    "head Lauss2017_ACT_Melanoma_RNASeq/ICB.Lauss2017_ACT_Melanoma.clinical"
   ]
  },
  {
   "cell_type": "code",
   "execution_count": 18,
   "id": "fb7fcffa",
   "metadata": {},
   "outputs": [
    {
     "name": "stdout",
     "output_type": "stream",
     "text": [
      "Entrez\tp01\tp02\tp03\tp06\tp11\tp14\tp15\tp16\tp17\tp22\tp25\tp26\tp27\tp29\tp31\tp34\tp35\tp36\tp37\tp40\tp42\tp43\tp45\tp46\tp47\n",
      "1\t-0.0316884\t-0.4404184\t0.0858016\t1.2738116\t-0.4369784\t-0.0542484\t2.1160416\t0.7229216\t1.6550716\t-0.4228584\t1.2084016\t-0.6011584\t-0.3593084\t-1.1780884\t-0.4134884\t1.9842916\t-0.6897084\t0.5840116\t-0.9723984\t-0.7574184\t-0.8921684\t-0.4508284\t-1.1965284\t-0.4657784\t-0.2672884\n",
      "29974\t-0.0015028\t-0.0015028\t-0.0015028\t-0.0015028\t-0.0015028\t-0.0015028\t-0.0015028\t-0.0015028\t-0.0015028\t-0.0015028\t0.0071872\t-0.0015028\t-0.0015028\t-0.0015028\t-0.0015028\t0.0088372\t-0.0015028\t-0.0015028\t-0.0015028\t-0.0015028\t0.0063072\t-0.0015028\t-0.0015028\t-0.0015028\t0.0092272\n",
      "2\t-0.0379736\t2.0863664\t-2.3559836\t-1.0426836\t0.4761064\t2.1838564\t-0.4959836\t-2.5883636\t-1.7687736\t0.8304164\t0.6273064\t-0.9447836\t-1.9860636\t0.2137564\t-0.5202736\t-0.1810536\t2.2539764\t-0.6831836\t0.3084664\t0.6533264\t1.6051264\t-1.0401436\t0.0115764\t0.4357164\t1.9592664\n",
      "144568\t-0.0284012\t-0.0284012\t0.1168588\t0.0125288\t0.0350688\t0.0414188\t-6.12e-05\t0.0133988\t0.0377288\t0.0525088\t-0.0284012\t-0.0132912\t0.0095488\t-0.0261512\t-0.0284012\t0.0142588\t-0.0284012\t-0.0284012\t-0.0284012\t-0.0153712\t-0.0284012\t0.0187588\t-0.0225612\t-0.0190312\t-0.0284012\n",
      "127550\t-0.031136\t-0.031136\t0.109584\t-0.031136\t-0.031136\t-0.031136\t-0.031136\t-0.031136\t0.030794\t-0.031136\t0.112354\t-0.031136\t0.048794\t-0.031136\t-0.010786\t0.188394\t0.022174\t-0.031136\t-0.031136\t-0.031136\t-0.031136\t-0.031136\t-0.031136\t-0.031136\t0.028004\n",
      "53947\t0.23484\t-0.91826\t-0.50528\t0.7762\t-0.09159\t0.30959\t-0.29102\t-0.59955\t-0.36124\t2.63598\t1.11147\t0.31561\t-0.5877\t0.37594\t-0.86007\t-0.78707\t0.18544\t-0.5767\t0.97437\t-0.72165\t-0.43237\t-0.38313\t1.23773\t-0.18057\t-0.86097\n",
      "51146\t-0.0121584\t-0.0121584\t-0.0121584\t-0.0121584\t-0.0121584\t-0.0121584\t0.0374116\t-0.0121584\t-0.0121584\t0.0080216\t-0.0121584\t-0.0121584\t-0.0121584\t-0.0045284\t0.0463816\t-0.0121584\t-0.0121584\t0.0899716\t-0.0121584\t0.0166516\t-0.0121584\t-0.0121584\t0.0146216\t-0.0018384\t-0.0121584\n",
      "8086\t0.6066764\t-0.1884236\t-0.0216936\t-0.0589936\t0.0164564\t0.8029064\t-0.0079036\t-0.0548936\t-0.5821736\t-0.1613436\t0.0943464\t-0.0520836\t-0.5002936\t-0.4115736\t0.8509264\t-0.2064036\t0.3389764\t0.0724264\t-0.1102336\t0.0508964\t-0.5165436\t0.3256564\t-0.1897436\t-0.1060336\t0.0090664\n",
      "65985\t-0.03543\t-0.45722\t-0.79303\t0.0508\t-0.4484\t0.68063\t0.35144\t0.48566\t-0.05563\t0.03003\t0.36718\t0.29521\t-0.46316\t-0.6299\t-0.39683\t1.19017\t0.294\t-0.61068\t-0.26827\t0.06367\t-0.97012\t0.26564\t1.12195\t0.09323\t-0.16094\n",
      "\u001b[?2004h"
     ]
    },
    {
     "ename": "",
     "evalue": "1",
     "output_type": "error",
     "traceback": []
    }
   ],
   "source": [
    "head Lauss2017_ACT_Melanoma_RNASeq/ICB.Lauss2017_ACT_Melanoma.self_subtract"
   ]
  },
  {
   "cell_type": "markdown",
   "id": "7e62d714",
   "metadata": {},
   "source": [
    "## Hugo et al., Cell 2016"
   ]
  },
  {
   "cell_type": "markdown",
   "id": "f9c215f4",
   "metadata": {},
   "source": [
    "### Downloading Transcriptome"
   ]
  },
  {
   "cell_type": "code",
   "execution_count": null,
   "id": "ec166bc1",
   "metadata": {},
   "outputs": [],
   "source": []
  },
  {
   "cell_type": "markdown",
   "id": "d63e2b62",
   "metadata": {},
   "source": [
    "## Downloading Supplementary Files"
   ]
  },
  {
   "cell_type": "code",
   "execution_count": 30,
   "id": "66116592",
   "metadata": {},
   "outputs": [
    {
     "name": "stdout",
     "output_type": "stream",
     "text": [
      "--2021-06-21 10:38:19--  https://www.cell.com/cms/10.1016/j.cell.2016.02.065/attachment/eaaab3e5-9678-4212-a520-189dc4b688fd/mmc1.xls\n",
      "Resolving www.cell.com (www.cell.com)... 104.18.124.114, 104.18.123.114\n",
      "Connecting to www.cell.com (www.cell.com)|104.18.124.114|:443... connected.\n",
      "HTTP request sent, awaiting response... 302 Found\n",
      "Location: https://secure.jbs.elsevierhealth.com/action/getSharedSiteSession?redirect=https%3A%2F%2Fwww.cell.com%2Fcms%2F10.1016%2Fj.cell.2016.02.065%2Fattachment%2Feaaab3e5-9678-4212-a520-189dc4b688fd%2Fmmc1.xls&rc=0 [following]\n",
      "--2021-06-21 10:38:20--  https://secure.jbs.elsevierhealth.com/action/getSharedSiteSession?redirect=https%3A%2F%2Fwww.cell.com%2Fcms%2F10.1016%2Fj.cell.2016.02.065%2Fattachment%2Feaaab3e5-9678-4212-a520-189dc4b688fd%2Fmmc1.xls&rc=0\n",
      "Resolving secure.jbs.elsevierhealth.com (secure.jbs.elsevierhealth.com)... 104.18.124.114, 104.18.123.114\n",
      "Connecting to secure.jbs.elsevierhealth.com (secure.jbs.elsevierhealth.com)|104.18.124.114|:443... connected.\n",
      "HTTP request sent, awaiting response... 302 Found\n",
      "Location: https://secure.jbs.elsevierhealth.com/action/getSharedSiteSession?redirect=https%3A%2F%2Fwww.cell.com%2Fcms%2F10.1016%2Fj.cell.2016.02.065%2Fattachment%2Feaaab3e5-9678-4212-a520-189dc4b688fd%2Fmmc1.xls&rc=0&cookieSet=1 [following]\n",
      "--2021-06-21 10:38:20--  https://secure.jbs.elsevierhealth.com/action/getSharedSiteSession?redirect=https%3A%2F%2Fwww.cell.com%2Fcms%2F10.1016%2Fj.cell.2016.02.065%2Fattachment%2Feaaab3e5-9678-4212-a520-189dc4b688fd%2Fmmc1.xls&rc=0&cookieSet=1\n",
      "Reusing existing connection to secure.jbs.elsevierhealth.com:443.\n",
      "HTTP request sent, awaiting response... 302 Found\n",
      "Location: https://secure.jbs.elsevierhealth.com/action/getSharedSiteSession?redirect=https%3A%2F%2Fwww.cell.com%2Fcms%2F10.1016%2Fj.cell.2016.02.065%2Fattachment%2Feaaab3e5-9678-4212-a520-189dc4b688fd%2Fmmc1.xls&rc=0& [following]\n",
      "--2021-06-21 10:38:21--  https://secure.jbs.elsevierhealth.com/action/getSharedSiteSession?redirect=https%3A%2F%2Fwww.cell.com%2Fcms%2F10.1016%2Fj.cell.2016.02.065%2Fattachment%2Feaaab3e5-9678-4212-a520-189dc4b688fd%2Fmmc1.xls&rc=0&\n",
      "Reusing existing connection to secure.jbs.elsevierhealth.com:443.\n",
      "HTTP request sent, awaiting response... 302 Found\n",
      "Location: https://id.elsevier.com/ACW/?return=https%3A%2F%2Fsecure.jbs.elsevierhealth.com%2Faction%2FconsumeSsoCookie%3FredirectUri%3Dhttps%253A%252F%252Fwww.cell.com%252Faction%252FconsumeSharedSessionAction%253FI2KBRCK%253D1%2526JSESSIONID%253Daaax7ldq4Qhmg6axCJSOx%2526MAID%253DPeJMcYvBuwKTFpyc12qLBg%25253D%25253D%2526SERVER%253DWZ6myaEXBLGCStFnotvlaQ%25253D%25253D%2526ORIGIN%253D176878619%2526RD%253DRD%2526exp%253DEVRmF4qqrKPABxEhr8nwZQ%2525253D%2525253D%26code%3Dnull [following]\n",
      "--2021-06-21 10:38:21--  https://id.elsevier.com/ACW/?return=https%3A%2F%2Fsecure.jbs.elsevierhealth.com%2Faction%2FconsumeSsoCookie%3FredirectUri%3Dhttps%253A%252F%252Fwww.cell.com%252Faction%252FconsumeSharedSessionAction%253FI2KBRCK%253D1%2526JSESSIONID%253Daaax7ldq4Qhmg6axCJSOx%2526MAID%253DPeJMcYvBuwKTFpyc12qLBg%25253D%25253D%2526SERVER%253DWZ6myaEXBLGCStFnotvlaQ%25253D%25253D%2526ORIGIN%253D176878619%2526RD%253DRD%2526exp%253DEVRmF4qqrKPABxEhr8nwZQ%2525253D%2525253D%26code%3Dnull\n",
      "Resolving id.elsevier.com (id.elsevier.com)... 104.18.234.170, 104.18.231.170, 104.18.233.170, ...\n",
      "Connecting to id.elsevier.com (id.elsevier.com)|104.18.234.170|:443... connected.\n",
      "HTTP request sent, awaiting response... 302 Found\n",
      "The name is too long, 387 chars total.\n",
      "Trying to shorten...\n",
      "New name is index.html?return=https:%2F%2Fsecure.jbs.elsevierhealth.com%2Faction%2FconsumeSsoCookie?redirectUri=https%3A%2F%2Fwww.cell.com%2Faction%2FconsumeSharedSessionAction%3FI2KBRCK%3D1%26JSESSIONID%3Daaax7ldq4Qhmg6axCJSOx%26MAID%3DPeJMcYvBuwK.\n",
      "Location: https://secure.jbs.elsevierhealth.com/action/consumeSsoCookie?redirectUri=https%3A%2F%2Fwww.cell.com%2Faction%2FconsumeSharedSessionAction%3FI2KBRCK%3D1%26JSESSIONID%3Daaax7ldq4Qhmg6axCJSOx%26MAID%3DPeJMcYvBuwKTFpyc12qLBg%253D%253D%26SERVER%3DWZ6myaEXBLGCStFnotvlaQ%253D%253D%26ORIGIN%3D176878619%26RD%3DRD%26exp%3DEVRmF4qqrKPABxEhr8nwZQ%25253D%25253D&code=null&acw=Secure;SameSite=None&utt= [following]\n",
      "--2021-06-21 10:38:21--  https://secure.jbs.elsevierhealth.com/action/consumeSsoCookie?redirectUri=https%3A%2F%2Fwww.cell.com%2Faction%2FconsumeSharedSessionAction%3FI2KBRCK%3D1%26JSESSIONID%3Daaax7ldq4Qhmg6axCJSOx%26MAID%3DPeJMcYvBuwKTFpyc12qLBg%253D%253D%26SERVER%3DWZ6myaEXBLGCStFnotvlaQ%253D%253D%26ORIGIN%3D176878619%26RD%3DRD%26exp%3DEVRmF4qqrKPABxEhr8nwZQ%25253D%25253D&code=null&acw=Secure;SameSite=None&utt=\n",
      "Connecting to secure.jbs.elsevierhealth.com (secure.jbs.elsevierhealth.com)|104.18.124.114|:443... connected.\n",
      "HTTP request sent, awaiting response... 302 Found\n",
      "The name is too long, 304 chars total.\n",
      "Trying to shorten...\n",
      "New name is consumeSsoCookie?redirectUri=https:%2F%2Fwww.cell.com%2Faction%2FconsumeSharedSessionAction?I2KBRCK=1&JSESSIONID=aaax7ldq4Qhmg6axCJSOx&MAID=PeJMcYvBuwKTFpyc12qLBg%3D%3D&SERVER=WZ6myaEXBLGCStFnotvlaQ%3D%3D&ORIGIN=176878619&RD=RD&exp=EVRm.\n",
      "Location: https://www.cell.com/action/consumeSharedSessionAction?I2KBRCK=1&JSESSIONID=aaax7ldq4Qhmg6axCJSOx&MAID=PeJMcYvBuwKTFpyc12qLBg%3D%3D&SERVER=WZ6myaEXBLGCStFnotvlaQ%3D%3D&ORIGIN=176878619&RD=RD&exp=EVRmF4qqrKPABxEhr8nwZQ%253D%253D [following]\n",
      "--2021-06-21 10:38:22--  https://www.cell.com/action/consumeSharedSessionAction?I2KBRCK=1&JSESSIONID=aaax7ldq4Qhmg6axCJSOx&MAID=PeJMcYvBuwKTFpyc12qLBg%3D%3D&SERVER=WZ6myaEXBLGCStFnotvlaQ%3D%3D&ORIGIN=176878619&RD=RD&exp=EVRmF4qqrKPABxEhr8nwZQ%253D%253D\n",
      "Connecting to www.cell.com (www.cell.com)|104.18.124.114|:443... connected.\n",
      "HTTP request sent, awaiting response... 302 Found\n",
      "Location: https://www.cell.com/action/consumeSharedSessionAction?I2KBRCK=1&JSESSIONID=aaax7ldq4Qhmg6axCJSOx&MAID=PeJMcYvBuwKTFpyc12qLBg%3D%3D&SERVER=WZ6myaEXBLGCStFnotvlaQ%3D%3D&ORIGIN=176878619&RD=RD&exp=EVRmF4qqrKPABxEhr8nwZQ%253D%253D&rtc=0 [following]\n",
      "--2021-06-21 10:38:22--  https://www.cell.com/action/consumeSharedSessionAction?I2KBRCK=1&JSESSIONID=aaax7ldq4Qhmg6axCJSOx&MAID=PeJMcYvBuwKTFpyc12qLBg%3D%3D&SERVER=WZ6myaEXBLGCStFnotvlaQ%3D%3D&ORIGIN=176878619&RD=RD&exp=EVRmF4qqrKPABxEhr8nwZQ%253D%253D&rtc=0\n",
      "Reusing existing connection to www.cell.com:443.\n",
      "HTTP request sent, awaiting response... 302 Found\n",
      "Location: https://www.cell.com/cms/10.1016/j.cell.2016.02.065/attachment/eaaab3e5-9678-4212-a520-189dc4b688fd/mmc1.xls [following]\n",
      "--2021-06-21 10:38:23--  https://www.cell.com/cms/10.1016/j.cell.2016.02.065/attachment/eaaab3e5-9678-4212-a520-189dc4b688fd/mmc1.xls\n",
      "Reusing existing connection to www.cell.com:443.\n",
      "HTTP request sent, awaiting response... 200 OK\n",
      "Length: 15276032 (15M) [application/vnd.ms-excel]\n",
      "Saving to: ‘mmc1.xls’\n",
      "\n",
      "mmc1.xls            100%[===================>]  14.57M  16.4MB/s    in 0.9s    \n",
      "\n",
      "2021-06-21 10:38:24 (16.4 MB/s) - ‘mmc1.xls’ saved [15276032/15276032]\n",
      "\n",
      "\u001b[?2004h"
     ]
    },
    {
     "ename": "",
     "evalue": "1",
     "output_type": "error",
     "traceback": []
    }
   ],
   "source": [
    "wget --content-disposition https://www.cell.com/cms/10.1016/j.cell.2016.02.065/attachment/eaaab3e5-9678-4212-a520-189dc4b688fd/mmc1.xls"
   ]
  },
  {
   "cell_type": "code",
   "execution_count": 35,
   "id": "5a9cae6e",
   "metadata": {
    "scrolled": true
   },
   "outputs": [
    {
     "name": "stdout",
     "output_type": "stream",
     "text": [
      "\u001b[?2004l\n",
      "** (ssconvert:469651): \u001b[1;33mWARNING\u001b[0m **: \u001b[34m18:19:38.061\u001b[0m: EXCEL : unknown widths for font '新細明體', guessing\n",
      "\n",
      "** (ssconvert:469651): \u001b[1;33mWARNING\u001b[0m **: \u001b[34m18:19:38.293\u001b[0m: Unable to open an iconv handle from codepage 10002 -> UTF-8\n",
      "\n",
      "** (ssconvert:469651): \u001b[1;33mWARNING\u001b[0m **: \u001b[34m18:19:38.293\u001b[0m: Unable to open an iconv handle from codepage 10002 -> UTF-8\n",
      "\u001b[?2004h\u001b[?2004l\u001b[?2004l\u001b[?2004l\u001b[?2004l\u001b[?2004l\u001b[?2004l\u001b[?2004l"
     ]
    },
    {
     "ename": "",
     "evalue": "1",
     "output_type": "error",
     "traceback": []
    }
   ],
   "source": [
    "ssconvert --export-file-per-sheet mmc1.xls Hugo_supp-%n.csv\n",
    "# xls2csv mmc1.xls > Hugo_supp.csv \n",
    "\n",
    "# while IFS= read -r file; do\n",
    "#     while IFS= read -r sheet; do\n",
    "#         in2csv --sheet \"$sheet\" \"$file\" > \"${file%.*}-${sheet}.csv\"\n",
    "#     done < <(in2csv -n \"$file\")\n",
    "# done < <(find . -name '*.xls' -o -name '*.xlsx')"
   ]
  },
  {
   "cell_type": "code",
   "execution_count": 36,
   "id": "54a9493c",
   "metadata": {},
   "outputs": [
    {
     "name": "stdout",
     "output_type": "stream",
     "text": [
      "\"S1A - Patient, sample and data characteristics\",\n",
      ",\n",
      "\"S1B - WES, nsSNV & neoepitope calls\",\n",
      "\"Patient ID\",\"Patient identifier in this study\"\n",
      "BRCA2mutant?,\"Flag to indicate if BRCA2 has SNV/INDEL in this tumor\"\n",
      "Response,\"Patients with irRECIST of \"\"complete response\"\", \"\"partial response\"\" and \"\"stable disease\"\" are categorized as \"\"Responders\"\" (R); \n",
      "those with \"\"progressive disease\"\" as \"\"Non-responders\"\" (NR)\"\n",
      "Purity,\"Tumor purity as estimated by Sequenza\"\n",
      "Ploidy,\"Tumor ploidy as estimated by Sequenza\"\n",
      "AvgCovTumor,\"Mean WES coverage\"\n",
      "\u001b[?2004h"
     ]
    },
    {
     "ename": "",
     "evalue": "1",
     "output_type": "error",
     "traceback": []
    }
   ],
   "source": [
    "head Hugo_supp-0.csv"
   ]
  },
  {
   "cell_type": "code",
   "execution_count": 37,
   "id": "f8f546a8",
   "metadata": {},
   "outputs": [
    {
     "name": "stdout",
     "output_type": "stream",
     "text": [
      "\u001b[?2004h"
     ]
    },
    {
     "ename": "",
     "evalue": "1",
     "output_type": "error",
     "traceback": []
    }
   ],
   "source": [
    "rm *.xls"
   ]
  },
  {
   "cell_type": "markdown",
   "id": "b933fffb",
   "metadata": {},
   "source": [
    "## Download"
   ]
  },
  {
   "cell_type": "code",
   "execution_count": 31,
   "id": "751be95e",
   "metadata": {},
   "outputs": [
    {
     "name": "stdout",
     "output_type": "stream",
     "text": [
      "--2021-06-20 22:59:30--  http://tide.dfci.harvard.edu/download/release/Hugo2016_PD1_Melanoma_RNASeq.tar.gz/\n",
      "Resolving tide.dfci.harvard.edu (tide.dfci.harvard.edu)... 155.52.218.90\n",
      "Connecting to tide.dfci.harvard.edu (tide.dfci.harvard.edu)|155.52.218.90|:80... connected.\n",
      "HTTP request sent, awaiting response... 200 OK\n",
      "Length: 3414439 (3.3M) [application/force-download]\n",
      "Saving to: ‘Hugo2016_PD1_Melanoma_RNASeq.tar.gz’\n",
      "\n",
      "Hugo2016_PD1_Melano 100%[===================>]   3.26M  4.76MB/s    in 0.7s    \n",
      "\n",
      "2021-06-20 22:59:31 (4.76 MB/s) - ‘Hugo2016_PD1_Melanoma_RNASeq.tar.gz’ saved [3414439/3414439]\n",
      "\n",
      "\u001b[?2004h"
     ]
    },
    {
     "ename": "",
     "evalue": "1",
     "output_type": "error",
     "traceback": []
    }
   ],
   "source": [
    "wget --content-disposition http://tide.dfci.harvard.edu/download/release/Hugo2016_PD1_Melanoma_RNASeq.tar.gz/"
   ]
  },
  {
   "cell_type": "code",
   "execution_count": 32,
   "id": "70abd3e6",
   "metadata": {},
   "outputs": [
    {
     "name": "stdout",
     "output_type": "stream",
     "text": [
      "Hugo2016_PD1_Melanoma_RNASeq/\n",
      "Hugo2016_PD1_Melanoma_RNASeq/ICB.Hugo2016_Pembrolizumab_Melanoma.self_subtract\n",
      "Hugo2016_PD1_Melanoma_RNASeq/ICB.Hugo2016_Pembrolizumab_Melanoma.clinical\n",
      "\u001b[?2004h"
     ]
    },
    {
     "ename": "",
     "evalue": "1",
     "output_type": "error",
     "traceback": []
    }
   ],
   "source": [
    "tar -xvzf Hugo2016_PD1_Melanoma_RNASeq.tar.gz"
   ]
  },
  {
   "cell_type": "code",
   "execution_count": 33,
   "id": "1ec16966",
   "metadata": {},
   "outputs": [
    {
     "name": "stdout",
     "output_type": "stream",
     "text": [
      "\u001b[?2004h"
     ]
    },
    {
     "ename": "",
     "evalue": "1",
     "output_type": "error",
     "traceback": []
    }
   ],
   "source": [
    "rm *.gz"
   ]
  },
  {
   "cell_type": "code",
   "execution_count": null,
   "id": "ce8363e6",
   "metadata": {},
   "outputs": [],
   "source": []
  }
 ],
 "metadata": {
  "kernelspec": {
   "display_name": "Bash",
   "language": "bash",
   "name": "bash"
  },
  "language_info": {
   "codemirror_mode": "shell",
   "file_extension": ".sh",
   "mimetype": "text/x-sh",
   "name": "bash"
  },
  "toc": {
   "base_numbering": 1,
   "nav_menu": {},
   "number_sections": true,
   "sideBar": true,
   "skip_h1_title": false,
   "title_cell": "Table of Contents",
   "title_sidebar": "Contents",
   "toc_cell": false,
   "toc_position": {},
   "toc_section_display": true,
   "toc_window_display": true
  }
 },
 "nbformat": 4,
 "nbformat_minor": 5
}
